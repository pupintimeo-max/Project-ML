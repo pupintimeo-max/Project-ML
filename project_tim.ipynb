{
 "cells": [
  {
   "cell_type": "markdown",
   "id": "0782c456",
   "metadata": {},
   "source": [
    "**Projet Machine Learning**"
   ]
  },
  {
   "cell_type": "code",
   "execution_count": null,
   "id": "80d82b36",
   "metadata": {
    "vscode": {
     "languageId": "plaintext"
    }
   },
   "outputs": [],
   "source": []
  }
 ],
 "metadata": {
  "language_info": {
   "name": "python"
  }
 },
 "nbformat": 4,
 "nbformat_minor": 5
}
