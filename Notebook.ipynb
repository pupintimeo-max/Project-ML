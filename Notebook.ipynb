{
 "cells": [
  {
   "cell_type": "code",
   "execution_count": 25,
   "id": "3ab56eb2",
   "metadata": {},
   "outputs": [],
   "source": [
    "import pandas as pd\n",
    "file_names = {\n",
    "    \"primary_cohort\": \"data/s41598-020-73558-3_sepsis_survival_primary_cohort.csv\",\n",
    "    \"study_cohort\": \"data/s41598-020-73558-3_sepsis_survival_study_cohort.csv\",\n",
    "    \"validation_cohort\": \"data/s41598-020-73558-3_sepsis_survival_validation_cohort.csv\",\n",
    "}\n",
    "dict_df = dict()\n",
    "for key, file in file_names.items():\n",
    "    dict_df[key] = pd.read_csv(file)"
   ]
  },
  {
   "cell_type": "markdown",
   "id": "2b53159e",
   "metadata": {},
   "source": [
    "### **Dataset information**\n",
    "\n",
    "#### **What do the instances in this dataset represent?**\n",
    "\n",
    "For the primary cohort, they represent records of patients affected by sepsis potential preconditions (ante Sepsis-3 definition); for the study cohort, they represent only the patients’ admissions defined by the novel Sepsis-3 definition.\n",
    "\n",
    "#### **Are there recommended data splits?**\n",
    "\n",
    "No recommendation, standard train-test split could be used. Can use three-way holdout split (i.e., training, validation/development, testing) when doing model selection.\n",
    "\n",
    "#### **Does the dataset contain data that might be considered sensitive in any way?**\n",
    "\n",
    "Yes. It contains information about the gender and age of the patient.\n",
    "\n",
    "#### **Was there any data preprocessing performed?**\n",
    "\n",
    "All the categorical variables have been encoded (so no preprocessing is necessary).\n",
    "\n",
    "#### **Additional Information**\n",
    "\n",
    "Primary cohort from Norway:\n",
    "- 4 features for 110,204 patient admissions\n",
    "- file: 's41598-020-73558-3_sepsis_survival_primary_cohort.csv'\n",
    "\n",
    "Study cohort (a subset of the primary cohort) from Norway:\n",
    "- 4 features for 19,051 patient admissions\n",
    "- file: 's41598-020-73558-3_sepsis_survival_study_cohort.csv'\n",
    "\n",
    "Validation cohort from South Korea:\n",
    "- 4 features for 137 patients\n",
    "- file: 's41598-020-73558-3_sepsis_survival_validation_cohort.csv'\n",
    "\n",
    "The validation cohort from South Korea was used by Chicco and Jurman (2020) as an external validation cohort to confirm the generalizability of their proposed approach. \n",
    "\n",
    "#### **Has Missing Values?**\n",
    "\n",
    "No"
   ]
  },
  {
   "cell_type": "code",
   "execution_count": 26,
   "id": "9106fe2b",
   "metadata": {},
   "outputs": [
    {
     "data": {
      "text/html": [
       "<div>\n",
       "<style scoped>\n",
       "    .dataframe tbody tr th:only-of-type {\n",
       "        vertical-align: middle;\n",
       "    }\n",
       "\n",
       "    .dataframe tbody tr th {\n",
       "        vertical-align: top;\n",
       "    }\n",
       "\n",
       "    .dataframe thead th {\n",
       "        text-align: right;\n",
       "    }\n",
       "</style>\n",
       "<table border=\"1\" class=\"dataframe\">\n",
       "  <thead>\n",
       "    <tr style=\"text-align: right;\">\n",
       "      <th></th>\n",
       "      <th>age_years</th>\n",
       "      <th>sex_0male_1female</th>\n",
       "      <th>episode_number</th>\n",
       "      <th>hospital_outcome_1alive_0dead</th>\n",
       "    </tr>\n",
       "  </thead>\n",
       "  <tbody>\n",
       "    <tr>\n",
       "      <th>0</th>\n",
       "      <td>21</td>\n",
       "      <td>1</td>\n",
       "      <td>1</td>\n",
       "      <td>1</td>\n",
       "    </tr>\n",
       "    <tr>\n",
       "      <th>1</th>\n",
       "      <td>20</td>\n",
       "      <td>1</td>\n",
       "      <td>1</td>\n",
       "      <td>1</td>\n",
       "    </tr>\n",
       "    <tr>\n",
       "      <th>2</th>\n",
       "      <td>21</td>\n",
       "      <td>1</td>\n",
       "      <td>1</td>\n",
       "      <td>1</td>\n",
       "    </tr>\n",
       "    <tr>\n",
       "      <th>3</th>\n",
       "      <td>77</td>\n",
       "      <td>0</td>\n",
       "      <td>1</td>\n",
       "      <td>1</td>\n",
       "    </tr>\n",
       "    <tr>\n",
       "      <th>4</th>\n",
       "      <td>72</td>\n",
       "      <td>0</td>\n",
       "      <td>1</td>\n",
       "      <td>1</td>\n",
       "    </tr>\n",
       "    <tr>\n",
       "      <th>...</th>\n",
       "      <td>...</td>\n",
       "      <td>...</td>\n",
       "      <td>...</td>\n",
       "      <td>...</td>\n",
       "    </tr>\n",
       "    <tr>\n",
       "      <th>110199</th>\n",
       "      <td>0</td>\n",
       "      <td>0</td>\n",
       "      <td>1</td>\n",
       "      <td>1</td>\n",
       "    </tr>\n",
       "    <tr>\n",
       "      <th>110200</th>\n",
       "      <td>0</td>\n",
       "      <td>1</td>\n",
       "      <td>1</td>\n",
       "      <td>1</td>\n",
       "    </tr>\n",
       "    <tr>\n",
       "      <th>110201</th>\n",
       "      <td>70</td>\n",
       "      <td>1</td>\n",
       "      <td>1</td>\n",
       "      <td>1</td>\n",
       "    </tr>\n",
       "    <tr>\n",
       "      <th>110202</th>\n",
       "      <td>0</td>\n",
       "      <td>0</td>\n",
       "      <td>1</td>\n",
       "      <td>1</td>\n",
       "    </tr>\n",
       "    <tr>\n",
       "      <th>110203</th>\n",
       "      <td>0</td>\n",
       "      <td>0</td>\n",
       "      <td>1</td>\n",
       "      <td>1</td>\n",
       "    </tr>\n",
       "  </tbody>\n",
       "</table>\n",
       "<p>110204 rows × 4 columns</p>\n",
       "</div>"
      ],
      "text/plain": [
       "        age_years  sex_0male_1female  episode_number  \\\n",
       "0              21                  1               1   \n",
       "1              20                  1               1   \n",
       "2              21                  1               1   \n",
       "3              77                  0               1   \n",
       "4              72                  0               1   \n",
       "...           ...                ...             ...   \n",
       "110199          0                  0               1   \n",
       "110200          0                  1               1   \n",
       "110201         70                  1               1   \n",
       "110202          0                  0               1   \n",
       "110203          0                  0               1   \n",
       "\n",
       "        hospital_outcome_1alive_0dead  \n",
       "0                                   1  \n",
       "1                                   1  \n",
       "2                                   1  \n",
       "3                                   1  \n",
       "4                                   1  \n",
       "...                               ...  \n",
       "110199                              1  \n",
       "110200                              1  \n",
       "110201                              1  \n",
       "110202                              1  \n",
       "110203                              1  \n",
       "\n",
       "[110204 rows x 4 columns]"
      ]
     },
     "execution_count": 26,
     "metadata": {},
     "output_type": "execute_result"
    }
   ],
   "source": [
    "dict_df[\"primary_cohort\"]"
   ]
  },
  {
   "cell_type": "code",
   "execution_count": 27,
   "id": "1df14636",
   "metadata": {},
   "outputs": [
    {
     "data": {
      "text/html": [
       "<div>\n",
       "<style scoped>\n",
       "    .dataframe tbody tr th:only-of-type {\n",
       "        vertical-align: middle;\n",
       "    }\n",
       "\n",
       "    .dataframe tbody tr th {\n",
       "        vertical-align: top;\n",
       "    }\n",
       "\n",
       "    .dataframe thead th {\n",
       "        text-align: right;\n",
       "    }\n",
       "</style>\n",
       "<table border=\"1\" class=\"dataframe\">\n",
       "  <thead>\n",
       "    <tr style=\"text-align: right;\">\n",
       "      <th></th>\n",
       "      <th>age_years</th>\n",
       "      <th>sex_0male_1female</th>\n",
       "      <th>episode_number</th>\n",
       "      <th>hospital_outcome_1alive_0dead</th>\n",
       "    </tr>\n",
       "  </thead>\n",
       "  <tbody>\n",
       "    <tr>\n",
       "      <th>0</th>\n",
       "      <td>7</td>\n",
       "      <td>1</td>\n",
       "      <td>1</td>\n",
       "      <td>1</td>\n",
       "    </tr>\n",
       "    <tr>\n",
       "      <th>1</th>\n",
       "      <td>17</td>\n",
       "      <td>0</td>\n",
       "      <td>2</td>\n",
       "      <td>1</td>\n",
       "    </tr>\n",
       "    <tr>\n",
       "      <th>2</th>\n",
       "      <td>70</td>\n",
       "      <td>0</td>\n",
       "      <td>1</td>\n",
       "      <td>1</td>\n",
       "    </tr>\n",
       "    <tr>\n",
       "      <th>3</th>\n",
       "      <td>76</td>\n",
       "      <td>0</td>\n",
       "      <td>1</td>\n",
       "      <td>1</td>\n",
       "    </tr>\n",
       "    <tr>\n",
       "      <th>4</th>\n",
       "      <td>8</td>\n",
       "      <td>0</td>\n",
       "      <td>1</td>\n",
       "      <td>1</td>\n",
       "    </tr>\n",
       "    <tr>\n",
       "      <th>...</th>\n",
       "      <td>...</td>\n",
       "      <td>...</td>\n",
       "      <td>...</td>\n",
       "      <td>...</td>\n",
       "    </tr>\n",
       "    <tr>\n",
       "      <th>19046</th>\n",
       "      <td>33</td>\n",
       "      <td>1</td>\n",
       "      <td>1</td>\n",
       "      <td>1</td>\n",
       "    </tr>\n",
       "    <tr>\n",
       "      <th>19047</th>\n",
       "      <td>58</td>\n",
       "      <td>0</td>\n",
       "      <td>1</td>\n",
       "      <td>1</td>\n",
       "    </tr>\n",
       "    <tr>\n",
       "      <th>19048</th>\n",
       "      <td>44</td>\n",
       "      <td>0</td>\n",
       "      <td>2</td>\n",
       "      <td>1</td>\n",
       "    </tr>\n",
       "    <tr>\n",
       "      <th>19049</th>\n",
       "      <td>61</td>\n",
       "      <td>0</td>\n",
       "      <td>3</td>\n",
       "      <td>0</td>\n",
       "    </tr>\n",
       "    <tr>\n",
       "      <th>19050</th>\n",
       "      <td>78</td>\n",
       "      <td>0</td>\n",
       "      <td>1</td>\n",
       "      <td>1</td>\n",
       "    </tr>\n",
       "  </tbody>\n",
       "</table>\n",
       "<p>19051 rows × 4 columns</p>\n",
       "</div>"
      ],
      "text/plain": [
       "       age_years  sex_0male_1female  episode_number  \\\n",
       "0              7                  1               1   \n",
       "1             17                  0               2   \n",
       "2             70                  0               1   \n",
       "3             76                  0               1   \n",
       "4              8                  0               1   \n",
       "...          ...                ...             ...   \n",
       "19046         33                  1               1   \n",
       "19047         58                  0               1   \n",
       "19048         44                  0               2   \n",
       "19049         61                  0               3   \n",
       "19050         78                  0               1   \n",
       "\n",
       "       hospital_outcome_1alive_0dead  \n",
       "0                                  1  \n",
       "1                                  1  \n",
       "2                                  1  \n",
       "3                                  1  \n",
       "4                                  1  \n",
       "...                              ...  \n",
       "19046                              1  \n",
       "19047                              1  \n",
       "19048                              1  \n",
       "19049                              0  \n",
       "19050                              1  \n",
       "\n",
       "[19051 rows x 4 columns]"
      ]
     },
     "execution_count": 27,
     "metadata": {},
     "output_type": "execute_result"
    }
   ],
   "source": [
    "dict_df[\"study_cohort\"]"
   ]
  },
  {
   "cell_type": "code",
   "execution_count": 28,
   "id": "ecd5f174",
   "metadata": {},
   "outputs": [
    {
     "data": {
      "text/html": [
       "<div>\n",
       "<style scoped>\n",
       "    .dataframe tbody tr th:only-of-type {\n",
       "        vertical-align: middle;\n",
       "    }\n",
       "\n",
       "    .dataframe tbody tr th {\n",
       "        vertical-align: top;\n",
       "    }\n",
       "\n",
       "    .dataframe thead th {\n",
       "        text-align: right;\n",
       "    }\n",
       "</style>\n",
       "<table border=\"1\" class=\"dataframe\">\n",
       "  <thead>\n",
       "    <tr style=\"text-align: right;\">\n",
       "      <th></th>\n",
       "      <th>age_years</th>\n",
       "      <th>sex_0male_1female</th>\n",
       "      <th>episode_number</th>\n",
       "      <th>hospital_outcome_1alive_0dead</th>\n",
       "    </tr>\n",
       "  </thead>\n",
       "  <tbody>\n",
       "    <tr>\n",
       "      <th>0</th>\n",
       "      <td>20</td>\n",
       "      <td>0</td>\n",
       "      <td>1</td>\n",
       "      <td>1</td>\n",
       "    </tr>\n",
       "    <tr>\n",
       "      <th>1</th>\n",
       "      <td>22</td>\n",
       "      <td>0</td>\n",
       "      <td>1</td>\n",
       "      <td>1</td>\n",
       "    </tr>\n",
       "    <tr>\n",
       "      <th>2</th>\n",
       "      <td>26</td>\n",
       "      <td>1</td>\n",
       "      <td>2</td>\n",
       "      <td>0</td>\n",
       "    </tr>\n",
       "    <tr>\n",
       "      <th>3</th>\n",
       "      <td>33</td>\n",
       "      <td>1</td>\n",
       "      <td>1</td>\n",
       "      <td>1</td>\n",
       "    </tr>\n",
       "    <tr>\n",
       "      <th>4</th>\n",
       "      <td>33</td>\n",
       "      <td>0</td>\n",
       "      <td>1</td>\n",
       "      <td>1</td>\n",
       "    </tr>\n",
       "    <tr>\n",
       "      <th>...</th>\n",
       "      <td>...</td>\n",
       "      <td>...</td>\n",
       "      <td>...</td>\n",
       "      <td>...</td>\n",
       "    </tr>\n",
       "    <tr>\n",
       "      <th>132</th>\n",
       "      <td>47</td>\n",
       "      <td>0</td>\n",
       "      <td>1</td>\n",
       "      <td>1</td>\n",
       "    </tr>\n",
       "    <tr>\n",
       "      <th>133</th>\n",
       "      <td>50</td>\n",
       "      <td>0</td>\n",
       "      <td>1</td>\n",
       "      <td>0</td>\n",
       "    </tr>\n",
       "    <tr>\n",
       "      <th>134</th>\n",
       "      <td>62</td>\n",
       "      <td>0</td>\n",
       "      <td>1</td>\n",
       "      <td>1</td>\n",
       "    </tr>\n",
       "    <tr>\n",
       "      <th>135</th>\n",
       "      <td>58</td>\n",
       "      <td>0</td>\n",
       "      <td>1</td>\n",
       "      <td>0</td>\n",
       "    </tr>\n",
       "    <tr>\n",
       "      <th>136</th>\n",
       "      <td>55</td>\n",
       "      <td>1</td>\n",
       "      <td>1</td>\n",
       "      <td>1</td>\n",
       "    </tr>\n",
       "  </tbody>\n",
       "</table>\n",
       "<p>137 rows × 4 columns</p>\n",
       "</div>"
      ],
      "text/plain": [
       "     age_years  sex_0male_1female  episode_number  \\\n",
       "0           20                  0               1   \n",
       "1           22                  0               1   \n",
       "2           26                  1               2   \n",
       "3           33                  1               1   \n",
       "4           33                  0               1   \n",
       "..         ...                ...             ...   \n",
       "132         47                  0               1   \n",
       "133         50                  0               1   \n",
       "134         62                  0               1   \n",
       "135         58                  0               1   \n",
       "136         55                  1               1   \n",
       "\n",
       "     hospital_outcome_1alive_0dead  \n",
       "0                                1  \n",
       "1                                1  \n",
       "2                                0  \n",
       "3                                1  \n",
       "4                                1  \n",
       "..                             ...  \n",
       "132                              1  \n",
       "133                              0  \n",
       "134                              1  \n",
       "135                              0  \n",
       "136                              1  \n",
       "\n",
       "[137 rows x 4 columns]"
      ]
     },
     "execution_count": 28,
     "metadata": {},
     "output_type": "execute_result"
    }
   ],
   "source": [
    "dict_df[\"validation_cohort\"]"
   ]
  },
  {
   "cell_type": "markdown",
   "id": "6f2fa793",
   "metadata": {},
   "source": [
    "# I. Despriction des datasets\n",
    "### 1. Nombre d'échantillons et de personnes décédées (target)"
   ]
  },
  {
   "cell_type": "code",
   "execution_count": 56,
   "id": "d96d3053",
   "metadata": {},
   "outputs": [
    {
     "data": {
      "application/vnd.plotly.v1+json": {
       "config": {
        "plotlyServerURL": "https://plot.ly"
       },
       "data": [
        {
         "name": "Taille",
         "text": [
          "110204",
          "19051",
          "137"
         ],
         "textposition": "auto",
         "type": "bar",
         "x": [
          "primary_cohort",
          "study_cohort",
          "validation_cohort"
         ],
         "xaxis": "x",
         "y": [
          110204,
          19051,
          137
         ],
         "yaxis": "y"
        },
        {
         "name": "% morts",
         "text": [
          "7.4%",
          "18.9%",
          "17.5%"
         ],
         "textposition": "auto",
         "type": "bar",
         "x": [
          "primary_cohort",
          "study_cohort",
          "validation_cohort"
         ],
         "xaxis": "x2",
         "y": [
          7.354542484846285,
          18.92814025510472,
          17.51824817518248
         ],
         "yaxis": "y2"
        }
       ],
       "layout": {
        "annotations": [
         {
          "font": {
           "size": 16
          },
          "showarrow": false,
          "text": "Nombre d'échantillons",
          "x": 0.5,
          "xanchor": "center",
          "xref": "paper",
          "y": 1,
          "yanchor": "bottom",
          "yref": "paper"
         },
         {
          "font": {
           "size": 16
          },
          "showarrow": false,
          "text": "Pourcentage de morts",
          "x": 0.5,
          "xanchor": "center",
          "xref": "paper",
          "y": 0.375,
          "yanchor": "bottom",
          "yref": "paper"
         }
        ],
        "height": 700,
        "showlegend": false,
        "template": {
         "data": {
          "bar": [
           {
            "error_x": {
             "color": "#2a3f5f"
            },
            "error_y": {
             "color": "#2a3f5f"
            },
            "marker": {
             "line": {
              "color": "#E5ECF6",
              "width": 0.5
             },
             "pattern": {
              "fillmode": "overlay",
              "size": 10,
              "solidity": 0.2
             }
            },
            "type": "bar"
           }
          ],
          "barpolar": [
           {
            "marker": {
             "line": {
              "color": "#E5ECF6",
              "width": 0.5
             },
             "pattern": {
              "fillmode": "overlay",
              "size": 10,
              "solidity": 0.2
             }
            },
            "type": "barpolar"
           }
          ],
          "carpet": [
           {
            "aaxis": {
             "endlinecolor": "#2a3f5f",
             "gridcolor": "white",
             "linecolor": "white",
             "minorgridcolor": "white",
             "startlinecolor": "#2a3f5f"
            },
            "baxis": {
             "endlinecolor": "#2a3f5f",
             "gridcolor": "white",
             "linecolor": "white",
             "minorgridcolor": "white",
             "startlinecolor": "#2a3f5f"
            },
            "type": "carpet"
           }
          ],
          "choropleth": [
           {
            "colorbar": {
             "outlinewidth": 0,
             "ticks": ""
            },
            "type": "choropleth"
           }
          ],
          "contour": [
           {
            "colorbar": {
             "outlinewidth": 0,
             "ticks": ""
            },
            "colorscale": [
             [
              0,
              "#0d0887"
             ],
             [
              0.1111111111111111,
              "#46039f"
             ],
             [
              0.2222222222222222,
              "#7201a8"
             ],
             [
              0.3333333333333333,
              "#9c179e"
             ],
             [
              0.4444444444444444,
              "#bd3786"
             ],
             [
              0.5555555555555556,
              "#d8576b"
             ],
             [
              0.6666666666666666,
              "#ed7953"
             ],
             [
              0.7777777777777778,
              "#fb9f3a"
             ],
             [
              0.8888888888888888,
              "#fdca26"
             ],
             [
              1,
              "#f0f921"
             ]
            ],
            "type": "contour"
           }
          ],
          "contourcarpet": [
           {
            "colorbar": {
             "outlinewidth": 0,
             "ticks": ""
            },
            "type": "contourcarpet"
           }
          ],
          "heatmap": [
           {
            "colorbar": {
             "outlinewidth": 0,
             "ticks": ""
            },
            "colorscale": [
             [
              0,
              "#0d0887"
             ],
             [
              0.1111111111111111,
              "#46039f"
             ],
             [
              0.2222222222222222,
              "#7201a8"
             ],
             [
              0.3333333333333333,
              "#9c179e"
             ],
             [
              0.4444444444444444,
              "#bd3786"
             ],
             [
              0.5555555555555556,
              "#d8576b"
             ],
             [
              0.6666666666666666,
              "#ed7953"
             ],
             [
              0.7777777777777778,
              "#fb9f3a"
             ],
             [
              0.8888888888888888,
              "#fdca26"
             ],
             [
              1,
              "#f0f921"
             ]
            ],
            "type": "heatmap"
           }
          ],
          "histogram": [
           {
            "marker": {
             "pattern": {
              "fillmode": "overlay",
              "size": 10,
              "solidity": 0.2
             }
            },
            "type": "histogram"
           }
          ],
          "histogram2d": [
           {
            "colorbar": {
             "outlinewidth": 0,
             "ticks": ""
            },
            "colorscale": [
             [
              0,
              "#0d0887"
             ],
             [
              0.1111111111111111,
              "#46039f"
             ],
             [
              0.2222222222222222,
              "#7201a8"
             ],
             [
              0.3333333333333333,
              "#9c179e"
             ],
             [
              0.4444444444444444,
              "#bd3786"
             ],
             [
              0.5555555555555556,
              "#d8576b"
             ],
             [
              0.6666666666666666,
              "#ed7953"
             ],
             [
              0.7777777777777778,
              "#fb9f3a"
             ],
             [
              0.8888888888888888,
              "#fdca26"
             ],
             [
              1,
              "#f0f921"
             ]
            ],
            "type": "histogram2d"
           }
          ],
          "histogram2dcontour": [
           {
            "colorbar": {
             "outlinewidth": 0,
             "ticks": ""
            },
            "colorscale": [
             [
              0,
              "#0d0887"
             ],
             [
              0.1111111111111111,
              "#46039f"
             ],
             [
              0.2222222222222222,
              "#7201a8"
             ],
             [
              0.3333333333333333,
              "#9c179e"
             ],
             [
              0.4444444444444444,
              "#bd3786"
             ],
             [
              0.5555555555555556,
              "#d8576b"
             ],
             [
              0.6666666666666666,
              "#ed7953"
             ],
             [
              0.7777777777777778,
              "#fb9f3a"
             ],
             [
              0.8888888888888888,
              "#fdca26"
             ],
             [
              1,
              "#f0f921"
             ]
            ],
            "type": "histogram2dcontour"
           }
          ],
          "mesh3d": [
           {
            "colorbar": {
             "outlinewidth": 0,
             "ticks": ""
            },
            "type": "mesh3d"
           }
          ],
          "parcoords": [
           {
            "line": {
             "colorbar": {
              "outlinewidth": 0,
              "ticks": ""
             }
            },
            "type": "parcoords"
           }
          ],
          "pie": [
           {
            "automargin": true,
            "type": "pie"
           }
          ],
          "scatter": [
           {
            "fillpattern": {
             "fillmode": "overlay",
             "size": 10,
             "solidity": 0.2
            },
            "type": "scatter"
           }
          ],
          "scatter3d": [
           {
            "line": {
             "colorbar": {
              "outlinewidth": 0,
              "ticks": ""
             }
            },
            "marker": {
             "colorbar": {
              "outlinewidth": 0,
              "ticks": ""
             }
            },
            "type": "scatter3d"
           }
          ],
          "scattercarpet": [
           {
            "marker": {
             "colorbar": {
              "outlinewidth": 0,
              "ticks": ""
             }
            },
            "type": "scattercarpet"
           }
          ],
          "scattergeo": [
           {
            "marker": {
             "colorbar": {
              "outlinewidth": 0,
              "ticks": ""
             }
            },
            "type": "scattergeo"
           }
          ],
          "scattergl": [
           {
            "marker": {
             "colorbar": {
              "outlinewidth": 0,
              "ticks": ""
             }
            },
            "type": "scattergl"
           }
          ],
          "scattermap": [
           {
            "marker": {
             "colorbar": {
              "outlinewidth": 0,
              "ticks": ""
             }
            },
            "type": "scattermap"
           }
          ],
          "scattermapbox": [
           {
            "marker": {
             "colorbar": {
              "outlinewidth": 0,
              "ticks": ""
             }
            },
            "type": "scattermapbox"
           }
          ],
          "scatterpolar": [
           {
            "marker": {
             "colorbar": {
              "outlinewidth": 0,
              "ticks": ""
             }
            },
            "type": "scatterpolar"
           }
          ],
          "scatterpolargl": [
           {
            "marker": {
             "colorbar": {
              "outlinewidth": 0,
              "ticks": ""
             }
            },
            "type": "scatterpolargl"
           }
          ],
          "scatterternary": [
           {
            "marker": {
             "colorbar": {
              "outlinewidth": 0,
              "ticks": ""
             }
            },
            "type": "scatterternary"
           }
          ],
          "surface": [
           {
            "colorbar": {
             "outlinewidth": 0,
             "ticks": ""
            },
            "colorscale": [
             [
              0,
              "#0d0887"
             ],
             [
              0.1111111111111111,
              "#46039f"
             ],
             [
              0.2222222222222222,
              "#7201a8"
             ],
             [
              0.3333333333333333,
              "#9c179e"
             ],
             [
              0.4444444444444444,
              "#bd3786"
             ],
             [
              0.5555555555555556,
              "#d8576b"
             ],
             [
              0.6666666666666666,
              "#ed7953"
             ],
             [
              0.7777777777777778,
              "#fb9f3a"
             ],
             [
              0.8888888888888888,
              "#fdca26"
             ],
             [
              1,
              "#f0f921"
             ]
            ],
            "type": "surface"
           }
          ],
          "table": [
           {
            "cells": {
             "fill": {
              "color": "#EBF0F8"
             },
             "line": {
              "color": "white"
             }
            },
            "header": {
             "fill": {
              "color": "#C8D4E3"
             },
             "line": {
              "color": "white"
             }
            },
            "type": "table"
           }
          ]
         },
         "layout": {
          "annotationdefaults": {
           "arrowcolor": "#2a3f5f",
           "arrowhead": 0,
           "arrowwidth": 1
          },
          "autotypenumbers": "strict",
          "coloraxis": {
           "colorbar": {
            "outlinewidth": 0,
            "ticks": ""
           }
          },
          "colorscale": {
           "diverging": [
            [
             0,
             "#8e0152"
            ],
            [
             0.1,
             "#c51b7d"
            ],
            [
             0.2,
             "#de77ae"
            ],
            [
             0.3,
             "#f1b6da"
            ],
            [
             0.4,
             "#fde0ef"
            ],
            [
             0.5,
             "#f7f7f7"
            ],
            [
             0.6,
             "#e6f5d0"
            ],
            [
             0.7,
             "#b8e186"
            ],
            [
             0.8,
             "#7fbc41"
            ],
            [
             0.9,
             "#4d9221"
            ],
            [
             1,
             "#276419"
            ]
           ],
           "sequential": [
            [
             0,
             "#0d0887"
            ],
            [
             0.1111111111111111,
             "#46039f"
            ],
            [
             0.2222222222222222,
             "#7201a8"
            ],
            [
             0.3333333333333333,
             "#9c179e"
            ],
            [
             0.4444444444444444,
             "#bd3786"
            ],
            [
             0.5555555555555556,
             "#d8576b"
            ],
            [
             0.6666666666666666,
             "#ed7953"
            ],
            [
             0.7777777777777778,
             "#fb9f3a"
            ],
            [
             0.8888888888888888,
             "#fdca26"
            ],
            [
             1,
             "#f0f921"
            ]
           ],
           "sequentialminus": [
            [
             0,
             "#0d0887"
            ],
            [
             0.1111111111111111,
             "#46039f"
            ],
            [
             0.2222222222222222,
             "#7201a8"
            ],
            [
             0.3333333333333333,
             "#9c179e"
            ],
            [
             0.4444444444444444,
             "#bd3786"
            ],
            [
             0.5555555555555556,
             "#d8576b"
            ],
            [
             0.6666666666666666,
             "#ed7953"
            ],
            [
             0.7777777777777778,
             "#fb9f3a"
            ],
            [
             0.8888888888888888,
             "#fdca26"
            ],
            [
             1,
             "#f0f921"
            ]
           ]
          },
          "colorway": [
           "#636efa",
           "#EF553B",
           "#00cc96",
           "#ab63fa",
           "#FFA15A",
           "#19d3f3",
           "#FF6692",
           "#B6E880",
           "#FF97FF",
           "#FECB52"
          ],
          "font": {
           "color": "#2a3f5f"
          },
          "geo": {
           "bgcolor": "white",
           "lakecolor": "white",
           "landcolor": "#E5ECF6",
           "showlakes": true,
           "showland": true,
           "subunitcolor": "white"
          },
          "hoverlabel": {
           "align": "left"
          },
          "hovermode": "closest",
          "mapbox": {
           "style": "light"
          },
          "paper_bgcolor": "white",
          "plot_bgcolor": "#E5ECF6",
          "polar": {
           "angularaxis": {
            "gridcolor": "white",
            "linecolor": "white",
            "ticks": ""
           },
           "bgcolor": "#E5ECF6",
           "radialaxis": {
            "gridcolor": "white",
            "linecolor": "white",
            "ticks": ""
           }
          },
          "scene": {
           "xaxis": {
            "backgroundcolor": "#E5ECF6",
            "gridcolor": "white",
            "gridwidth": 2,
            "linecolor": "white",
            "showbackground": true,
            "ticks": "",
            "zerolinecolor": "white"
           },
           "yaxis": {
            "backgroundcolor": "#E5ECF6",
            "gridcolor": "white",
            "gridwidth": 2,
            "linecolor": "white",
            "showbackground": true,
            "ticks": "",
            "zerolinecolor": "white"
           },
           "zaxis": {
            "backgroundcolor": "#E5ECF6",
            "gridcolor": "white",
            "gridwidth": 2,
            "linecolor": "white",
            "showbackground": true,
            "ticks": "",
            "zerolinecolor": "white"
           }
          },
          "shapedefaults": {
           "line": {
            "color": "#2a3f5f"
           }
          },
          "ternary": {
           "aaxis": {
            "gridcolor": "white",
            "linecolor": "white",
            "ticks": ""
           },
           "baxis": {
            "gridcolor": "white",
            "linecolor": "white",
            "ticks": ""
           },
           "bgcolor": "#E5ECF6",
           "caxis": {
            "gridcolor": "white",
            "linecolor": "white",
            "ticks": ""
           }
          },
          "title": {
           "x": 0.05
          },
          "xaxis": {
           "automargin": true,
           "gridcolor": "white",
           "linecolor": "white",
           "ticks": "",
           "title": {
            "standoff": 15
           },
           "zerolinecolor": "white",
           "zerolinewidth": 2
          },
          "yaxis": {
           "automargin": true,
           "gridcolor": "white",
           "linecolor": "white",
           "ticks": "",
           "title": {
            "standoff": 15
           },
           "zerolinecolor": "white",
           "zerolinewidth": 2
          }
         }
        },
        "title": {
         "text": "Nombre de patients et de morts"
        },
        "xaxis": {
         "anchor": "y",
         "domain": [
          0,
          1
         ]
        },
        "xaxis2": {
         "anchor": "y2",
         "domain": [
          0,
          1
         ]
        },
        "yaxis": {
         "anchor": "x",
         "domain": [
          0.625,
          1
         ]
        },
        "yaxis2": {
         "anchor": "x2",
         "domain": [
          0,
          0.375
         ]
        }
       }
      }
     },
     "metadata": {},
     "output_type": "display_data"
    }
   ],
   "source": [
    "import plotly.graph_objects as go\n",
    "from plotly.subplots import make_subplots\n",
    "\n",
    "cohorts = [\"primary_cohort\", \"study_cohort\", \"validation_cohort\"]\n",
    "sizes = [len(dict_df[cohort]) for cohort in cohorts]\n",
    "\n",
    "fig = make_subplots(rows=2, cols=1, subplot_titles=[\n",
    "    \"Nombre d'échantillons\", \"Pourcentage de morts\"\n",
    "])\n",
    "\n",
    "fig.add_trace(\n",
    "    go.Bar(x=cohorts, y=sizes, text=sizes, textposition=\"auto\", name=\"Taille\"),\n",
    "    row=1, col=1\n",
    ")\n",
    "\n",
    "prop_deads = [\n",
    "    100 * (len(dict_df[cohort]) - dict_df[cohort].hospital_outcome_1alive_0dead.sum()) / len(dict_df[cohort])\n",
    "    for cohort in cohorts\n",
    "]\n",
    "\n",
    "fig.add_trace(\n",
    "    go.Bar(x=cohorts, y=prop_deads, text=[f\"{v:.1f}%\" for v in prop_deads],\n",
    "           textposition=\"auto\", name=\"% morts\"),\n",
    "    row=2, col=1\n",
    ")\n",
    "\n",
    "fig.update_layout(\n",
    "    title=\"Nombre de patients et de morts\",\n",
    "    height=700,\n",
    "    showlegend=False\n",
    ")\n",
    "\n",
    "fig.show()"
   ]
  },
  {
   "cell_type": "markdown",
   "id": "3b180745",
   "metadata": {},
   "source": [
    "### 2. Répartition des ages"
   ]
  },
  {
   "cell_type": "code",
   "execution_count": null,
   "id": "068e57d7",
   "metadata": {},
   "outputs": [
    {
     "data": {
      "application/vnd.plotly.v1+json": {
       "config": {
        "plotlyServerURL": "https://plot.ly"
       },
       "data": [
        {
         "name": "primary_cohort",
         "opacity": 0.6,
         "type": "histogram",
         "x": {
          "bdata": "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",
          "dtype": "i1"
         },
         "xaxis": "x",
         "yaxis": "y"
        },
        {
         "name": "study_cohort",
         "opacity": 0.6,
         "type": "histogram",
         "x": {
          "bdata": "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",
          "dtype": "i1"
         },
         "xaxis": "x2",
         "yaxis": "y2"
        },
        {
         "name": "validation_cohort",
         "opacity": 0.6,
         "type": "histogram",
         "x": {
          "bdata": "FBYaISEhIyMkJCYoKSorLS4vMDAxMjI0NDU1NTY2Njc3OTk6Ozw8PDw9PT0+PkBAQEBCQkJDQ0NERUZISUlKSkpLS0tLTExOTk5PT09PUlNUVFhZWUw8WTcpGD5QOB1HKzsyTVdJNURDMiQ2TS0yIzAsRkw/HkI8OS49RUc1RT85VjJDLzI+Ojc=",
          "dtype": "i1"
         },
         "xaxis": "x3",
         "yaxis": "y3"
        }
       ],
       "layout": {
        "annotations": [
         {
          "font": {
           "size": 16
          },
          "showarrow": false,
          "text": "primary_cohort",
          "x": 0.14444444444444446,
          "xanchor": "center",
          "xref": "paper",
          "y": 1,
          "yanchor": "bottom",
          "yref": "paper"
         },
         {
          "font": {
           "size": 16
          },
          "showarrow": false,
          "text": "study_cohort",
          "x": 0.5,
          "xanchor": "center",
          "xref": "paper",
          "y": 1,
          "yanchor": "bottom",
          "yref": "paper"
         },
         {
          "font": {
           "size": 16
          },
          "showarrow": false,
          "text": "validation_cohort",
          "x": 0.8555555555555556,
          "xanchor": "center",
          "xref": "paper",
          "y": 1,
          "yanchor": "bottom",
          "yref": "paper"
         }
        ],
        "height": 400,
        "showlegend": false,
        "template": {
         "data": {
          "bar": [
           {
            "error_x": {
             "color": "#2a3f5f"
            },
            "error_y": {
             "color": "#2a3f5f"
            },
            "marker": {
             "line": {
              "color": "#E5ECF6",
              "width": 0.5
             },
             "pattern": {
              "fillmode": "overlay",
              "size": 10,
              "solidity": 0.2
             }
            },
            "type": "bar"
           }
          ],
          "barpolar": [
           {
            "marker": {
             "line": {
              "color": "#E5ECF6",
              "width": 0.5
             },
             "pattern": {
              "fillmode": "overlay",
              "size": 10,
              "solidity": 0.2
             }
            },
            "type": "barpolar"
           }
          ],
          "carpet": [
           {
            "aaxis": {
             "endlinecolor": "#2a3f5f",
             "gridcolor": "white",
             "linecolor": "white",
             "minorgridcolor": "white",
             "startlinecolor": "#2a3f5f"
            },
            "baxis": {
             "endlinecolor": "#2a3f5f",
             "gridcolor": "white",
             "linecolor": "white",
             "minorgridcolor": "white",
             "startlinecolor": "#2a3f5f"
            },
            "type": "carpet"
           }
          ],
          "choropleth": [
           {
            "colorbar": {
             "outlinewidth": 0,
             "ticks": ""
            },
            "type": "choropleth"
           }
          ],
          "contour": [
           {
            "colorbar": {
             "outlinewidth": 0,
             "ticks": ""
            },
            "colorscale": [
             [
              0,
              "#0d0887"
             ],
             [
              0.1111111111111111,
              "#46039f"
             ],
             [
              0.2222222222222222,
              "#7201a8"
             ],
             [
              0.3333333333333333,
              "#9c179e"
             ],
             [
              0.4444444444444444,
              "#bd3786"
             ],
             [
              0.5555555555555556,
              "#d8576b"
             ],
             [
              0.6666666666666666,
              "#ed7953"
             ],
             [
              0.7777777777777778,
              "#fb9f3a"
             ],
             [
              0.8888888888888888,
              "#fdca26"
             ],
             [
              1,
              "#f0f921"
             ]
            ],
            "type": "contour"
           }
          ],
          "contourcarpet": [
           {
            "colorbar": {
             "outlinewidth": 0,
             "ticks": ""
            },
            "type": "contourcarpet"
           }
          ],
          "heatmap": [
           {
            "colorbar": {
             "outlinewidth": 0,
             "ticks": ""
            },
            "colorscale": [
             [
              0,
              "#0d0887"
             ],
             [
              0.1111111111111111,
              "#46039f"
             ],
             [
              0.2222222222222222,
              "#7201a8"
             ],
             [
              0.3333333333333333,
              "#9c179e"
             ],
             [
              0.4444444444444444,
              "#bd3786"
             ],
             [
              0.5555555555555556,
              "#d8576b"
             ],
             [
              0.6666666666666666,
              "#ed7953"
             ],
             [
              0.7777777777777778,
              "#fb9f3a"
             ],
             [
              0.8888888888888888,
              "#fdca26"
             ],
             [
              1,
              "#f0f921"
             ]
            ],
            "type": "heatmap"
           }
          ],
          "histogram": [
           {
            "marker": {
             "pattern": {
              "fillmode": "overlay",
              "size": 10,
              "solidity": 0.2
             }
            },
            "type": "histogram"
           }
          ],
          "histogram2d": [
           {
            "colorbar": {
             "outlinewidth": 0,
             "ticks": ""
            },
            "colorscale": [
             [
              0,
              "#0d0887"
             ],
             [
              0.1111111111111111,
              "#46039f"
             ],
             [
              0.2222222222222222,
              "#7201a8"
             ],
             [
              0.3333333333333333,
              "#9c179e"
             ],
             [
              0.4444444444444444,
              "#bd3786"
             ],
             [
              0.5555555555555556,
              "#d8576b"
             ],
             [
              0.6666666666666666,
              "#ed7953"
             ],
             [
              0.7777777777777778,
              "#fb9f3a"
             ],
             [
              0.8888888888888888,
              "#fdca26"
             ],
             [
              1,
              "#f0f921"
             ]
            ],
            "type": "histogram2d"
           }
          ],
          "histogram2dcontour": [
           {
            "colorbar": {
             "outlinewidth": 0,
             "ticks": ""
            },
            "colorscale": [
             [
              0,
              "#0d0887"
             ],
             [
              0.1111111111111111,
              "#46039f"
             ],
             [
              0.2222222222222222,
              "#7201a8"
             ],
             [
              0.3333333333333333,
              "#9c179e"
             ],
             [
              0.4444444444444444,
              "#bd3786"
             ],
             [
              0.5555555555555556,
              "#d8576b"
             ],
             [
              0.6666666666666666,
              "#ed7953"
             ],
             [
              0.7777777777777778,
              "#fb9f3a"
             ],
             [
              0.8888888888888888,
              "#fdca26"
             ],
             [
              1,
              "#f0f921"
             ]
            ],
            "type": "histogram2dcontour"
           }
          ],
          "mesh3d": [
           {
            "colorbar": {
             "outlinewidth": 0,
             "ticks": ""
            },
            "type": "mesh3d"
           }
          ],
          "parcoords": [
           {
            "line": {
             "colorbar": {
              "outlinewidth": 0,
              "ticks": ""
             }
            },
            "type": "parcoords"
           }
          ],
          "pie": [
           {
            "automargin": true,
            "type": "pie"
           }
          ],
          "scatter": [
           {
            "fillpattern": {
             "fillmode": "overlay",
             "size": 10,
             "solidity": 0.2
            },
            "type": "scatter"
           }
          ],
          "scatter3d": [
           {
            "line": {
             "colorbar": {
              "outlinewidth": 0,
              "ticks": ""
             }
            },
            "marker": {
             "colorbar": {
              "outlinewidth": 0,
              "ticks": ""
             }
            },
            "type": "scatter3d"
           }
          ],
          "scattercarpet": [
           {
            "marker": {
             "colorbar": {
              "outlinewidth": 0,
              "ticks": ""
             }
            },
            "type": "scattercarpet"
           }
          ],
          "scattergeo": [
           {
            "marker": {
             "colorbar": {
              "outlinewidth": 0,
              "ticks": ""
             }
            },
            "type": "scattergeo"
           }
          ],
          "scattergl": [
           {
            "marker": {
             "colorbar": {
              "outlinewidth": 0,
              "ticks": ""
             }
            },
            "type": "scattergl"
           }
          ],
          "scattermap": [
           {
            "marker": {
             "colorbar": {
              "outlinewidth": 0,
              "ticks": ""
             }
            },
            "type": "scattermap"
           }
          ],
          "scattermapbox": [
           {
            "marker": {
             "colorbar": {
              "outlinewidth": 0,
              "ticks": ""
             }
            },
            "type": "scattermapbox"
           }
          ],
          "scatterpolar": [
           {
            "marker": {
             "colorbar": {
              "outlinewidth": 0,
              "ticks": ""
             }
            },
            "type": "scatterpolar"
           }
          ],
          "scatterpolargl": [
           {
            "marker": {
             "colorbar": {
              "outlinewidth": 0,
              "ticks": ""
             }
            },
            "type": "scatterpolargl"
           }
          ],
          "scatterternary": [
           {
            "marker": {
             "colorbar": {
              "outlinewidth": 0,
              "ticks": ""
             }
            },
            "type": "scatterternary"
           }
          ],
          "surface": [
           {
            "colorbar": {
             "outlinewidth": 0,
             "ticks": ""
            },
            "colorscale": [
             [
              0,
              "#0d0887"
             ],
             [
              0.1111111111111111,
              "#46039f"
             ],
             [
              0.2222222222222222,
              "#7201a8"
             ],
             [
              0.3333333333333333,
              "#9c179e"
             ],
             [
              0.4444444444444444,
              "#bd3786"
             ],
             [
              0.5555555555555556,
              "#d8576b"
             ],
             [
              0.6666666666666666,
              "#ed7953"
             ],
             [
              0.7777777777777778,
              "#fb9f3a"
             ],
             [
              0.8888888888888888,
              "#fdca26"
             ],
             [
              1,
              "#f0f921"
             ]
            ],
            "type": "surface"
           }
          ],
          "table": [
           {
            "cells": {
             "fill": {
              "color": "#EBF0F8"
             },
             "line": {
              "color": "white"
             }
            },
            "header": {
             "fill": {
              "color": "#C8D4E3"
             },
             "line": {
              "color": "white"
             }
            },
            "type": "table"
           }
          ]
         },
         "layout": {
          "annotationdefaults": {
           "arrowcolor": "#2a3f5f",
           "arrowhead": 0,
           "arrowwidth": 1
          },
          "autotypenumbers": "strict",
          "coloraxis": {
           "colorbar": {
            "outlinewidth": 0,
            "ticks": ""
           }
          },
          "colorscale": {
           "diverging": [
            [
             0,
             "#8e0152"
            ],
            [
             0.1,
             "#c51b7d"
            ],
            [
             0.2,
             "#de77ae"
            ],
            [
             0.3,
             "#f1b6da"
            ],
            [
             0.4,
             "#fde0ef"
            ],
            [
             0.5,
             "#f7f7f7"
            ],
            [
             0.6,
             "#e6f5d0"
            ],
            [
             0.7,
             "#b8e186"
            ],
            [
             0.8,
             "#7fbc41"
            ],
            [
             0.9,
             "#4d9221"
            ],
            [
             1,
             "#276419"
            ]
           ],
           "sequential": [
            [
             0,
             "#0d0887"
            ],
            [
             0.1111111111111111,
             "#46039f"
            ],
            [
             0.2222222222222222,
             "#7201a8"
            ],
            [
             0.3333333333333333,
             "#9c179e"
            ],
            [
             0.4444444444444444,
             "#bd3786"
            ],
            [
             0.5555555555555556,
             "#d8576b"
            ],
            [
             0.6666666666666666,
             "#ed7953"
            ],
            [
             0.7777777777777778,
             "#fb9f3a"
            ],
            [
             0.8888888888888888,
             "#fdca26"
            ],
            [
             1,
             "#f0f921"
            ]
           ],
           "sequentialminus": [
            [
             0,
             "#0d0887"
            ],
            [
             0.1111111111111111,
             "#46039f"
            ],
            [
             0.2222222222222222,
             "#7201a8"
            ],
            [
             0.3333333333333333,
             "#9c179e"
            ],
            [
             0.4444444444444444,
             "#bd3786"
            ],
            [
             0.5555555555555556,
             "#d8576b"
            ],
            [
             0.6666666666666666,
             "#ed7953"
            ],
            [
             0.7777777777777778,
             "#fb9f3a"
            ],
            [
             0.8888888888888888,
             "#fdca26"
            ],
            [
             1,
             "#f0f921"
            ]
           ]
          },
          "colorway": [
           "#636efa",
           "#EF553B",
           "#00cc96",
           "#ab63fa",
           "#FFA15A",
           "#19d3f3",
           "#FF6692",
           "#B6E880",
           "#FF97FF",
           "#FECB52"
          ],
          "font": {
           "color": "#2a3f5f"
          },
          "geo": {
           "bgcolor": "white",
           "lakecolor": "white",
           "landcolor": "#E5ECF6",
           "showlakes": true,
           "showland": true,
           "subunitcolor": "white"
          },
          "hoverlabel": {
           "align": "left"
          },
          "hovermode": "closest",
          "mapbox": {
           "style": "light"
          },
          "paper_bgcolor": "white",
          "plot_bgcolor": "#E5ECF6",
          "polar": {
           "angularaxis": {
            "gridcolor": "white",
            "linecolor": "white",
            "ticks": ""
           },
           "bgcolor": "#E5ECF6",
           "radialaxis": {
            "gridcolor": "white",
            "linecolor": "white",
            "ticks": ""
           }
          },
          "scene": {
           "xaxis": {
            "backgroundcolor": "#E5ECF6",
            "gridcolor": "white",
            "gridwidth": 2,
            "linecolor": "white",
            "showbackground": true,
            "ticks": "",
            "zerolinecolor": "white"
           },
           "yaxis": {
            "backgroundcolor": "#E5ECF6",
            "gridcolor": "white",
            "gridwidth": 2,
            "linecolor": "white",
            "showbackground": true,
            "ticks": "",
            "zerolinecolor": "white"
           },
           "zaxis": {
            "backgroundcolor": "#E5ECF6",
            "gridcolor": "white",
            "gridwidth": 2,
            "linecolor": "white",
            "showbackground": true,
            "ticks": "",
            "zerolinecolor": "white"
           }
          },
          "shapedefaults": {
           "line": {
            "color": "#2a3f5f"
           }
          },
          "ternary": {
           "aaxis": {
            "gridcolor": "white",
            "linecolor": "white",
            "ticks": ""
           },
           "baxis": {
            "gridcolor": "white",
            "linecolor": "white",
            "ticks": ""
           },
           "bgcolor": "#E5ECF6",
           "caxis": {
            "gridcolor": "white",
            "linecolor": "white",
            "ticks": ""
           }
          },
          "title": {
           "x": 0.05
          },
          "xaxis": {
           "automargin": true,
           "gridcolor": "white",
           "linecolor": "white",
           "ticks": "",
           "title": {
            "standoff": 15
           },
           "zerolinecolor": "white",
           "zerolinewidth": 2
          },
          "yaxis": {
           "automargin": true,
           "gridcolor": "white",
           "linecolor": "white",
           "ticks": "",
           "title": {
            "standoff": 15
           },
           "zerolinecolor": "white",
           "zerolinewidth": 2
          }
         }
        },
        "title": {
         "text": "Etude des âges"
        },
        "width": 900,
        "xaxis": {
         "anchor": "y",
         "domain": [
          0,
          0.2888888888888889
         ]
        },
        "xaxis2": {
         "anchor": "y2",
         "domain": [
          0.35555555555555557,
          0.6444444444444445
         ]
        },
        "xaxis3": {
         "anchor": "y3",
         "domain": [
          0.7111111111111111,
          1
         ]
        },
        "xaxis4": {
         "anchor": "y4",
         "domain": [
          0,
          0.2888888888888889
         ]
        },
        "xaxis5": {
         "anchor": "y5",
         "domain": [
          0.35555555555555557,
          0.6444444444444445
         ]
        },
        "xaxis6": {
         "anchor": "y6",
         "domain": [
          0.7111111111111111,
          1
         ]
        },
        "yaxis": {
         "anchor": "x",
         "domain": [
          0.625,
          1
         ]
        },
        "yaxis2": {
         "anchor": "x2",
         "domain": [
          0.625,
          1
         ]
        },
        "yaxis3": {
         "anchor": "x3",
         "domain": [
          0.625,
          1
         ]
        },
        "yaxis4": {
         "anchor": "x4",
         "domain": [
          0,
          0.375
         ]
        },
        "yaxis5": {
         "anchor": "x5",
         "domain": [
          0,
          0.375
         ]
        },
        "yaxis6": {
         "anchor": "x6",
         "domain": [
          0,
          0.375
         ]
        }
       }
      }
     },
     "metadata": {},
     "output_type": "display_data"
    },
    {
     "data": {
      "application/vnd.plotly.v1+json": {
       "config": {
        "plotlyServerURL": "https://plot.ly"
       },
       "data": [
        {
         "name": "primary_cohort",
         "opacity": 0.6,
         "type": "box",
         "x": {
          "bdata": "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",
          "dtype": "i1"
         }
        },
        {
         "name": "study_cohort",
         "opacity": 0.6,
         "type": "box",
         "x": {
          "bdata": "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",
          "dtype": "i1"
         }
        },
        {
         "name": "validation_cohort",
         "opacity": 0.6,
         "type": "box",
         "x": {
          "bdata": "FBYaISEhIyMkJCYoKSorLS4vMDAxMjI0NDU1NTY2Njc3OTk6Ozw8PDw9PT0+PkBAQEBCQkJDQ0NERUZISUlKSkpLS0tLTExOTk5PT09PUlNUVFhZWUw8WTcpGD5QOB1HKzsyTVdJNURDMiQ2TS0yIzAsRkw/HkI8OS49RUc1RT85VjJDLzI+Ojc=",
          "dtype": "i1"
         }
        }
       ],
       "layout": {
        "barmode": "group",
        "template": {
         "data": {
          "bar": [
           {
            "error_x": {
             "color": "#2a3f5f"
            },
            "error_y": {
             "color": "#2a3f5f"
            },
            "marker": {
             "line": {
              "color": "#E5ECF6",
              "width": 0.5
             },
             "pattern": {
              "fillmode": "overlay",
              "size": 10,
              "solidity": 0.2
             }
            },
            "type": "bar"
           }
          ],
          "barpolar": [
           {
            "marker": {
             "line": {
              "color": "#E5ECF6",
              "width": 0.5
             },
             "pattern": {
              "fillmode": "overlay",
              "size": 10,
              "solidity": 0.2
             }
            },
            "type": "barpolar"
           }
          ],
          "carpet": [
           {
            "aaxis": {
             "endlinecolor": "#2a3f5f",
             "gridcolor": "white",
             "linecolor": "white",
             "minorgridcolor": "white",
             "startlinecolor": "#2a3f5f"
            },
            "baxis": {
             "endlinecolor": "#2a3f5f",
             "gridcolor": "white",
             "linecolor": "white",
             "minorgridcolor": "white",
             "startlinecolor": "#2a3f5f"
            },
            "type": "carpet"
           }
          ],
          "choropleth": [
           {
            "colorbar": {
             "outlinewidth": 0,
             "ticks": ""
            },
            "type": "choropleth"
           }
          ],
          "contour": [
           {
            "colorbar": {
             "outlinewidth": 0,
             "ticks": ""
            },
            "colorscale": [
             [
              0,
              "#0d0887"
             ],
             [
              0.1111111111111111,
              "#46039f"
             ],
             [
              0.2222222222222222,
              "#7201a8"
             ],
             [
              0.3333333333333333,
              "#9c179e"
             ],
             [
              0.4444444444444444,
              "#bd3786"
             ],
             [
              0.5555555555555556,
              "#d8576b"
             ],
             [
              0.6666666666666666,
              "#ed7953"
             ],
             [
              0.7777777777777778,
              "#fb9f3a"
             ],
             [
              0.8888888888888888,
              "#fdca26"
             ],
             [
              1,
              "#f0f921"
             ]
            ],
            "type": "contour"
           }
          ],
          "contourcarpet": [
           {
            "colorbar": {
             "outlinewidth": 0,
             "ticks": ""
            },
            "type": "contourcarpet"
           }
          ],
          "heatmap": [
           {
            "colorbar": {
             "outlinewidth": 0,
             "ticks": ""
            },
            "colorscale": [
             [
              0,
              "#0d0887"
             ],
             [
              0.1111111111111111,
              "#46039f"
             ],
             [
              0.2222222222222222,
              "#7201a8"
             ],
             [
              0.3333333333333333,
              "#9c179e"
             ],
             [
              0.4444444444444444,
              "#bd3786"
             ],
             [
              0.5555555555555556,
              "#d8576b"
             ],
             [
              0.6666666666666666,
              "#ed7953"
             ],
             [
              0.7777777777777778,
              "#fb9f3a"
             ],
             [
              0.8888888888888888,
              "#fdca26"
             ],
             [
              1,
              "#f0f921"
             ]
            ],
            "type": "heatmap"
           }
          ],
          "histogram": [
           {
            "marker": {
             "pattern": {
              "fillmode": "overlay",
              "size": 10,
              "solidity": 0.2
             }
            },
            "type": "histogram"
           }
          ],
          "histogram2d": [
           {
            "colorbar": {
             "outlinewidth": 0,
             "ticks": ""
            },
            "colorscale": [
             [
              0,
              "#0d0887"
             ],
             [
              0.1111111111111111,
              "#46039f"
             ],
             [
              0.2222222222222222,
              "#7201a8"
             ],
             [
              0.3333333333333333,
              "#9c179e"
             ],
             [
              0.4444444444444444,
              "#bd3786"
             ],
             [
              0.5555555555555556,
              "#d8576b"
             ],
             [
              0.6666666666666666,
              "#ed7953"
             ],
             [
              0.7777777777777778,
              "#fb9f3a"
             ],
             [
              0.8888888888888888,
              "#fdca26"
             ],
             [
              1,
              "#f0f921"
             ]
            ],
            "type": "histogram2d"
           }
          ],
          "histogram2dcontour": [
           {
            "colorbar": {
             "outlinewidth": 0,
             "ticks": ""
            },
            "colorscale": [
             [
              0,
              "#0d0887"
             ],
             [
              0.1111111111111111,
              "#46039f"
             ],
             [
              0.2222222222222222,
              "#7201a8"
             ],
             [
              0.3333333333333333,
              "#9c179e"
             ],
             [
              0.4444444444444444,
              "#bd3786"
             ],
             [
              0.5555555555555556,
              "#d8576b"
             ],
             [
              0.6666666666666666,
              "#ed7953"
             ],
             [
              0.7777777777777778,
              "#fb9f3a"
             ],
             [
              0.8888888888888888,
              "#fdca26"
             ],
             [
              1,
              "#f0f921"
             ]
            ],
            "type": "histogram2dcontour"
           }
          ],
          "mesh3d": [
           {
            "colorbar": {
             "outlinewidth": 0,
             "ticks": ""
            },
            "type": "mesh3d"
           }
          ],
          "parcoords": [
           {
            "line": {
             "colorbar": {
              "outlinewidth": 0,
              "ticks": ""
             }
            },
            "type": "parcoords"
           }
          ],
          "pie": [
           {
            "automargin": true,
            "type": "pie"
           }
          ],
          "scatter": [
           {
            "fillpattern": {
             "fillmode": "overlay",
             "size": 10,
             "solidity": 0.2
            },
            "type": "scatter"
           }
          ],
          "scatter3d": [
           {
            "line": {
             "colorbar": {
              "outlinewidth": 0,
              "ticks": ""
             }
            },
            "marker": {
             "colorbar": {
              "outlinewidth": 0,
              "ticks": ""
             }
            },
            "type": "scatter3d"
           }
          ],
          "scattercarpet": [
           {
            "marker": {
             "colorbar": {
              "outlinewidth": 0,
              "ticks": ""
             }
            },
            "type": "scattercarpet"
           }
          ],
          "scattergeo": [
           {
            "marker": {
             "colorbar": {
              "outlinewidth": 0,
              "ticks": ""
             }
            },
            "type": "scattergeo"
           }
          ],
          "scattergl": [
           {
            "marker": {
             "colorbar": {
              "outlinewidth": 0,
              "ticks": ""
             }
            },
            "type": "scattergl"
           }
          ],
          "scattermap": [
           {
            "marker": {
             "colorbar": {
              "outlinewidth": 0,
              "ticks": ""
             }
            },
            "type": "scattermap"
           }
          ],
          "scattermapbox": [
           {
            "marker": {
             "colorbar": {
              "outlinewidth": 0,
              "ticks": ""
             }
            },
            "type": "scattermapbox"
           }
          ],
          "scatterpolar": [
           {
            "marker": {
             "colorbar": {
              "outlinewidth": 0,
              "ticks": ""
             }
            },
            "type": "scatterpolar"
           }
          ],
          "scatterpolargl": [
           {
            "marker": {
             "colorbar": {
              "outlinewidth": 0,
              "ticks": ""
             }
            },
            "type": "scatterpolargl"
           }
          ],
          "scatterternary": [
           {
            "marker": {
             "colorbar": {
              "outlinewidth": 0,
              "ticks": ""
             }
            },
            "type": "scatterternary"
           }
          ],
          "surface": [
           {
            "colorbar": {
             "outlinewidth": 0,
             "ticks": ""
            },
            "colorscale": [
             [
              0,
              "#0d0887"
             ],
             [
              0.1111111111111111,
              "#46039f"
             ],
             [
              0.2222222222222222,
              "#7201a8"
             ],
             [
              0.3333333333333333,
              "#9c179e"
             ],
             [
              0.4444444444444444,
              "#bd3786"
             ],
             [
              0.5555555555555556,
              "#d8576b"
             ],
             [
              0.6666666666666666,
              "#ed7953"
             ],
             [
              0.7777777777777778,
              "#fb9f3a"
             ],
             [
              0.8888888888888888,
              "#fdca26"
             ],
             [
              1,
              "#f0f921"
             ]
            ],
            "type": "surface"
           }
          ],
          "table": [
           {
            "cells": {
             "fill": {
              "color": "#EBF0F8"
             },
             "line": {
              "color": "white"
             }
            },
            "header": {
             "fill": {
              "color": "#C8D4E3"
             },
             "line": {
              "color": "white"
             }
            },
            "type": "table"
           }
          ]
         },
         "layout": {
          "annotationdefaults": {
           "arrowcolor": "#2a3f5f",
           "arrowhead": 0,
           "arrowwidth": 1
          },
          "autotypenumbers": "strict",
          "coloraxis": {
           "colorbar": {
            "outlinewidth": 0,
            "ticks": ""
           }
          },
          "colorscale": {
           "diverging": [
            [
             0,
             "#8e0152"
            ],
            [
             0.1,
             "#c51b7d"
            ],
            [
             0.2,
             "#de77ae"
            ],
            [
             0.3,
             "#f1b6da"
            ],
            [
             0.4,
             "#fde0ef"
            ],
            [
             0.5,
             "#f7f7f7"
            ],
            [
             0.6,
             "#e6f5d0"
            ],
            [
             0.7,
             "#b8e186"
            ],
            [
             0.8,
             "#7fbc41"
            ],
            [
             0.9,
             "#4d9221"
            ],
            [
             1,
             "#276419"
            ]
           ],
           "sequential": [
            [
             0,
             "#0d0887"
            ],
            [
             0.1111111111111111,
             "#46039f"
            ],
            [
             0.2222222222222222,
             "#7201a8"
            ],
            [
             0.3333333333333333,
             "#9c179e"
            ],
            [
             0.4444444444444444,
             "#bd3786"
            ],
            [
             0.5555555555555556,
             "#d8576b"
            ],
            [
             0.6666666666666666,
             "#ed7953"
            ],
            [
             0.7777777777777778,
             "#fb9f3a"
            ],
            [
             0.8888888888888888,
             "#fdca26"
            ],
            [
             1,
             "#f0f921"
            ]
           ],
           "sequentialminus": [
            [
             0,
             "#0d0887"
            ],
            [
             0.1111111111111111,
             "#46039f"
            ],
            [
             0.2222222222222222,
             "#7201a8"
            ],
            [
             0.3333333333333333,
             "#9c179e"
            ],
            [
             0.4444444444444444,
             "#bd3786"
            ],
            [
             0.5555555555555556,
             "#d8576b"
            ],
            [
             0.6666666666666666,
             "#ed7953"
            ],
            [
             0.7777777777777778,
             "#fb9f3a"
            ],
            [
             0.8888888888888888,
             "#fdca26"
            ],
            [
             1,
             "#f0f921"
            ]
           ]
          },
          "colorway": [
           "#636efa",
           "#EF553B",
           "#00cc96",
           "#ab63fa",
           "#FFA15A",
           "#19d3f3",
           "#FF6692",
           "#B6E880",
           "#FF97FF",
           "#FECB52"
          ],
          "font": {
           "color": "#2a3f5f"
          },
          "geo": {
           "bgcolor": "white",
           "lakecolor": "white",
           "landcolor": "#E5ECF6",
           "showlakes": true,
           "showland": true,
           "subunitcolor": "white"
          },
          "hoverlabel": {
           "align": "left"
          },
          "hovermode": "closest",
          "mapbox": {
           "style": "light"
          },
          "paper_bgcolor": "white",
          "plot_bgcolor": "#E5ECF6",
          "polar": {
           "angularaxis": {
            "gridcolor": "white",
            "linecolor": "white",
            "ticks": ""
           },
           "bgcolor": "#E5ECF6",
           "radialaxis": {
            "gridcolor": "white",
            "linecolor": "white",
            "ticks": ""
           }
          },
          "scene": {
           "xaxis": {
            "backgroundcolor": "#E5ECF6",
            "gridcolor": "white",
            "gridwidth": 2,
            "linecolor": "white",
            "showbackground": true,
            "ticks": "",
            "zerolinecolor": "white"
           },
           "yaxis": {
            "backgroundcolor": "#E5ECF6",
            "gridcolor": "white",
            "gridwidth": 2,
            "linecolor": "white",
            "showbackground": true,
            "ticks": "",
            "zerolinecolor": "white"
           },
           "zaxis": {
            "backgroundcolor": "#E5ECF6",
            "gridcolor": "white",
            "gridwidth": 2,
            "linecolor": "white",
            "showbackground": true,
            "ticks": "",
            "zerolinecolor": "white"
           }
          },
          "shapedefaults": {
           "line": {
            "color": "#2a3f5f"
           }
          },
          "ternary": {
           "aaxis": {
            "gridcolor": "white",
            "linecolor": "white",
            "ticks": ""
           },
           "baxis": {
            "gridcolor": "white",
            "linecolor": "white",
            "ticks": ""
           },
           "bgcolor": "#E5ECF6",
           "caxis": {
            "gridcolor": "white",
            "linecolor": "white",
            "ticks": ""
           }
          },
          "title": {
           "x": 0.05
          },
          "xaxis": {
           "automargin": true,
           "gridcolor": "white",
           "linecolor": "white",
           "ticks": "",
           "title": {
            "standoff": 15
           },
           "zerolinecolor": "white",
           "zerolinewidth": 2
          },
          "yaxis": {
           "automargin": true,
           "gridcolor": "white",
           "linecolor": "white",
           "ticks": "",
           "title": {
            "standoff": 15
           },
           "zerolinecolor": "white",
           "zerolinewidth": 2
          }
         }
        }
       }
      }
     },
     "metadata": {},
     "output_type": "display_data"
    }
   ],
   "source": [
    "fig = make_subplots(rows=2, cols=3, subplot_titles=cohorts)\n",
    "\n",
    "for i, cohort in enumerate(cohorts):\n",
    "    fig.add_trace(\n",
    "        go.Histogram(x=dict_df[cohort].age_years, name=cohort, opacity=0.6),\n",
    "        row=1, col=i+1\n",
    "    )\n",
    "\n",
    "\n",
    "fig.update_layout(\n",
    "    title=\"Etude des âges\",\n",
    "    showlegend=False,\n",
    "    height=400,\n",
    "    width=900\n",
    ")\n",
    "\n",
    "fig.show()\n",
    "\n",
    "fig = go.Figure()\n",
    "for cohort in cohorts:\n",
    "    fig.add_trace(\n",
    "        go.Box(x=dict_df[cohort].age_years, name=cohort, opacity=0.6),\n",
    "\n",
    "    )\n",
    "\n",
    "\n",
    "fig.update_layout(barmode='group')  # ✅ côte à côte\n",
    "fig.show()"
   ]
  },
  {
   "cell_type": "markdown",
   "id": "54967a15",
   "metadata": {},
   "source": [
    "### 3. Répartition des sexes"
   ]
  },
  {
   "cell_type": "code",
   "execution_count": null,
   "id": "056ff9fe",
   "metadata": {},
   "outputs": [],
   "source": []
  },
  {
   "cell_type": "markdown",
   "id": "78cdfd5b",
   "metadata": {},
   "source": [
    "### 4. Vérification age et sexe indépendant"
   ]
  },
  {
   "cell_type": "code",
   "execution_count": null,
   "id": "21f964b9",
   "metadata": {},
   "outputs": [],
   "source": []
  },
  {
   "cell_type": "markdown",
   "id": "a5a03855",
   "metadata": {},
   "source": [
    "### 5. Effets généraux de l'age et du sexe sur la probabilité de mort"
   ]
  },
  {
   "cell_type": "code",
   "execution_count": null,
   "id": "190b13e4",
   "metadata": {},
   "outputs": [],
   "source": []
  },
  {
   "cell_type": "markdown",
   "id": "671ed18f",
   "metadata": {},
   "source": [
    "# II. Création d'un modèle de classification"
   ]
  },
  {
   "cell_type": "markdown",
   "id": "26a2a04d",
   "metadata": {},
   "source": [
    "### 1. Choix du modèle à entraîner\n",
    "\n",
    "##### Remarque : **pas de feature engineering à faire**"
   ]
  },
  {
   "cell_type": "markdown",
   "id": "3cdf7f77",
   "metadata": {},
   "source": [
    "### 2. Dimensionnement de l'hyper paramètre en accord avec l'étude"
   ]
  },
  {
   "cell_type": "code",
   "execution_count": 30,
   "id": "f886a822",
   "metadata": {},
   "outputs": [],
   "source": [
    "import xgboost as xgb\n",
    "from sklearn.model_selection import train_test_split\n",
    "from sklearn.metrics import accuracy_score, roc_auc_score, classification_report"
   ]
  },
  {
   "cell_type": "code",
   "execution_count": 31,
   "id": "4d5605b4",
   "metadata": {},
   "outputs": [
    {
     "name": "stderr",
     "output_type": "stream",
     "text": [
      "/home/guillaumereynier/anaconda3/envs/myenv/lib/python3.12/site-packages/xgboost/training.py:183: UserWarning:\n",
      "\n",
      "[13:45:22] WARNING: /croot/xgboost-split_1749630910898/work/src/learner.cc:738: \n",
      "Parameters: { \"use_label_encoder\" } are not used.\n",
      "\n",
      "\n"
     ]
    },
    {
     "name": "stdout",
     "output_type": "stream",
     "text": [
      "Accuracy : 0.9264273529091503\n",
      "\n",
      "Rapport de classification primary :\n",
      "               precision    recall  f1-score   support\n",
      "\n",
      "           0       0.00      0.00      0.00      8105\n",
      "           1       0.93      1.00      0.96    102099\n",
      "\n",
      "    accuracy                           0.93    110204\n",
      "   macro avg       0.46      0.50      0.48    110204\n",
      "weighted avg       0.86      0.93      0.89    110204\n",
      "\n",
      "Accuracy : 0.8107185974489528\n",
      "\n",
      "Rapport de classification test :\n",
      "               precision    recall  f1-score   support\n",
      "\n",
      "           0       0.00      0.00      0.00      3606\n",
      "           1       0.81      1.00      0.90     15445\n",
      "\n",
      "    accuracy                           0.81     19051\n",
      "   macro avg       0.41      0.50      0.45     19051\n",
      "weighted avg       0.66      0.81      0.73     19051\n",
      "\n"
     ]
    },
    {
     "name": "stderr",
     "output_type": "stream",
     "text": [
      "/home/guillaumereynier/anaconda3/envs/myenv/lib/python3.12/site-packages/sklearn/metrics/_classification.py:1731: UndefinedMetricWarning:\n",
      "\n",
      "Precision is ill-defined and being set to 0.0 in labels with no predicted samples. Use `zero_division` parameter to control this behavior.\n",
      "\n",
      "/home/guillaumereynier/anaconda3/envs/myenv/lib/python3.12/site-packages/sklearn/metrics/_classification.py:1731: UndefinedMetricWarning:\n",
      "\n",
      "Precision is ill-defined and being set to 0.0 in labels with no predicted samples. Use `zero_division` parameter to control this behavior.\n",
      "\n",
      "/home/guillaumereynier/anaconda3/envs/myenv/lib/python3.12/site-packages/sklearn/metrics/_classification.py:1731: UndefinedMetricWarning:\n",
      "\n",
      "Precision is ill-defined and being set to 0.0 in labels with no predicted samples. Use `zero_division` parameter to control this behavior.\n",
      "\n"
     ]
    }
   ],
   "source": [
    "Xtrain = dict_df[\"study_cohort\"].drop(columns=[\"hospital_outcome_1alive_0dead\"])\n",
    "ytrain = dict_df[\"study_cohort\"][\"hospital_outcome_1alive_0dead\"]\n",
    "\n",
    "model = xgb.XGBClassifier(\n",
    "    objective=\"binary:logistic\",\n",
    "    eval_metric=\"logloss\",  # ou \"auc\" si tu préfères\n",
    "    use_label_encoder=False,\n",
    "    n_estimators=200,\n",
    "    learning_rate=0.05,\n",
    "    max_depth=5,\n",
    "    subsample=0.8,\n",
    "    colsample_bytree=0.8,\n",
    "    random_state=42,\n",
    ")\n",
    "\n",
    "# === 5. Entraînement ===\n",
    "model.fit(Xtrain, ytrain)\n",
    "\n",
    "X_val_primary = dict_df[\"primary_cohort\"].drop(columns=[\"hospital_outcome_1alive_0dead\"])\n",
    "X_val_test = dict_df[\"study_cohort\"].drop(columns=[\"hospital_outcome_1alive_0dead\"])\n",
    "y_val_primary = dict_df[\"primary_cohort\"][\"hospital_outcome_1alive_0dead\"]\n",
    "y_val_test = dict_df[\"study_cohort\"][\"hospital_outcome_1alive_0dead\"]\n",
    "\n",
    "# === 6. Prédiction et évaluation ===\n",
    "y_pred_primary = model.predict(X_val_primary)\n",
    "y_pred_test= model.predict(X_val_test)\n",
    "\n",
    "print(\"Accuracy :\", accuracy_score(y_val_primary, y_pred_primary))\n",
    "print(\"\\nRapport de classification primary :\\n\", classification_report(y_val_primary, y_pred_primary))\n",
    "print(\"Accuracy :\", accuracy_score(y_val_test, y_pred_test))\n",
    "\n",
    "print(\"\\nRapport de classification test :\\n\", classification_report(y_val_test, y_pred_test))\n",
    "\n"
   ]
  },
  {
   "cell_type": "markdown",
   "id": "26be736b",
   "metadata": {},
   "source": [
    "# III. Conclusion de l'étude : performance du modèle et limites"
   ]
  },
  {
   "cell_type": "markdown",
   "id": "08d1e04c",
   "metadata": {},
   "source": []
  }
 ],
 "metadata": {
  "kernelspec": {
   "display_name": "myenv",
   "language": "python",
   "name": "python3"
  },
  "language_info": {
   "codemirror_mode": {
    "name": "ipython",
    "version": 3
   },
   "file_extension": ".py",
   "mimetype": "text/x-python",
   "name": "python",
   "nbconvert_exporter": "python",
   "pygments_lexer": "ipython3",
   "version": "3.12.11"
  }
 },
 "nbformat": 4,
 "nbformat_minor": 5
}
