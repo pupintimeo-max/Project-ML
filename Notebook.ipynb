{
 "cells": [
  {
   "cell_type": "code",
   "execution_count": 25,
   "id": "3ab56eb2",
   "metadata": {},
   "outputs": [],
   "source": [
    "import pandas as pd\n",
    "file_names = {\n",
    "    \"primary_cohort\": \"data/s41598-020-73558-3_sepsis_survival_primary_cohort.csv\",\n",
    "    \"study_cohort\": \"data/s41598-020-73558-3_sepsis_survival_study_cohort.csv\",\n",
    "    \"validation_cohort\": \"data/s41598-020-73558-3_sepsis_survival_validation_cohort.csv\",\n",
    "}\n",
    "dict_df = dict()\n",
    "for key, file in file_names.items():\n",
    "    dict_df[key] = pd.read_csv(file)"
   ]
  },
  {
   "cell_type": "markdown",
   "id": "2b53159e",
   "metadata": {},
   "source": [
    "### **Dataset information**\n",
    "\n",
    "#### **What do the instances in this dataset represent?**\n",
    "\n",
    "For the primary cohort, they represent records of patients affected by sepsis potential preconditions (ante Sepsis-3 definition); for the study cohort, they represent only the patients’ admissions defined by the novel Sepsis-3 definition.\n",
    "\n",
    "#### **Are there recommended data splits?**\n",
    "\n",
    "No recommendation, standard train-test split could be used. Can use three-way holdout split (i.e., training, validation/development, testing) when doing model selection.\n",
    "\n",
    "#### **Does the dataset contain data that might be considered sensitive in any way?**\n",
    "\n",
    "Yes. It contains information about the gender and age of the patient.\n",
    "\n",
    "#### **Was there any data preprocessing performed?**\n",
    "\n",
    "All the categorical variables have been encoded (so no preprocessing is necessary).\n",
    "\n",
    "#### **Additional Information**\n",
    "\n",
    "Primary cohort from Norway:\n",
    "- 4 features for 110,204 patient admissions\n",
    "- file: 's41598-020-73558-3_sepsis_survival_primary_cohort.csv'\n",
    "\n",
    "Study cohort (a subset of the primary cohort) from Norway:\n",
    "- 4 features for 19,051 patient admissions\n",
    "- file: 's41598-020-73558-3_sepsis_survival_study_cohort.csv'\n",
    "\n",
    "Validation cohort from South Korea:\n",
    "- 4 features for 137 patients\n",
    "- file: 's41598-020-73558-3_sepsis_survival_validation_cohort.csv'\n",
    "\n",
    "The validation cohort from South Korea was used by Chicco and Jurman (2020) as an external validation cohort to confirm the generalizability of their proposed approach. \n",
    "\n",
    "#### **Has Missing Values?**\n",
    "\n",
    "No"
   ]
  },
  {
   "cell_type": "markdown",
   "id": "6f2fa793",
   "metadata": {},
   "source": [
    "# I. Despriction des datasets\n",
    "### 1. Nombre d'échantillons et de personnes décédées (target)"
   ]
  },
  {
   "cell_type": "code",
   "execution_count": 29,
   "id": "d96d3053",
   "metadata": {},
   "outputs": [
    {
     "data": {
      "application/vnd.plotly.v1+json": {
       "config": {
        "plotlyServerURL": "https://plot.ly"
       },
       "data": [
        {
         "name": "Taille",
         "text": [
          "110204",
          "19051",
          "137"
         ],
         "textposition": "auto",
         "type": "bar",
         "x": [
          "primary_cohort",
          "study_cohort",
          "validation_cohort"
         ],
         "xaxis": "x",
         "y": [
          110204,
          19051,
          137
         ],
         "yaxis": "y"
        },
        {
         "name": "% morts",
         "text": [
          "7.4%",
          "18.9%",
          "17.5%"
         ],
         "textposition": "auto",
         "type": "bar",
         "x": [
          "primary_cohort",
          "study_cohort",
          "validation_cohort"
         ],
         "xaxis": "x2",
         "y": [
          7.354542484846285,
          18.92814025510472,
          17.51824817518248
         ],
         "yaxis": "y2"
        }
       ],
       "layout": {
        "annotations": [
         {
          "font": {
           "size": 16
          },
          "showarrow": false,
          "text": "Nombre d'échantillons",
          "x": 0.5,
          "xanchor": "center",
          "xref": "paper",
          "y": 1,
          "yanchor": "bottom",
          "yref": "paper"
         },
         {
          "font": {
           "size": 16
          },
          "showarrow": false,
          "text": "Pourcentage de morts",
          "x": 0.5,
          "xanchor": "center",
          "xref": "paper",
          "y": 0.375,
          "yanchor": "bottom",
          "yref": "paper"
         }
        ],
        "height": 700,
        "showlegend": false,
        "template": {
         "data": {
          "bar": [
           {
            "error_x": {
             "color": "#2a3f5f"
            },
            "error_y": {
             "color": "#2a3f5f"
            },
            "marker": {
             "line": {
              "color": "#E5ECF6",
              "width": 0.5
             },
             "pattern": {
              "fillmode": "overlay",
              "size": 10,
              "solidity": 0.2
             }
            },
            "type": "bar"
           }
          ],
          "barpolar": [
           {
            "marker": {
             "line": {
              "color": "#E5ECF6",
              "width": 0.5
             },
             "pattern": {
              "fillmode": "overlay",
              "size": 10,
              "solidity": 0.2
             }
            },
            "type": "barpolar"
           }
          ],
          "carpet": [
           {
            "aaxis": {
             "endlinecolor": "#2a3f5f",
             "gridcolor": "white",
             "linecolor": "white",
             "minorgridcolor": "white",
             "startlinecolor": "#2a3f5f"
            },
            "baxis": {
             "endlinecolor": "#2a3f5f",
             "gridcolor": "white",
             "linecolor": "white",
             "minorgridcolor": "white",
             "startlinecolor": "#2a3f5f"
            },
            "type": "carpet"
           }
          ],
          "choropleth": [
           {
            "colorbar": {
             "outlinewidth": 0,
             "ticks": ""
            },
            "type": "choropleth"
           }
          ],
          "contour": [
           {
            "colorbar": {
             "outlinewidth": 0,
             "ticks": ""
            },
            "colorscale": [
             [
              0,
              "#0d0887"
             ],
             [
              0.1111111111111111,
              "#46039f"
             ],
             [
              0.2222222222222222,
              "#7201a8"
             ],
             [
              0.3333333333333333,
              "#9c179e"
             ],
             [
              0.4444444444444444,
              "#bd3786"
             ],
             [
              0.5555555555555556,
              "#d8576b"
             ],
             [
              0.6666666666666666,
              "#ed7953"
             ],
             [
              0.7777777777777778,
              "#fb9f3a"
             ],
             [
              0.8888888888888888,
              "#fdca26"
             ],
             [
              1,
              "#f0f921"
             ]
            ],
            "type": "contour"
           }
          ],
          "contourcarpet": [
           {
            "colorbar": {
             "outlinewidth": 0,
             "ticks": ""
            },
            "type": "contourcarpet"
           }
          ],
          "heatmap": [
           {
            "colorbar": {
             "outlinewidth": 0,
             "ticks": ""
            },
            "colorscale": [
             [
              0,
              "#0d0887"
             ],
             [
              0.1111111111111111,
              "#46039f"
             ],
             [
              0.2222222222222222,
              "#7201a8"
             ],
             [
              0.3333333333333333,
              "#9c179e"
             ],
             [
              0.4444444444444444,
              "#bd3786"
             ],
             [
              0.5555555555555556,
              "#d8576b"
             ],
             [
              0.6666666666666666,
              "#ed7953"
             ],
             [
              0.7777777777777778,
              "#fb9f3a"
             ],
             [
              0.8888888888888888,
              "#fdca26"
             ],
             [
              1,
              "#f0f921"
             ]
            ],
            "type": "heatmap"
           }
          ],
          "histogram": [
           {
            "marker": {
             "pattern": {
              "fillmode": "overlay",
              "size": 10,
              "solidity": 0.2
             }
            },
            "type": "histogram"
           }
          ],
          "histogram2d": [
           {
            "colorbar": {
             "outlinewidth": 0,
             "ticks": ""
            },
            "colorscale": [
             [
              0,
              "#0d0887"
             ],
             [
              0.1111111111111111,
              "#46039f"
             ],
             [
              0.2222222222222222,
              "#7201a8"
             ],
             [
              0.3333333333333333,
              "#9c179e"
             ],
             [
              0.4444444444444444,
              "#bd3786"
             ],
             [
              0.5555555555555556,
              "#d8576b"
             ],
             [
              0.6666666666666666,
              "#ed7953"
             ],
             [
              0.7777777777777778,
              "#fb9f3a"
             ],
             [
              0.8888888888888888,
              "#fdca26"
             ],
             [
              1,
              "#f0f921"
             ]
            ],
            "type": "histogram2d"
           }
          ],
          "histogram2dcontour": [
           {
            "colorbar": {
             "outlinewidth": 0,
             "ticks": ""
            },
            "colorscale": [
             [
              0,
              "#0d0887"
             ],
             [
              0.1111111111111111,
              "#46039f"
             ],
             [
              0.2222222222222222,
              "#7201a8"
             ],
             [
              0.3333333333333333,
              "#9c179e"
             ],
             [
              0.4444444444444444,
              "#bd3786"
             ],
             [
              0.5555555555555556,
              "#d8576b"
             ],
             [
              0.6666666666666666,
              "#ed7953"
             ],
             [
              0.7777777777777778,
              "#fb9f3a"
             ],
             [
              0.8888888888888888,
              "#fdca26"
             ],
             [
              1,
              "#f0f921"
             ]
            ],
            "type": "histogram2dcontour"
           }
          ],
          "mesh3d": [
           {
            "colorbar": {
             "outlinewidth": 0,
             "ticks": ""
            },
            "type": "mesh3d"
           }
          ],
          "parcoords": [
           {
            "line": {
             "colorbar": {
              "outlinewidth": 0,
              "ticks": ""
             }
            },
            "type": "parcoords"
           }
          ],
          "pie": [
           {
            "automargin": true,
            "type": "pie"
           }
          ],
          "scatter": [
           {
            "fillpattern": {
             "fillmode": "overlay",
             "size": 10,
             "solidity": 0.2
            },
            "type": "scatter"
           }
          ],
          "scatter3d": [
           {
            "line": {
             "colorbar": {
              "outlinewidth": 0,
              "ticks": ""
             }
            },
            "marker": {
             "colorbar": {
              "outlinewidth": 0,
              "ticks": ""
             }
            },
            "type": "scatter3d"
           }
          ],
          "scattercarpet": [
           {
            "marker": {
             "colorbar": {
              "outlinewidth": 0,
              "ticks": ""
             }
            },
            "type": "scattercarpet"
           }
          ],
          "scattergeo": [
           {
            "marker": {
             "colorbar": {
              "outlinewidth": 0,
              "ticks": ""
             }
            },
            "type": "scattergeo"
           }
          ],
          "scattergl": [
           {
            "marker": {
             "colorbar": {
              "outlinewidth": 0,
              "ticks": ""
             }
            },
            "type": "scattergl"
           }
          ],
          "scattermap": [
           {
            "marker": {
             "colorbar": {
              "outlinewidth": 0,
              "ticks": ""
             }
            },
            "type": "scattermap"
           }
          ],
          "scattermapbox": [
           {
            "marker": {
             "colorbar": {
              "outlinewidth": 0,
              "ticks": ""
             }
            },
            "type": "scattermapbox"
           }
          ],
          "scatterpolar": [
           {
            "marker": {
             "colorbar": {
              "outlinewidth": 0,
              "ticks": ""
             }
            },
            "type": "scatterpolar"
           }
          ],
          "scatterpolargl": [
           {
            "marker": {
             "colorbar": {
              "outlinewidth": 0,
              "ticks": ""
             }
            },
            "type": "scatterpolargl"
           }
          ],
          "scatterternary": [
           {
            "marker": {
             "colorbar": {
              "outlinewidth": 0,
              "ticks": ""
             }
            },
            "type": "scatterternary"
           }
          ],
          "surface": [
           {
            "colorbar": {
             "outlinewidth": 0,
             "ticks": ""
            },
            "colorscale": [
             [
              0,
              "#0d0887"
             ],
             [
              0.1111111111111111,
              "#46039f"
             ],
             [
              0.2222222222222222,
              "#7201a8"
             ],
             [
              0.3333333333333333,
              "#9c179e"
             ],
             [
              0.4444444444444444,
              "#bd3786"
             ],
             [
              0.5555555555555556,
              "#d8576b"
             ],
             [
              0.6666666666666666,
              "#ed7953"
             ],
             [
              0.7777777777777778,
              "#fb9f3a"
             ],
             [
              0.8888888888888888,
              "#fdca26"
             ],
             [
              1,
              "#f0f921"
             ]
            ],
            "type": "surface"
           }
          ],
          "table": [
           {
            "cells": {
             "fill": {
              "color": "#EBF0F8"
             },
             "line": {
              "color": "white"
             }
            },
            "header": {
             "fill": {
              "color": "#C8D4E3"
             },
             "line": {
              "color": "white"
             }
            },
            "type": "table"
           }
          ]
         },
         "layout": {
          "annotationdefaults": {
           "arrowcolor": "#2a3f5f",
           "arrowhead": 0,
           "arrowwidth": 1
          },
          "autotypenumbers": "strict",
          "coloraxis": {
           "colorbar": {
            "outlinewidth": 0,
            "ticks": ""
           }
          },
          "colorscale": {
           "diverging": [
            [
             0,
             "#8e0152"
            ],
            [
             0.1,
             "#c51b7d"
            ],
            [
             0.2,
             "#de77ae"
            ],
            [
             0.3,
             "#f1b6da"
            ],
            [
             0.4,
             "#fde0ef"
            ],
            [
             0.5,
             "#f7f7f7"
            ],
            [
             0.6,
             "#e6f5d0"
            ],
            [
             0.7,
             "#b8e186"
            ],
            [
             0.8,
             "#7fbc41"
            ],
            [
             0.9,
             "#4d9221"
            ],
            [
             1,
             "#276419"
            ]
           ],
           "sequential": [
            [
             0,
             "#0d0887"
            ],
            [
             0.1111111111111111,
             "#46039f"
            ],
            [
             0.2222222222222222,
             "#7201a8"
            ],
            [
             0.3333333333333333,
             "#9c179e"
            ],
            [
             0.4444444444444444,
             "#bd3786"
            ],
            [
             0.5555555555555556,
             "#d8576b"
            ],
            [
             0.6666666666666666,
             "#ed7953"
            ],
            [
             0.7777777777777778,
             "#fb9f3a"
            ],
            [
             0.8888888888888888,
             "#fdca26"
            ],
            [
             1,
             "#f0f921"
            ]
           ],
           "sequentialminus": [
            [
             0,
             "#0d0887"
            ],
            [
             0.1111111111111111,
             "#46039f"
            ],
            [
             0.2222222222222222,
             "#7201a8"
            ],
            [
             0.3333333333333333,
             "#9c179e"
            ],
            [
             0.4444444444444444,
             "#bd3786"
            ],
            [
             0.5555555555555556,
             "#d8576b"
            ],
            [
             0.6666666666666666,
             "#ed7953"
            ],
            [
             0.7777777777777778,
             "#fb9f3a"
            ],
            [
             0.8888888888888888,
             "#fdca26"
            ],
            [
             1,
             "#f0f921"
            ]
           ]
          },
          "colorway": [
           "#636efa",
           "#EF553B",
           "#00cc96",
           "#ab63fa",
           "#FFA15A",
           "#19d3f3",
           "#FF6692",
           "#B6E880",
           "#FF97FF",
           "#FECB52"
          ],
          "font": {
           "color": "#2a3f5f"
          },
          "geo": {
           "bgcolor": "white",
           "lakecolor": "white",
           "landcolor": "#E5ECF6",
           "showlakes": true,
           "showland": true,
           "subunitcolor": "white"
          },
          "hoverlabel": {
           "align": "left"
          },
          "hovermode": "closest",
          "mapbox": {
           "style": "light"
          },
          "paper_bgcolor": "white",
          "plot_bgcolor": "#E5ECF6",
          "polar": {
           "angularaxis": {
            "gridcolor": "white",
            "linecolor": "white",
            "ticks": ""
           },
           "bgcolor": "#E5ECF6",
           "radialaxis": {
            "gridcolor": "white",
            "linecolor": "white",
            "ticks": ""
           }
          },
          "scene": {
           "xaxis": {
            "backgroundcolor": "#E5ECF6",
            "gridcolor": "white",
            "gridwidth": 2,
            "linecolor": "white",
            "showbackground": true,
            "ticks": "",
            "zerolinecolor": "white"
           },
           "yaxis": {
            "backgroundcolor": "#E5ECF6",
            "gridcolor": "white",
            "gridwidth": 2,
            "linecolor": "white",
            "showbackground": true,
            "ticks": "",
            "zerolinecolor": "white"
           },
           "zaxis": {
            "backgroundcolor": "#E5ECF6",
            "gridcolor": "white",
            "gridwidth": 2,
            "linecolor": "white",
            "showbackground": true,
            "ticks": "",
            "zerolinecolor": "white"
           }
          },
          "shapedefaults": {
           "line": {
            "color": "#2a3f5f"
           }
          },
          "ternary": {
           "aaxis": {
            "gridcolor": "white",
            "linecolor": "white",
            "ticks": ""
           },
           "baxis": {
            "gridcolor": "white",
            "linecolor": "white",
            "ticks": ""
           },
           "bgcolor": "#E5ECF6",
           "caxis": {
            "gridcolor": "white",
            "linecolor": "white",
            "ticks": ""
           }
          },
          "title": {
           "x": 0.05
          },
          "xaxis": {
           "automargin": true,
           "gridcolor": "white",
           "linecolor": "white",
           "ticks": "",
           "title": {
            "standoff": 15
           },
           "zerolinecolor": "white",
           "zerolinewidth": 2
          },
          "yaxis": {
           "automargin": true,
           "gridcolor": "white",
           "linecolor": "white",
           "ticks": "",
           "title": {
            "standoff": 15
           },
           "zerolinecolor": "white",
           "zerolinewidth": 2
          }
         }
        },
        "title": {
         "text": "Nombre de patients et de morts"
        },
        "xaxis": {
         "anchor": "y",
         "domain": [
          0,
          1
         ]
        },
        "xaxis2": {
         "anchor": "y2",
         "domain": [
          0,
          1
         ]
        },
        "yaxis": {
         "anchor": "x",
         "domain": [
          0.625,
          1
         ]
        },
        "yaxis2": {
         "anchor": "x2",
         "domain": [
          0,
          0.375
         ]
        }
       }
      }
     },
     "metadata": {},
     "output_type": "display_data"
    }
   ],
   "source": [
    "import plotly.graph_objects as go\n",
    "from plotly.subplots import make_subplots\n",
    "\n",
    "cohorts = [\"primary_cohort\", \"study_cohort\", \"validation_cohort\"]\n",
    "sizes = [len(dict_df[cohort]) for cohort in cohorts]\n",
    "\n",
    "fig = make_subplots(rows=2, cols=1, subplot_titles=[\n",
    "    \"Nombre d'échantillons\", \"Pourcentage de morts\"\n",
    "])\n",
    "\n",
    "fig.add_trace(\n",
    "    go.Bar(x=cohorts, y=sizes, text=sizes, textposition=\"auto\", name=\"Taille\"),\n",
    "    row=1, col=1\n",
    ")\n",
    "\n",
    "prop_deads = [\n",
    "    100 * (len(dict_df[cohort]) - dict_df[cohort].hospital_outcome_1alive_0dead.sum()) / len(dict_df[cohort])\n",
    "    for cohort in cohorts\n",
    "]\n",
    "\n",
    "fig.add_trace(\n",
    "    go.Bar(x=cohorts, y=prop_deads, text=[f\"{v:.1f}%\" for v in prop_deads],\n",
    "           textposition=\"auto\", name=\"% morts\"),\n",
    "    row=2, col=1\n",
    ")\n",
    "\n",
    "fig.update_layout(\n",
    "    title=\"Nombre de patients et de morts\",\n",
    "    height=700,\n",
    "    showlegend=False\n",
    ")\n",
    "\n",
    "fig.show()"
   ]
  },
  {
   "cell_type": "markdown",
   "id": "d2a952cc",
   "metadata": {},
   "source": [
    "On remarque bien que le dataset `study_cohort` est une sous partie de `primary_cohort`, représentant environ un cinquième des observations. \\\n",
    "D'ailleurs, dans ce dataset, le nombre de morts est bien plus important que dans `primary_cohort`. \\\n",
    "Le dataset de validation `validation_cohort`(provenant de données en Corée du Sud), est de taille biens moindre mais présente une proportion de patients n'ayant pas survécus similaires au dataset d'étude `study_cohort`.\n"
   ]
  },
  {
   "cell_type": "markdown",
   "id": "3b180745",
   "metadata": {},
   "source": [
    "### 2. Répartition des ages"
   ]
  },
  {
   "cell_type": "code",
   "execution_count": 30,
   "id": "068e57d7",
   "metadata": {},
   "outputs": [
    {
     "data": {
      "application/vnd.plotly.v1+json": {
       "config": {
        "plotlyServerURL": "https://plot.ly"
       },
       "data": [
        {
         "name": "primary_cohort",
         "opacity": 0.6,
         "type": "histogram",
         "x": {
          "bdata": "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",
          "dtype": "i1"
         },
         "xaxis": "x",
         "yaxis": "y"
        },
        {
         "name": "study_cohort",
         "opacity": 0.6,
         "type": "histogram",
         "x": {
          "bdata": "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",
          "dtype": "i1"
         },
         "xaxis": "x2",
         "yaxis": "y2"
        },
        {
         "name": "validation_cohort",
         "opacity": 0.6,
         "type": "histogram",
         "x": {
          "bdata": "FBYaISEhIyMkJCYoKSorLS4vMDAxMjI0NDU1NTY2Njc3OTk6Ozw8PDw9PT0+PkBAQEBCQkJDQ0NERUZISUlKSkpLS0tLTExOTk5PT09PUlNUVFhZWUw8WTcpGD5QOB1HKzsyTVdJNURDMiQ2TS0yIzAsRkw/HkI8OS49RUc1RT85VjJDLzI+Ojc=",
          "dtype": "i1"
         },
         "xaxis": "x3",
         "yaxis": "y3"
        }
       ],
       "layout": {
        "annotations": [
         {
          "font": {
           "size": 16
          },
          "showarrow": false,
          "text": "primary_cohort",
          "x": 0.14444444444444446,
          "xanchor": "center",
          "xref": "paper",
          "y": 1,
          "yanchor": "bottom",
          "yref": "paper"
         },
         {
          "font": {
           "size": 16
          },
          "showarrow": false,
          "text": "study_cohort",
          "x": 0.5,
          "xanchor": "center",
          "xref": "paper",
          "y": 1,
          "yanchor": "bottom",
          "yref": "paper"
         },
         {
          "font": {
           "size": 16
          },
          "showarrow": false,
          "text": "validation_cohort",
          "x": 0.8555555555555556,
          "xanchor": "center",
          "xref": "paper",
          "y": 1,
          "yanchor": "bottom",
          "yref": "paper"
         }
        ],
        "height": 400,
        "showlegend": false,
        "template": {
         "data": {
          "bar": [
           {
            "error_x": {
             "color": "#2a3f5f"
            },
            "error_y": {
             "color": "#2a3f5f"
            },
            "marker": {
             "line": {
              "color": "#E5ECF6",
              "width": 0.5
             },
             "pattern": {
              "fillmode": "overlay",
              "size": 10,
              "solidity": 0.2
             }
            },
            "type": "bar"
           }
          ],
          "barpolar": [
           {
            "marker": {
             "line": {
              "color": "#E5ECF6",
              "width": 0.5
             },
             "pattern": {
              "fillmode": "overlay",
              "size": 10,
              "solidity": 0.2
             }
            },
            "type": "barpolar"
           }
          ],
          "carpet": [
           {
            "aaxis": {
             "endlinecolor": "#2a3f5f",
             "gridcolor": "white",
             "linecolor": "white",
             "minorgridcolor": "white",
             "startlinecolor": "#2a3f5f"
            },
            "baxis": {
             "endlinecolor": "#2a3f5f",
             "gridcolor": "white",
             "linecolor": "white",
             "minorgridcolor": "white",
             "startlinecolor": "#2a3f5f"
            },
            "type": "carpet"
           }
          ],
          "choropleth": [
           {
            "colorbar": {
             "outlinewidth": 0,
             "ticks": ""
            },
            "type": "choropleth"
           }
          ],
          "contour": [
           {
            "colorbar": {
             "outlinewidth": 0,
             "ticks": ""
            },
            "colorscale": [
             [
              0,
              "#0d0887"
             ],
             [
              0.1111111111111111,
              "#46039f"
             ],
             [
              0.2222222222222222,
              "#7201a8"
             ],
             [
              0.3333333333333333,
              "#9c179e"
             ],
             [
              0.4444444444444444,
              "#bd3786"
             ],
             [
              0.5555555555555556,
              "#d8576b"
             ],
             [
              0.6666666666666666,
              "#ed7953"
             ],
             [
              0.7777777777777778,
              "#fb9f3a"
             ],
             [
              0.8888888888888888,
              "#fdca26"
             ],
             [
              1,
              "#f0f921"
             ]
            ],
            "type": "contour"
           }
          ],
          "contourcarpet": [
           {
            "colorbar": {
             "outlinewidth": 0,
             "ticks": ""
            },
            "type": "contourcarpet"
           }
          ],
          "heatmap": [
           {
            "colorbar": {
             "outlinewidth": 0,
             "ticks": ""
            },
            "colorscale": [
             [
              0,
              "#0d0887"
             ],
             [
              0.1111111111111111,
              "#46039f"
             ],
             [
              0.2222222222222222,
              "#7201a8"
             ],
             [
              0.3333333333333333,
              "#9c179e"
             ],
             [
              0.4444444444444444,
              "#bd3786"
             ],
             [
              0.5555555555555556,
              "#d8576b"
             ],
             [
              0.6666666666666666,
              "#ed7953"
             ],
             [
              0.7777777777777778,
              "#fb9f3a"
             ],
             [
              0.8888888888888888,
              "#fdca26"
             ],
             [
              1,
              "#f0f921"
             ]
            ],
            "type": "heatmap"
           }
          ],
          "histogram": [
           {
            "marker": {
             "pattern": {
              "fillmode": "overlay",
              "size": 10,
              "solidity": 0.2
             }
            },
            "type": "histogram"
           }
          ],
          "histogram2d": [
           {
            "colorbar": {
             "outlinewidth": 0,
             "ticks": ""
            },
            "colorscale": [
             [
              0,
              "#0d0887"
             ],
             [
              0.1111111111111111,
              "#46039f"
             ],
             [
              0.2222222222222222,
              "#7201a8"
             ],
             [
              0.3333333333333333,
              "#9c179e"
             ],
             [
              0.4444444444444444,
              "#bd3786"
             ],
             [
              0.5555555555555556,
              "#d8576b"
             ],
             [
              0.6666666666666666,
              "#ed7953"
             ],
             [
              0.7777777777777778,
              "#fb9f3a"
             ],
             [
              0.8888888888888888,
              "#fdca26"
             ],
             [
              1,
              "#f0f921"
             ]
            ],
            "type": "histogram2d"
           }
          ],
          "histogram2dcontour": [
           {
            "colorbar": {
             "outlinewidth": 0,
             "ticks": ""
            },
            "colorscale": [
             [
              0,
              "#0d0887"
             ],
             [
              0.1111111111111111,
              "#46039f"
             ],
             [
              0.2222222222222222,
              "#7201a8"
             ],
             [
              0.3333333333333333,
              "#9c179e"
             ],
             [
              0.4444444444444444,
              "#bd3786"
             ],
             [
              0.5555555555555556,
              "#d8576b"
             ],
             [
              0.6666666666666666,
              "#ed7953"
             ],
             [
              0.7777777777777778,
              "#fb9f3a"
             ],
             [
              0.8888888888888888,
              "#fdca26"
             ],
             [
              1,
              "#f0f921"
             ]
            ],
            "type": "histogram2dcontour"
           }
          ],
          "mesh3d": [
           {
            "colorbar": {
             "outlinewidth": 0,
             "ticks": ""
            },
            "type": "mesh3d"
           }
          ],
          "parcoords": [
           {
            "line": {
             "colorbar": {
              "outlinewidth": 0,
              "ticks": ""
             }
            },
            "type": "parcoords"
           }
          ],
          "pie": [
           {
            "automargin": true,
            "type": "pie"
           }
          ],
          "scatter": [
           {
            "fillpattern": {
             "fillmode": "overlay",
             "size": 10,
             "solidity": 0.2
            },
            "type": "scatter"
           }
          ],
          "scatter3d": [
           {
            "line": {
             "colorbar": {
              "outlinewidth": 0,
              "ticks": ""
             }
            },
            "marker": {
             "colorbar": {
              "outlinewidth": 0,
              "ticks": ""
             }
            },
            "type": "scatter3d"
           }
          ],
          "scattercarpet": [
           {
            "marker": {
             "colorbar": {
              "outlinewidth": 0,
              "ticks": ""
             }
            },
            "type": "scattercarpet"
           }
          ],
          "scattergeo": [
           {
            "marker": {
             "colorbar": {
              "outlinewidth": 0,
              "ticks": ""
             }
            },
            "type": "scattergeo"
           }
          ],
          "scattergl": [
           {
            "marker": {
             "colorbar": {
              "outlinewidth": 0,
              "ticks": ""
             }
            },
            "type": "scattergl"
           }
          ],
          "scattermap": [
           {
            "marker": {
             "colorbar": {
              "outlinewidth": 0,
              "ticks": ""
             }
            },
            "type": "scattermap"
           }
          ],
          "scattermapbox": [
           {
            "marker": {
             "colorbar": {
              "outlinewidth": 0,
              "ticks": ""
             }
            },
            "type": "scattermapbox"
           }
          ],
          "scatterpolar": [
           {
            "marker": {
             "colorbar": {
              "outlinewidth": 0,
              "ticks": ""
             }
            },
            "type": "scatterpolar"
           }
          ],
          "scatterpolargl": [
           {
            "marker": {
             "colorbar": {
              "outlinewidth": 0,
              "ticks": ""
             }
            },
            "type": "scatterpolargl"
           }
          ],
          "scatterternary": [
           {
            "marker": {
             "colorbar": {
              "outlinewidth": 0,
              "ticks": ""
             }
            },
            "type": "scatterternary"
           }
          ],
          "surface": [
           {
            "colorbar": {
             "outlinewidth": 0,
             "ticks": ""
            },
            "colorscale": [
             [
              0,
              "#0d0887"
             ],
             [
              0.1111111111111111,
              "#46039f"
             ],
             [
              0.2222222222222222,
              "#7201a8"
             ],
             [
              0.3333333333333333,
              "#9c179e"
             ],
             [
              0.4444444444444444,
              "#bd3786"
             ],
             [
              0.5555555555555556,
              "#d8576b"
             ],
             [
              0.6666666666666666,
              "#ed7953"
             ],
             [
              0.7777777777777778,
              "#fb9f3a"
             ],
             [
              0.8888888888888888,
              "#fdca26"
             ],
             [
              1,
              "#f0f921"
             ]
            ],
            "type": "surface"
           }
          ],
          "table": [
           {
            "cells": {
             "fill": {
              "color": "#EBF0F8"
             },
             "line": {
              "color": "white"
             }
            },
            "header": {
             "fill": {
              "color": "#C8D4E3"
             },
             "line": {
              "color": "white"
             }
            },
            "type": "table"
           }
          ]
         },
         "layout": {
          "annotationdefaults": {
           "arrowcolor": "#2a3f5f",
           "arrowhead": 0,
           "arrowwidth": 1
          },
          "autotypenumbers": "strict",
          "coloraxis": {
           "colorbar": {
            "outlinewidth": 0,
            "ticks": ""
           }
          },
          "colorscale": {
           "diverging": [
            [
             0,
             "#8e0152"
            ],
            [
             0.1,
             "#c51b7d"
            ],
            [
             0.2,
             "#de77ae"
            ],
            [
             0.3,
             "#f1b6da"
            ],
            [
             0.4,
             "#fde0ef"
            ],
            [
             0.5,
             "#f7f7f7"
            ],
            [
             0.6,
             "#e6f5d0"
            ],
            [
             0.7,
             "#b8e186"
            ],
            [
             0.8,
             "#7fbc41"
            ],
            [
             0.9,
             "#4d9221"
            ],
            [
             1,
             "#276419"
            ]
           ],
           "sequential": [
            [
             0,
             "#0d0887"
            ],
            [
             0.1111111111111111,
             "#46039f"
            ],
            [
             0.2222222222222222,
             "#7201a8"
            ],
            [
             0.3333333333333333,
             "#9c179e"
            ],
            [
             0.4444444444444444,
             "#bd3786"
            ],
            [
             0.5555555555555556,
             "#d8576b"
            ],
            [
             0.6666666666666666,
             "#ed7953"
            ],
            [
             0.7777777777777778,
             "#fb9f3a"
            ],
            [
             0.8888888888888888,
             "#fdca26"
            ],
            [
             1,
             "#f0f921"
            ]
           ],
           "sequentialminus": [
            [
             0,
             "#0d0887"
            ],
            [
             0.1111111111111111,
             "#46039f"
            ],
            [
             0.2222222222222222,
             "#7201a8"
            ],
            [
             0.3333333333333333,
             "#9c179e"
            ],
            [
             0.4444444444444444,
             "#bd3786"
            ],
            [
             0.5555555555555556,
             "#d8576b"
            ],
            [
             0.6666666666666666,
             "#ed7953"
            ],
            [
             0.7777777777777778,
             "#fb9f3a"
            ],
            [
             0.8888888888888888,
             "#fdca26"
            ],
            [
             1,
             "#f0f921"
            ]
           ]
          },
          "colorway": [
           "#636efa",
           "#EF553B",
           "#00cc96",
           "#ab63fa",
           "#FFA15A",
           "#19d3f3",
           "#FF6692",
           "#B6E880",
           "#FF97FF",
           "#FECB52"
          ],
          "font": {
           "color": "#2a3f5f"
          },
          "geo": {
           "bgcolor": "white",
           "lakecolor": "white",
           "landcolor": "#E5ECF6",
           "showlakes": true,
           "showland": true,
           "subunitcolor": "white"
          },
          "hoverlabel": {
           "align": "left"
          },
          "hovermode": "closest",
          "mapbox": {
           "style": "light"
          },
          "paper_bgcolor": "white",
          "plot_bgcolor": "#E5ECF6",
          "polar": {
           "angularaxis": {
            "gridcolor": "white",
            "linecolor": "white",
            "ticks": ""
           },
           "bgcolor": "#E5ECF6",
           "radialaxis": {
            "gridcolor": "white",
            "linecolor": "white",
            "ticks": ""
           }
          },
          "scene": {
           "xaxis": {
            "backgroundcolor": "#E5ECF6",
            "gridcolor": "white",
            "gridwidth": 2,
            "linecolor": "white",
            "showbackground": true,
            "ticks": "",
            "zerolinecolor": "white"
           },
           "yaxis": {
            "backgroundcolor": "#E5ECF6",
            "gridcolor": "white",
            "gridwidth": 2,
            "linecolor": "white",
            "showbackground": true,
            "ticks": "",
            "zerolinecolor": "white"
           },
           "zaxis": {
            "backgroundcolor": "#E5ECF6",
            "gridcolor": "white",
            "gridwidth": 2,
            "linecolor": "white",
            "showbackground": true,
            "ticks": "",
            "zerolinecolor": "white"
           }
          },
          "shapedefaults": {
           "line": {
            "color": "#2a3f5f"
           }
          },
          "ternary": {
           "aaxis": {
            "gridcolor": "white",
            "linecolor": "white",
            "ticks": ""
           },
           "baxis": {
            "gridcolor": "white",
            "linecolor": "white",
            "ticks": ""
           },
           "bgcolor": "#E5ECF6",
           "caxis": {
            "gridcolor": "white",
            "linecolor": "white",
            "ticks": ""
           }
          },
          "title": {
           "x": 0.05
          },
          "xaxis": {
           "automargin": true,
           "gridcolor": "white",
           "linecolor": "white",
           "ticks": "",
           "title": {
            "standoff": 15
           },
           "zerolinecolor": "white",
           "zerolinewidth": 2
          },
          "yaxis": {
           "automargin": true,
           "gridcolor": "white",
           "linecolor": "white",
           "ticks": "",
           "title": {
            "standoff": 15
           },
           "zerolinecolor": "white",
           "zerolinewidth": 2
          }
         }
        },
        "title": {
         "text": "Etude des âges"
        },
        "width": 900,
        "xaxis": {
         "anchor": "y",
         "domain": [
          0,
          0.2888888888888889
         ]
        },
        "xaxis2": {
         "anchor": "y2",
         "domain": [
          0.35555555555555557,
          0.6444444444444445
         ]
        },
        "xaxis3": {
         "anchor": "y3",
         "domain": [
          0.7111111111111111,
          1
         ]
        },
        "xaxis4": {
         "anchor": "y4",
         "domain": [
          0,
          0.2888888888888889
         ]
        },
        "xaxis5": {
         "anchor": "y5",
         "domain": [
          0.35555555555555557,
          0.6444444444444445
         ]
        },
        "xaxis6": {
         "anchor": "y6",
         "domain": [
          0.7111111111111111,
          1
         ]
        },
        "yaxis": {
         "anchor": "x",
         "domain": [
          0.625,
          1
         ]
        },
        "yaxis2": {
         "anchor": "x2",
         "domain": [
          0.625,
          1
         ]
        },
        "yaxis3": {
         "anchor": "x3",
         "domain": [
          0.625,
          1
         ]
        },
        "yaxis4": {
         "anchor": "x4",
         "domain": [
          0,
          0.375
         ]
        },
        "yaxis5": {
         "anchor": "x5",
         "domain": [
          0,
          0.375
         ]
        },
        "yaxis6": {
         "anchor": "x6",
         "domain": [
          0,
          0.375
         ]
        }
       }
      }
     },
     "metadata": {},
     "output_type": "display_data"
    },
    {
     "data": {
      "application/vnd.plotly.v1+json": {
       "config": {
        "plotlyServerURL": "https://plot.ly"
       },
       "data": [
        {
         "name": "primary_cohort",
         "opacity": 0.6,
         "type": "box",
         "x": {
          "bdata": "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",
          "dtype": "i1"
         }
        },
        {
         "name": "study_cohort",
         "opacity": 0.6,
         "type": "box",
         "x": {
          "bdata": "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",
          "dtype": "i1"
         }
        },
        {
         "name": "validation_cohort",
         "opacity": 0.6,
         "type": "box",
         "x": {
          "bdata": "FBYaISEhIyMkJCYoKSorLS4vMDAxMjI0NDU1NTY2Njc3OTk6Ozw8PDw9PT0+PkBAQEBCQkJDQ0NERUZISUlKSkpLS0tLTExOTk5PT09PUlNUVFhZWUw8WTcpGD5QOB1HKzsyTVdJNURDMiQ2TS0yIzAsRkw/HkI8OS49RUc1RT85VjJDLzI+Ojc=",
          "dtype": "i1"
         }
        }
       ],
       "layout": {
        "barmode": "group",
        "template": {
         "data": {
          "bar": [
           {
            "error_x": {
             "color": "#2a3f5f"
            },
            "error_y": {
             "color": "#2a3f5f"
            },
            "marker": {
             "line": {
              "color": "#E5ECF6",
              "width": 0.5
             },
             "pattern": {
              "fillmode": "overlay",
              "size": 10,
              "solidity": 0.2
             }
            },
            "type": "bar"
           }
          ],
          "barpolar": [
           {
            "marker": {
             "line": {
              "color": "#E5ECF6",
              "width": 0.5
             },
             "pattern": {
              "fillmode": "overlay",
              "size": 10,
              "solidity": 0.2
             }
            },
            "type": "barpolar"
           }
          ],
          "carpet": [
           {
            "aaxis": {
             "endlinecolor": "#2a3f5f",
             "gridcolor": "white",
             "linecolor": "white",
             "minorgridcolor": "white",
             "startlinecolor": "#2a3f5f"
            },
            "baxis": {
             "endlinecolor": "#2a3f5f",
             "gridcolor": "white",
             "linecolor": "white",
             "minorgridcolor": "white",
             "startlinecolor": "#2a3f5f"
            },
            "type": "carpet"
           }
          ],
          "choropleth": [
           {
            "colorbar": {
             "outlinewidth": 0,
             "ticks": ""
            },
            "type": "choropleth"
           }
          ],
          "contour": [
           {
            "colorbar": {
             "outlinewidth": 0,
             "ticks": ""
            },
            "colorscale": [
             [
              0,
              "#0d0887"
             ],
             [
              0.1111111111111111,
              "#46039f"
             ],
             [
              0.2222222222222222,
              "#7201a8"
             ],
             [
              0.3333333333333333,
              "#9c179e"
             ],
             [
              0.4444444444444444,
              "#bd3786"
             ],
             [
              0.5555555555555556,
              "#d8576b"
             ],
             [
              0.6666666666666666,
              "#ed7953"
             ],
             [
              0.7777777777777778,
              "#fb9f3a"
             ],
             [
              0.8888888888888888,
              "#fdca26"
             ],
             [
              1,
              "#f0f921"
             ]
            ],
            "type": "contour"
           }
          ],
          "contourcarpet": [
           {
            "colorbar": {
             "outlinewidth": 0,
             "ticks": ""
            },
            "type": "contourcarpet"
           }
          ],
          "heatmap": [
           {
            "colorbar": {
             "outlinewidth": 0,
             "ticks": ""
            },
            "colorscale": [
             [
              0,
              "#0d0887"
             ],
             [
              0.1111111111111111,
              "#46039f"
             ],
             [
              0.2222222222222222,
              "#7201a8"
             ],
             [
              0.3333333333333333,
              "#9c179e"
             ],
             [
              0.4444444444444444,
              "#bd3786"
             ],
             [
              0.5555555555555556,
              "#d8576b"
             ],
             [
              0.6666666666666666,
              "#ed7953"
             ],
             [
              0.7777777777777778,
              "#fb9f3a"
             ],
             [
              0.8888888888888888,
              "#fdca26"
             ],
             [
              1,
              "#f0f921"
             ]
            ],
            "type": "heatmap"
           }
          ],
          "histogram": [
           {
            "marker": {
             "pattern": {
              "fillmode": "overlay",
              "size": 10,
              "solidity": 0.2
             }
            },
            "type": "histogram"
           }
          ],
          "histogram2d": [
           {
            "colorbar": {
             "outlinewidth": 0,
             "ticks": ""
            },
            "colorscale": [
             [
              0,
              "#0d0887"
             ],
             [
              0.1111111111111111,
              "#46039f"
             ],
             [
              0.2222222222222222,
              "#7201a8"
             ],
             [
              0.3333333333333333,
              "#9c179e"
             ],
             [
              0.4444444444444444,
              "#bd3786"
             ],
             [
              0.5555555555555556,
              "#d8576b"
             ],
             [
              0.6666666666666666,
              "#ed7953"
             ],
             [
              0.7777777777777778,
              "#fb9f3a"
             ],
             [
              0.8888888888888888,
              "#fdca26"
             ],
             [
              1,
              "#f0f921"
             ]
            ],
            "type": "histogram2d"
           }
          ],
          "histogram2dcontour": [
           {
            "colorbar": {
             "outlinewidth": 0,
             "ticks": ""
            },
            "colorscale": [
             [
              0,
              "#0d0887"
             ],
             [
              0.1111111111111111,
              "#46039f"
             ],
             [
              0.2222222222222222,
              "#7201a8"
             ],
             [
              0.3333333333333333,
              "#9c179e"
             ],
             [
              0.4444444444444444,
              "#bd3786"
             ],
             [
              0.5555555555555556,
              "#d8576b"
             ],
             [
              0.6666666666666666,
              "#ed7953"
             ],
             [
              0.7777777777777778,
              "#fb9f3a"
             ],
             [
              0.8888888888888888,
              "#fdca26"
             ],
             [
              1,
              "#f0f921"
             ]
            ],
            "type": "histogram2dcontour"
           }
          ],
          "mesh3d": [
           {
            "colorbar": {
             "outlinewidth": 0,
             "ticks": ""
            },
            "type": "mesh3d"
           }
          ],
          "parcoords": [
           {
            "line": {
             "colorbar": {
              "outlinewidth": 0,
              "ticks": ""
             }
            },
            "type": "parcoords"
           }
          ],
          "pie": [
           {
            "automargin": true,
            "type": "pie"
           }
          ],
          "scatter": [
           {
            "fillpattern": {
             "fillmode": "overlay",
             "size": 10,
             "solidity": 0.2
            },
            "type": "scatter"
           }
          ],
          "scatter3d": [
           {
            "line": {
             "colorbar": {
              "outlinewidth": 0,
              "ticks": ""
             }
            },
            "marker": {
             "colorbar": {
              "outlinewidth": 0,
              "ticks": ""
             }
            },
            "type": "scatter3d"
           }
          ],
          "scattercarpet": [
           {
            "marker": {
             "colorbar": {
              "outlinewidth": 0,
              "ticks": ""
             }
            },
            "type": "scattercarpet"
           }
          ],
          "scattergeo": [
           {
            "marker": {
             "colorbar": {
              "outlinewidth": 0,
              "ticks": ""
             }
            },
            "type": "scattergeo"
           }
          ],
          "scattergl": [
           {
            "marker": {
             "colorbar": {
              "outlinewidth": 0,
              "ticks": ""
             }
            },
            "type": "scattergl"
           }
          ],
          "scattermap": [
           {
            "marker": {
             "colorbar": {
              "outlinewidth": 0,
              "ticks": ""
             }
            },
            "type": "scattermap"
           }
          ],
          "scattermapbox": [
           {
            "marker": {
             "colorbar": {
              "outlinewidth": 0,
              "ticks": ""
             }
            },
            "type": "scattermapbox"
           }
          ],
          "scatterpolar": [
           {
            "marker": {
             "colorbar": {
              "outlinewidth": 0,
              "ticks": ""
             }
            },
            "type": "scatterpolar"
           }
          ],
          "scatterpolargl": [
           {
            "marker": {
             "colorbar": {
              "outlinewidth": 0,
              "ticks": ""
             }
            },
            "type": "scatterpolargl"
           }
          ],
          "scatterternary": [
           {
            "marker": {
             "colorbar": {
              "outlinewidth": 0,
              "ticks": ""
             }
            },
            "type": "scatterternary"
           }
          ],
          "surface": [
           {
            "colorbar": {
             "outlinewidth": 0,
             "ticks": ""
            },
            "colorscale": [
             [
              0,
              "#0d0887"
             ],
             [
              0.1111111111111111,
              "#46039f"
             ],
             [
              0.2222222222222222,
              "#7201a8"
             ],
             [
              0.3333333333333333,
              "#9c179e"
             ],
             [
              0.4444444444444444,
              "#bd3786"
             ],
             [
              0.5555555555555556,
              "#d8576b"
             ],
             [
              0.6666666666666666,
              "#ed7953"
             ],
             [
              0.7777777777777778,
              "#fb9f3a"
             ],
             [
              0.8888888888888888,
              "#fdca26"
             ],
             [
              1,
              "#f0f921"
             ]
            ],
            "type": "surface"
           }
          ],
          "table": [
           {
            "cells": {
             "fill": {
              "color": "#EBF0F8"
             },
             "line": {
              "color": "white"
             }
            },
            "header": {
             "fill": {
              "color": "#C8D4E3"
             },
             "line": {
              "color": "white"
             }
            },
            "type": "table"
           }
          ]
         },
         "layout": {
          "annotationdefaults": {
           "arrowcolor": "#2a3f5f",
           "arrowhead": 0,
           "arrowwidth": 1
          },
          "autotypenumbers": "strict",
          "coloraxis": {
           "colorbar": {
            "outlinewidth": 0,
            "ticks": ""
           }
          },
          "colorscale": {
           "diverging": [
            [
             0,
             "#8e0152"
            ],
            [
             0.1,
             "#c51b7d"
            ],
            [
             0.2,
             "#de77ae"
            ],
            [
             0.3,
             "#f1b6da"
            ],
            [
             0.4,
             "#fde0ef"
            ],
            [
             0.5,
             "#f7f7f7"
            ],
            [
             0.6,
             "#e6f5d0"
            ],
            [
             0.7,
             "#b8e186"
            ],
            [
             0.8,
             "#7fbc41"
            ],
            [
             0.9,
             "#4d9221"
            ],
            [
             1,
             "#276419"
            ]
           ],
           "sequential": [
            [
             0,
             "#0d0887"
            ],
            [
             0.1111111111111111,
             "#46039f"
            ],
            [
             0.2222222222222222,
             "#7201a8"
            ],
            [
             0.3333333333333333,
             "#9c179e"
            ],
            [
             0.4444444444444444,
             "#bd3786"
            ],
            [
             0.5555555555555556,
             "#d8576b"
            ],
            [
             0.6666666666666666,
             "#ed7953"
            ],
            [
             0.7777777777777778,
             "#fb9f3a"
            ],
            [
             0.8888888888888888,
             "#fdca26"
            ],
            [
             1,
             "#f0f921"
            ]
           ],
           "sequentialminus": [
            [
             0,
             "#0d0887"
            ],
            [
             0.1111111111111111,
             "#46039f"
            ],
            [
             0.2222222222222222,
             "#7201a8"
            ],
            [
             0.3333333333333333,
             "#9c179e"
            ],
            [
             0.4444444444444444,
             "#bd3786"
            ],
            [
             0.5555555555555556,
             "#d8576b"
            ],
            [
             0.6666666666666666,
             "#ed7953"
            ],
            [
             0.7777777777777778,
             "#fb9f3a"
            ],
            [
             0.8888888888888888,
             "#fdca26"
            ],
            [
             1,
             "#f0f921"
            ]
           ]
          },
          "colorway": [
           "#636efa",
           "#EF553B",
           "#00cc96",
           "#ab63fa",
           "#FFA15A",
           "#19d3f3",
           "#FF6692",
           "#B6E880",
           "#FF97FF",
           "#FECB52"
          ],
          "font": {
           "color": "#2a3f5f"
          },
          "geo": {
           "bgcolor": "white",
           "lakecolor": "white",
           "landcolor": "#E5ECF6",
           "showlakes": true,
           "showland": true,
           "subunitcolor": "white"
          },
          "hoverlabel": {
           "align": "left"
          },
          "hovermode": "closest",
          "mapbox": {
           "style": "light"
          },
          "paper_bgcolor": "white",
          "plot_bgcolor": "#E5ECF6",
          "polar": {
           "angularaxis": {
            "gridcolor": "white",
            "linecolor": "white",
            "ticks": ""
           },
           "bgcolor": "#E5ECF6",
           "radialaxis": {
            "gridcolor": "white",
            "linecolor": "white",
            "ticks": ""
           }
          },
          "scene": {
           "xaxis": {
            "backgroundcolor": "#E5ECF6",
            "gridcolor": "white",
            "gridwidth": 2,
            "linecolor": "white",
            "showbackground": true,
            "ticks": "",
            "zerolinecolor": "white"
           },
           "yaxis": {
            "backgroundcolor": "#E5ECF6",
            "gridcolor": "white",
            "gridwidth": 2,
            "linecolor": "white",
            "showbackground": true,
            "ticks": "",
            "zerolinecolor": "white"
           },
           "zaxis": {
            "backgroundcolor": "#E5ECF6",
            "gridcolor": "white",
            "gridwidth": 2,
            "linecolor": "white",
            "showbackground": true,
            "ticks": "",
            "zerolinecolor": "white"
           }
          },
          "shapedefaults": {
           "line": {
            "color": "#2a3f5f"
           }
          },
          "ternary": {
           "aaxis": {
            "gridcolor": "white",
            "linecolor": "white",
            "ticks": ""
           },
           "baxis": {
            "gridcolor": "white",
            "linecolor": "white",
            "ticks": ""
           },
           "bgcolor": "#E5ECF6",
           "caxis": {
            "gridcolor": "white",
            "linecolor": "white",
            "ticks": ""
           }
          },
          "title": {
           "x": 0.05
          },
          "xaxis": {
           "automargin": true,
           "gridcolor": "white",
           "linecolor": "white",
           "ticks": "",
           "title": {
            "standoff": 15
           },
           "zerolinecolor": "white",
           "zerolinewidth": 2
          },
          "yaxis": {
           "automargin": true,
           "gridcolor": "white",
           "linecolor": "white",
           "ticks": "",
           "title": {
            "standoff": 15
           },
           "zerolinecolor": "white",
           "zerolinewidth": 2
          }
         }
        }
       }
      }
     },
     "metadata": {},
     "output_type": "display_data"
    }
   ],
   "source": [
    "fig = make_subplots(rows=2, cols=3, subplot_titles=cohorts)\n",
    "\n",
    "for i, cohort in enumerate(cohorts):\n",
    "    fig.add_trace(\n",
    "        go.Histogram(x=dict_df[cohort].age_years, name=cohort, opacity=0.6),\n",
    "        row=1, col=i+1\n",
    "    )\n",
    "\n",
    "\n",
    "fig.update_layout(\n",
    "    title=\"Etude des âges\",\n",
    "    showlegend=False,\n",
    "    height=400,\n",
    "    width=900\n",
    ")\n",
    "\n",
    "fig.show()\n",
    "\n",
    "fig = go.Figure()\n",
    "for cohort in cohorts:\n",
    "    fig.add_trace(\n",
    "        go.Box(x=dict_df[cohort].age_years, name=cohort, opacity=0.6),\n",
    "\n",
    "    )\n",
    "\n",
    "\n",
    "fig.update_layout(barmode='group')  # ✅ côte à côte\n",
    "fig.show()"
   ]
  },
  {
   "cell_type": "markdown",
   "id": "373222c0",
   "metadata": {},
   "source": [
    "`study_cohort` compte bien moins de patients jeunes (age < 40 ans) que les deux autres datasets. Cela a pour effet de décaler les moyenne et médianes d'age de `study_cohort` vers la droite.\\\n",
    "Mis à part cela, les répartitions d'age sont similaires, avec une mode aux alentours de 82 ans pour les deux populations. \\\n",
    "Cependant, le dataset de validation provenant des données coréennes ne contient que très peu d'ages aussi élevés. On note le 3e quantile à 72 ans. \n",
    "Ces nuances entre dataset d'entraînement et de test pourra poser problème à l'établissement du modèle final. \n"
   ]
  },
  {
   "cell_type": "markdown",
   "id": "54967a15",
   "metadata": {},
   "source": [
    "### 3. Répartition des sexes"
   ]
  },
  {
   "cell_type": "code",
   "execution_count": 31,
   "id": "056ff9fe",
   "metadata": {},
   "outputs": [
    {
     "data": {
      "application/vnd.plotly.v1+json": {
       "config": {
        "plotlyServerURL": "https://plot.ly"
       },
       "data": [
        {
         "name": "primary_cohort",
         "opacity": 0.6,
         "type": "histogram",
         "x": {
          "bdata": "AQEBAAAAAAEAAQEAAAAAAQAAAAEBAQEAAAABAQEAAAEBAAAAAQABAQEAAAAAAAAAAQEAAAAAAAAAAQEAAAABAQEAAQEBAQEAAAABAQEAAQAAAAABAAAAAAEBAQEBAAEAAAAAAAAAAAEAAAAAAAAAAAEBAQEBAAAAAAAAAAAAAAAAAQEBAAEAAAAAAAAAAAEBAQEBAQABAAABAQEBAAAAAQAAAAABAAEAAQABAQEBAQEBAAABAQEBAQAAAQAAAQEBAAAAAAABAAEAAAEBAAAAAAAAAAAAAAABAQAAAAAAAAEBAQEBAQEAAAEAAQEBAAAAAAEAAAAAAAAAAQEAAAAAAQEBAAAAAAEBAAEAAAAAAQEAAQEAAAAAAAEBAQEBAQEAAAABAAAAAQABAQEBAQAAAAEAAAAAAAEBAAEBAQABAQEAAQEAAAAAAAEBAAAAAQAAAAAAAAABAQEBAAAAAQEAAQEAAAABAAEBAQAAAAEAAQAAAQEBAQEBAAAAAAEBAAABAQEBAAAAAAAAAAABAAEBAQABAQAAAAAAAAAAAAABAAAAAAAAAAAAAAEBAQEBAAEBAQABAQAAAAAAAAAAAAEAAQAAAAAAAQEBAQEAAQABAQEBAQEBAQABAAAAAAEAAAEBAAAAAAEBAAEAAAEBAAAAAQAAAQABAAEBAAEBAQEAAAEBAAEBAQAAAAAAAAAAAQEAAAEAAAAAAAAAAAABAAABAQEBAQEBAAAAAAABAAABAQAAAAEBAAAAAQEBAAEAAAAAAAAAAQABAQAAAQAAAAAAAAABAQAAAAAAAQAAAAEBAQEBAQEBAAEAAAEAAAAAAAEAAQAAAAAAAAABAQABAAAAAAABAQEBAQAAAAAAAAAAAAAAAAAAAAEBAQAAAAEBAQEBAQABAQEBAAAAAAABAQAAAAAAAQEBAAAAAQEBAQEAAAAAAAEAAAABAQEBAQEBAQEAAAAAAQEBAAABAQAAAAAAAAABAQEAAAAAAAABAAEAAQEAAAEAAQEAAAAAAAEAAQAAAAAAAAEAAQEBAAAAAAAAAQEBAAAAAQEAAAEAAAAAAAAAAAAAAAABAAEBAAEBAQAAAAAAAQEAAQEBAQABAAABAAAAAAAAAAAAAAAAAAABAAAAAAAAAQEBAAEAAAAAAAEAAQABAAEBAQEAAAEBAAEBAAEBAAAAAAABAAAAAQEAAAAAAAAAAQEAAAEAAAAAAQEBAAAAAQEBAQEBAQEAAAEAAAABAQEBAQEBAQEBAAAAAAAAAAAAAQEAAAAAAAABAQABAQAAAQEBAQEAAQEAAAABAAABAQEAAAAAAAAAAAAAAQABAAAAAAABAQAAAAABAQABAAAAAQEBAAAAAAAAAQAAAAAAAAAAAQEAAAAAAAAAAAAAAQAAAQEBAAAAAAAAAAAAAAAAAQEAAAEAAQAAAQAAAQEBAQEBAQEBAAAAAAABAQEAAQAAAAABAQEBAQAAAAEBAQAAAQABAAEBAQABAAABAQEAAAAAAAEBAQEBAAAAAAAAAAAAAQAAAAAAAQAAAQAAAQEBAAEBAQEAAAABAQAAAAAAAAABAQAAAAABAAABAAAAAAEAAAABAAEAAQAAAQABAAAAAQABAQABAQAAAQAAAAAAAAAAAAEAAAAAAAAAAAAAAAEBAAAAAQEAAAAAAAAAAAABAAAAAAAAAAABAQEBAAEBAAEBAQEBAQEBAAEAAQAAAQEBAQAAAAEBAAAAAAABAQEAAAABAQEBAAEAAAAAAQEAAQEAAAEBAAAAAAEAAAAAAQAAAAABAQEAAQAAAQABAQAAAQEBAQEBAAEBAQEBAQAAAAABAAEAAQEAAQEAAQABAAEBAQEAAQABAQEBAQEAAQEBAQEBAQEAAQAAAAABAAABAAAAAAEBAQEAAAAAAAEBAAEBAQEAAAEAAAAAAQEAAQEBAAAAAAAAAAAAAAAAAQABAAABAQEBAAABAQAAAQEAAQEBAQEAAAEBAQEBAQABAAAAAQAAAAABAQEAAAAAAQEBAAEBAAAAAAEBAQEBAAAAAAAAAAAAAAAAAQEBAQAAAAAAAAEBAQEAAAAAAAAAAQEBAAAAAAAAAAAAAAEBAQEBAAABAAAAAQEBAQEBAAEBAAAAAQEBAAABAAAAAAEAAAEBAAABAQEBAQEAAQEBAQAAAAAAAQAAAAABAQAAAAABAQAAAAEBAAAAAAABAAEBAQEAAQEBAQAAAAEAAAAAAQEAAAABAAAAAAABAQEBAAEBAQAAAAABAAABAQEAAQEBAAABAQEAAAEBAQEBAQEAAAAAAAAAAAEAAAABAQEBAQEAAAAAAAAAAAEAAQAAAAAAAAAAAAAAAQEAAAAAAAEAAAAAAAEAAAABAAEBAAEBAQEBAAABAQAAAAAAAAABAQEBAAEBAQABAAAAAAAAAAAAAAAAAAABAAEBAQEBAAAAAQABAQEBAQEBAAAAAAEBAQAAAAAAAQABAAEAAAEBAAAAAQEBAAEBAQAAAAABAQEBAAABAAAAAQABAAABAAEAAAAAAQEBAQAAAAEBAAABAQEBAQEAAAAAAAABAQAAAQAAAAEAAAEBAAAAAAAAAAAAAAAAAQEBAQEAAAAAAQEBAQEBAAEBAQAAAQEAAAAAAAAAAAAAAQEBAQEBAQEBAAAAAQEBAQAAAQEBAAAAAAABAAEBAAABAQEAAAABAAEAAAAAAAAAAAAAAQEAAQEAAAAAAAEBAQAAAAEBAAABAQEAAAAAAAEBAAAAAAABAQABAQEBAQEBAAEBAQEAAAAAAAABAAAAAAABAQAAAQABAQABAQEAAAABAAAAAAAAAQEBAQEBAQEBAQEBAAEAAAAAAAEBAQEBAQEBAQEBAAAAAAEBAQEBAQEBAAEBAQEBAQAAAQAAAAEBAQEBAAABAQEAAAAAAAABAQAAAQAAAQAAAAAAAAAAAAEBAAAAAAEAAAEAAQABAAEAAAABAAEBAAAAAAEBAQEBAQEBAAABAQABAQEAAAAAAQEBAQAAAQEAAAEBAAEAAAEBAAEBAQEAAAABAQEAAAAAAQAAAQEBAQEBAQAAAAAAAAEAAAAAAQAAAAEBAQAAAQEBAQEBAQEAAAEBAQEBAAABAAEBAAABAQAAAQAAAAABAQAAAAAAAQEAAAABAAABAQAAAAAAAAAAAAAAAAAAAAAAAAABAQAAAQABAQEBAQEBAAEBAQEBAQAAAQEBAQEBAAAAAQABAAAAAAAAAAEBAQEBAQAAAQEBAAAAAQAAAAEAAAAAAAAAAAEBAQEBAAAAAQEBAAEAAAEBAQABAAEAAAABAAAAAQEBAQEBAAAAAAABAAAAAAAAAQAAAAAAAAEAAQEBAAEBAAAAAAABAQABAAABAQEBAAABAQEAAAAAAAABAQAAAQEBAAEAAAAAAQEAAQAAAAAAAQAAAQEBAAEAAAEAAAABAAEBAAAAAAEBAQEAAQEBAQEBAQEAAAABAQEAAAABAAAAAQABAAAAAAABAAEAAQEBAQAAAAAAAAEAAQEAAAAAAAAAAAEBAQABAQEBAQEBAQEAAAAAAAAAAAABAQABAQEBAQEAAAAAAQEBAQAAAAABAAABAQEAAAAAAQABAAABAQAAAAAAAQEBAAAAAAABAAABAQABAQABAAAAAAEAAAEBAQAAAQABAQEBAQAAAAEAAQEBAQAAAAEAAAAAAAABAQAAAAABAQAAAAAAAQEAAAAAAAEBAAAAAAAAAQEBAQAAAAABAQEBAQEBAQEBAQEAAQAAAAEBAQEBAAABAQEBAQEBAAABAQAAAAEBAQEBAQEBAAEAAQEBAAAAAAEBAQEBAAAAAQEAAAAAAAAAAAABAQABAQEBAQABAAEAAQEBAAEAAQEAAAAAAAEBAQEAAAEBAQABAQAAAQABAQEAAAAAAAABAQEBAQABAAEBAQABAQEAAAEBAQAAAAEAAQEBAQAAAQEBAQEAAQABAAAAAAAAAQEBAAEBAQAAAAEBAQEBAQABAQABAAABAQEBAAEAAAABAQAAAQABAQEAAAEAAAEAAAEBAAABAAEBAAEBAQABAAAAAAABAQEBAQEBAAAAAAABAQEAAQEBAQEBAQEBAQABAAAAAAEBAQEBAQAAAQEBAQEBAAEAAQEAAAEBAQEBAQEBAQEBAQEBAQAAAQABAQEBAQABAQEAAAABAQEBAAAAAAEBAAABAQEBAQAAAAAAAAABAAEBAAEBAQAAAAAAAAABAAEAAAAAAAAAAAAAAAABAQABAQEBAQEBAQABAAAAAAABAQAAAAEBAQABAQAAAAEAAAAAAQEBAAABAQAAAQEBAQAAAAAAAAEAAAAAAQEAAAAAAAAAAQEAAAEBAQEAAAABAAEAAAEAAAAAAQEAAAAAAAABAAEAAQAAAAEAAAABAQEAAAEAAAAAAAAAAAEBAQAAAQEBAQEBAAEBAQEAAQEBAAAAAQAAAQEBAAEAAQABAAAAAAAAAQEBAQEBAQABAQEBAQAAAQABAAEBAAAAAAAAAAEBAAEBAAEAAAEBAAAAAQEBAQEAAAAAAQEAAAAAAAABAQEBAAEBAAEBAQEAAAAAAAEAAAABAQABAAEBAQEAAAEBAQAAAAAAAAABAQEBAQAAAAAAAAABAQEBAQEBAQEBAQEBAAAAAAABAAABAAEAAQEBAQEBAQEBAQABAQAAAQAAAAEAAAEBAQEBAAEBAQABAQAAAQABAAABAQEAAAAAAQEBAAAAAQABAQEBAQEBAQABAQAAAAAAAQEAAQABAAABAAABAQAAAQAAAAABAAEAAAABAAEBAQAAAAAAAAAAAAEAAQEBAAAAAQEBAQEAAQEAAAABAAABAQEAAAAAAAABAAABAAABAQABAQEBAQEBAQEBAAAAAQABAQABAAAAAAAAAQEBAAABAQEAAAEBAQEBAAAAAQEBAAABAAAAAQEBAAAAAQEBAAAAAQEAAAEBAAEAAAAAAQEAAAAAAQEBAQEAAAEBAQEBAAEBAQEBAQEBAAAAAQABAQEBAAAAAAEBAAAAAAABAAEBAQEBAAAAAAEBAAEAAAAAAAAAAQABAQAAAAAAAQEAAAEBAQAAAAEBAQAAAQEBAQEBAAABAAAAAAAAAQAAAQEAAQEAAAEBAQEBAQABAAAAAQAAAAAAAAAAAQABAAAAAAABAAEAAQEBAAABAQEBAQAAAQAAAAABAQAAAQEAAAAAAAAAAQEAAQEAAQAAAQABAQEBAAABAAABAQEBAQAAAAAAAAAAAAAAAQABAAABAAEBAAEBAAABAQEAAAEBAAAAAAAAAQEAAAAAAQEBAQAAAAABAQEBAQABAAEBAQEBAAABAQABAQEBAQABAQEAAAAAAQAAAAEBAQAAAAAAAQAAAQEAAAAAAAAAAAAAAAEAAAABAQAAAAAAAAAAAQEAAAAAAAABAAAAAAABAAAAAAAAAQAAAAEBAQABAAEAAAEAAQEAAQEBAAEBAQEBAQEBAQEAAQABAAABAAAAAQAAAAAAAAEAAAAAAAABAAEBAQEBAQEAAAAAAAABAAABAAAAAAAAAQABAAABAQEAAAABAQEBAAEAAAAAAAEBAQABAAAAAAAAAAABAAEAAAEAAAABAQEBAAEAAAABAAEBAQABAQEBAQAAAAAAAAABAAAAAAAAAAEAAAAAAAAAAQEAAQEBAAAAAAEBAAEAAAAAAAABAAAAAAEBAAEBAQABAQABAAAAAAAAAAAAAAABAQEAAQEBAQAAAAEAAAEBAQEBAAAAAAABAAEBAQEAAAAAAAEAAAAAAAEBAQEBAQEBAQEAAQEAAAAAAAABAAAAAAEBAAEAAQEBAQEAAQABAAEAAQAAAQEBAAABAAABAQAAAQEBAAEBAQAAAQAAAAEBAQEBAQAAAAABAAAAAAABAAAAAQAAAQEAAAAAAQEBAAAAAQEBAQEBAQEBAAAAAQEBAQEAAAAAAAABAAEAAQEAAQABAQABAQEAAAAAAAABAQEAAAEAAQABAAABAQAAAAAAAAEBAQEBAQEBAQEBAQAAAAAAAQEBAQEAAAAAAQEAAAABAAEBAQEAAQEBAAAAAAAAAQAAAQEBAQAAAQEAAAAAAAAAAAEBAQABAQEAAQEBAQABAQAAAQEBAQABAQEAAAEBAQEAAAAAAAAAAAAAAQEBAAABAAABAQAAAAAAAQABAQABAAAAAAEAAQEAAQEBAQEAAAAAAQEAAAAAAAAAAQEAAQEBAQEAAQEBAQABAQEAAQAAAAABAQEAAQEBAQAAAAAAAAAAAQEBAQABAQABAQEAAAEAAQEAAAEAAAAAAAAAAAEBAQEBAQEBAAAAAAAAAAABAQEAAAEBAAABAQEAAAAAAAEBAQAAAAEBAQAAAAAAAAABAQABAQEBAAABAQEBAAAAAAAAAAABAAEBAQEBAAEBAAAAAAAAAQAAAQEBAQABAAEAAQEBAQEBAAAAAAEBAAEAAAAAAAAAAAAAAAEAAQEAAQABAQEBAAAAAAABAQABAAABAAABAQEBAAABAQEBAQEAAAAAAQEAAAABAAAAAAEBAAAAAAAAAAEBAAAAAQEBAQEBAAAAAQEBAAABAQEBAAAAAQEBAQABAQABAAABAAABAQAAAAEBAAABAQEBAAAAAAEBAAABAAEBAQEBAQAAAAEBAAAAAAAAAAEBAQEBAQEBAQEBAAEAAQEBAQABAAABAAEAAAAAAAEBAQEBAQEBAAABAQABAAABAAAAAQEBAQAAAAAAAQEBAQABAQEAAQAAAQEBAAEBAQABAAAAAAEAAAEBAQAAAQEBAQEBAQABAAAAAQEAAQEAAAABAQAAAAAAAQAAAAAAAQABAAAAAAABAQAAAAEAAAAAAAABAAAAAAEBAAAAAQEAAAABAQAAAAABAAABAQEBAQEBAQAAAAAAAQEBAQEBAQEBAQABAAEBAQEAAAAAAQAAAAEBAQEBAAEAAAAAAAAAAQEAAAAAAAAAAQABAAEBAQEAAAEAAQAAAQAAAAEBAQAAAAABAQEAAAAAAAAAAQEBAQEBAQAAAAAAAAEBAAABAQABAQEBAQEAAQAAAQEAAAAAAAEAAQEAAAABAAAAAAAAAAAAAAABAQABAAAAAAAAAQAAAAEAAQEBAAEBAAAAAAAAAAEAAAAAAQAAAQEBAQABAQAAAQABAAAAAAEBAAEAAAABAAEBAAEAAAAAAAAAAAABAQEBAQEBAQEAAQAAAAAAAAABAQEBAQEAAQAAAAABAQABAAABAQAAAAAAAQAAAAAAAAABAQEBAQEAAAAAAAAAAQEBAAAAAAEBAQEBAAAAAQEBAAAAAQEBAAABAQEAAAAAAQEBAQEBAQEAAAAAAAAAAAEBAQAAAAAAAAEBAAAAAQEAAQEAAAAAAAEBAQEBAQEAAAAAAAAAAAABAAABAQEBAQEBAQEAAAEAAQEBAQEAAQEBAAAAAAAAAAABAQEAAAABAQEAAAAAAQEAAAEAAAAAAAABAQEBAQABAQAAAAAAAAEAAAABAQEBAQEBAQABAAEAAAAAAQEAAAEBAAABAQEBAQEBAAAAAQEBAQEAAAABAQEBAQEBAQEBAAEBAQEBAQAAAAEBAQEBAQEBAQAAAQEAAQEAAAEBAQEBAAEBAQEBAQABAQEBAAEBAQEBAQAAAAABAQABAQEBAQEAAAEAAQAAAQEBAAAAAAAAAAABAQEAAAEBAQEAAAAAAAABAAEBAQEBAQEBAQEAAAAAAAAAAAEBAQEAAAAAAAEBAQEBAQEBAAAAAQEBAQEAAAABAQEAAAAAAAABAQEBAQEAAAEAAAABAAABAAEBAQEBAQEAAAAAAAEAAQEAAAAAAAEBAQABAAABAQEBAQEAAAAAAAAAAAAAAQABAQAAAAAAAQAAAAAAAQAAAQEBAQEBAQAAAAEAAQEBAQEAAAAAAAAAAAEBAAAAAAAAAAAAAQEBAAAAAQEBAAAAAAEAAAAAAQEBAAAAAQAAAAAAAAAAAQAAAQEBAQEAAQAAAQEBAQEBAAABAQEBAQEBAAEBAQEAAQABAAAAAAAAAQEBAQEBAQAAAAAAAAAAAQEBAAAAAAAAAAAAAQAAAAEAAQAAAAEBAQEBAQEAAAABAQAAAAABAQABAAAAAAEAAAAAAAEAAQEBAQEAAAEAAAAAAAAAAAABAQAAAQEBAAABAQAAAQEBAAAAAAAAAAABAQEBAAABAAAAAQEBAQEBAAAAAAEBAQEAAAAAAAAAAAEAAAEBAQEBAQEAAQABAQEBAQEAAAAAAAEBAQEBAQAAAAEBAAEBAQEBAAEAAAABAQABAQEAAQABAQAAAAEBAQAAAAAAAAEAAQEAAQEBAQAAAAAAAQEBAAAAAAABAQAAAQEAAQAAAQEAAQEAAAAAAAEBAAABAQEBAQAAAAAAAAEBAQEBAQEAAQAAAAAAAAABAQAAAQEAAAEAAQEAAAEAAAABAQAAAAEAAQEBAAAAAAAAAAAAAQEAAQABAAABAQEAAQAAAQEBAQAAAQABAAEBAQEBAAAAAAAAAAAAAAAAAAABAAEBAQABAAAAAAAAAAAAAQEBAAEAAAAAAAAAAQABAQABAQEAAAEBAQEBAQAAAAAAAAABAAAAAAABAQEBAQAAAAAAAAEBAQEBAAEBAQEAAQEBAQEAAAABAQEBAQEAAAAAAAEAAQAAAAAAAQEAAQABAAEBAQEAAQEBAQEBAAABAAABAQABAQEBAQEAAQEBAQAAAQAAAAABAQAAAAAAAAABAAABAQAAAQEAAAAAAAAAAAAAAAAAAAAAAQEBAAAAAAAAAAAAAQEBAQEAAAEAAAEBAAEBAAEBAQEBAQABAAAAAQEBAQEBAQEBAQEAAAABAQEBAQABAQABAQABAQEAAAABAAAAAAABAQEBAQEBAAEBAQABAQAAAAABAQEBAQEBAQEAAAEBAQEBAQEBAQEBAQEAAQEAAAEBAQAAAAABAQEAAQEBAAAAAQEBAQEBAQEBAAAAAAEBAAEAAAEBAAAAAAAAAQEAAAEBAQABAQAAAAAAAAAAAQEBAQEBAAAAAAABAQEBAQEBAAAAAAEBAAAAAAAAAQEBAQEAAQEBAQAAAAAAAQAAAAEBAQAAAQAAAQEBAQEBAQABAAAAAQEBAQEAAQEBAAABAAABAQABAAEBAQEAAAAAAAEBAQABAQEBAAAAAQABAQEBAQEAAAEBAQEAAAAAAAABAQAAAAEBAQEBAQABAAAAAAABAAEAAQEBAQEBAAAAAAEBAQEBAAAAAAEBAAEBAQEBAQABAQABAQEAAAEBAQAAAQEAAQEBAQEBAAEBAQABAQAAAAABAAAAAAEBAAEAAAABAQEBAQEAAAAAAAAAAQAAAQABAAAAAAAAAQEBAQEAAAEAAAEBAQABAQAAAAAAAAAAAQABAAEBAQEAAAAAAAEBAAAAAAEBAQAAAAAAAQEBAQAAAQEBAQEBAAAAAQAAAAAAAAEBAQEAAAAAAAEBAAEBAAAAAAAAAQAAAAABAAEBAAEBAQEAAAAAAAAAAAEBAAABAQAAAAABAQAAAQAAAAAAAAAAAAABAQEAAQEAAAAAAQEBAQAAAAEBAQEAAAEBAQEBAQEAAAAAAQEAAAABAAABAQEBAAABAAAAAAABAAABAQABAQEBAQEBAAABAAAAAAAAAAEBAAAAAQEAAAAAAQAAAQAAAAEBAAAAAAAAAAAAAAAAAAAAAAAAAQEBAAAAAAABAAAAAQEAAQEBAAABAQEBAQAAAQEBAAABAQEAAAEAAAAAAAAAAAEBAQABAQEBAAEBAQABAQEAAAEAAQAAAAAAAQEAAQAAAQEBAQEBAAABAQEAAAAAAQABAQEBAQEAAQABAAAAAQEBAQEBAQAAAAAAAQAAAAAAAAEBAQABAAAAAQEBAQAAAAEAAAEAAAAAAAAAAAAAAAAAAAAAAAAAAAAAAQAAAAEBAAEBAAAAAAAAAQAAAAEBAQEAAAAAAAAAAAAAAAAAAAEAAAABAQEBAAEAAQEBAAAAAQAAAAEBAQEBAQEBAQAAAAEBAAAAAAAAAAEAAAAAAAABAAAAAAEBAAAAAQAAAAABAQEAAAEAAAEBAQEBAAAAAAAAAAEAAAAAAAEBAQEBAQEBAAAAAAAAAAEAAAAAAQAAAAAAAAAAAQEBAQEAAAAAAAEAAQEAAQEBAAEBAQAAAAAAAAAAAAABAQEBAQEAAAAAAAAAAAEAAQEAAAAAAAAAAAAAAAABAAAAAAEBAQEBAAAAAAAAAAABAQAAAAAAAQEBAQAAAAABAQEAAQABAQEBAAAAAQABAQEBAQEBAAAAAQEBAQEBAQEBAQEAAAEAAQEBAQEAAAEAAAABAQEBAQAAAAAAAAABAQEAAAAAAAEBAQAAAAAAAAAAAQEBAQAAAQAAAAAAAAAAAAEAAAAAAQEBAQEBAAEAAAAAAAAAAQEBAQEBAAEBAQAAAAAAAAAAAAEBAAEBAQEBAAAAAAEBAQEBAAAAAAAAAAEAAAABAQAAAAEBAQAAAAABAQEBAQEAAAAAAAAAAAAAAQAAAAAAAAAAAAABAQEBAQEBAAEAAQEBAAEBAQEBAQAAAAABAAABAQAAAAEBAQABAQAAAAAAAAAAAQEBAQEBAQEBAAAAAAEBAQAAAAAAAAAAAAAAAAEAAQEAAAEBAAABAQEBAAABAQEAAAAAAAAAAAEAAAEAAAAAAAEAAAEBAAAAAAEBAQABAAABAAABAAAAAQEBAAABAAABAAABAQEBAQAAAQEAAAABAAAAAAEBAQEAAQEBAQAAAAAAAAAAAAAAAQEAAQEAAQAAAQEBAQAAAAAAAAEAAAEAAAEAAAAAAQAAAAAAAAEAAQEBAAAAAAEBAQAAAAABAQEBAAAAAAAAAAABAQEBAAAAAAAAAQABAAAAAAAAAAEAAAAAAQEBAAABAQEBAQEBAAAAAAAAAQAAAAAAAAEBAQEBAQAAAAABAQAAAAAAAQEBAAAAAQEBAQABAAABAQEBAQEBAAEAAAAAAQEBAAABAQEBAAAAAQEAAQEBAQEAAAAAAAEBAAAAAQEBAAEAAAABAQEBAQAAAQEBAQEAAAAAAAEBAQEBAAAAAAAAAQEBAQEBAQEAAAAAAAAAAAEBAQEBAQABAQAAAAAAAAAAAQAAAQEAAQEAAQAAAAABAAABAAAAAAAAAAEBAQEBAQEAAAAAAAEAAQEAAAEAAQEBAQAAAQEBAQEBAQEAAQEBAQAAAQAAAAAAAQAAAQEBAQEAAAEAAQEAAAABAQEBAQAAAQEBAAEBAQAAAAAAAAABAQEBAQEBAAABAQEAAQEBAQABAAAAAAEAAAEAAAEAAQABAQAAAQEBAAEBAQEBAAAAAAABAQEBAQEBAQEAAAEAAQEBAAEAAAABAQAAAAAAAQEAAAAAAAAAAAABAQEBAQEBAQEAAAEBAQAAAQEAAQEBAQEBAQEAAAAAAAABAQABAAAAAQEAAAAAAAABAQABAQEAAQEBAQAAAAEAAQAAAAAAAQAAAAAAAAABAQEBAAAAAAEBAQAAAAAAAAAAAQEBAQAAAQEAAAABAQEAAAAAAAEBAQEBAQEBAQEBAQEBAQAAAAEBAAAAAAABAAAAAAAAAAABAAEAAAABAQAAAAAAAQAAAQEBAQEAAQEAAQABAQEBAQEBAQAAAQAAAQEBAQEBAQEAAQEBAQEAAQAAAAAAAQAAAAAAAQEBAQEAAAAAAAAAAAABAAEBAQAAAAEAAAEBAQEBAQABAAABAQEAAQEAAAAAAAABAQEAAAEAAAAAAAAAAQEBAAEAAAAAAAAAAAAAAAEAAAABAQABAAABAAEBAQEBAQEBAQEBAQAAAQEBAQEAAQEBAQABAAAAAAABAQEBAQAAAAAAAQEAAAAAAAAAAQEAAQEAAQEBAQEBAQEBAQEAAQEBAQABAAEAAAEAAQEBAAABAQEBAQEAAAEBAQEBAQABAQEAAAAAAAEBAQAAAQEAAAAAAQEBAQAAAQEAAQEBAAAAAQEBAAAAAAAAAAAAAAAAAQEBAAABAQAAAAAAAQEBAQEAAAEAAAAAAAABAAEBAAEAAAAAAAAAAAAAAAABAAAAAQEBAAAAAAAAAQAAAAAAAQABAQAAAAAAAQABAQAAAAAAAAAAAAAAAQAAAQEAAAAAAAAAAAAAAAAAAQEBAQEBAQEBAAEBAQEAAQEAAAAAAQEAAQAAAAAAAAEAAQEBAQEAAAAAAAAAAAAAAAABAQAAAQEAAAAAAAAAAAEAAQEAAAEBAQAAAAAAAAEAAQEBAAEBAQEBAAAAAAABAQABAQEBAAAAAAABAQEBAQEBAQEBAQEBAAAAAAEBAAEAAAAAAQAAAAAAAAEAAAAAAAAAAAEBAQEBAQAAAAAAAQEBAAEBAQEAAQAAAAABAQEAAQEBAQEBAQEBAQEBAAABAQEBAQEAAQEAAAABAQEBAQAAAAAAAAABAQAAAAAAAAEBAAEBAAAAAAEAAQEAAAAAAAEBAAABAQAAAQEBAQAAAQEBAQEBAQAAAQEBAQABAAAAAQEAAQAAAAAAAAEAAAABAAAAAAABAAABAAAAAQAAAAAAAQEBAQEAAAEBAAAAAQEBAAEBAQEBAQEAAAAAAQAAAQAAAAAAAQEBAQAAAAEAAQEBAAABAQAAAQEBAAAAAAEAAAAAAAAAAAEBAQAAAAAAAAABAAAAAAAAAAABAQEBAAEAAAABAAABAAAAAQEBAQABAQAAAAAAAAABAAEAAAAAAAABAQABAQEAAQEBAAAAAAAAAAEBAQABAAAAAAAAAAEBAAAAAAAAAAAAAQABAQEAAAEAAAABAAAAAAEAAAAAAAEBAAABAQEBAQAAAAEBAAAAAQEBAAAAAQAAAQAAAAAAAAAAAQEBAQEAAAEBAAEBAQEBAAAAAAAAAAEAAQEBAQAAAAAAAQEAAAAAAAABAAAAAAABAQEBAAEBAAEAAAAAAAEBAAABAQAAAQEAAQEAAQEAAAAAAAAAAAEBAAEAAAABAQEBAQEAAAEAAQAAAAAAAAAAAAEBAQEBAAAAAQEAAAEAAQAAAAAAAAEBAAAAAAABAAEAAAAAAAAAAQABAAAAAAEAAAABAQEBAQEBAAAAAAEBAAAAAAAAAAEBAAEAAAAAAAEAAQEBAQABAQEAAAAAAAABAQABAAEBAQEAAAABAAAAAAAAAAEAAAEBAQEBAAABAAABAQEAAAAAAAAAAAAAAAAAAAEBAAAAAAAAAAABAQEAAAAAAAEBAQEBAQAAAQAAAAAAAAEAAAEAAAEAAAAAAAABAQEAAAABAAABAQABAAEBAQEBAQAAAQABAQAAAQEBAQAAAAAAAQEBAQAAAAAAAQEBAQAAAAAAAAEBAQEAAQEAAQEAAAEAAQEBAQAAAAAAAQEBAQEAAQEAAAEAAQEBAAAAAAAAAQEBAAABAQEBAAAAAQEAAAABAQAAAAABAQEAAAAAAAEBAQEAAAEBAQEBAQEBAAABAQAAAAAAAQEBAQEBAQEBAQABAQAAAAAAAAEAAAAAAAAAAAABAQEBAAEAAQEBAAABAQEBAAEAAQABAQEAAAABAQEAAQEAAQEBAQAAAAABAQEBAAEAAQEBAQEAAAEBAAABAAEAAQAAAQAAAAEBAQEBAAEAAAAAAQEAAAAAAAAAAQEBAAAAAAAAAAEAAAAAAQEBAQAAAAEBAQEBAQAAAQAAAQEAAQAAAAEBAAAAAAEBAQEAAAABAQEAAAAAAAEAAAAAAAABAAAAAAABAQEBAAABAQEBAQEAAQEBAAEAAAAAAAAAAAEBAQEAAAAAAQAAAAABAQEBAQEAAAAAAQAAAAAAAAAAAAAAAAEBAQABAQABAQEBAAEBAAABAAAAAAAAAAEAAAAAAAAAAAAAAAAAAAAAAAABAQEBAQEBAAAAAQEBAQEBAAEBAAEAAAABAQAAAAEBAAABAQEBAQEBAQAAAAEAAAAAAAEAAAEBAQEAAQEBAAAAAAABAQAAAQEBAQAAAAAAAQEBAQEBAQEBAQEAAQAAAQABAAEBAQEBAQAAAQEBAAEBAQAAAAABAQEAAQEAAQAAAAEBAQEAAAEBAAEAAAAAAAAAAAAAAAABAQEAAAEAAQABAAAAAAAAAAABAQEBAAEBAQEAAQABAAEAAAAAAQEBAQEBAQABAQEBAAABAQEBAQAAAQEAAAAAAAEBAQABAQEAAQEBAQEBAQEBAQABAQABAAEBAQEBAAEAAAAAAQEBAAABAAEBAAABAQAAAQEAAAABAQEAAAEBAAAAAAEBAQABAQEBAQAAAQEBAQABAQEBAAAAAAEBAAEBAQEBAQAAAAEBAAABAQABAQEAAAEAAAABAAABAQEBAQEBAQAAAQEBAAAAAQABAAEBAQAAAAEBAQEBAAEBAAAAAAAAAQEAAQEBAQAAAAEBAQAAAAABAQABAQAAAQABAAEAAAABAAAAAAEAAAEAAQEAAQABAQEBAQEBAQABAQEBAAEBAQEBAQEBAAEBAQEBAQEBAQEBAAAAAAEBAAEAAQEBAAEBAQEAAAABAQAAAAEBAQABAQEAAAEAAQAAAQEBAQEAAQEAAQAAAAEBAAEBAQEBAQEAAAEBAQEBAQEBAQAAAQEBAQABAAABAQEAAQEAAAAAAQEBAAAAAAAAAQEAAAEAAQEBAQEAAAABAQEAAQABAQABAQEBAQEBAQEBAAEBAAEAAAEBAQAAAAAAAAAAAQABAQEAAAAAAAEBAQEBAQEAAAAAAAABAQABAQEBAQEBAAAAAAABAAEBAAAAAAABAQABAAAAAAEBAQAAAAEAAQAAAQEAAAABAQEBAAAAAQEBAQEBAQEBAQEBAAEBAAEAAAABAQABAAAAAAEAAAEBAQEBAQEAAQEBAQEAAQEBAAEBAQEBAAEAAQEAAAABAAABAAEBAQEBAQEAAQEAAAEBAQEBAQEBAQEBAQEAAAEBAQEBAQEBAQAAAAABAQABAAEBAAEAAQEBAQEBAQEAAQEBAAAAAQEBAQEAAQEBAAEBAQEBAQAAAAABAAAAAAABAQEBAQEBAQEBAQEAAAEBAQEBAQEBAQEBAQEBAQABAAAAAAEBAQEBAQEBAQABAAAAAAAAAQEBAAAAAAEBAQEBAAAAAAEBAAEBAQABAAEBAQEBAQEBAAEBAQEAAQEAAAAAAAEAAAEBAAAAAAEBAAABAQEBAQEAAQEAAQEBAQEAAAABAAAAAAAAAQEBAAAAAQEBAQEAAQEBAAAAAQEBAQEAAAABAAAAAAAAAAAAAAEBAQEBAQEAAAAAAAEAAQEAAQEBAAAAAAABAAEBAQAAAAAAAAABAAAAAAABAAEAAAABAQABAQEAAAAAAAEBAQEBAQAAAAAAAAABAAAAAAABAQEBAAAAAAAAAQEBAAEAAAEAAAAAAAABAQEBAAAAAAABAAAAAQEAAAAAAAEBAQAAAAAAAQEBAQEBAAEBAQEBAQABAQAAAAAAAAEBAQEBAQAAAQAAAQEBAQABAQEBAQEAAQEBAQABAQEBAAABAAABAQEAAAABAQAAAAAAAQAAAQEBAAEBAAEAAAAAAQABAQAAAAAAAAAAAQAAAAEAAAAAAQEBAQABAQEBAAAAAQEBAAAAAQAAAQEBAQABAQABAAAAAQAAAQAAAQAAAAAAAAAAAAABAAABAAEAAQAAAAABAAAAAAAAAAABAQEBAQEBAAAAAAAAAAEAAQEBAAEAAAAAAQEAAQEBAQEBAQEAAAEBAQEAAQEBAQAAAAEAAAEBAQABAQABAAABAAEAAAAAAAEBAAEBAQAAAAEBAQEBAQEBAQAAAAAAAQEBAQEBAQAAAAEBAAEBAQEBAQEAAAABAQEBAQEAAAAAAAEBAAEBAAEBAAABAAEBAAEAAQABAQEBAQEBAQEBAAEAAQEBAQEAAQAAAQAAAQEBAQABAQABAAAAAQAAAQEAAAEBAQEBAQEBAQABAAAAAAABAAEBAQEAAAAAAAABAQAAAAEBAQAAAAAAAAEAAQAAAAAAAAEBAQEBAAABAAAAAAEBAQEAAQEBAQEBAQEBAQEBAQEBAAABAAAAAQAAAAAAAAEBAQEBAAEBAAABAQABAAAAAAAAAAEBAQAAAAEAAAAAAAAAAAEBAAAAAAABAQAAAAEBAAABAAABAAAAAAEBAAABAAEBAQEAAQEAAQEBAAAAAAEBAQEAAQEAAAABAQABAQEAAAAAAQAAAAAAAQEAAQEBAQAAAAAAAAEAAQABAAAAAAEBAAEBAQEBAAABAAABAQAAAQEBAQEBAQEBAQEBAQABAAAAAAAAAAAAAQABAQEBAAAAAQAAAQAAAAAAAAAAAAAAAQAAAQEBAQAAAAABAAABAAEBAAABAQAAAQEBAQAAAQABAQAAAAABAQABAAAAAAABAAABAQEBAQEAAAABAQAAAAABAAAAAAEAAAEAAAABAQEBAQEAAQEBAAABAAABAAAAAQEAAAABAQEAAQAAAAAAAAEBAQEBAQABAQEBAQAAAAEBAAEBAQABAAEAAQAAAQEAAQEBAQEBAAEBAQABAQAAAAAAAAAAAQEBAQABAQEAAQEAAAABAQEAAAAAAAABAQEBAQEAAQABAAEBAQAAAQEBAQEAAAAAAAABAAAAAAABAAEAAAABAAAAAAEBAQEAAQEBAQAAAQAAAQABAQEAAQEBAQAAAAEAAAAAAAEBAQEAAQEBAQABAQABAQEAAQEBAAEAAAAAAAEBAQEAAQEBAAABAQEBAQEBAAEAAAEAAAABAAABAQEBAAEAAQAAAAAAAQEAAAEAAAAAAQEAAAABAQEBAQEBAQABAQEAAAABAAABAQEBAQAAAQEBAQEBAQEBAQEAAAEBAAEBAQAAAAAAAAEAAQEAAQEAAAABAQAAAQABAQEAAAEBAAABAQAAAAAAAAAAAAEBAAABAQEBAAEBAQABAQEAAAEAAQEAAAEAAQAAAAEBAQEAAQEAAAABAQAAAQABAQAAAAEBAAAAAQEAAAEAAAAAAAABAQAAAAABAQEBAAAAAAEBAQAAAAAAAAAAAAEAAQEBAAAAAAAAAAEBAQEAAAAAAAAAAQEAAAAAAQABAAAAAAEBAAAAAQEAAAABAAABAQEBAAEAAAAAAAAAAAEAAAAAAQEAAQABAQEBAAEAAAEBAQEAAQAAAAABAAAAAQEAAAAAAAEBAAAAAQABAQEBAQABAQEBAQABAAABAAEBAQEBAAEBAQAAAQEAAQEAAQEBAAEAAAAAAAAAAAABAAABAAAAAAEAAAEAAQAAAAAAAAAAAAEBAQAAAQEBAAAAAAABAQABAAAAAAABAAABAQEBAQEAAAEAAQEBAQABAQEBAQEAAAABAQEBAAAAAAEAAQAAAAEAAAEAAAEBAQAAAAAAAAAAAQEBAQAAAQABAQEBAAAAAAAAAAAAAAABAAABAQEAAQEAAQEBAQABAAAAAAAAAAEBAQEBAQABAAAAAAEBAQABAAABAAABAQAAAAEAAQAAAAABAQABAAEBAQEBAQAAAAAAAAEBAAABAQEAAQEBAQABAQEBAQEBAQAAAAAAAQEBAAAAAAAAAAEBAQAAAAEAAQAAAAAAAAABAQEAAAAAAAAAAAAAAAEAAQEBAQEBAAABAAABAQEAAAEBAQAAAQEBAQABAAEAAAAAAAEAAAAAAQEAAAAAAAAAAAABAAEAAAEAAAEBAQAAAAEAAQAAAQEAAQEAAAAAAQABAQEAAQABAAEBAQABAQEAAQEBAAAAAAAAAAEBAQEBAQEBAQABAAABAAAAAQEBAQEBAAEBAQEAAAAAAQEAAQEBAAEAAQEBAAEAAAAAAQAAAQEBAQABAAABAQABAQEBAQEAAQAAAQEBAAEBAQABAQEBAQEAAAABAAAAAAAAAQABAQAAAQEBAQABAQABAAEBAQEBAQAAAQEBAAABAAEBAAEAAQABAQEBAAEBAQAAAAAAAAABAAABAQAAAAABAQEAAQAAAAAAAAEAAQEBAAAAAAABAAAAAAEAAQEAAAABAAAAAQEBAAABAQEBAQEBAAEBAQEBAQEBAQAAAAABAAABAQAAAAEAAAABAAEAAAABAQEBAAEAAQAAAQEBAAAAAAABAAABAAAAAAAAAAAAAAABAQEAAQEBAAEBAAAAAAAAAAAAAAEAAAABAQABAQEAAAAAAAEBAQEBAQABAAAAAAAAAQABAAEBAQEAAAEBAQEAAQEBAQABAQAAAAABAQEBAQAAAAEBAAEBAQEAAAABAQEAAQEBAAAAAAAAAAAAAQEBAQAAAAAAAQAAAQEAAAAAAQAAAQAAAAAAAAAAAAEBAAEAAAABAQAAAQEBAQEBAAABAAEBAAEAAQABAQEBAAEAAQEBAQEBAQAAAAABAQAAAQABAAAAAAEBAAAAAAEBAQAAAAAAAQEAAQEBAQEAAQEBAQEAAQAAAQEAAAEAAAAAAAAAAQAAAAAAAQAAAAAAAAABAQEBAQAAAQEAAAABAQABAQAAAAAAAAABAQEAAQABAQEBAAAAAAAAAQEBAAAAAQEAAAAAAAABAQAAAQABAQAAAAEAAQEBAQEBAAAAAAAAAAEBAAAAAAEAAQAAAAEAAAABAQEBAAABAQEBAQAAAAABAQAAAQAAAAABAAEBAAEBAQAAAAEAAQAAAQAAAQEBAQEAAAABAQAAAQAAAAAAAAEBAQEAAAEBAAAAAQABAAAAAAEBAQEBAQEBAQEBAQAAAAEBAAEBAAEBAQEBAQABAQABAAAAAAAAAAAAAAEBAQAAAAEAAQABAQEBAQEBAQEBAAABAQABAQABAQAAAAABAAAAAAABAQEBAAEBAQEBAAEBAAABAQABAQEBAQAAAAEAAQEBAAAAAAABAQEBAQEBAQEBAQABAAABAQAAAQAAAQABAAAAAAEBAAEBAQEAAAAAAAAAAAAAAAABAQEBAQEBAQEBAAABAQEBAAAAAAEBAQABAQAAAQEAAAABAQEAAQEAAQAAAQEAAQEAAAEBAQEBAAAAAAEAAAEBAAAAAAEAAAAAAQABAAAAAAEBAQAAAQAAAAAAAQEAAQAAAAEBAQEBAQAAAQEAAQEAAQAAAQAAAQABAAAAAAEBAQEAAAEAAAEAAAEBAQEAAQEAAAABAAABAQEBAAABAQAAAAAAAQEBAQEAAAABAQAAAAABAAAAAQAAAQEAAAEAAQAAAQEAAAEBAQAAAAAAAAABAQEBAAEBAAAAAAAAAAEBAQEAAAABAQAAAAAAAAAAAAAAAQEAAAAAAQEBAAABAAABAQEBAAEBAAEAAAAAAAABAQEAAQAAAQABAAAAAAAAAQAAAAAAAAEAAAEBAAEBAAAAAAABAAEAAAABAQEAAAEAAQAAAQEAAQEBAQAAAAABAQEAAQEAAAAAAAAAAQEBAQAAAAEBAQAAAAAAAAABAQABAAABAQEBAQABAAABAQEBAQEAAQAAAQEAAQEBAAAAAAABAAAAAQAAAAEAAAEBAQABAAAAAAAAAAAAAAEAAQEBAQEBAQEBAQEBAQEBAQEAAQABAQEBAAAAAAAAAQEBAQABAQEBAQEBAAEAAAABAQEBAQABAQEBAAEAAAAAAAABAQAAAAEBAQAAAAAAAAEAAAAAAQEAAAABAQAAAAEBAQAAAAAAAAABAAABAQAAAAAAAAAAAQEBAQAAAAABAQAAAAABAAAAAAEBAAABAQEAAAABAAABAAAAAAEAAQEBAAABAQEBAQEAAQEAAQEBAAABAQAAAQABAQEBAAAAAQEBAAEBAQEBAQEBAAEAAAEBAQEBAAAAAAAAAAAAAAEBAAAAAAAAAAAAAAEAAQEBAQEBAQABAAEBAQEAAQEAAAAAAAABAQEAAAAAAQAAAQEAAQEBAQEBAQEBAQABAQEAAAABAAAAAQAAAQEBAQABAQEBAQEBAAAAAAAAAAABAAABAAEBAAAAAQAAAAABAQEBAQEAAAEBAAABAAEBAQABAQAAAAEBAAAAAQAAAAAAAQEBAQEBAQABAQEAAAEAAAAAAAEBAAABAAAAAAAAAAAAAQEBAAEBAAABAQEAAAAAAQABAAEAAAABAAABAAAAAAAAAAABAQABAAABAAAAAQAAAAEBAQABAAEAAAAAAAEBAAABAAEBAAEAAQEAAAEAAAABAQEBAQAAAQEBAQEAAQEBAQEBAQEBAQABAQEBAQABAAAAAAEAAAABAAEBAQEAAQAAAAAAAAAAAQEAAQEBAQABAQABAQEBAQAAAQEBAAABAQEBAQAAAAABAAEBAQABAQABAQAAAQAAAQEBAAAAAAEBAQAAAAAAAAABAAEBAAEBAQAAAQAAAQEBAQAAAQEBAQAAAAAAAQAAAAEAAAAAAAEAAAAAAAAAAQAAAAAAAAAAAAAAAAABAQEBAAEBAQEAAAABAQAAAQEAAAEBAAEAAAAAAAEBAQEBAQEAAQEBAQAAAQEBAQABAQEBAQABAQAAAAEAAAAAAAABAQEBAQEBAAAAAQEBAAAAAAEAAAABAQABAQAAAAEAAAEAAAAAAQEAAAEBAQEBAQEAAAAAAAAAAAEAAAAAAAABAAAAAQEAAAABAQEAAAAAAAEBAQAAAQEBAAABAAAAAAAAAAEBAQEAAQEAAQAAAAEAAAABAQAAAAEAAAEBAQAAAAEBAQEBAQEBAQEBAQEBAQEBAQAAAAAAAAAAAAABAQAAAAAAAAAAAAAAAAABAQABAAAAAAAAAAABAQAAAQABAAAAAQEBAQAAAQEBAQEBAQEAAAABAAABAQEBAAEAAAABAQEAAQAAAQEAAQEBAAAAAQAAAAAAAAAAAQABAAAAAAAAAAAAAQEAAAAAAAAAAAAAAAAAAAAAAAAAAAAAAAABAQEAAAAAAAAAAAABAQAAAQAAAAAAAAABAAEBAQABAQAAAAEAAAEAAAEBAQAAAQEAAQAAAQAAAQEAAAAAAAABAQEBAQEAAAEAAAAAAAABAAAAAAABAQEBAAAAAQABAAEAAAEBAAAAAAAAAQABAAAAAQEAAQABAQABAQEBAQEBAAEAAQEAAAAAAAAAAAEAAAABAQABAQABAQAAAQABAQAAAAAAAAABAAEAAAEAAQEBAQAAAAABAAEBAAAAAAABAQEAAAAAAAABAQABAQEBAQEBAQAAAAEBAQEBAQEBAQEBAQABAQAAAAABAQEBAAAAAAAAAAAAAAEAAAABAAEAAQEBAQEBAQEBAAAAAAABAAABAQAAAAEAAQEAAAEAAQAAAAEBAAEBAQEBAQEBAQEAAAAAAAAAAQAAAAEAAQAAAAAAAAAAAAAAAQEAAAAAAQEBAQEBAAABAQABAAABAQEBAQEAAQEBAQEAAQEBAQEBAQEAAQAAAAEAAQAAAQEBAQABAQEBAQEBAAEAAAAAAQEAAAAAAAAAAAEAAAAAAQEBAAAAAQEAAAAAAAEAAQEAAQABAQEBAAAAAAAAAAAAAAABAQAAAQEBAQEBAAAAAAEBAQAAAQEAAQEBAQEBAAABAAAAAQABAQEBAAAAAAABAQABAAAAAQEAAAAAAAABAQAAAQEAAAABAAAAAAAAAAABAAEAAAAAAAEBAAAAAAAAAAAAAAEBAQABAQAAAAABAAEBAAEAAQEAAAEAAQEBAAABAQEAAAEBAQEBAQAAAQEAAQABAQAAAAAAAAABAQEBAAABAQAAAAAAAAABAQEAAQAAAAAAAAEAAQABAQAAAAAAAQEAAAABAAABAQEAAAABAAAAAQEAAQAAAAABAQAAAAABAQABAAEBAQAAAAEAAAEAAAAAAQEBAQEBAAEBAQAAAQABAQEBAAABAQAAAAEBAQEBAAEAAAAAAQEBAQAAAQEAAQEAAQEBAAABAAAAAQAAAQAAAAABAAAAAAEAAAAAAAAAAAABAAEAAAAAAAAAAAAAAAEBAQEBAQAAAAEAAQEAAAEAAAABAAAAAQEBAAEBAQEBAQAAAAAAAAABAQEAAAEBAQAAAAAAAQAAAAAAAAEBAQAAAQABAAEAAQAAAAABAQEBAAAAAQAAAQAAAQEBAAABAQEAAAEAAAAAAAAAAAAAAAABAQABAQAAAAEBAAEAAQAAAAAAAAEAAAAAAAABAAAAAAEBAAABAQEBAQAAAAEAAQEBAQAAAAEAAQEBAQEBAQEBAAEBAAAAAAAAAAEAAQEAAQEBAQEBAQABAQEBAQEBAQEBAAAAAAAAAQABAQAAAAAAAQAAAAAAAQAAAQAAAAABAQABAQABAQAAAQABAAAAAQABAQAAAQAAAAEAAAAAAQABAQEBAQEAAAAAAAAAAAAAAAAAAQEBAAEAAQABAAAAAAAAAAEAAAEBAQABAAAAAAAAAAAAAAAAAQAAAAABAAAAAAEBAQEBAQABAQABAQEAAAAAAQAAAAEAAQEAAQEBAAABAAEBAAEAAQEBAQEBAQEBAQABAQEAAAEAAAABAQABAAABAQEBAQAAAAEAAQEBAQABAAEAAAEBAAEBAQAAAAAAAAAAAAAAAAABAAEBAAEBAAAAAAABAQEAAAAAAAAAAQAAAAEAAQEBAQAAAAAAAAEBAAABAQABAQABAQEBAAEBAQEAAAEBAQEAAAEBAQEBAQABAQEBAQEBAQAAAQAAAAABAQABAQEBAQEBAAABAQAAAQAAAAAAAQEBAAEAAAEAAQEBAQEBAQEBAAEBAAABAQEAAAAAAAAAAAAAAAEBAAEBAAABAQABAQEBAQAAAAEAAQEBAAEBAAAAAQABAQABAQEAAQEBAAEBAQEBAAEBAQEBAQEBAAEAAAABAQEBAAABAQAAAAEBAAAAAAEBAQABAQEAAAEBAQEBAQEBAAABAQABAAAAAQAAAAABAQAAAQEBAAAAAQAAAQAAAAABAAEBAAAAAAEBAQAAAQABAQEBAQEBAQEAAQEBAQEAAAAAAAAAAAAAAQEAAQABAQAAAAABAAAAAAEBAQEBAQEAAAEBAQEBAQABAQEAAQABAAAAAAEBAAABAQAAAQEBAQABAAAAAAEBAQEAAAEBAQAAAQAAAAEBAQEAAQEBAAAAAAAAAAAAAAAAAAAAAAABAQEBAAEAAQEBAQEBAQEBAQEBAQEBAAAAAAEBAAEBAQEBAQEBAAEBAQEBAAEAAQABAAEBAAAAAQAAAAAAAAEBAAEAAAEBAAEAAAEBAQEBAQEBAQABAQEBAAEBAAABAQAAAAEBAQEBAQEBAQEBAAEAAQEAAAAAAQABAQEBAAABAQABAQEBAAEAAAAAAQEBAQEAAQEBAAAAAQEBAQAAAQABAQEBAQEBAAAAAAEBAQAAAAABAQEBAQEBAQEBAQEBAQEAAQEBAQAAAAEBAAEBAQAAAQEAAAEAAAAAAQABAQAAAQEBAQEBAQABAQAAAQEBAAAAAQEBAQAAAAEBAQEBAAEBAAEBAQABAQABAQEBAAEAAQEBAAAAAAAAAQEAAAEBAQEBAAEBAAAAAAAAAQEBAQEBAAABAQEAAAAAAAEAAAAAAQEAAAABAAEBAAEBAQEAAQEBAAEAAQEBAAAAAQAAAAAAAAABAQABAAAAAQAAAAABAAAAAAAAAQEBAQEAAAEBAAEAAAEAAAEBAAAAAAEBAQEBAAAAAAAAAAAAAAEAAAEAAAAAAAEAAQEAAAAAAQAAAQABAAAAAAABAAAAAAAAAAABAAABAQABAAAAAAEAAQEBAQEAAQEBAAAAAAAAAAEBAQABAQEBAQEAAQABAAABAAEBAQAAAAAAAAAAAQEBAQEAAAEBAQEAAAAAAAAAAAAAAAABAQEBAQABAQEBAQAAAAABAAEAAAABAAAAAAAAAAEBAQEAAQABAAAAAQAAAAAAAQEBAQABAAEBAAABAQABAQEAAAEBAQEBAQABAQEAAQAAAQEAAAABAQEAAAAAAQEBAQEAAQEBAAAAAQEBAQEAAAEBAQEBAQEBAQEBAQEBAQABAAABAAABAQEBAAABAAEAAQEBAAAAAAAAAAEBAQEBAQAAAAAAAAEAAAAAAQAAAQAAAAABAAEBAQEBAQEAAQAAAQAAAQABAQEAAAABAQEAAAABAQAAAAABAAAAAAABAAEBAQAAAQEBAQABAAEBAQEBAAEBAAABAQEBAQEBAAAAAQABAQEAAAEBAQEBAAAAAAABAAAAAQEBAAEBAAEBAAAAAAABAAABAAAAAAAAAQAAAAEBAQEBAQEBAQEBAAEAAQAAAQEBAQAAAAEBAQAAAQAAAAAAAAEBAQAAAQAAAQEAAAABAAEBAQABAAEBAQEBAAAAAAABAAEBAAEAAAEBAQABAAEBAQABAQEBAAAAAQAAAQEBAAABAAEBAQABAQEAAAEBAQEBAQEBAQABAQEAAQEAAAAAAAABAAEBAQEBAQAAAAEBAAAAAAAAAAABAQEAAQEBAQEAAAABAQABAAABAQABAAAAAQEAAQEAAAAAAAAAAQABAAAAAQEAAAEAAAEBAQEBAQAAAAAAAQEAAAABAQABAAEBAAAAAAEBAAEBAAEBAQAAAAAAAQAAAAAAAQEAAAEBAQAAAQEBAAAAAAAAAQABAAAAAAABAQEBAQEBAQEBAQEBAQEAAAEAAQAAAAAAAAAAAAAAAQABAQEAAQEBAQEBAAABAQEAAAAAAAABAAABAQEAAAEAAAABAQEBAQEAAAEBAAAAAQAAAQEBAAABAAABAQEAAQEBAAEBAAAAAAEBAAEBAQEBAQEAAAAAAAEAAQAAAAEBAQAAAQABAAEBAQEAAAABAQEBAQEBAAEAAQAAAAABAQAAAQEBAAEBAQEAAAAAAAAAAAABAAAAAAABAAAAAAAAAQAAAAEAAAAAAAEAAAEBAAEBAAAAAAEBAQABAQEBAAEAAAAAAAABAQEBAQEBAQEAAQEBAQEBAQEBAQAAAQEBAQEAAAAAAAEBAQEBAAAAAAEBAQEBAQEBAQEBAAEAAQEBAQEAAQEAAQEBAAEBAQEBAQABAAEBAAABAAAAAAEBAQEBAQEAAAAAAAAAAQAAAQEBAQEAAAAAAQAAAAAAAQEBAAABAQEBAAAAAQEAAQEBAAABAQEAAQEAAQABAQABAQEBAQABAQAAAQEBAQEAAQAAAQAAAQAAAAEAAAEBAQABAAAAAQAAAAAAAAEBAQEBAAEBAAAAAQEBAQEBAAEBAQEBAQAAAQAAAAAAAQAAAAAAAQEAAAAAAAAAAQABAQEBAQAAAAAAAAAAAAEBAQEBAAEBAQAAAQEBAQEAAQEAAAAAAAAAAAEBAAEBAAAAAQEBAQAAAAAAAQEBAQEAAAEBAQEBAQABAQEBAQEBAAAAAAEAAAEBAAAAAQEBAAEBAAAAAAAAAAEBAQEBAQABAQAAAQEBAQEAAAAAAQABAQABAQAAAAABAQEAAAAAAAABAAAAAAEAAAABAAABAQAAAAEBAQEAAAABAAEAAAAAAAAAAAAAAQABAQEBAQEBAQEAAAAAAQEBAAEAAAEAAQEBAQEBAAAAAAEAAQEAAAEAAAAAAAAAAQEAAAAAAQEBAQAAAAEBAQEBAAAAAQEBAQAAAAAAAAAAAAABAQAAAAEBAAABAQABAQEBAAAAAAAAAAABAAABAAEBAQEBAQEAAAABAAAAAAAAAAAAAAAAAAAAAQEBAAABAAAAAQEBAQABAQEAAQEBAAABAQEAAQAAAAEBAQAAAAAAAAEBAQAAAQEAAAEAAAEBAAAAAQAAAAABAQAAAAAAAAEBAQAAAAAAAAEBAQEAAAABAAEAAAEBAAEBAAABAAABAQEAAAAAAAEBAQAAAQAAAAAAAQAAAAEBAAAAAAAAAAAAAAEBAQEAAAAAAAAAAAAAAQEAAAAAAAAAAQEBAQEAAAABAAEBAAAAAAABAAAAAAEBAAAAAQABAQEBAQEBAQEAAAAAAAAAAAAAAAABAQEAAQAAAAAAAAAAAAABAAEBAQEAAAEBAQAAAAEBAAEBAQEAAAABAAABAAEBAAABAAEBAQEBAQEAAQEAAAAAAAEAAAAAAAEAAQEBAAABAQEAAAAAAAABAQAAAAAAAAEAAQEBAQAAAAEBAAAAAAAAAAAAAAAAAAEAAAAAAQAAAQEAAAAAAAAAAAAAAAEAAAAAAAAAAAAAAQEBAAAAAAEBAQEBAQEAAAAAAAEAAQAAAAAAAQABAQABAQABAQABAQEAAAEAAAEAAAEAAQEBAQEBAQAAAQABAQEAAQAAAAABAQABAQEBAQEAAAAAAAEAAQEAAAAAAAEAAAEAAAABAQABAQABAQEBAQEBAAABAQABAQEBAAABAQEAAAAAAAABAQABAQEBAQEBAQAAAAAAAQEBAQEAAAAAAAABAQEBAQEAAQEBAAABAAAAAAAAAAEBAQEAAAEBAQAAAAAAAAABAQEBAQAAAQAAAAEBAQEBAQAAAAEBAAAAAAEBAQEBAAAAAAAAAQEBAAABAQAAAAEAAAEBAQEBAQEBAAAAAAAAAAAAAQAAAAAAAAAAAQABAQEBAQEAAAEBAAAAAAEBAAAAAQEAAAEAAAAAAAEBAQABAQEBAQEAAAEAAAEBAQAAAQAAAAEAAAABAQEAAAAAAAEAAAAAAAAAAQABAQAAAAEAAQEBAAEBAQEBAQABAQEBAQAAAQEBAQEAAQEAAQEBAAAAAQABAQABAQEAAAAAAAAAAAAAAAEAAAAAAAABAAABAAABAAEBAAAAAAAAAAAAAQEBAQEAAAEBAQAAAAEAAAEBAQEAAAAAAAABAAAAAAABAQAAAAAAAQEBAQABAAAAAAABAQEAAAEBAQEBAQAAAAEBAQEBAAAAAAABAAEBAQAAAAEAAAEBAQEAAAAAAAAAAAAAAAAAAAABAQEBAAAAAAEAAAEBAQAAAAAAAAAAAAAAAQEBAQEAAAAAAAAAAQAAAQAAAAEBAAAAAAAAAAAAAQABAQEBAQAAAAEBAAEAAAABAQEBAQAAAAAAAQEAAAEBAQEAAAEAAQEBAQEBAQABAQEBAQEBAQEBAQEBAQEBAQEBAAEBAQEBAQABAQEBAQEBAQABAQEAAQEAAAEBAQEBAQAAAAAAAQEAAAEBAQEBAQEAAAAAAAAAAQEAAAAAAAAAAAABAQEBAQEBAAEBAQAAAAAAAAEAAAEBAAEAAAABAAAAAAEBAAAAAQEBAQEAAAEBAAABAAAAAAEAAAAAAAEAAAEBAQEBAQEBAAEBAQEBAAEBAQEBAQAAAAAAAQAAAAABAQEBAAEAAQEAAAEAAQEBAQEBAQEAAQEBAQEBAQEBAQEBAAAAAAEBAQEAAQEBAQEBAQAAAAABAQEAAAEBAAAAAQEBAAEBAQEAAAAAAAABAQAAAQABAQEBAQAAAAEAAAAAAAABAAABAQEBAAEBAQEAAAABAAEAAQEBAQAAAAAAAQEAAAAAAQABAQEAAQABAQABAQEAAAEBAAAAAQEBAAABAQEAAAAAAAEBAAABAQEBAQAAAQAAAAAAAQEBAQAAAAAAAAAAAQEAAAEBAQEAAAAAAAAAAAABAAABAAEAAQEAAAABAQABAQEBAAEBAQAAAAEBAQEBAAAAAAAAAAABAAEBAAEBAQABAAEAAQAAAQEBAQAAAQAAAAABAQEAAQEBAQEBAQEBAQAAAAEAAQAAAQAAAAEBAQAAAAAAAQAAAQEBAQAAAAAAAQEBAAAAAAABAQEAAQABAQABAAEBAQEBAQEBAQEBAQAAAAAAAAAAAAEBAAAAAQEBAAEBAQEAAQABAQEBAAAAAAAAAAEBAQEBAAABAQAAAAAAAAAAAQEBAQEAAQEBAQEBAAABAQEBAQEAAQAAAAAAAAEAAQABAAEAAQABAAABAQABAQEAAAEBAQAAAAABAAABAQAAAQEAAAAAAAAAAAAAAQEBAAAAAQABAAEBAAEBAQAAAAEBAAAAAAABAQEBAQEBAAEAAQEAAAAAAAEBAQEAAAEBAAEAAQAAAAEBAQABAQEBAQEAAQAAAAABAAABAQEAAAEAAAEBAAEBAQEBAAEAAAAAAAABAAEBAAABAQAAAAEBAQEBAQABAAAAAQAAAAAAAAEBAQEAAAABAQEBAQABAQEBAAABAAAAAAAAAQEBAQABAQAAAAABAAEBAQEAAAAAAAAAAAEBAQEBAAEBAAEBAAEBAQEBAQEBAAAAAQABAAAAAAABAQABAQEBAQABAQAAAAABAAABAQEAAQEBAQAAAAAAAAABAQEAAAEAAAAAAQEBAQABAQEBAQEAAAABAQEBAAAAAAEBAQEAAAAAAAAAAQEBAQAAAQEAAAEAAAEAAAEAAQAAAAAAAQEBAAEAAAAAAQEAAAAAAAEAAAAAAAABAQEBAQAAAQEAAAAAAAEAAAAAAAAAAAEAAQAAAAEAAAEBAQAAAAEAAAEBAQAAAAAAAQABAAAAAAABAQEBAAEAAAAAAAAAAQABAQEAAAAAAAEBAQEBAAEAAAEAAQEBAAEAAAAAAAABAQEBAQABAAAAAAEAAQABAQEBAQEBAQEBAQEBAQEBAQEBAQABAQEBAQEBAQABAAAAAAEBAQEBAQAAAAAAAAAAAAAAAQAAAAEBAQABAAAAAQABAAABAAABAAEBAAAAAAAAAAABAQEAAAAAAAEBAAAAAAAAAQEBAQEBAQEBAAABAAAAAAAAAAEBAQAAAQEBAQEAAQABAAAAAAAAAAEBAAAAAAEBAAEBAQEAAAABAQAAAAEBAQEBAQEBAQEBAQEBAQEBAAEAAQAAAAEBAAEBAQEAAAEAAAEBAQABAQEBAQAAAAAAAQAAAAEBAQEBAQEBAQEAAQABAQABAAAAAAEBAAEAAAABAAABAQAAAQEBAAAAAAEBAAAAAAEBAAAAAQABAQABAQABAQEAAQAAAAAAAAEAAAABAQAAAQAAAQAAAQAAAAABAAEBAQEBAAEAAQAAAAAAAAEBAQAAAQEBAAABAAEBAQAAAQEAAQABAAABAQAAAAEBAAEBAAABAAEAAAAAAQEAAAAAAQABAAABAAAAAQAAAAAAAQEBAQEBAAABAAAAAAEBAQEBAQEBAQEBAAABAAAAAAEBAQEBAAAAAAEBAQEBAQABAAABAAEBAQAAAAEBAAABAQAAAAAAAAABAAAAAAABAAAAAAEBAQAAAQABAQEAAQEAAQEAAQAAAAEAAAEAAQABAQABAAAAAAAAAAAAAQEBAQAAAAEAAAAAAQAAAQEBAAAAAQEBAQAAAQEBAQEBAAAAAQEBAQABAQEAAAAAAQAAAAEBAQEBAAEBAAEBAAAAAAABAQAAAQEBAQEAAQABAQEAAAAAAAABAAAAAAABAQEAAQAAAAAAAAEAAAAAAQAAAAEBAQEBAAAAAAEAAAEBAAAAAAEAAAEAAAAAAAABAQABAAABAQAAAQAAAAEBAQEBAAAAAAEBAQEAAAABAAEBAQEAAAEBAAAAAQABAQAAAQAAAAEBAAEBAQEAAAEBAAEAAAEAAAAAAAEBAQAAAAAAAAEAAAEAAQEBAQEAAAAAAAABAQEBAQAAAAAAAQABAAEBAQEAAQEAAAEAAAEAAQEBAQEAAQAAAAEAAAEAAAAAAQEBAAEBAAAAAQEAAQEAAAAAAAABAQEAAQEBAQABAQABAAAAAAAAAQEAAQAAAAEAAQEAAQEBAAAAAQAAAAAAAQEBAQEBAAAAAAABAAAAAAAAAAAAAAEAAAAAAAAAAAAAAAAAAQEBAQAAAAEBAAAAAAEAAQAAAQAAAAEAAQEAAAAAAAABAQEBAAEAAQEBAQEBAAAAAQEAAAAAAQAAAAAAAQAAAAAAAQAAAAABAAEBAAEBAQAAAAEBAAAAAAEBAQEAAQEBAQABAAAAAQEAAAEAAQABAQAAAAABAQEAAAEBAAEBAAABAAAAAAEAAQEBAAAAAAABAQEBAAEAAAEAAQAAAQAAAQAAAAAAAAAAAAAAAAAAAAAAAAAAAAEBAQEBAQEBAQEBAQEBAQEBAQEBAQEBAQABAQEAAQEBAQEBAQEBAQEBAQEBAQEBAQEBAQAAAAEAAAAAAAAAAAAAAQEAAQEBAAABAQEBAAAAAQAAAAAAAQABAQEBAAAAAQAAAAAAAAEAAAABAAAAAAEBAQEBAAEAAAAAAQEBAQEAAAAAAQAAAQAAAQAAAAEBAAAAAAEBAQEAAAEBAAEBAQAAAQEBAQEAAAABAQABAAAAAAAAAAAAAQABAAEBAQAAAAAAAQEBAAABAQAAAAEAAQEAAQABAAABAQAAAQAAAAEBAQAAAAABAQEBAAEAAAAAAAAAAAABAQEAAAEBAQABAAEAAQABAQEBAAEBAQEAAAAAAQEAAAEAAAABAQEBAAEBAQAAAAEAAAEBAAABAAABAQEBAAAAAQEAAAAAAAAAAQAAAAABAQEBAAABAAEAAAEAAAAAAQEBAQEBAQEBAQEBAQAAAAEAAAEAAAAAAAAAAAAAAQEBAQEAAQABAQABAQAAAQAAAAABAQEBAAABAAEBAAAAAAABAAAAAAEBAQEBAQAAAQEAAAABAQAAAAAAAQEAAQAAAAAAAQAAAQEBAAEBAAEAAAABAAAAAAAAAAAAAQABAQAAAAEBAAAAAQEAAQAAAQEAAQEBAQAAAQABAQABAQAAAAAAAAAAAQAAAAEAAQEBAAAAAQABAQAAAQABAAABAQEAAQAAAAEBAQEBAQEBAQEBAQABAQEBAQEAAAEBAAEBAAAAAAEBAQEBAQABAAEAAQAAAAEBAQAAAAEAAAAAAQEBAQAAAAABAQEAAAABAAAAAAEBAQAAAAEAAAABAQAAAAAAAAAAAQABAQABAAABAAAAAQAAAAABAQEAAAABAQEAAAAAAAABAQAAAQAAAAAAAQEAAAABAQEBAAEBAQABAAEAAQEBAAABAAAAAAABAAAAAQABAQEBAAEBAQEBAAABAQEAAAEBAQEBAQEAAQEBAQAAAQABAAAAAAAAAQAAAAABAAEAAQEAAQEBAQEAAQABAQEBAQEBAAEBAQABAQEAAAAAAQEBAQEAAAAAAAEBAQEBAAABAAEBAAEAAQEBAQABAQAAAAEBAAEBAAAAAAAAAQEAAAEBAAAAAAABAAAAAAABAAAAAAAAAAABAAEBAAABAQEAAAAAAAAAAAAAAAAAAQEBAQEBAAABAAAAAAEBAAEAAQABAAEBAQAAAAEAAQEBAQEAAQAAAAABAQABAAAAAAABAQAAAQAAAAEAAQEBAQEBAQEBAQEAAAAAAAAAAAAAAAEAAQEBAQEAAAEBAQEBAQEAAAABAQEAAQAAAQEAAAAAAAABAAABAAABAQEBAQEBAQEBAAEAAAAAAAABAQEBAQEBAQEAAAAAAQABAQAAAAAAAAEAAAAAAQABAAABAQEBAAEBAQAAAAEBAQEAAAAAAAABAAAAAQAAAAAAAAABAQABAQAAAQEBAAAAAAAAAQEBAQAAAAEBAAABAAEAAQEAAAAAAAEBAQEBAAABAAEBAAEAAAEBAAAAAAAAAQEAAAAAAQABAAAAAAAAAQEAAQEBAQEAAAABAQEBAQAAAQAAAQEBAQEAAAAAAAEAAAEBAQEBAAEBAQEBAAAAAAEAAQAAAAABAQABAQAAAAAAAAABAAEAAAAAAAAAAQEAAQEAAAEBAQABAAAAAAAAAAAAAAABAQEBAAEAAAAAAAEAAAEBAQAAAQEBAQEBAAEBAAABAQEBAQAAAQEBAQEBAAEBAAABAQEBAQEBAQAAAAAAAQAAAQEAAAAAAAAAAAEAAAEAAQEAAAAAAAEAAQEBAQEBAQAAAAABAAEBAQEBAAAAAQEBAAEAAQABAAAAAQABAQEBAAEAAAAAAQEAAAABAAAAAAAAAAEAAAAAAAEBAAAAAAAAAAAAAAAAAAEBAAAAAQAAAAAAAAEAAQEAAAAAAQABAAAAAAEAAAEBAAEBAQAAAAEAAAAAAAAAAQAAAQEBAQEBAQEAAAAAAAEBAQABAQABAQEAAQEBAAEAAQEBAQEAAAABAQAAAQAAAAABAAAAAAEAAAAAAQEBAQEAAAEBAAABAQEBAAEAAQEBAQEBAAEBAAEBAAAAAAEBAAEAAQEBAAAAAQEBAAABAAEBAQEAAQAAAAAAAAAAAAAAAAEAAAAAAAAAAAAAAQEBAAEAAQAAAAAAAAAAAAAAAAAAAAEAAQEAAAAAAAEBAAEBAAABAQAAAAAAAAAAAAAAAAABAAABAAAAAQAAAAABAAAAAQEBAQAAAAAAAAAAAAEBAQAAAQAAAAAAAAEAAAEAAAAAAAEAAAAAAQEBAAEBAAAAAAEBAQEAAQEBAQEBAAEBAQEAAQEAAQEBAQAAAAEBAQEBAQEBAAEAAAEAAQEAAAAAAQAAAAEBAQEBAQAAAAEAAAABAAAAAAEBAAEBAAEBAQEBAQEBAQEBAAAAAQAAAAEAAAAAAAEBAQEAAQAAAAABAAEBAAEBAQEBAQAAAAABAQEBAQEAAQABAAEAAAAAAQEBAQAAAAAAAAAAAAEAAAABAQAAAQEBAAABAAABAAABAAAAAQABAAEBAQEAAQAAAAEAAAEBAAABAAABAQAAAQEBAQEAAAABAQEAAAAAAQAAAQEBAQEBAAAAAAABAAAAAAAAAAAAAQEBAQABAAEBAQAAAAAAAQABAQAAAAEBAQEAAQABAQEAAQEBAQEAAAEBAQEBAAEBAAEBAQAAAAAAAQEAAQEAAAAAAAAAAAEBAQEBAAEBAQEBAAEAAQABAQAAAAEAAAEBAQAAAAEBAQEAAQEBAAEBAAEBAQABAAEBAQABAQEBAQEBAQEAAAABAQABAAEBAAABAQAAAQAAAAEBAAAAAQEBAQEAAQAAAAAAAAAAAAAAAAABAQEBAQAAAQEBAQEBAAAAAQAAAQEAAQEAAAAAAAABAQEAAAEBAQEBAAAAAAEBAAAAAQEBAQABAAAAAQEBAQABAAABAQAAAAEAAQAAAQAAAAEBAQAAAAABAQABAAAAAAEBAAAAAQEAAAAAAAAAAAABAQEAAAABAAEAAAEAAAAAAQAAAQAAAQABAQAAAQABAAABAAAAAAABAAEBAAAAAAABAAEAAAAAAAAAAQEBAAEBAAAAAAEAAAAAAAEAAAAAAAAAAQAAAAABAQEBAQAAAAAAAAAAAAEAAAEBAAAAAQAAAQEAAAAAAAAAAAAAAAAAAAEAAAABAAEBAAEBAQAAAAEBAQEAAAAAAQEAAAEBAQAAAAABAQABAQEBAAAAAAEBAQEBAAAAAQABAAAAAQEBAQEBAQEBAQEBAAEAAQEBAQEBAQAAAAEAAAEAAAABAAAAAQAAAAAAAQEAAAAAAQAAAAEAAAAAAQEBAQEAAQAAAAAAAAAAAQEAAAEAAAABAQABAAAAAAAAAAAAAQEAAQEBAAABAQAAAQEAAQABAQAAAAAAAAEAAAEBAQABAAEBAQEBAQABAAAAAAEAAAAAAAAAAAAAAQAAAAABAQEAAQEBAQABAQEAAAAAAAEBAAEBAQEAAQABAQABAQAAAAEBAAAAAQEBAQABAAABAQEBAAABAQEAAQABAQABAQEAAAEAAQEAAQABAQAAAAEAAAAAAAEBAQAAAAAAAAAAAQABAAAAAAABAQAAAQAAAAAAAQAAAAEAAQAAAAAAAQAAAAEAAAAAAAAAAAEBAAAAAQEBAQEBAAABAQEAAAAAAQAAAQEAAQEBAQEBAQEBAAEAAAAAAQEAAQABAQEAAAAAAAABAAABAQEBAQABAAEBAAAAAQAAAAABAAEBAQEBAQABAQABAQEBAQEAAQEAAAAAAAAAAAABAQEBAQAAAAAAAAAAAQEAAQEBAQABAAAAAQEBAQABAQEBAQAAAQEBAAABAQABAQAAAQEBAQAAAAAAAAABAAABAQEBAQEBAQEAAAAAAQABAAEBAAAAAAABAQAAAAABAAABAAEAAQAAAAABAAAAAAEAAAEAAQAAAQEBAQEBAQAAAAEBAQAAAAABAQAAAQAAAAABAQEBAQEAAQEAAAEAAAABAQAAAAABAQEBAAEAAQAAAAAAAQABAQABAQAAAAEAAQEBAQEBAQABAQEAAAAAAAEAAAEAAAEBAQABAAAAAAEBAQAAAAABAAAAAQEBAAABAQEAAAAAAAAAAQEBAAABAQABAAAAAAEBAQEBAAEAAAAAAAEBAQAAAAAAAAAAAQABAAEBAQEBAAEBAQABAQEAAAEAAAABAQEAAAEBAQAAAAAAAAEBAAEBAAAAAQEAAAAAAAAAAAEAAQEBAQAAAQEBAQABAAAAAQEAAQEBAAEBAQEBAAAAAQABAAABAQABAQAAAAAAAQEAAQABAQABAQEBAAAAAQAAAAABAAEBAQEAAQEBAAEAAQEBAAAAAAAAAAAAAAAAAAABAQAAAAABAQEBAQEBAAAAAAEAAAAAAQEBAAEAAQEAAQABAQABAAAAAAABAQEAAAABAAEBAQEBAAAAAAAAAAABAQABAQEBAQABAQEBAAABAQABAAABAQEBAQEAAAEBAQEBAQAAAQABAAEBAAEBAQEBAQEBAAAAAQEBAAEAAAEBAQABAQEBAQEBAQAAAAEAAQEBAQABAQABAAAAAQABAQEBAAEBAQEBAAABAAABAQAAAAAAAAAAAQEBAQAAAAEBAQAAAAAAAAAAAQEBAQAAAQEAAAEBAQAAAQEAAAABAQAAAQABAQAAAQEBAQABAAABAAABAQEBAAAAAQEAAAAAAQEBAQEBAQABAAEBAAEBAQEAAAABAAABAAEAAAABAQABAAABAQEBAAEAAQEBAQAAAAEAAQEAAAAAAAEBAQEBAAEBAQAAAQEAAQEBAQAAAQEBAQABAQAAAAEAAQEBAQEBAAABAQEBAAABAAEAAQEBAQEBAAEBAQEAAAABAQAAAAAAAQEBAQABAAAAAQEAAAAAAAABAQEAAAABAQAAAAEBAQEBAAABAAEBAAABAQEAAQEBAQAAAQEAAAEAAQAAAQAAAAEBAQEAAQEBAAAAAQAAAAAAAAEBAQAAAAEBAQEBAQAAAAEBAQEBAQEBAAAAAAEBAAEAAQEBAQABAQAAAAAAAQABAQAAAAABAAABAAAAAQEBAAEBAQEBAAABAQABAAAAAAEAAQEAAAAAAQABAQAAAAEBAAAAAAABAQAAAAEBAQEBAQEBAQEBAQEBAQEAAAAAAAEBAQAAAAEAAAAAAQEBAQABAQABAAEBAAEBAQEBAQAAAAEBAQABAAAAAAABAAABAQEBAQABAQAAAAAAAQEAAAAAAAABAAEBAQABAAEBAAAAAAABAQAAAQEBAQABAAAAAAAAAAAAAQABAQABAAAAAAAAAQAAAAABAQEBAQEAAAAAAQEBAAABAQEBAAAAAAAAAQABAQEAAQAAAAAAAQEBAQEBAAAAAAEBAQEAAQEBAQEAAQEBAQABAAAAAQABAQEBAQEBAQAAAAAAAAEAAQEAAAAAAAABAQAAAAAAAAAAAAEBAQAAAQEBAQEBAQEBAQEBAAEBAQEBAAEBAQABAQABAAEAAAEAAAABAAAAAAEBAQEAAQEAAAABAQEBAQAAAAAAAAAAAAAAAAABAQEBAAABAQAAAAEBAQAAAAABAAABAAAAAAAAAAABAQEAAAEAAAEAAQEBAQEBAQAAAAAAAAEBAQABAQEAAQABAAEBAQABAAEAAAEBAQAAAAAAAQABAQAAAQAAAAAAAAAAAAAAAQEAAAABAAEAAQEBAQEBAAEBAQEBAQAAAAABAAAAAQEBAQABAQEAAAEBAAABAQAAAAAAAQEAAAEAAAAAAAEBAQABAQABAAABAQAAAQAAAAABAAAAAAAAAAAAAAAAAQEAAAEBAAAAAQABAQABAQAAAAAAAQAAAQEBAQEBAQEAAQEBAAEBAQEAAQABAQEAAQEBAAEAAAABAQEBAQEBAQAAAQABAQAAAQEAAQEBAQEBAAAAAAAAAAABAQEBAQAAAQEAAQEBAQEBAQEBAQEBAQEBAQEAAQEBAQEAAAEBAQAAAAABAQEBAQEBAQEBAAEBAQABAQEBAQAAAAEBAQEBAQAAAAEBAQEAAAEBAQEAAQAAAAABAQEBAQEBAQABAQABAQEAAAAAAQEBAQEBAQEBAQEBAQEBAAEBAQEAAAABAQEBAQEBAQEBAQAAAAAAAQEBAAAAAAEBAAEAAAAAAAAAAQAAAQEBAQAAAQEBAAAAAQEBAAAAAAAAAAAAAAAAAAEBAAEBAQEBAAAAAAEAAQEBAQEAAQEBAQEBAAAAAAAAAAAAAAAAAAAAAQEAAAEAAAEAAAAAAAAAAQABAAEBAQAAAAEBAAAAAQEBAQEBAQEAAAEAAAAAAAAAAAAAAAEBAQEBAQAAAAAAAQEAAAABAQEAAAAAAQEAAAABAQAAAAEBAAAAAAAAAAABAQABAAAAAAAAAQEBAAABAAABAAABAQEAAQAAAQEBAAAAAQEBAQAAAAABAQEBAQEBAQAAAAEBAQEAAAAAAQAAAAABAAAAAAAAAAAAAAABAQAAAQAAAQAAAQAAAAEAAQEAAAEAAAEBAQABAAABAAAAAAAAAQAAAAEAAQEBAAAAAAEAAAAAAAAAAAEAAAEAAAAAAAAAAQEAAQAAAQEAAQEAAQAAAAAAAQAAAAAAAAAAAAABAQEAAAAAAAAAAAAAAQABAQEAAAABAAAAAAAAAAAAAAABAQAAAAEAAAAAAAEAAAAAAAAAAAAAAQEBAQEAAAABAQABAQEBAQEBAAABAQAAAAAAAAAAAQABAAEAAAAAAQAAAAAAAAAAAAEBAAEAAAEAAAEBAAEAAQEBAAAAAAABAAAAAAAAAAEBAQEBAAAAAAABAAABAQAAAQEBAQABAQEBAQAAAAAAAAAAAQEAAQABAQEBAQEBAQEAAAABAQAAAAEAAAAAAAEAAAEAAQABAAAAAQABAAEBAAAAAAEBAQAAAQAAAAAAAAEBAAEAAAABAAEAAAEAAAEAAAAAAAEBAQEBAAABAAEBAQEAAQEBAQEAAQEBAAAAAAAAAAABAAEBAQEAAAAAAQEAAQAAAAABAAEAAAAAAQEAAAAAAAAAAQAAAAEBAAAAAQAAAAEBAQEBAQEAAAEBAQEAAQEBAAEBAQEAAQAAAQEAAAABAQEBAQEAAQEBAQAAAAAAAQEBAQEBAQEBAAEAAQEBAQABAQEAAAAAAAABAAAAAAAAAAABAAEAAAAAAAAAAAAAAAAAAQEBAAABAAAAAAAAAQEAAAAAAAABAQABAQAAAAAAAAEBAQABAQABAAABAAABAAAAAAEAAQABAAAAAQABAAAAAQEBAAEBAQABAAEBAAAAAAEBAQAAAQEBAQEBAAAAAQEAAAAAAQEBAAABAQEAAAAAAQEBAQABAQEBAQEBAAAAAAAAAAAAAQEBAQEBAAAAAAABAAABAAEAAAAAAAAAAAAAAAABAQABAAEBAAEAAAABAQEBAQEAAAAAAQEBAQAAAAABAAEBAAABAAAAAAAAAAAAAAAAAAAAAAAAAAAAAQAAAQEAAAEAAAEAAAAAAAABAAABAQEAAAEAAQEBAQAAAQEBAQAAAAAAAAEBAAEBAQEBAQEBAAABAAAAAAAAAQEAAAEBAQAAAAAAAAAAAQAAAQEBAQEAAQEBAQEAAQEBAQAAAQABAAEBAQEBAAEAAAAAAQEBAQABAQABAQEBAQEBAQEAAQEBAQEBAQAAAAAAAQEBAQABAQEBAAEAAAABAQEAAAAAAAAAAQAAAAEAAQAAAAAAAAAAAAAAAQEBAAAAAAAAAAAAAAAAAAAAAAAAAAAAAQABAAEAAAEAAQAAAQAAAQEBAQABAAEAAQAAAAAAAQABAAABAQEBAQEBAQEBAQAAAAEBAQEBAAABAQEBAQEBAAAAAAAAAAAAAAEAAAABAQEBAAABAQEAAAAAAAAAAAAAAAEBAAAAAAEBAAEBAQAAAQEBAQEAAQEAAAEBAQEAAAABAQEBAQABAQAAAAEBAQABAAEBAQABAQEBAQABAQEBAQEAAAAAAQEBAQEBAAAAAAEAAAAAAQEBAQABAQAAAAAAAQEBAQEBAQABAQEBAQEBAAEBAQEBAQEBAQEBAQEBAQEBAQEBAQEAAQEBAQEBAQEAAQEBAQEAAAAAAAAAAAAAAQABAAAAAQABAQEBAQEBAQEBAAEAAAEBAQEAAAABAAEBAAEBAQAAAAEAAAEAAQAAAQEBAQEAAQEBAAEBAAEBAQEBAAAAAAAAAQEBAAEAAQEBAAEAAQEBAQEAAQEAAQEAAQEAAQAAAAEBAAAAAAEAAAEAAAAAAAAAAQEBAAAAAAEBAAAAAAEAAQAAAAEAAAABAAAAAAAAAAAAAAEBAAAAAAABAAABAAAAAAEAAAAAAQEBAQABAQAAAAAAAQAAAAAAAAABAAEAAAABAQABAQEBAAAAAQABAQEAAAAAAQEAAAAAAAAAAQEAAAABAAAAAAABAAEBAQEBAQEAAQABAAAAAAAAAAABAAAAAAABAAAAAAAAAAABAQEBAAEAAQEBAQEAAAAAAAEBAAAAAAAAAAAAAAAAAAAAAAAAAQEBAQEAAAAAAAAAAAAAAAAAAAEBAQABAAEAAAEBAQAAAAAAAQEBAQEBAAAAAQEAAQAAAQAAAAAAAAAAAAABAAAAAAAAAAAAAQAAAQAAAAAAAQAAAQEBAAEAAAAAAAAAAAABAAAAAAAAAQEAAAEBAQEBAQEAAAABAQABAQEBAQEBAAEBAAEBAAAAAQAAAAABAAEAAAAAAAAAAQEAAQAAAQEBAQEBAAEBAAAAAAAAAAEBAQEBAQEBAAAAAAAAAAAAAAAAAQEAAQAAAQEAAAAAAQEAAQEBAQEBAQEBAQEBAQEBAAABAQEBAQEAAAABAAABAAABAQEAAAEAAAABAAEAAAEAAAEBAQAAAQABAQEBAAEBAQEBAAAAAAEBAQEBAQAAAQAAAQEBAQEAAAEBAQEBAQEBAQEBAQEBAAABAAEBAQAAAAABAQEBAQAAAQEBAQEBAQEBAAEAAQAAAAEBAAABAQAAAAABAAEAAQEAAQAAAAAAAAAAAAAAAAEAAQEBAQEBAQAAAAABAAAAAAEBAQAAAAABAQEAAAAAAAABAAABAAEBAQABAAABAQEBAQEBAAEBAAABAQEBAQAAAAEBAQABAAABAQAAAAEBAQEAAQEBAQABAQEBAQABAAABAQAAAQAAAAEAAQABAQAAAAAAAQEBAAEBAQEAAAAAAAEBAQEBAAAAAAEBAQAAAAAAAAAAAQEBAQEAAAABAAABAQEBAQEAAQEBAAEAAQAAAQAAAAABAQABAQABAAAAAAAAAQEBAQEAAAAAAQEBAAAAAQAAAQABAAAAAAAAAQEAAAEBAQEAAQEBAQABAQAAAQEBAQEAAQABAQABAAAAAAAAAAAAAAABAAAAAAABAQEBAQEBAAEAAAAAAAAAAAAAAAAAAQEAAQAAAQAAAAAAAAAAAAAAAAAAAAABAQAAAAAAAQAAAAAAAAEBAQAAAQEAAQAAAQAAAQAAAQEBAQEAAAEBAAAAAAEAAAAAAAAAAAABAAEBAQEBAQEBAQEAAAAAAAABAQABAQAAAAAAAAABAQEBAAABAQEBAQEBAQEBAQABAAABAQEBAAAAAAABAQABAQEAAAABAAAAAQEBAQEAAQEAAAABAQEBAQEBAQEBAQEBAQEBAQEBAQEBAQEBAQAAAQEBAQABAQEBAQEAAAAAAAAAAAAAAQABAQEBAQEBAAABAQEAAAAAAQAAAAAAAAABAAAAAAEBAQEBAQEAAQEBAAEBAAEAAAEBAAEBAQEBAAABAQEBAQEBAAEBAAABAAEBAQEAAQABAAAAAAEBAQEAAAAAAAEBAQEBAQEBAQEBAQABAQEBAAAAAAAAAAEBAQEAAAEAAAABAQEBAQEBAQEBAQEBAQEBAAABAQEBAQEBAQEAAAAAAQEAAAEBAQEBAQAAAAAAAAAAAAABAQAAAAAAAQEBAQABAQEAAQEBAAABAQEAAAEAAAEAAAEBAQEBAAAAAAAAAQEBAQABAQEBAAAAAQEBAAABAQEBAQEBAQAAAQEBAAAAAAEBAQEBAQEBAQAAAAEBAQABAAEBAQEBAQAAAAABAQEBAQEAAAAAAAAAAAEAAAAAAAAAAAAAAAAAAQEBAQEAAAAAAAAAAAAAAAAAAAAAAAABAAEAAAEBAQEAAAAAAAAAAAAAAAAAAAABAAAAAAAAAQEBAAAAAQAAAQAAAQAAAAAAAQAAAAEBAQEAAAABAAEAAAAAAAAAAQEBAAEBAQEBAQAAAAABAQEBAQEBAQEBAQAAAAAAAAAAAAEAAAABAQABAQAAAAAAAAEBAAAAAAEBAAAAAQAAAAABAQABAQEAAAEAAQEBAAAAAQAAAAEAAAAAAAABAAEAAQAAAAABAQEAAAEBAAAAAAEBAQAAAAEBAAEBAQEAAQEBAQEAAAEBAAEBAAAAAAAAAAEBAAABAQEBAQEBAQABAQEBAQEBAAABAAEAAAEBAAAAAQABAQAAAAAAAAEBAQEAAAAAAAAAAAEBAAEAAAEBAQEAAQEBAAEAAQEBAQABAAEBAAAAAAAAAQEAAAABAQAAAAAAAAAAAAABAQAAAQEAAQEBAAEBAQEBAQEBAQEBAAEBAQEBAQEBAAEBAQABAQEBAQEAAAAAAAAAAQAAAAAAAQEAAAABAQAAAAABAAEAAQEAAAAAAAEBAQEBAQEBAAABAQABAQEAAQABAQAAAAAAAQAAAAABAQEBAQEBAQABAQEBAQEBAAEBAQEBAQEAAAABAAAAAQEBAQEBAQEBAQEBAQEBAAAAAAAAAQAAAAEAAAAAAAAAAAAAAAAAAAABAAAAAAAAAAABAAAAAAABAQEAAAABAAAAAAABAAABAQEBAQEBAQEBAQABAAEBAQEBAAEBAQEBAQEBAAEBAQEBAAEBAAAAAAEBAQEBAQEBAQAAAQEAAAAAAQEBAQEBAQEBAQAAAAABAQEBAAAAAQEBAAAAAQEBAQEBAAEAAAAAAQEBAQEBAQEBAQEBAAABAQAAAQAAAAAAAAEBAQABAQEBAQEBAAAAAAABAQEBAQEBAQAAAAEBAQEBAQABAQEBAAAAAQEBAQEAAQEBAQABAQEAAAAAAQEBAQEAAAAAAAEBAQAAAAAAAQEBAQEAAAEBAAABAAAAAAAAAAEBAQABAAABAAAAAAAAAAABAQABAQAAAAAAAAEAAAEBAQEBAQEAAAAAAAAAAAAAAAEBAQABAQEAAAAAAAAAAAEBAAABAAAAAAABAAABAAAAAQABAQEBAQEBAQABAQEBAQEAAAEBAQAAAAEBAQAAAAAAAAABAQABAQEBAQABAQAAAAEAAAAAAAAAAQAAAAAAAAABAAEBAQEBAQABAAABAQEAAAAAAQEBAAEAAAAAAQAAAQEAAQEBAQEBAAAAAQEBAQEBAQAAAAEBAAABAQEAAAEAAQEBAAEAAAEAAAABAAAAAAEAAAEAAAEAAAABAAABAAEBAQEBAAEBAQABAAEAAAEAAAAAAQEBAAEBAQEBAQEBAQAAAQAAAQABAAEAAAAAAAEAAAAAAAEAAAAAAAABAAABAAAAAAAAAAEBAQEAAQEAAQABAAEBAQAAAAEAAAAAAAEBAQEAAAAAAQEBAAAAAAAAAQAAAAEBAQAAAAABAQEBAQEAAQEBAQAAAAABAAAAAQABAAAAAQAAAQEBAAABAAEAAAABAAEBAQAAAAEAAAAAAAEBAAEAAQEAAAAAAAAAAAEAAQABAQEBAQAAAQAAAQAAAAAAAAEAAAEBAQEAAAAAAAEBAAAAAQEBAQEBAAAAAAABAQEBAAEBAAAAAAEBAAEAAQEBAAAAAAABAQEAAQEAAQEBAQAAAAAAAAABAQEBAQEBAAEBAQEBAQEAAQABAQEBAQEBAQAAAAEAAQAAAAEBAQEAAAABAQAAAAEBAQEAAAEBAAEBAQEAAAABAQAAAQABAAAAAAABAAEBAQAAAQEAAAEBAAABAQEBAQEBAAEBAAEBAAEBAQEBAAAAAQAAAAAAAAAAAQEBAAAAAQABAQEBAQEBAQEAAAAAAAABAQEAAQEBAQEBAAEBAAEBAQAAAAABAQEBAQEBAQEBAQAAAAEBAQEAAAEBAQEAAAAAAQEAAAEBAAABAQAAAAEBAAEAAQABAQEAAQEBAAAAAQABAAEBAQEBAAABAAEBAQEBAQEBAQEAAAEAAAABAQEAAAAAAAAAAQEBAQAAAQEAAQEBAQAAAAABAAAAAAABAAABAAEAAAABAQEBAAEBAQAAAQEAAQAAAAAAAAEBAQEBAAAAAAEAAQAAAAAAAAAAAAAAAAEBAAABAAAAAQEAAAAAAQEBAAAAAAEBAQEBAAAAAQAAAQABAAEBAAAAAQAAAQEAAQEAAQABAAAAAAABAQAAAAABAAABAAAAAQAAAAAAAQAAAAEAAAABAAEAAAAAAAAAAQABAQEBAAAAAAABAQEAAQAAAAAAAAAAAQEBAQEAAQABAQABAQEAAAABAQABAAABAAABAAEBAAEAAAAAAAEBAAEBAQEAAQEAAQABAAEAAQABAAABAQEAAAABAAEBAAEBAQEBAQEBAAAAAAABAAAAAAEBAQEBAAABAQEAAAAAAAEAAQEBAAEBAQAAAAEBAAAAAAEBAQEAAAEAAQABAQEBAQEAAQEBAQEBAQEAAQAAAQEAAQABAAABAAAAAAAAAQEBAQEAAAABAAAAAAAAAAAAAAAAAAABAAEBAAAAAAABAAEBAQEAAAEAAAAAAQEBAAEBAQEAAQEAAQEBAQEBAQEAAQABAQAAAAAAAAABAQEBAAAAAQAAAQEAAAABAQAAAQEBAAAAAAEAAAEAAAAAAAEBAAEAAAAAAAAAAQABAQEAAAEBAAEBAQAAAAEAAQEAAAEBAQAAAAABAQABAQEAAQEAAAABAQAAAAAAAAAAAAAAAQEAAAABAQEAAAABAAAAAQEAAAEBAQEAAAAAAQABAAAAAAEBAQAAAAABAAAAAAEBAAAAAQABAAAAAQEBAAEBAQEAAAEBAAAAAQAAAQAAAAEAAAEBAQEBAQABAAAAAAABAAEAAAEBAQEBAAEAAAAAAAABAQAAAAEAAQEBAAAAAQEBAQABAAAAAAABAAAAAAAAAQAAAAAAAAAAAQAAAAEBAAABAQEBAAABAQEBAQEAAAEAAAABAAAAAAAAAAAAAAABAQEAAAEBAQEBAQEBAAAAAQEBAQEBAAAAAAEAAAAAAAAAAAEAAAEBAAAAAQABAQAAAAAAAAAAAQEBAQABAQAAAAEAAAAAAQEAAAEBAAAAAAEAAQEAAAEBAAEBAAAAAAAAAQABAQEAAQEBAAEAAAAAAAAAAQEBAAEBAAAAAQABAQAAAQAAAAAAAQEAAAAAAAEAAAAAAAEAAQABAQEBAQEAAAAAAAAAAAABAAEBAAEBAAAAAAAAAAEBAQEBAQAAAAAAAAABAAABAQAAAQAAAAAAAAEBAQEBAAAAAQEAAAAAAAAAAAEAAAAAAQEBAAABAAEBAAEAAAAAAQABAAAAAAAAAAABAAABAAEAAQEAAAABAQEAAAEBAQEAAAABAAABAAEBAQEAAAABAAABAQABAAAAAAABAQEAAAEBAQEBAQABAAEAAQEBAQEAAQAAAQEAAAAAAAABAQAAAQEAAAAAAQEAAAAAAQEAAQEBAAEAAQAAAQEAAQEBAQAAAQABAQABAQAAAAAAAAABAAEBAQEBAAABAQEAAAEBAAAAAAEAAAEBAQEAAQAAAQAAAAEAAQEBAAEBAAEAAQABAAEAAAABAAEAAAAAAAEBAQEBAAEAAAEAAAEAAAEBAAAAAAAAAAABAQEBAAAAAQEBAAAAAQEAAAEBAQABAAEAAAAAAAAAAAAAAQAAAQEBAQABAQAAAAAAAQAAAAAAAAABAQAAAAAAAAABAQAAAAAAAAEBAQABAAEBAQEBAAEAAAEBAAABAQAAAQAAAAAAAAAAAQAAAAEBAQABAQEBAQEAAQEBAQEBAQAAAAAAAAAAAQEAAAEAAAABAQEBAQEBAQEBAQAAAAAAAQEBAQEBAQABAAAAAAAAAAEBAAEAAQABAAAAAAAAAQAAAQABAAAAAQEAAQEAAAAAAQABAQAAAQABAAEAAQEBAAABAQAAAAAAAQAAAAEAAQABAAEBAQEBAAEBAAAAAAABAQEAAAAAAQEBAQEBAAEBAAEBAAAAAQEAAAEBAAAAAAEAAAEBAAAAAQEBAQAAAQEBAQAAAQEAAAAAAAAAAAAAAAEBAQEBAQEAAAABAQABAAEBAQEBAAAAAQABAQEAAAAAAQEAAQABAQEBAQAAAQEAAQEBAQEBAAEAAQAAAQEAAAAAAQEBAQEAAAEAAQEBAQEBAQAAAAABAQABAQABAQABAQEAAAAAAQEAAAAAAQEBAAEAAQAAAAAAAAABAAEAAAABAQEBAQEBAQEBAAAAAAABAQEBAQEBAQEAAAAAAAEAAQEBAQAAAAEAAAEBAAABAQEBAQEBAQEAAQEAAAEAAQEAAQEBAAABAQEAAAEAAQABAQEAAQEBAQAAAAAAAQAAAAABAQAAAAEBAQEBAQEBAAAAAQEBAQEBAAAAAQABAAAAAQEBAQAAAAAAAAABAQEAAQEBAQEBAAAAAAEBAQEBAAAAAAAAAAEBAAEAAAEAAQEBAQABAQABAQEAAQEAAQEBAQAAAQABAQAAAAEAAQEAAAAAAQEBAQEAAAEBAQEBAAABAAAAAAEBAAAAAAAAAAABAQEAAAEBAAAAAAEBAQEBAQEBAQEAAQEBAAAAAAEBAQEBAAAAAAAAAQABAQAAAQAAAAAAAQABAQEAAAABAAEAAQAAAQEAAQABAAAAAAABAQEBAAEBAAAAAAABAQEBAQABAQEAAAABAQAAAAABAQEBAQEBAQAAAQAAAAAAAAEAAAAAAAEBAAEBAAABAQEBAAAAAAEBAAABAQAAAAAAAAABAAEBAAEBAQEBAQAAAAEBAQEAAAEBAAAAAAEBAAABAAABAQAAAAABAQAAAAEBAAABAQABAQEAAQABAAAAAAAAAQABAAEBAAABAQAAAAAAAQEAAAAAAAEBAQEAAQEBAAABAQEBAQEAAAABAQAAAQEBAAABAQABAAAAAAABAAAAAQEAAQEAAQAAAAEBAQAAAQAAAQEBAQEBAAEBAQABAAAAAAAAAAABAAEAAQAAAAEAAAAAAQEAAQABAQEAAAAAAAEAAAEBAQEAAQEBAAAAAAEBAAABAAAAAAAAAQEBAQEBAQEBAAABAQEBAAABAQAAAQAAAQEBAAEAAQEBAQEBAAAAAAEBAAABAQEBAQEAAQABAQAAAQEAAQABAQAAAAEAAQABAAAAAAAAAAEAAAABAQEBAQAAAAEAAAEAAAEBAAAAAAEBAAAAAAEAAAAAAQABAQEBAAAAAAEBAQAAAAABAAEBAQEBAQABAQEAAAABAQABAAAAAAAAAAAAAAAAAAEBAQEAAAEAAAAAAAAAAQEAAAEBAQABAQEAAAAAAAEBAAEAAQAAAAAAAAAAAQAAAAABAQABAQEBAQEBAQEAAAEBAAEBAQEBAAABAAEBAAAAAAAAAAAAAQEBAQEBAQEAAQEAAQEBAQEBAAAAAAEAAQEBAAABAAEAAAAAAAAAAQEBAQABAAAAAAABAQEBAAAAAAABAAEBAAABAQEBAAEBAQAAAQEBAAAAAAEAAAAAAQAAAAEAAAABAAAAAQEBAAEBAQABAAABAQEAAQEAAAEBAAAAAQAAAQEAAAABAAABAAEAAQEBAAEAAAABAQABAAEBAAAAAQEBAQEAAQEBAQAAAAABAQEBAQABAQAAAAAAAAEBAAEBAAEAAAAAAQAAAQEAAQEBAQEAAAEAAAEAAAAAAAABAQAAAAABAQEBAAAAAQEAAQEAAAEAAAEBAAAAAQEBAAAAAQEAAQEBAQEBAQAAAAABAQEBAQAAAAAAAQEBAQEBAAAAAAAAAAABAQAAAQAAAAEBAQEAAQAAAAEAAQAAAAABAQEBAQEBAAAAAQAAAQAAAAAAAAABAAAAAAABAAEAAAABAQEAAAEAAQEBAQEAAAABAQEBAAEBAAEBAAEBAAEAAAAAAQEBAAABAAABAAEAAAAAAAEBAQEAAAEBAAAAAAEAAAAAAQEAAQEBAQEBAQAAAQEAAAAAAQEBAQABAQAAAAEBAAEBAQEBAAEBAQEBAQEAAQAAAQAAAAEAAAEAAQAAAAEBAAAAAQABAAEBAAAAAQEAAAAAAAABAAEAAQEBAQAAAAAAAQABAQEAAQEBAQEAAAAAAAAAAAEAAQAAAQABAQEBAAEBAAABAQEBAAAAAAEBAAEBAQEBAQABAQEBAAAAAAAAAQEBAQEAAAEAAAAAAQEAAAEBAAABAAAAAQEBAQEBAQAAAAABAAEAAAEAAAAAAAABAQEBAAEBAQABAQEAAAEBAAABAAEAAQEAAQEBAQAAAAABAAEBAAEBAQAAAAEBAAAAAAAAAAEBAAABAAEBAQABAQEAAAABAQABAAAAAQABAQEBAQEBAQABAQEAAQAAAAEBAAAAAQAAAAEAAAABAQEBAAEAAQABAQEBAAAAAAEBAQEBAQEAAAAAAQAAAAABAAAAAQEBAQABAQEAAAEBAQAAAQEAAAAAAAABAAAAAQEBAQABAQABAQEBAQEAAAABAQEBAAEBAQABAAAAAAAAAAEBAAAAAAEAAQEBAAAAAAEAAQEBAQEBAQEAAAAAAQEBAQEBAQAAAQABAAAAAAABAAEBAAEAAAABAAAAAAABAQAAAAAAAQEAAQAAAAABAAEAAAAAAAEBAQEBAQEBAAABAAAAAAEBAQEBAQAAAQEBAAAAAAEAAAEAAAEAAAEBAQEBAQEBAQAAAAEBAAAAAAAAAAEAAAAAAAAAAAAAAAEAAAEAAAAAAQAAAAEAAAEBAAEAAQEBAAABAQEAAAABAAEBAQAAAQEBAAABAAAAAAEAAAABAAABAQEBAQEAAAAAAAEBAQAAAAABAQABAQEBAQAAAAAAAAEBAAEBAQEAAAAAAAAAAQAAAQEBAQEBAAAAAAAAAAABAAABAQAAAAABAQEBAQABAAAAAQAAAAEBAQEAAAEAAAABAQABAQEBAAABAAAAAAAAAQAAAQEBAQAAAQEBAQEBAQABAQEAAAAAAQEBAQEBAQEBAQEAAQEBAQABAQAAAQEAAQABAAEBAQABAAEBAAEAAQEBAAAAAAEBAAAAAQEBAQEBAQEAAQABAQEAAAABAQEBAQEBAQABAQEBAQEBAAAAAQAAAAABAAAAAQEBAQAAAAAAAQEBAAAAAAAAAQEBAAEBAQEAAAAAAAEBAAEBAQEBAAEBAQEBAQEAAAEBAQAAAAAAAAEAAAAAAQAAAAEBAQEAAQEBAQEBAQEAAAAAAAABAQEBAQEBAQEBAQAAAAABAAEAAAABAQEBAQEAAQEBAAEAAQEBAAABAQEBAQABAQEAAQEAAAAAAQEAAQABAQEBAQEAAAAAAAAAAQEAAQAAAQAAAQEBAAAAAAAAAQAAAQEBAAABAQEAAQEBAQAAAQEBAAEAAQEAAQAAAAABAAABAAEAAAAAAAEAAQEAAAEAAQAAAAAAAAEBAAEAAAAAAAABAQEAAQEAAAEAAAAAAAEBAAAAAQEBAQAAAQAAAQAAAQEBAQEBAAABAAEAAAEBAAAAAAEBAQEAAAABAAAAAQEAAAEAAQEAAQEAAAABAQAAAQEBAQAAAAEAAAABAQEBAAAAAQABAQEAAAAAAAEAAQABAQEBAAEBAAEBAQEAAAAAAAEBAAEAAAAAAQEBAQAAAAEBAQABAQEAAAABAQEBAQABAQEBAQEAAAAAAQEAAAEAAAAAAQABAAAAAAAAAAEBAQABAAEAAQABAAAAAAAAAQABAQABAQEAAAABAQEAAAABAAAAAQAAAAABAQAAAQABAQEAAAEBAAAAAQAAAAABAAAAAAAAAAEBAQAAAAAAAQABAQAAAQEAAQEAAAEBAAAAAQEBAQAAAAEBAAAAAQEAAAABAAEAAAAAAQEAAAABAAABAAAAAQEBAQEBAAAAAQEBAQAAAAAAAAEBAAEBAQAAAAABAQAAAAAAAAEAAAEBAQAAAAEAAAAAAAEBAQEBAQEBAQEBAAAAAAABAAAAAAABAQAAAAEAAAEAAAAAAAABAAAAAAAAAQEBAQEAAAEBAAAAAQEAAAEBAAEAAQEAAAEAAQEBAQABAQAAAQEBAQEAAAABAAAAAAAAAAAAAAEBAQABAQAAAQEBAAAAAAAAAAEBAQAAAAAAAAABAAAAAAABAQEAAAAAAAABAQEAAQAAAQABAAABAAAAAAAAAAAAAAABAAEBAQAAAAAAAAEBAAEAAAABAAAAAAEBAQEBAQABAQEAAAAAAQEBAAAAAQABAQEBAQEAAQAAAAEBAAEAAQAAAAAAAAABAAEBAAEAAAEAAAABAQEBAQAAAAEBAQEAAQAAAAAAAAAAAAAAAAEBAQEAAAABAAAAAAEBAAABAAAAAQEBAAAAAQAAAAAAAAAAAAEBAAAAAAEBAQEAAAEAAAEBAQAAAQEAAQAAAAEAAAAAAAEBAAEBAAEAAAEAAAAAAQABAQEBAAEBAQEBAAEBAAEAAQEBAAABAAEBAQEBAQAAAQEAAQABAQAAAAAAAQABAQEBAQAAAAEAAAAAAAEAAAEBAQAAAAABAAEAAQAAAAABAQEAAAABAAEBAAAAAQAAAAAAAAEBAAAAAQAAAQABAQEBAQEAAQEBAQEBAQAAAQAAAAEAAAEAAAEAAAEBAAAAAQABAAABAQEBAAAAAQEAAAABAQAAAAAAAQEAAQABAQAAAAEBAQABAQEBAQEAAQEAAQAAAAEBAQEBAQAAAAAAAQEBAAABAQAAAAAAAQEAAAAAAAABAQEBAQEBAQEBAQEBAQEAAQEBAAAAAQEAAAAAAQABAQEAAQEBAQEAAAAAAAABAQEAAAAAAQEBAQEBAAEAAQEAAAEBAAAAAAABAQEAAAAAAAEBAQAAAQEBAQEAAAAAAAAAAAABAAABAQABAQABAQEAAAEAAAAAAAAAAQAAAQEAAAEBAQEAAAEBAQAAAAEAAQEAAAABAQEAAAABAQEAAQAAAQEBAAEAAQAAAAAAAAEAAAEAAQAAAQEBAQEAAQEAAAAAAAEAAAEBAAABAQEBAQEBAQAAAAAAAAABAQEAAAABAAEAAAABAQAAAQEBAQEAAAEBAAEBAQAAAAAAAAEAAQEBAQEAAAAAAAAAAAABAQEBAQEAAAAAAAABAAEAAAAAAAAAAAABAQAAAAABAQAAAAABAAABAQEAAAAAAAEBAAEAAAEBAQEBAQEBAQAAAAABAQEAAAEBAAEBAQEBAAEBAQAAAQEAAQEBAAEBAAAAAAAAAAEBAQEBAQEBAAAAAQEBAAABAQEBAQEBAQEAAAEBAQEBAAAAAQAAAQEBAQEBAQAAAAEAAQEAAQAAAQEAAQEAAQEAAAABAAAAAAAAAAEAAAEAAAEBAAEBAAEBAQEBAQAAAAAAAQEAAAEBAQABAQABAAAAAAABAAAAAAABAAAAAAABAAABAQAAAAABAQEAAQEBAAAAAAAAAAABAAAAAAEAAAEBAAABAAABAAAAAAAAAQEAAQEAAAEAAAAAAAAAAQAAAAAAAQEBAQABAAABAQAAAAABAQAAAAEAAAABAQEAAQEBAAABAQEBAAEAAQAAAAAAAQEAAQEAAAEBAQEAAQEAAQABAAAAAAABAQEAAQEAAAEBAQAAAQAAAAAAAQEBAQEAAQEAAQEAAAAAAAEBAQEBAQABAQAAAAAAAAEBAQEBAAAAAQEAAAEBAQEBAQABAQAAAAAAAQEBAQEBAQEAAAEAAAEAAAAAAQEAAQEAAAAAAAAAAQEAAAAAAAEBAAAAAAABAAAAAAABAQAAAAAAAAABAQEBAAABAQEAAAEAAQEAAAEAAQABAAABAQAAAAABAAABAQEAAQABAQEBAQEBAQEBAAABAQAAAAABAQEAAAABAQEBAQAAAAEBAQEAAQEAAQEAAAEAAAEBAAAAAAABAQEBAAAAAQABAQEBAQAAAAAAAAAAAQEAAAEBAQEBAAEBAQAAAAEAAAEBAAAAAAABAQEBAAAAAQABAQEAAAAAAQAAAAABAQEBAQABAQAAAAAAAAAAAQAAAAAAAAABAQABAAAAAQEBAQABAQEBAQAAAQEAAAABAAEAAAAAAAAAAAAAAAAAAAEBAQEBAQEBAQEBAQEAAAABAQEBAQABAQAAAQAAAQAAAAAAAAEAAQEAAQEAAAAAAAAAAAAAAAABAAAAAAAAAAAAAQEBAQAAAAABAAAAAAAAAAEAAQAAAQEAAAEBAAEBAAAAAAABAQAAAQABAAAAAAABAAAAAAAAAAABAQEAAAEAAAAAAQEBAAEBAAEAAAAAAQAAAAABAQEAAQAAAQEBAQEBAAEBAQAAAAAAAAABAQAAAAEAAAEAAAEAAAAAAAABAQEAAQEBAAAAAAAAAAAAAAAAAAAAAAEBAQAAAAABAQEBAAABAAEBAQEBAAEAAAAAAQABAAEBAQEBAQEBAQABAAEAAAAAAAEAAAAAAQEBAAEAAQEAAAEAAAAAAQAAAAAAAQEAAAABAAAAAQEBAAEAAQAAAAEAAQEBAQEBAQAAAAAAAAEBAQEAAAEAAQEBAAEBAQEAAQEBAAAAAAEBAQEAAQAAAQABAQEAAAAAAQEBAQABAQEAAAAAAAEBAQEAAAEBAAABAAAAAQEBAQEBAQEBAQEBAQAAAAAAAAEBAAAAAAAAAAEAAAEAAQABAQEAAAEAAAAAAAAAAAEBAQEBAAAAAAEAAAABAAEBAAEBAAEBAQABAQABAAEBAQEBAQAAAQABAAEBAAABAAAAAQEBAAABAQEBAQEAAAABAQEBAQEBAQABAQAAAAEBAQEBAAABAAABAAABAQAAAQEAAQEAAAAAAAEBAQEAAAEBAQEAAAABAQEBAQAAAQAAAAAAAQEBAAAAAAEBAAABAAABAQABAAAAAAABAQEAAAEBAAEBAAEBAQEBAAAAAQEBAQAAAQEBAQEBAAAAAAEBAAEBAQEBAAEBAQEBAAAAAAABAQEBAAEAAQEBAQEBAQAAAAEBAAEBAQEBAAEBAQABAQEAAAAAAAAAAAEBAAEBAQEAAQAAAAEBAQEAAQEBAQEBAQEBAAEBAQEAAAABAQEBAQEAAAEBAQEBAAABAAEBAQEBAQEBAAEBAQABAAABAQEBAQEAAAEAAAABAQABAQEBAQEAAAAAAAEBAQEBAQAAAQEAAAAAAAABAAEAAAEAAAABAQEBAQAAAAEBAQEAAAABAQEBAAEAAQEAAQEBAAAAAAAAAQEBAAEAAAAAAQEAAQEAAAABAQEAAAEBAAABAQEBAQEAAAABAAABAQEBAQEBAQABAAEAAAEBAQEBAAEBAAABAQABAQEBAQEBAAAAAAABAQEBAQAAAQAAAAABAQEAAAAAAAAAAAABAAAAAAAAAQAAAAAAAAABAAABAQEAAAAAAQEAAQAAAAEAAQAAAQABAAABAQEAAQEBAQAAAAABAAAAAAAAAAEBAQABAQEBAAEBAAEAAAEAAAEBAQEAAQAAAQABAAAAAAEBAAEAAAEAAQEBAQABAAEBAAEBAQAAAAAAAAAAAAAAAAABAQEBAQAAAAAAAAEAAQEBAAAAAQEBAQEBAQEAAAABAAEBAAAAAAAAAAAAAQEBAAABAQAAAQEAAAAAAAEBAQEBAAEBAQEBAAEBAQABAAAAAAEBAQEBAQEBAQABAAABAQABAQEAAQEBAQAAAAEBAQEBAAEBAQAAAQEBAQEBAAAAAAABAAEBAQEBAAEBAAABAQEAAAEAAAABAQAAAAABAAAAAAABAQEAAAABAAEAAAEAAQEBAQEAAQEBAQAAAQAAAAEBAAEAAQEBAQEBAQEBAAAAAAAAAAAAAAEBAAEBAQAAAQEAAAEBAQEAAAAAAAABAQABAQEBAAEAAQEAAAABAQEBAAEAAQAAAQEAAAEBAQEBAAABAQEBAAEBAQEBAQEBAQEBAAEBAAABAAABAAEAAAABAQAAAAAAAAEBAAABAAEAAAEBAQAAAQEAAAEAAAEAAQEBAAEAAQEBAQEBAQEAAQAAAQAAAQEBAQAAAQAAAAEBAAABAAEBAAABAAAAAAEBAQEAAQABAAEBAQEBAQEBAAAAAAABAAAAAQABAQAAAQEAAQEBAQEBAQAAAAEBAQEBAQEBAQABAQABAQABAQABAQEBAQAAAAEAAAABAQEBAQEAAAEAAAAAAQABAAEAAQAAAQEBAQAAAAAAAAABAQEAAAAAAQABAQEBAQABAAEBAAABAAABAQAAAQAAAAEAAAAAAAAAAAAAAQEAAAEBAAEBAAAAAAAAAQAAAAAAAAEBAAAAAAAAAAAAAAEAAAAAAAABAAEAAAABAQABAAEAAAABAAEAAAEAAAABAQEBAAABAAAAAAEAAAAAAAAAAAABAAEAAAAAAAEAAAABAQABAAAAAAAAAAABAQEAAQABAQEAAAABAAABAQEAAAAAAQEAAQEAAQEBAQEAAAAAAQEBAQAAAAAAAQEBAAABAQAAAAABAAABAAAAAQEBAAEAAQAAAAAAAAABAQAAAAEAAAAAAAAAAAAAAQEBAAAAAQABAAAAAQAAAAAAAAABAAAAAQEAAQAAAAABAQEAAAAAAQAAAAEAAQEAAAAAAQEAAAAAAAAAAAAAAQEBAQEBAQEAAQEBAAABAAEAAAAAAAEAAAAAAAEBAQAAAAEBAQAAAQEBAQAAAAABAAABAQAAAAAAAAAAAAEBAQAAAAAAAAAAAQABAAEAAQABAQABAAABAAABAQABAQAAAQEBAQABAQEBAAABAAAAAAEAAAABAAEBAAAAAQAAAAEBAQEBAQAAAAAAAQABAAAAAAAAAAABAAABAQEBAQABAQEAAQEBAQAAAQEBAAAAAAEBAQAAAAAAAAAAAAAAAQAAAAEBAQEAAAEAAQEAAQAAAAABAQABAQEBAAAAAAAAAQEAAAAAAAAAAAAAAAEAAAAAAQEBAQABAQEBAQEAAQEBAQEBAQEBAAAAAQEBAAEAAAABAQEAAQAAAQABAAAAAQEBAAEAAAABAQEBAQEAAQEAAAABAQABAAAAAAEAAQEAAQEAAAEBAAEBAQEBAQEAAAABAAEAAAAAAAEBAQAAAQEBAQEBAQAAAQAAAQEBAAABAQEAAAEBAQEAAAAAAAAAAAAAAQEBAAEAAQEBAQAAAAABAQABAAEAAAABAQEBAQEBAQEAAQEBAQEBAAEAAQEBAQEBAQABAAAAAAEBAAABAQEAAAAAAQAAAAAAAQEBAQEBAQEAAQAAAAABAAAAAAABAQEBAQEBAAABAQEBAQEBAQEBAQEBAQEBAQEAAQEBAQEBAQEBAAAAAQEBAAABAQEBAQEAAAAAAAABAQEBAQAAAQABAQEAAAAAAQEBAQAAAAABAAAAAAEAAAAAAAABAQEAAAEAAAAAAAAAAAAAAAABAQEAAAAAAAEAAAAAAAAAAQAAAAAAAAAAAQABAQABAAEAAAABAAEBAQAAAQEAAQEAAQEAAAEBAQEBAQAAAAAAAAAAAQABAAEBAQEBAQEAAAEBAAEBAQEBAAABAAEBAAAAAAAAAQABAQEBAQEBAQAAAQABAQAAAAAAAAABAQEBAAEAAQEAAQEBAAAAAAAAAAAAAQEAAQABAAAAAAABAAABAAEAAAABAQABAQEBAQABAQAAAQAAAAEBAAABAAEBAQEBAAAAAQEAAQEAAAEAAQEAAQABAAABAQABAAEAAAAAAAEAAQAAAAAAAAAAAQABAQEBAQEAAAEBAQEAAQEAAQEBAQEAAQABAQEBAQEBAQEBAQABAAAAAAAAAQAAAQAAAQAAAAEBAQAAAQEAAQAAAAEAAQEBAQAAAAABAAABAAABAQEBAQEAAQAAAAAAAQEAAQEAAAAAAQABAQAAAQABAQABAAEBAQEAAQAAAAEAAQEBAQAAAQEBAQEBAQEAAAEBAQEBAQAAAQAAAAAAAAAAAAAAAAEBAQEBAAABAQEAAQABAQEBAQEBAQAAAQEAAQEBAQEBAQEBAAABAAEBAAEBAAEBAQEBAQEAAQEBAQEAAAABAAEBAQEAAAAAAAAAAAEBAQEBAQEAAAEAAAABAQEBAQEAAAAAAAAAAQAAAAAAAAAAAAEBAAEAAAAAAQEBAQEBAQEAAAABAQEBAAEAAQAAAQABAAEAAQEAAAAAAAEBAQEBAAABAQEAAAAAAAAAAQAAAAAAAAABAQAAAAABAAABAAAAAQEBAQEBAAEAAQEBAQEBAQAAAAAAAAEAAAEAAAEBAQAAAQEBAQAAAAAAAAABAQABAQEBAQABAAEAAQABAQEAAQEBAQEAAAABAAEBAQEBAAAAAAAAAQEBAQEAAAAAAQEAAAEBAQEBAAEBAAAAAQEAAQAAAQAAAAEAAAAAAQEAAAAAAAEBAAAAAQABAAAAAAABAAEAAAAAAAEBAQEBAAAAAAAAAQABAAAAAQAAAQEBAQEBAQAAAAAAAAEBAQAAAQEAAQEBAQAAAQEBAQEAAQEBAQEBAAEBAQEBAAAAAAABAQEAAQAAAAAAAAAAAAAAAAAAAAAAAAEBAAEBAQAAAQABAAAAAAAAAAEBAQAAAAEBAQEBAQEBAQEAAAABAAEBAQABAAEBAQEAAAAAAAAAAQEAAAEAAQAAAQAAAAAAAAEAAAAAAQEAAQAAAAABAQABAQEAAQABAAAAAAAAAQABAQEBAQEAAAAAAAAAAAEAAAEBAQEBAQEBAQEBAAABAAAAAQEAAAABAAABAAABAQEBAAEAAQABAQABAQEBAAEAAAAAAAEBAQEBAQEBAAAAAQEBAAAAAAEAAQAAAQEBAQAAAAABAQEAAAABAQEAAAABAQAAAQEBAQEBAQEAAAABAQABAQABAQEBAAAAAAEAAAABAAEBAQEBAAAAAAABAQEBAQEAAAEBAQAAAAEAAAAAAAAAAAAAAAABAAEAAAAAAAAAAQABAQABAAABAAAAAAEAAQAAAQAAAAAAAAEBAQEBAQEBAAEBAQABAQABAQAAAAABAAEAAAAAAAEBAQEBAQEBAQAAAQAAAQEAAQEAAQEBAQEBAAABAQEBAQABAAAAAQEBAQAAAQAAAQEBAQAAAAEBAAABAQEBAAAAAAEAAAEBAQEBAQEAAAEAAAAAAQEAAAABAQEBAAEBAAABAQABAQAAAAAAAQAAAQEAAQEBAAABAQEBAAAAAAAAAAAAAAAAAAAAAQEBAQEBAAEAAAEBAAABAQEBAQEBAQEBAQEBAAEAAAAAAAAAAAAAAQAAAQAAAAEBAAAAAAABAQEBAQABAQEBAAAAAQEAAAEBAQABAAAAAAEBAQABAAAAAQEBAAEBAQEBAQEAAQEAAAAAAAAAAQAAAQAAAAEBAAAAAAAAAAAAAAABAQEBAQABAQEBAQABAAABAQEAAQEAAQAAAQEBAQEAAQAAAQEAAAAAAQEBAAAAAAABAAABAQAAAAEBAAAAAQEBAAAAAAAAAQEBAQEBAAAAAQABAQEBAAEBAAEAAQABAAABAQEBAQABAQEBAAEAAAAAAAEBAAABAAEBAQABAQEBAQABAQEBAQEBAQEBAQAAAAAAAAAAAQAAAAEAAQEBAQEBAAEBAAEAAAAAAAAAAAABAAABAQABAQEBAAABAQABAAAAAQEAAQEBAQAAAAABAQABAAABAAAAAQEAAAAAAAAAAAEAAAEAAAEBAAAAAAEAAQEBAQEAAAABAAAAAAEBAAABAAABAQEAAAAAAQEBAAAAAQEBAQEBAQAAAAAAAAABAQEBAQEBAAEBAQEAAQEAAAAAAQAAAAAAAAEAAAAAAQEBAQAAAAAAAQABAQAAAAABAQEAAAABAQEAAQEAAAAAAQABAAEBAAEBAAAAAAABAQAAAQEBAQAAAQAAAAABAQEBAQAAAAAAAAEBAQAAAQAAAAEAAAAAAAEBAQEBAQEAAAAAAQEAAAAAAQEBAQAAAAAAAAEBAAEBAQEBAAEBAAEBAQEAAAEBAAABAAAAAAEAAQEBAAABAQABAAEBAQEBAAEBAQEAAQEAAAEBAQEAAQEBAQEBAQAAAAAAAAAAAAEBAQEBAAAAAAABAQEBAQAAAQABAQEBAAAAAAAAAQABAQEBAAEBAQEBAAEBAAEBAAEAAAABAAAAAAAAAAEAAAEBAQAAAAABAQABAQEBAQEAAQEBAQEBAAAAAQABAAAAAAABAQEAAAEBAQABAAAAAAEBAAEAAAEBAQEBAQEAAAEAAAABAAAAAQAAAAABAQEBAQABAQABAAABAQEBAQAAAAEBAAEBAAAAAAAAAQEAAAAAAAABAAEBAAABAQEBAQABAQAAAAAAAAAAAAAAAQAAAQEBAQEBAQEAAAABAQEAAAAAAAAAAQAAAAAAAAEAAAEAAAABAQEBAQEBAAEBAQEBAQEAAAEBAAABAAEAAAAAAAABAQABAAEAAQEBAAABAAEBAAAAAAABAQEBAAEBAQEAAAAAAAEBAAABAQEAAQABAQEAAAEAAQEAAAEBAAEAAQEAAAEBAQEAAAEBAAAAAAAAAAABAQEBAAAAAAEAAQEBAQEBAQEAAAEBAQAAAAAAAAEBAQEBAQAAAAEBAAAAAQEBAAAAAAABAQAAAAAAAQAAAAAAAAEBAQEBAQAAAAAAAAABAQEAAAEBAQABAQEBAAAAAAAAAAABAQEBAQAAAQAAAAAAAAAAAAAAAQEBAQEAAAAAAAAAAAEBAQEAAQABAQEAAQEAAAAAAAAAAAAAAAEAAQEBAQEBAQABAQEAAQEBAAAAAAAAAAABAQAAAAAAAAEBAQEBAQAAAAAAAAAAAQEBAAEAAAEBAQEBAAEBAAAAAAEBAQEAAAABAQABAQABAAEAAAEAAQEBAQEBAQAAAQEAAQAAAAEBAAAAAAABAQAAAQEBAQEBAQEBAQABAQAAAAEAAQEAAQABAQAAAAABAQEAAAEAAAAAAAAAAQEBAAEBAAEBAAAAAAABAQEAAAEBAAEBAAEAAAAAAAEAAAAAAAABAQABAQEAAAAAAQEBAQABAAABAAEAAQEAAQEBAQEBAQEBAQEBAAAAAAEAAQAAAAEBAQAAAAEBAAABAQEBAAAAAQEAAAAAAAAAAQEAAQEBAQAAAQABAQABAQABAAAAAAABAQEAAQABAQABAQAAAQEBAAAAAAEBAAABAQAAAAABAQEAAAAAAAAAAAAAAAEBAQEAAAEAAAEBAAAAAQAAAAEBAQEAAAEBAAAAAAEBAQEAAAAAAAEAAQEAAAEBAQAAAAAAAQEAAAABAQAAAQEAAAAAAAEBAQEBAQAAAAEBAQAAAAEBAAAAAAABAQEAAAAAAQEBAAAAAQEBAAAAAQEBAAABAQAAAQABAAAAAQEAAQABAAAAAAAAAQABAQABAQEBAAAAAQAAAQABAQEAAAAAAQEBAQEBAQEBAQEBAQEAAAEBAQABAQEAAAEAAAABAQAAAQEBAAAAAAABAAEBAAABAAABAAAAAQAAAAEAAAAAAQAAAAAAAAAAAQEAAAAAAAABAQEAAQEAAAAAAAAAAQABAQAAAQEBAQEBAQABAAEBAQEAAQEAAAAAAQAAAAEAAAABAAAAAAAAAAEBAAABAQAAAQABAQEAAQEBAAAAAAABAQEBAQABAQEAAAAAAQEAAAEBAAEBAAABAAABAQABAAEBAQEAAQEBAQEAAQEBAQEBAQEBAAEAAAEAAQEBAQEAAAEBAAEAAAEBAQAAAAAAAAAAAAABAQEBAAEBAQAAAAAAAAAAAAEBAAAAAQABAAAAAQEBAQEBAQAAAAEAAQAAAQEBAAAAAQABAQAAAAABAQEBAQEAAAEBAQABAQAAAQEBAQEBAAABAQEAAQEAAAAAAAEBAQEAAAAAAAAAAAAAAAEBAQEBAQABAAABAQEBAQEBAQABAQABAQAAAQEAAQEBAAEBAQEBAQEBAQEBAQEAAQEBAAAAAAEBAAAAAQEBAQEBAQAAAAAAAQAAAAAAAQEAAAAAAAEAAAAAAAEAAQEBAAAAAQAAAAABAQEBAQEBAQEAAQABAQEBAQABAQEBAQAAAAAAAQEBAAABAQEBAQEBAQEBAAEBAAAAAAEBAAABAQEBAAEBAAEBAAAAAAEAAAABAAEAAQABAQAAAAEBAQABAAAAAAEAAAAAAQEAAAEBAQEBAQAAAAAAAAABAAAAAQAAAQEAAQEAAQAAAAEBAQAAAAABAAAAAAAAAAEAAAAAAQEAAQEBAAABAQEBAAABAQEBAQABAQEBAAEAAAABAAAAAAAAAAABAAABAAEAAQEAAQEBAAAAAQEBAQABAQEAAAABAQEBAQEAAQAAAQAAAAEBAQABAAAAAAAAAQEAAQEAAQAAAAAAAQEAAAEAAAEBAAABAAEAAQAAAQABAAEBAAEBAAABAAABAQEAAAEAAAAAAQABAQEAAAAAAAEBAQEBAQEAAAAAAQEAAQEAAQAAAQEBAAEBAQEAAAABAQEBAAEBAQEBAQEAAQEBAQEAAQEBAQEBAQEAAQEAAAAAAAAAAAEBAQABAQEAAAEAAQEAAAEBAAAAAAEAAAAAAQEAAQEBAQEAAAAAAQABAQEBAQABAAAAAQEAAQEBAQEBAQAAAAABAQEBAQEBAQEBAQEBAQAAAAABAQEAAAEAAAAAAQEAAAAAAQEAAQAAAQEBAQABAAEAAAAAAAAAAAEBAQEBAQABAQABAAEAAAAAAAEAAAAAAAEAAQABAAEAAQEAAQEAAQEBAQEBAQEBAAEBAAAAAAAAAAABAQEAAAEBAAEAAQAAAQEBAQEBAQEBAQEBAQEBAAEAAAAAAQABAAEBAQEAAQEAAAEAAAAAAAABAQEAAAABAQAAAQEAAQABAAABAAEAAQABAQEBAAAAAAABAQEBAQEAAAAAAAAAAQEBAAEBAQAAAQEBAQABAQEBAAEBAQEBAAEAAAABAQABAQABAQEBAAABAQEBAAEBAQEBAAAAAAEAAQEBAAEBAQABAAAAAAABAAABAQEBAQABAQEBAAEAAAEBAAEBAAABAAEBAAAAAAAAAQEBAQEBAAABAAEBAAAAAAEBAQEAAAEAAAEBAQEBAAEAAAABAQAAAAAAAQAAAQAAAAEBAAEAAAEAAQEBAQAAAQAAAAAAAQEBAQEBAQEBAQEBAQEAAQEBAQEBAAEBAQEAAQEAAQEBAAEAAAABAQEBAQEBAAEBAQEBAAAAAAAAAQAAAAEBAQEAAQEBAAAAAAABAAAAAQABAAAAAAEBAQEBAAEBAQAAAAEAAAEBAQAAAAEBAQEBAAEAAAAAAAABAAEBAQAAAAAAAAEBAQAAAAEBAQEBAAEBAAAAAQAAAAABAAABAAABAQABAAEAAQAAAQAAAAAAAAEAAQEBAQABAQEBAAEBAQEAAAABAQEBAQEAAAAAAAAAAQEBAQAAAQEAAQEBAAABAAEAAAAAAAAAAAAAAAAAAAAAAQEAAAAAAQEBAAEAAAABAQEAAQAAAAEAAAAAAAAAAAEAAAEBAAEBAQEAAAABAAABAQEBAQABAAABAAAAAQEBAQAAAQEAAAAAAAEAAAEAAQABAQABAAAAAAAAAAABAQABAAEBAQEBAAABAAEAAQEAAQEBAAEBAQEBAAAAAAAAAAEAAAAAAAEBAQEBAQEAAQAAAAAAAAAAAAEBAAEAAQEAAAEBAQEBAQEBAQEBAQEBAQAAAQEBAQAAAAEAAAABAQEBAAABAQEBAQABAQEAAQEBAAEBAQEAAQAAAAEAAAABAQEAAQEBAQEBAQEBAQABAQEBAQEAAQEBAQEBAAEBAAEBAAAAAAAAAQAAAAABAQAAAQAAAQABAAAAAAAAAAEAAQABAQABAAABAQEBAAAAAAEBAQEAAAEBAAAAAAEAAAAAAQEBAAAAAAABAAAAAAEAAQEBAQEBAAAAAAEBAAAAAQEBAQABAQEAAAEAAAAAAAABAQEBAQAAAAAAAQAAAAAAAAABAQAAAQEAAAAAAAEBAAABAAEBAQAAAQEBAQEBAQEBAQEBAQAAAQAAAAEBAQEBAAABAAEAAAAAAQEAAAEAAQEAAQEAAQEBAAEBAAAAAAAAAAAAAQEAAQEAAQEBAQEAAAABAAAAAQABAQABAQAAAQABAQAAAAEAAAEAAQABAQEBAQAAAQEBAQEAAAABAAABAAABAQEBAQAAAAAAAAAAAAAAAAAAAAEAAQAAAAABAAAAAQAAAQABAQEBAQABAAAAAQEBAQAAAAEAAAEAAAEBAAEBAAEBAQAAAQAAAAAAAAAAAAAAAQAAAAEBAQEAAQEAAAEBAAEAAQEAAQABAQAAAAABAQAAAAAAAQEBAAAAAAABAAAAAAAAAQEBAAAAAQAAAAEAAAEBAQAAAAAAAQABAAABAAABAQAAAAAAAAAAAAEBAQEBAQEBAQABAAEBAAAAAAEAAAAAAQEBAQABAQEBAQEBAAEBAQAAAAAAAQEAAAABAQAAAQAAAAABAQEAAQAAAAAAAAAAAAAAAQAAAAAAAAEBAQAAAAABAQEBAQABAAEBAQAAAAAAAAEBAQAAAAABAQEBAAAAAQEAAAAAAQEBAQEBAAAAAAEBAAEBAQEBAAEAAAEBAAAAAAEAAQEAAQEBAQEBAAEBAQEBAQEBAAEAAQAAAAAAAAAAAQEAAAEBAAABAAAAAAAAAAAAAAAAAQAAAQEBAQEAAAEBAAAAAQAAAAEAAAEBAAABAAABAAAAAAABAAAAAQEBAAEBAAAAAAAAAAEBAQABAAEAAAAAAAAAAQEBAQABAQABAAAAAAABAAAAAAAAAAABAAAAAAAAAQEBAQAAAAEBAAEAAAEAAQEAAQAAAQAAAAAAAQEAAQAAAAEBAQEAAQAAAAAAAQABAQEAAQEBAQEAAAAAAQEBAAABAQEBAAABAQEBAAEAAAEAAQABAAAAAAAAAAAAAAABAQEAAAAAAAAAAAEAAAEAAQABAQEAAAAAAAABAAAAAAEAAQAAAAAAAQAAAAEAAAAAAAEBAAAAAAABAAAAAAAAAQEBAQAAAAABAAAAAQEBAAAAAQABAQEAAAEBAQEBAAAAAAABAQABAQABAAEBAAEAAAABAAAAAAEAAQEBAAAAAQEAAAEAAQAAAQABAQEBAAEBAQEBAQABAQABAQABAAABAQEAAAABAAAAAAEBAQABAAEBAQABAAEBAAAAAAAAAAABAQAAAAEAAQAAAQAAAQABAAEAAAEBAAEBAQAAAAAAAAAAAQABAQEBAAEBAQEBAQABAAEAAAABAQEBAQAAAAABAAEAAAEBAQEAAQEAAQEBAQAAAAABAAAAAAAAAAAAAQABAAAAAAEAAAAAAAABAQEBAAAAAQEBAQAAAAABAQABAQAAAAABAQABAQAAAAAAAAAAAAAAAAAAAAAAAQEBAQAAAQAAAQAAAAEBAQAAAAABAAEBAAEAAAEBAQEBAQEBAAEAAAABAAEBAQEAAAAAAAABAQABAAAAAQEBAQAAAAAAAAAAAQEBAQEAAQEAAAAAAAABAQEAAAABAAAAAAAAAAEAAAABAQABAQEAAQAAAAABAAABAQAAAAAAAAEBAQAAAQEAAAAAAAEBAQEAAQEBAQEAAQEBAQAAAAEAAQEAAAABAQEAAAEBAAEBAQEAAAEAAQEBAAABAAAAAAAAAAEBAQABAQEBAAAAAAAAAQEAAAAAAAAAAQAAAQEAAAEBAQEBAAABAQEBAQABAAAAAAEBAQAAAAAAAAABAAEAAAAAAAABAAABAQAAAAAAAAABAQEBAAEAAQAAAAEBAQAAAAAAAAEAAAAAAAABAAAAAAEBAAAAAAAAAQEBAQEAAAAAAAABAQEBAQAAAQEAAAABAQAAAAEAAAEAAAABAQEBAAAAAAAAAAAAAQEAAQAAAAAAAQABAQEAAAAAAAABAQEBAAAAAAABAQEAAAAAAAEAAAEAAAABAAABAQEAAQAAAAABAQEAAAAAAAEAAAEBAQEBAQEBAAAAAQAAAQEAAAAAAAAAAAAAAAEBAAABAQEBAQEBAQEBAAAAAQEBAAAAAAAAAAAAAAABAAEAAQEBAQEBAQEBAAAAAQEAAAAAAAAAAAABAQEBAQAAAQEBAQEAAAEBAQAAAAEAAQEAAAEAAQEBAQEAAAEBAAABAQEBAQABAAEAAQAAAQEAAAAAAAAAAAABAAAAAQEAAQEAAQEBAQABAQEBAQEBAAAAAQEBAAEAAAAAAQABAQEAAQAAAQABAAEBAQABAAABAQABAQEAAAAAAAAAAQAAAQAAAAABAAAAAAABAAEBAAEAAAEBAAEBAAAAAAAAAAAAAQAAAAABAQEAAAEBAQABAAAAAAAAAAABAAAAAAAAAQEAAAEAAAEBAQEAAAAAAAABAQABAQAAAQAAAAAAAAEBAQEBAQEBAAEBAQAAAAEAAQABAAEAAQAAAQABAAABAAEBAAAAAQAAAQAAAAAAAAEBAAEAAAEAAAABAQEBAQEBAQABAQABAQEBAAAAAAABAAEBAQEAAQABAQEAAAABAAAAAAAAAAEBAQEBAAAAAQEAAAAAAAAAAAAAAAAAAAAAAQEAAAABAAAAAAEBAAEBAQAAAQEBAQABAAABAQABAAABAQEBAAEAAAEBAQEBAQEBAQEAAQEAAAEBAAAAAQEAAAAAAAAAAAEAAAEBAQEBAQABAQEAAAAAAAEBAQEAAQEAAQAAAQEBAAABAAAAAQAAAAEBAAABAAAAAAAAAQABAAABAAEBAAEAAQEBAAEAAAAAAAAAAQAAAQEAAAAAAQEBAQAAAQEBAAABAQAAAQAAAQABAQEAAQEAAQEAAQEAAQEBAQEAAAABAQEBAQAAAQAAAQEBAAABAAEBAQEBAQEBAAABAAABAAABAQAAAQAAAAEBAAAAAAEBAAEBAAAAAQEAAQEAAAAAAQEBAAAAAAEAAAAAAAEBAQEBAAEBAQEAAAAAAAEBAAAAAQABAAAAAQEBAAAAAAEBAAEBAQEBAAEBAQEBAQEBAQEBAQABAQEAAQEAAQEBAQEBAQEAAQEBAQAAAQAAAAEAAQEAAQEAAQEBAQEBAQABAQAAAQEBAQEAAAAAAAEAAAEAAAEBAAEBAAEBAQAAAQABAQEBAAABAAAAAAEBAQAAAAAAAQEBAAAAAAEBAAEAAQEBAAABAQABAQEAAQEAAAEBAQABAQEAAAAAAAEBAQEBAQEBAQEAAAEAAAAAAAEBAAAAAAAAAAEBAQAAAQEBAQEBAQABAAAAAAAAAAEBAQEAAAAAAAEBAAAAAQABAQAAAAEBAQABAQEBAQAAAAEBAQEBAQEAAQEAAAEBAQEAAQEAAQEAAAAAAAEAAAEBAAEBAQEAAAABAAAAAAEBAAABAAEAAAEBAAABAAAAAAEBAQEBAQAAAAEBAQEAAQEBAAAAAAAAAQEBAQEAAAEBAQEBAQABAQEBAQAAAAABAAAAAQEBAQEBAQEBAQAAAAAAAAABAQABAAAAAAAAAAABAAEAAAAAAQEBAQEAAQEBAQAAAAABAQAAAAEBAQEAAAABAQEBAQEAAQEAAAAAAQEBAAAAAQABAQABAQEBAQEBAAEAAQABAAEBAQAAAQEBAQAAAAABAQEBAQEAAQEBAQABAAEBAQAAAAEBAQABAQEBAQAAAQAAAQEAAAEBAAEBAQABAQEAAAABAQABAAEAAAEBAQEAAAEBAQAAAAAAAAABAAABAQEBAAEAAQEBAAEAAQAAAAAAAAABAAAAAAABAQAAAAAAAQAAAAEBAQABAQABAAEAAAABAAABAAAAAAAAAAABAQEBAQAAAQABAAAAAAEBAQEBAQAAAQEBAQAAAAAAAAEBAAEAAQAAAAEBAAEBAQABAQAAAQAAAQEBAQEBAAABAAEAAAEBAAEAAAAAAAEBAQEBAAABAQEBAQEBAAEAAAEBAQEBAQAAAAEBAAEBAAAAAQAAAAABAQEAAAABAAABAAABAAAAAAEAAAABAQEBAQEBAQAAAAAAAAABAQEBAQABAAABAAAAAAAAAAAAAQEBAAEBAQEBAAEAAAEBAAAAAAEBAAAAAQAAAQEBAQEAAQABAQEBAQAAAAEAAAABAAAAAAEBAQEBAQEBAAABAAAAAQABAQABAAAAAAABAQAAAAAAAQAAAQABAAEBAQAAAAABAAAAAQEAAAEBAQEBAQEBAQEAAQEBAQAAAAABAAEBAQEBAQABAQABAAEBAQEBAAEBAQAAAQEBAAABAAEBAAABAAAAAAAAAAAAAAAAAQEBAQEBAQEAAAABAAEBAAEBAAAAAAEBAQAAAQAAAQEAAQEBAQAAAQEAAAAAAAABAAEAAAAAAQABAQEBAQEAAAABAQEBAQEAAQEBAQAAAQAAAQABAQEBAQEBAQEAAAEBAQAAAQEAAAEBAQEAAQAAAQABAAAAAAABAQEBAQEBAAEBAQAAAAAAAAABAAEAAQAAAQEBAQEBAQEBAAEAAQAAAAAAAQEBAQEBAQAAAQAAAAEBAAAAAQEAAQEAAQEBAQEBAQEAAAEBAQEBAAABAAAAAAABAQEAAQAAAQEAAAABAQABAAAAAQABAAAAAAEAAAAAAAAAAAAAAAABAAEAAQEBAQAAAAAAAQEBAQABAAEBAQEBAQAAAQEAAQEAAAAAAQEAAQABAQAAAQEBAAEAAQEAAQAAAQEBAQAAAQEBAQEAAAABAQEAAAAAAAABAQEBAQABAQEBAAABAQAAAQAAAQEBAAABAQEBAQEBAQAAAQEAAAEBAAEBAQAAAQAAAAEBAQEAAAEBAAAAAAAAAAEAAAAAAQAAAQEAAQEBAQAAAQEBAQEAAAAAAAEAAAAAAQAAAAEBAQAAAAABAAABAQEBAQABAQAAAAAAAAAAAAEBAAAAAQAAAAAAAQEAAAABAAABAQEBAQEAAAEAAAEAAAEBAAEAAQEBAAAAAAAAAAEAAAAAAAAAAAAAAQEBAAAAAAAAAAABAAAAAQEAAQAAAQABAQEAAQEAAQEBAQEBAAAAAAEBAAABAQEAAQEBAQAAAAABAQEBAQAAAAABAQAAAQEBAQEBAAAAAQAAAAABAQEBAAABAAEAAQEBAAEAAQAAAQEBAAAAAAAAAAAAAAEAAQEBAQEBAQEBAAEBAQEBAQEAAQEBAQEBAQEBAQEBAAEBAQABAAAAAQEBAQABAQEBAQEBAQAAAAAAAAEAAAAAAQEBAQEAAAEBAQEBAQEBAQEAAQEAAQEBAAABAAEBAAAAAAABAQEBAQEAAAEBAQEBAQEAAQEAAAAAAQABAAAAAAABAQAAAAABAQEBAQEBAAAAAQEBAQEBAQAAAQEBAQAAAAABAAEBAAAAAQEBAQAAAAAAAAEBAQEBAQABAQEBAAEAAQEBAAABAAEBAAEBAQAAAQEAAAEAAAAAAQABAAAAAQEAAQAAAQEBAAEBAQAAAAEAAAEAAQEBAQEBAQEBAAABAAEAAQEAAQABAQABAAEAAQEBAQEBAQEBAQAAAAAAAAABAQEBAQEBAQEAAAAAAAEAAQEBAQABAAABAQEBAQEBAQEBAAEBAAAAAAEAAQEBAQEBAAEBAAEBAAABAAAAAAABAQEBAAEAAAAAAAABAQABAQAAAAABAAEAAAABAQABAQEBAAABAAABAQAAAAABAAABAQAAAQEAAQEAAQAAAQABAQABAAEBAAEBAQAAAQEAAQEBAAABAQEAAAABAQEBAQAAAAEBAQEBAAABAQEBAAAAAAEBAQEBAQEBAQAAAAABAQEAAAEAAQAAAQAAAQAAAQEBAAEAAQABAQAAAQABAAAAAAAAAAAAAAEBAQEAAAABAQEAAQEBAAABAQEBAQEBAQEBAAEBAAABAAABAAAAAAABAQEAAQAAAAEAAQEBAAAAAAABAAAAAAEAAQEAAQABAAEAAQAAAQAAAAEBAQEBAQEAAAABAAABAQAAAAAAAAEAAAAAAAEBAAABAQEBAQEBAQEBAAAAAAAAAAEBAAABAAABAAAAAQEBAQEBAAAAAAABAQABAQEBAQEAAAABAQEBAAEBAAAAAQEAAAEBAQEBAQABAQEBAQAAAQABAQEBAAAAAQAAAAABAAABAQAAAAAAAQAAAAAAAAABAQEBAQAAAAAAAQAAAAAAAQEBAQABAQEBAAEBAQEAAQEBAAEAAAAAAAABAAAAAAAAAAAAAAABAQEBAQAAAQABAQEBAQABAQAAAAAAAAABAAAAAAAAAAABAAAAAQEBAQEBAQEAAAAAAQEBAQAAAAAAAAAAAAEAAQAAAAEBAAAAAAAAAAEBAQEAAAEAAQAAAAEBAAAAAAAAAAAAAAABAAAAAAAAAAABAAAAAAABAAEAAAAAAQEBAQEBAAAAAQEAAQAAAAABAAEAAAEAAQEBAAABAQABAAAAAAEBAQEBAQAAAQABAQEBAAEBAAEBAQAAAAEBAAAAAAABAAEBAAABAQAAAQEAAAAAAAEAAAAAAAABAAABAQEBAQEBAAAAAQEAAQAAAQABAQEBAAAAAAAAAAEAAQEAAAAAAQEBAQEAAQEBAAAAAAAAAAABAAABAQAAAQEAAAEAAAAAAQEAAQAAAQEBAQAAAQEBAAABAQEBAAABAAAAAAABAQEBAAEAAQAAAAAAAAAAAAAAAAAAAQEAAAEBAQEBAQAAAQEAAAEAAQABAQAAAAAAAAABAQEBAAEAAQABAQEAAAABAQEBAAAAAAABAAAAAQAAAQEAAAEAAQEAAAAAAAAAAAAAAAAAAQEBAQAAAAAAAAAAAAAAAQEBAQEAAQEAAAABAQEBAQEAAQEBAQAAAAAAAAEAAQEBAQABAQEBAAABAQEBAQEBAQAAAAAAAQEAAQEAAQEBAAEBAQAAAAAAAAABAQAAAQEAAQABAQAAAQABAQEBAQEAAAABAQEBAQEBAQEAAQEAAQEBAQAAAAEBAQAAAQAAAQEAAAAAAQABAAAAAAEAAQABAAEBAAEAAQEBAAAAAAEBAQEBAQEBAAABAQEBAQEAAQEBAQAAAAEBAQEAAAEBAAEBAAEAAQEBAQEAAAABAAABAQEBAAABAAAAAQEBAQEAAAEBAAEBAQEAAAAAAAAAAAEBAQABAQAAAAAAAAABAAEBAAEAAAEBAAEBAQAAAAEBAAABAQEBAAEAAAAAAAEAAQEBAQEBAQEAAAAAAQABAQEAAAEBAAEAAAABAAAAAAAAAAABAQEAAAABAQEBAQEBAQEBAAABAAEBAQEBAAAAAAAAAQEBAAABAQEAAAAAAAEBAQEBAQEBAAAAAQAAAAEBAQAAAQAAAAAAAAAAAQEBAAEAAAEAAAAAAAEBAQEAAAEBAQAAAQEBAQEBAQEAAAAAAQEAAAABAQEBAQAAAQAAAAAAAAEBAQEAAAEBAQEAAQEAAAAAAQEBAQEAAAAAAAAAAQEBAQAAAAAAAAABAQEBAQABAQEAAAAAAAABAAABAQEBAQEBAQEBAAEAAQAAAAAAAQEBAQABAAEBAAAAAQEBAQAAAAABAQEBAAEAAQEAAAEAAAEAAAAAAQEAAAABAAABAQEAAQEAAQAAAAABAAABAQEBAAABAQABAQAAAAEBAQAAAQEBAAEBAAABAQAAAAAAAAAAAAEAAAAAAAEBAQAAAAABAQEBAAAAAAABAQEBAAABAQAAAAAAAQEAAAAAAQEAAAEAAAAAAAEAAQEBAAEBAQEBAAEBAAAAAQEBAQEAAQABAAABAAABAAEAAQEAAAAAAAAAAAABAQEAAQAAAAAAAQAAAAEAAAABAAEBAQEBAQEAAAEAAQEBAAEAAQEBAAAAAAAAAAAAAAAAAQEBAQEAAAAAAAABAAEBAAAAAAAAAAAAAAABAAAAAAAAAQEBAQEBAQAAAAAAAAAAAAEBAQAAAAEBAQAAAAEBAQEBAAEAAAEBAQEBAQAAAAABAAABAQAAAQEBAAAAAQEBAAAAAAABAQEBAQEBAQABAQEAAAEBAQEBAAEBAAABAQEBAQAAAQEAAQEAAAAAAAEBAQAAAAEAAAEBAAABAQEBAQEAAAEAAAEBAQEBAQEBAQEAAAAAAAABAAEAAQEAAAABAQEBAAABAAAAAAEAAQEAAAAAAAAAAQEBAQAAAQEBAQEBAQEAAQEBAAEAAQEBAQEBAAEAAQEBAQEBAAEAAAEBAAEAAQEBAAEBAAEBAAEBAQEBAQAAAAABAAEBAQEAAAAAAQEBAQEBAQEAAQABAQEBAQAAAQAAAQABAAAAAQEBAQABAQAAAQEBAQEAAQAAAAAAAAAAAQAAAQEAAAABAQABAQAAAQEBAQEAAQEBAQAAAQEAAAEBAAABAQEAAQEBAAAAAAABAQEBAQEBAAEAAAEBAQAAAAAAAQEBAAABAQEBAQEBAQEBAQEBAQABAAEBAQABAAABAQEAAQEAAAEBAQEBAQEBAAEBAAABAAEAAQAAAQEBAAAAAQEBAQEBAQEBAQEBAQEBAQEBAAABAQEAAQEBAQEBAQAAAQEBAQEAAQEAAAABAQEAAAEAAAEBAQEBAQEBAAABAQEBAAEAAAEBAQEAAAEBAQAAAAAAAQABAAEBAAEBAQEAAAABAQEBAAEBAAAAAQEBAQEBAQEBAAAAAAEAAAEBAQEBAAEBAAAAAQEAAAAAAAEAAAAAAQEBAQAAAAEBAQEBAQEBAQEBAAABAAEBAAAAAAAAAQEBAQEBAAAAAAEAAAEBAAEBAQAAAAEBAQEBAAAAAAEAAAABAQAAAAAAAAAAAQAAAAABAQAAAAEBAQEBAAEAAQEBAAAAAQABAQEBAAEBAAAAAAAAAQAAAQAAAAEBAAAAAAAAAAAAAAAAAAABAQAAAAEAAQEBAAEAAQEAAQAAAQEBAAAAAAEBAQABAQEBAQABAQABAAEAAAAAAAABAQEBAQEBAQAAAAABAAAAAAABAQEAAAAAAAAAAAEAAQEBAQEBAAAAAQEBAQEBAAABAAAAAQAAAAABAAABAQAAAQABAQEAAQEBAAEBAQEBAAAAAAEAAAAAAAABAQEAAQABAAAAAAEBAQEAAAEBAQEBAQEBAQEBAAEBAQABAQEAAAAAAQABAQEBAQEAAAAAAAABAQEAAQAAAQEAAAAAAAABAQEBAAEBAAABAQAAAAAAAAEBAQEAAAAAAQEAAQEAAQEAAAABAQABAQEBAAABAQEAAQEAAAABAAAAAAAAAAAAAAAAAQEBAAAAAQAAAAEAAAAAAQAAAQEBAQEAAAEAAQEAAAABAQAAAAEBAQEBAQEAAAABAAABAQEBAAEBAQEAAAEBAQEBAAABAAEBAAEAAAAAAAABAQEAAAABAQAAAQEBAAAAAAAAAAABAAEAAAABAAEBAQEBAQEBAAEBAQEBAQEAAAAAAQEBAQEBAQAAAQEAAAAAAAABAQAAAQEAAAAAAAAAAAABAQEBAQAAAQAAAAEAAAABAAAAAQAAAAABAQAAAAEAAAAAAAEAAQEBAQEBAQEBAQEBAQEAAQAAAAEAAQAAAAEBAAAAAQEBAAAAAAABAAAAAAEBAAAAAAAAAQAAAQABAAABAQEBAQEBAAEAAAABAAEBAAAAAAABAAEBAQEAAAEAAQEAAAABAAEBAAAAAAEBAAAAAQEBAQEBAAAAAAAAAAEBAQEAAAABAQEBAAEAAQEBAQAAAQAAAAABAQEBAQEBAQEBAAAAAAAAAAAAAAAAAAAAAAABAQAAAQEAAAABAAAAAQEBAQEAAQEAAAAAAAAAAAAAAAAAAAAAAAEBAQEAAAAAAQEAAAABAAEAAAABAQEBAQEBAAEBAQABAQAAAQEAAAABAAABAAAAAAAAAAAAAQABAQEBAQEBAAAAAAEBAAAAAQEBAQAAAQABAQEBAAABAAEBAQABAQAAAAEBAQEBAAEBAAAAAAEAAAAAAQAAAQEAAAEBAQAAAAEAAAABAAAAAQEBAAAAAAABAAEBAQEAAQEAAQAAAAAAAAAAAAAAAAEBAQEBAQAAAQEBAQAAAAAAAQEBAQEBAAAAAAABAQABAAAAAAAAAQEBAAEAAAABAQABAAEBAAEBAAABAQAAAAABAQEBAAEAAQEBAAAAAAAAAAEBAQABAAEBAQEAAAAAAQEBAQEBAAAAAAEAAAAAAAEAAAEBAAAAAAEBAQABAAEAAAEBAAEAAAABAQEBAQEBAAAAAAAAAAAAAAEAAAABAQAAAQEAAQEBAAABAAEAAAEAAQEBAAEAAQAAAAEAAAAAAAAAAAEAAAABAQAAAAABAAAAAAAAAQEBAQAAAAABAAABAAAAAQEAAQAAAAEBAQEAAAEBAAAAAQEBAAAAAAEBAAEAAQAAAQEAAAEBAQABAAABAAAAAAABAAAAAQEAAAAAAQEBAQEBAAEBAAEBAQEAAAABAQABAQEBAQABAAEAAQAAAQEBAQEAAQEAAAEBAAEBAAEBAAABAQEAAAEBAAEAAQEAAAEBAAAAAAAAAQABAQEBAAEBAQAAAQEBAQEBAAAAAAAAAQAAAAAAAAEBAAEAAQEAAQEAAQAAAQEAAAABAQEBAQAAAAEBAQEBAQABAQEBAAAAAAABAQAAAAABAQEBAAAAAAAAAAAAAAEBAQAAAQEBAQEAAQAAAAABAQAAAQEAAAAAAAAAAQEBAAEAAAAAAAEAAAEAAAABAAAAAQAAAQABAQABAQEBAAAAAAAAAQAAAQEAAQABAAEBAQAAAQEAAQEBAAEBAQEAAQEAAQEAAQEAAAABAAAAAAEAAAAAAQEAAAAAAAEBAAAAAAEBAQEBAAEAAAAAAQEBAAEAAAEBAAAAAAEBAQEBAQEAAAAAAAABAQEAAAEBAAAAAAEAAQAAAAABAQABAQAAAQABAQAAAAEAAAEBAQABAQEBAQEAAAABAAEAAAEBAQEBAAEBAQEBAQEAAAEAAAAAAAEBAAABAAABAAEAAQAAAQABAAAAAQEAAAEBAAEBAAEBAQEAAAEBAAEAAAAAAAAAAAEBAQEBAQEAAAAAAQABAQAAAAAAAQEBAAAAAAABAAABAAAAAAEBAQAAAQEAAQEBAQEBAQEBAAEAAAEAAQAAAAEAAAAAAAABAQEBAQEBAAABAQEBAQEBAQEBAAAAAAABAQEBAAEAAAAAAQABAQAAAAEBAQEAAAAAAAAAAAAAAAABAAEAAAAAAAAAAQABAAAAAAABAAEBAAEAAAABAQAAAQEBAQAAAAEBAQAAAAEBAAAAAAAAAAABAQEBAQAAAAEBAQEBAQEAAAAAAAAAAAABAQEBAQAAAAAAAAAAAAAAAAABAQABAQEBAQEAAAAAAAEBAQAAAQABAQABAAEBAAEAAAAAAQEBAQEBAAEBAQEAAAEBAQEBAQABAQAAAAAAAAAAAAAAAAAAAQAAAAAAAQEBAQAAAQEBAAEAAQAAAAAAAQAAAAAAAAEAAAEBAQAAAQEAAAAAAAAAAAABAQABAQAAAAAAAQABAAEBAAEBAAABAQAAAAAAAQAAAAABAQEAAQABAAABAQEAAAAAAAEAAQABAQEAAQEBAAABAAAAAQEBAQAAAAAAAAAAAAEBAAAAAAAAAQAAAAABAQAAAAABAQEBAQAAAAEAAQABAAAAAQEBAQEBAQEAAAAAAAABAQEBAQEBAQAAAAAAAAABAQEBAQEAAAAAAQEBAQEAAAAAAAAAAAABAQABAQEBAAEBAQEBAAAAAAAAAAABAQEBAQEBAQAAAAABAQEBAQEAAQAAAAAAAAAAAAABAQEBAAAAAAAAAAAAAAAAAAABAQEBAQAAAAAAAAAAAAAAAAAAAAAAAAABAQEAAQEBAQAAAAAAAAAAAQEBAQEBAQEBAAABAQEBAAAAAAAAAAAAAAAAAAEBAQEBAQEBAQEBAQEBAAAAAAAAAAAAAAAAAAAAAAAAAAABAQEBAQEBAQEBAQEBAQEAAAAAAAAAAAAAAAAAAAAAAAAAAAAAAAABAQEBAQEBAQEBAQEBAQEBAQEBAQABAQEBAAAAAAAAAAAAAAAAAAAAAAAAAAAAAAAAAAAAAAAAAAEBAQEBAQEBAQEBAQEBAQEBAQEBAQEBAQEBAQAAAAAAAAAAAAAAAAAAAAAAAAAAAAAAAAEBAQEBAQEBAQEAAQEBAQEBAAAAAQEBAQEBAQAAAAAAAAAAAAAAAAAAAAAAAAAAAAAAAAABAQEBAQEBAQEBAQEBAQEBAQEBAQEBAQEBAQEAAAAAAAAAAAAAAAAAAAAAAAAAAAAAAAAAAAAAAQAAAAAAAQEBAQEBAQEBAQEBAQEBAQEBAQEBAAEBAQAAAAAAAAAAAAAAAAAAAAAAAAAAAAEBAQEBAQEBAQEBAQEBAQEBAQEBAQEBAQAAAAAAAAAAAAAAAAAAAAAAAAAAAAEBAQEBAQEBAQEBAQEBAQEBAQEBAQEBAQEBAQEBAQEBAAAAAAAAAAAAAAAAAAAAAAAAAAAAAAAAAAAAAAAAAAABAQEBAQEBAQEBAQEBAAAAAAAAAAAAAAAAAAAAAAAAAAABAQEBAQEBAQEBAQEBAQEBAQEBAAAAAAAAAAAAAAAAAAAAAAAAAAABAQEAAAEBAQEBAQAAAAAAAAEBAQEAAAABAQEBAAAAAAAAAAEBAQEAAAAAAAAAAAEBAQEAAQEAAQEBAQABAQEBAAEBAQEBAAAAAQEBAQAAAAAAAQAAAQAAAQEBAAEBAQAAAAABAQEBAAAAAAEAAQEBAQAAAAEBAQEBAAAAAAEBAQEBAQAAAAEBAQEBAQEBAAAAAQABAQAAAAAAAAAAAAEBAAAAAAEBAQAAAAAAAAAAAAAAAQEBAQEAAAABAAABAQEBAQAAAQEBAQEAAAAAAQEBAQEBAAAAAAAAAAEBAQEAAAAAAQEBAQEBAQAAAAAAAAABAQEBAAAAAQEBAAAAAAEBAQEAAAAAAAAAAAEBAQAAAAAAAAEBAAAAAAAAAQAAAAABAQEBAQEAAAAAAAEAAAAAAAABAQEBAQEBAQAAAAAAAAAAAQEBAQEBAQEBAAAAAAAAAQAAAAAAAAEBAQEBAQEBAQEBAQAAAAAAAAEBAQAAAAAAAAAAAAAAAAABAQEBAQAAAAAAAAEBAQEBAQEBAQEBAQAAAAAAAAAAAAAAAQEBAQEBAQEBAQEBAAAAAAAAAAABAQEBAQAAAAAAAAAAAAABAQEBAQEAAAAAAAABAQEBAQEBAQEBAQEBAAAAAAAAAAAAAAEBAQEBAQEBAQEBAAAAAAAAAAEBAQAAAAAAAAAAAAEBAQEBAQEBAQAAAAAAAQEBAQEBAQEBAQEBAQAAAAAAAAAAAAAAAAABAQEBAAEBAQEBAQAAAAAAAAAAAAEBAQEBAQEAAAAAAAAAAAABAQEBAQEBAQEBAAAAAAAAAAAAAAABAQEAAAAAAAAAAAEBAQAAAAAAAAAAAAABAQEBAQEBAQEAAAABAQEBAQEBAQEBAAAAAAAAAQEBAAAAAAAAAQEBAQEBAAAAAAAAAAAAAQEBAAAAAQEBAQEAAAAAAAAAAAEBAQEBAAAAAAEAAAAAAAABAAAAAAAAAAAAAAAAAAAAAAAAAAAAAAAAAQEAAQEBAQEBAQEAAAAAAAAAAAAAAQEBAQEBAQEBAAEAAAAAAQEBAQAAAAABAQABAAAAAAAAAAEBAAABAQEBAQAAAAAAAAABAAABAQEBAQAAAAABAQABAQEBAQEBAQEBAQEBAQEBAQEBAQEBAQEBAQAAAQEBAQAAAAAAAAAAAAAAAAAAAAAAAAAAAAEBAQEBAQEBAQAAAAEBAQEBAQEBAAAAAAEBAQEBAQEBAQEBAQEBAQEBAAAAAAAAAAAAAAEBAAEBAQEAAAAAAAAAAQEBAQEBAQEBAQEAAAAAAAAAAAAAAQEBAQEBAQEBAQAAAQEBAQEBAQEBAQAAAAAAAAEAAAAAAAABAQEBAQAAAAEBAQAAAQEAAAAAAAAAAAAAAQEAAQEBAQEBAQEBAQEAAAAAAAAAAQABAAAAAAEBAQEAAAAAAQAAAAAAAAAAAAAAAAAAAAAAAAAAAQEBAQEAAAABAQEBAAAAAQEBAQEBAQABAAAAAAAAAAABAAAAAAABAAAAAAAAAAAAAQEBAQEBAQEBAQEBAAEBAQEBAAABAQEBAAAAAAAAAAAAAAAAAAEBAQABAQEBAQEAAQABAQEAAQAAAAEBAQEAAAAAAAAAAQEAAQEBAAAAAAAAAAABAAAAAQAAAQAAAQAAAQAAAAEBAQEBAQEBAQEBAQEBAAEBAQEBAQEAAAEBAQEBAQEBAQEBAQEBAQAAAAEAAAABAQEBAQEBAAEBAAAAAAAAAAAAAAAAAAAAAAEBAQEAAAAAAAAAAAAAAAAAAAAAAAEBAQEBAAAAAAAAAQAAAAAAAAAAAAAAAAAAAQEBAQEBAQEBAQEBAQAAAQEBAQEBAQAAAAAAAQEBAQEAAAAAAQEAAAAAAAAAAAAAAAAAAAEBAQEBAQAAAQEBAQEBAQEBAQEBAQEBAQEBAAABAAAAAAAAAAEBAQEAAAABAQEAAAAAAAAAAAABAQEAAAABAQAAAQAAAAAAAQAAAAAAAAABAQABAAABAQEBAQEBAQEAAQEAAQABAAAAAQEBAQEBAQEBAQEBAQEAAAAAAQAAAAAAAAABAQABAQAAAQAAAAAAAQABAAEAAAEAAQEBAQEBAAEAAAEBAAAAAAABAAAAAAABAQABAAAAAQABAQABAQEBAAEBAQABAAABAQEBAAABAAABAQEBAQABAQEBAAEAAAABAAAAAQABAQEAAAAAAAABAQEBAAAAAQEBAQEBAAABAQAAAAEBAQEBAAEAAAEAAQABAAAAAQEAAAEAAAAAAAAAAAEBAQAAAAABAQEBAAAAAAAAAAABAQEBAQEAAAAAAAABAAAAAAEBAAAAAQEBAQEBAAAAAQEAAAAAAAEBAQEAAQEAAAEBAAAAAAABAQAAAAAAAAAAAQABAQAAAAABAQEAAAABAQEBAQEBAQEAAAEBAAEAAAEAAQAAAAAAAQAAAQAAAQEAAQEBAQAAAAABAQABAQEBAQEBAAAAAQEBAQAAAQAAAAABAAAAAQAAAQABAAAAAAEAAAAAAAABAQAAAQEAAAEBAQEAAAABAAAAAAAAAAABAAABAQABAAABAQAAAQEBAQEBAQAAAAABAQEBAQEBAQABAQEAAQEAAAAAAAAAAQEAAQEBAQEAAAAAAAABAQABAQEAAAABAAEAAAABAAABAQEBAAAAAAAAAQEAAQEAAQAAAAAAAAEBAAABAQEBAQEBAAAAAAABAQAAAQEBAAAAAQAAAAAAAAEBAQEBAQEAAAABAQEBAAEBAAAAAQEAAAAAAAAAAAEAAQEAAAAAAAAAAQEAAQEBAQAAAAABAQEAAAAAAAABAAABAAABAQEBAAABAQABAAABAAABAQEBAQAAAAAAAAEAAQEAAAAAAAEAAAAAAQABAQEBAQEAAAAAAAABAAAAAAEAAAEBAAAAAQEBAAABAQEBAQEAAAEAAAAAAQABAQEBAAAAAAEAAQAAAQABAQAAAQEAAAEAAAAAAQEBAQEAAQAAAQABAQEAAAAAAQEBAAEBAQEBAQAAAAEAAAAAAQAAAAAAAQEBAQABAAEAAAABAQAAAAABAAABAAAAAAABAQEAAAEAAAAAAAABAQEBAAEAAAAAAQEAAQEAAAAAAQAAAQEBAQEBAQABAAABAAAAAQEAAAABAQABAQEBAQEAAAEAAQEBAAAAAAAAAQEBAAAAAAEBAAEBAAABAQABAQEAAAAAAQAAAQEAAAAAAQEAAAAAAAEAAAAAAAAAAAABAQEBAQABAAABAQEBAQEBAAEBAQEBAQAAAQAAAQEAAAEBAQEAAAAAAAABAQEAAAEAAQEAAAAAAQEBAQEBAQEBAAAAAAABAAEBAAEAAQEAAAAAAQAAAAAAAQAAAQEBAAAAAAAAAAAAAAAAAAABAQAAAAAAAAAAAAAAAQEAAQEBAQEAAAEAAAEBAQABAQEAAQAAAAAAAAEAAAEBAAEAAAEBAQEBAAEBAQEBAQEBAQABAQAAAAAAAAAAAQAAAAAAAQAAAAAAAAEBAAABAQAAAAEAAAABAQEBAQEBAQABAQAAAQEBAQEAAQABAQEBAAEBAQAAAAABAQEAAQEAAQAAAQEBAQAAAQEBAQEAAAEBAAAAAQEBAQAAAAAAAQEBAQEBAQEBAAAAAAAAAAABAAEAAQAAAAAAAAABAQEBAQEAAQAAAAEAAAAAAAEBAQEBAQEBAAEAAQEBAQABAQABAQEAAAAAAAEBAQEAAAEBAQEAAQAAAQEAAQEBAQEAAAAAAAAAAQEBAQEBAQEBAAABAQEAAAABAAEAAAEAAQAAAAABAQABAQAAAAAAAAAAAAABAQEAAAEAAAEBAQEBAQABAQEBAQEBAQAAAAAAAAEAAAABAQEAAQAAAQEBAAABAAEBAQEBAAEBAQABAQEBAQAAAAEBAQAAAAAAAAAAAAAAAAEAAQAAAAABAQEBAQEBAQEBAQEBAQEBAQEAAAEAAAAAAAAAAQEBAQEBAQEBAAABAAAAAAABAAEBAQEAAQEBAQAAAAAAAAAAAAABAQEBAAEAAAAAAAABAQEBAQEBAQAAAQAAAAAAAAEBAQEAAQABAQEBAQEBAQEBAQEAAQEBAQEBAAEAAAAAAQAAAQEBAQAAAAEBAQEBAQEBAQEAAAAAAAABAQEBAQEBAQAAAQEAAAAAAAEBAQAAAAEBAQAAAAAAAAAAAAEAAQEBAQABAAEBAQAAAAEAAAAAAAAAAAEBAQEAAAAAAQAAAAAAAAAAAAABAAEBAAABAAAAAQEBAQAAAAEBAQEBAQEBAQEBAQEBAQEBAAEBAQABAAAAAQEAAAAAAQEBAQEBAQEBAAABAAABAQEAAQAAAAEBAQEAAQEBAQEAAAEAAAAAAQABAQEBAQEAAQAAAQEBAQEBAQEBAAEAAQEAAQEBAQEBAQEBAAEAAAABAQEAAAAAAQAAAAAAAAAAAAABAQAAAAEBAAAAAAAAAAEAAQABAQAAAAAAAQEBAAEBAQAAAAAAAQEAAAAAAAAAAAAAAAAAAAAAAAAAAAAAAQEAAAEAAAAAAQEAAAEAAAABAQABAQAAAQAAAAAAAAABAAEBAQAAAQEAAAAAAAAAAAAAAAAAAQEAAQEBAAAAAAABAQEBAAEAAQEAAQAAAQABAQEBAQAAAQEBAQEAAQEBAQAAAQEAAQAAAQEAAQAAAAAAAAAAAAEAAQEBAQAAAAEBAAAAAAAAAAAAAQEBAAEBAQEBAAEAAAABAAEBAQEAAAAAAQEBAQEBAQEAAAEBAAEAAAAAAQEBAAABAQEAAAABAQAAAQABAQAAAAAAAQABAAAAAAABAQAAAQEAAAEBAAAAAQEBAQABAAAAAAEBAQEBAQEAAAEBAAAAAQAAAAABAQABAAAAAAAAAAAAAQAAAQEAAAEBAAAAAQEAAQEBAAAAAQABAQAAAAEBAAEBAQAAAAAAAAEBAQAAAAEBAQEAAAEBAQAAAQABAAEBAQAAAQAAAAEBAQABAQEBAQEBAAAAAAABAQEAAQEAAAABAQEBAQEBAAEBAQEBAQEBAAAAAQEBAQEAAAABAQEAAAABAQEBAAEBAQEBAQABAQEBAQEBAAEBAQEAAQABAQABAQAAAAEBAQEBAQABAAAAAQEAAAAAAQEBAQAAAQAAAQEAAQABAQABAQAAAAEBAAAAAQEBAQEBAQEBAQABAAAAAQAAAQEAAAAAAQEAAAEBAQEBAQABAQEAAQAAAQEAAAAAAAAAAAABAAABAAEBAQABAAAAAQEAAAAAAQEBAQEBAAAAAQEBAQAAAAEBAQABAQAAAAAAAAABAQEAAAEAAAABAQAAAAAAAQEAAAEAAAAAAAEBAQEBAAAAAAABAAAAAQEBAQEBAAAAAAABAAABAAAAAAAAAAABAQEBAAEAAQABAQEBAQEAAAAAAAEBAAABAQABAAEBAAEAAQEAAAABAQAAAQAAAAABAAEBAAEBAAAAAAABAQEAAAABAAAAAQEAAQEAAAEAAAEBAAAAAAEAAQABAAEAAAEAAAAAAQEAAQEAAQABAQEBAAEAAQABAQEAAAEBAAABAQABAQEBAQAAAAAAAAABAQEAAAEAAAAAAAEBAQEBAAEAAAEAAAABAAAAAAAAAAAAAAEBAAABAQEAAQEBAQEAAAAAAAAAAAEAAAABAQEBAAAAAAAAAQEBAAEBAQAAAQEBAQEAAAAAAAEBAAAAAAAAAQEAAAEBAAAAAQEBAAEAAAAAAQEBAAAAAQEAAQEBAQEBAAABAQEAAAEAAAAAAQEBAQEBAQEBAQEBAQABAAEBAQEBAAAAAAAAAAAAAAAAAAAAAAAAAQAAAAAAAAEBAAABAQAAAAEBAQAAAQAAAAEBAQABAQAAAQAAAAAAAAAAAQAAAAAAAAAAAQAAAAEBAQAAAAAAAQEAAQEBAQEBAQEAAAEAAAAAAAEBAQABAQAAAQEBAQABAQEAAAAAAAEBAQEBAQABAAEAAQEAAAABAAAAAAEBAAAAAAAAAAAAAQAAAAABAAAAAQABAQEBAQEAAQEBAQEBAAABAQEBAAEBAQEAAQEBAQEAAAEBAQAAAAEBAAABAAAAAAABAAABAQEAAQAAAAEBAAEAAAAAAAABAAAAAAEAAQEAAAAAAAEAAAAAAQAAAAEBAQEBAQEBAQABAQAAAQEAAQEBAQEAAAABAQEAAAAAAAAAAAABAQAAAQEBAQEBAQAAAQABAQEBAQAAAQAAAAEBAQAAAQABAQAAAQEBAAABAQEBAAAAAAAAAAABAAEBAQAAAAEBAAEBAAAAAAAAAQEBAAEBAQAAAQEAAAEAAAAAAAAAAQAAAAEBAAAAAQEAAQEBAAAAAAEBAAABAAAAAQAAAAAAAAAAAAABAAEBAQEBAQEBAAEBAQAAAAEAAAEBAAEAAAAAAAAAAQEBAQEBAAAAAQEBAAAAAQEBAAABAAEAAAAAAAEBAQEBAQABAAAAAAEAAAAAAAAAAAAAAQABAQEBAQABAAAAAAAAAAABAQEBAAAAAQAAAAAAAAAAAQEBAAAAAQABAQEAAAEBAAEAAAABAAEAAAABAAAAAAEAAAEBAQEAAAABAAABAQAAAAAAAAEBAQAAAQEBAQEBAAAAAAAAAQEBAQEBAQEBAQEBAAAAAQAAAAAAAAAAAAAAAQEAAQEBAQABAQEAAAABAQEBAQEBAQABAQEBAAAAAQABAAEAAQABAQAAAAABAQEBAQAAAQEAAQEBAQAAAQEBAAEBAQEBAQEBAQABAQEBAAABAQEBAQEAAAABAAEBAQEBAAAAAAEAAAABAQABAQEAAAABAQEBAAEBAQEAAQEAAAEBAQABAAABAQABAQAAAQAAAQEBAAEBAQAAAAABAAEAAAEBAQEBAQEBAAAAAAEBAAEAAAAAAAABAAEBAQABAQEAAAABAQEBAQABAQAAAQAAAAEBAAAAAAEBAQEBAAAAAAAAAQEBAQEAAAABAAABAQEAAAAAAAEAAQEBAAEAAAAAAAAAAAABAQEAAQABAAAAAQEBAAAAAAAAAQAAAAABAAAAAAEAAAAAAAEAAQAAAAEBAAABAQAAAQEBAQEBAQEAAAEBAQEAAQEBAAAAAQEAAQEAAAEBAQEAAQEAAAAAAAEBAQEBAQEBAQEBAQAAAQEAAQEBAQABAQEBAQEAAAEBAQEAAAABAAABAAAAAQEBAAEAAAEBAQEBAQEBAAAAAQEBAQEAAAEAAAAAAQABAQEAAAEAAAAAAAAAAQEBAQAAAAABAQEBAAEBAQEBAQAAAQABAQAAAAAAAAAAAAEAAAAAAQAAAQEAAAEBAAEAAQEBAQABAQEBAAEBAAAAAAAAAAEAAAABAAAAAQEBAAABAQEBAAABAQAAAQEBAQEBAQABAQABAAAAAQEAAQAAAAAAAQAAAAEBAAAAAAEAAQEAAAABAQEBAAAAAAABAQEAAQEBAAAAAQAAAQEAAAAAAAAAAQAAAAEBAQEBAAEAAAAAAAEBAQEBAQEBAAABAQEBAAAAAAEAAAEBAAEBAAAAAQEBAQABAQAAAQAAAAEBAQEBAAEAAQAAAAEBAQEAAAAAAAAAAQAAAQEBAAEAAAAAAAEBAQABAAABAAAAAQEBAQAAAAEBAAAAAAEBAAAAAQEAAQEBAQABAQEBAAEAAQEAAAABAQEBAQEBAQEAAAEBAQEBAQABAQEBAQEBAQABAAEBAAAAAAABAAABAAEBAQEBAQABAQAAAAAAAQEAAQAAAAAAAQEAAQEAAAEAAAAAAQAAAAABAQAAAAEBAAEAAAABAQEBAQABAAAAAAEAAAEBAAAAAQAAAAAAAAABAAAAAAEBAAAAAAEBAQEAAAEAAQEBAAABAAAAAAAAAQAAAQEBAAABAAABAQEAAAEAAAEAAAAAAAEBAAAAAAEBAQAAAQABAAAAAAAAAAEBAQABAQEAAQAAAAAAAQEAAAAAAAAAAQAAAAEBAQEAAAAAAAAAAQAAAQEAAAEAAAABAQEAAAABAQABAQEAAAAAAQEBAAAAAAABAQAAAQAAAQEBAQEAAQEBAAAAAQAAAAAAAAAAAAAAAAEBAAAAAAAAAAABAQABAQAAAQAAAAABAQEAAAAAAAAAAAEAAAEAAAEBAQEAAAAAAQEBAAAAAAEAAQABAAEBAAAAAQEBAAAAAQEAAQEAAQAAAQEBAAABAAAAAAAAAQAAAQAAAAAAAAABAQEBAAABAQAAAAABAAABAAABAAABAQEBAQAAAAAAAAABAAAAAQEBAAEBAAAAAAEBAAAAAQAAAAABAQEBAAAAAAEBAQEAAAEBAAEAAQEBAAAAAQEBAQABAAABAAABAQABAAABAQEBAAAAAQEBAQEAAQABAQEBAQAAAQAAAQEAAAABAQEAAAAAAAAAAAABAAABAQAAAAEBAAAAAAEBAAEAAQEAAAAAAAAAAAAAAQEBAQEBAAEBAQAAAAAAAAABAAEBAQEBAAEAAAEAAAAAAAAAAAAAAAAAAAAAAQEAAAAAAQEBAQAAAAEAAAEBAQEAAQEAAAEBAAEBAAAAAQAAAQEAAAAAAQEAAAEBAAEAAAEBAQEBAQEBAAAAAQEBAQEAAAABAQABAQABAAEBAQEBAQABAQABAAEBAQEBAQEBAQEBAQEBAAEBAQABAQAAAQAAAAEAAQEBAQAAAAABAAAAAAAAAAABAQEAAQEBAAEBAAABAAEBAAAAAQEAAQEBAAAAAAAAAAEBAAEBAQEAAAAAAAEBAQABAAAAAAAAAAEBAAEBAQABAAEBAQEBAAEBAQAAAQEBAQAAAAEBAAEBAAAAAAAAAAABAAEBAQEBAAABAQEBAQAAAAABAQEBAQEAAQABAAEBAAAAAAEBAQEBAQAAAAAAAQAAAAAAAQEAAAAAAAEBAQAAAAEBAAAAAAEBAQEBAQAAAAEBAAABAQAAAAAAAAABAAEBAAABAAAAAQAAAQEBAQEBAQAAAAEBAQEAAAABAQEBAQEAAAEBAQEAAQAAAAEBAQEAAAAAAQEBAQEBAAAAAAABAQAAAAAAAQABAAABAAEAAQAAAAAAAQEAAAEBAQABAQAAAAAAAAAAAQEBAQEAAAABAQAAAAABAQABAQEAAAAAAAEAAAAAAQEBAQAAAAAAAAAAAAABAAAAAAEBAQEBAAEBAQAAAAAAAQABAAEAAAABAAAAAAABAAEBAAAAAQEBAAAAAAABAQEAAAAAAAAAAQEAAAEBAAAAAAAAAQEBAQEBAQEAAQEAAQEAAQAAAAEBAQEBAAAAAQAAAAAAAAEBAQABAAAAAAEAAAABAQEBAQEBAAEAAQAAAAEBAAAAAQABAQABAAAAAAAAAAAAAQABAQEBAQEAAAABAAAAAQEAAAEBAQAAAQEAAQAAAQAAAAAAAQABAQAAAAAAAAEBAQEBAQEBAAEAAQAAAQABAQAAAQAAAAAAAAEBAQEBAQEAAQEBAQEBAQEBAQEBAAABAAAAAAAAAAAAAAEBAQEAAAEBAQEBAAAAAQAAAAAAAAAAAQEBAQABAQAAAAAAAAAAAQEBAAAAAQEAAAABAAAAAAAAAQABAQEBAQEBAAABAQEAAAEBAQEAAAAAAAEBAAABAQEBAQEBAQEAAAABAQABAQEAAQEAAAAAAQEBAQEAAQEAAAAAAQEBAQEBAAABAQABAQEAAAEBAAEBAQABAAEAAAAAAQEBAAAAAAABAAABAAABAQEBAAAAAAEBAQAAAQEAAAAAAAEAAAAAAQEBAQABAAEBAQEBAAAAAAAAAQEBAAABAQEBAAABAQEBAAAAAQEBAAAAAAABAAAAAQABAQEAAQEAAQABAQEBAQAAAAAAAAABAQAAAAAAAAABAAEAAAABAQAAAQABAQEAAQEBAQEAAAAAAAABAQEAAAAAAAEAAQAAAAAAAAAAAQEAAAEBAQEBAAAAAQAAAQEAAAABAQEBAAEBAAAAAAAAAQEBAQAAAQAAAAEBAQEAAAEBAQAAAQEAAAAAAAAAAAEAAQEBAAEAAQEAAAAAAAAAAAEAAAAAAQEBAQEAAQEAAAABAQABAQAAAQEAAAAAAAAAAAAAAAAAAAEBAQEAAQEBAQEAAAEAAQEBAQEBAQAAAAABAAEBAQABAQABAAABAAAAAAAAAAEBAQEAAQAAAAAAAQAAAQEAAAEBAQEAAAAAAAEAAAABAQEAAAABAAABAQEAAQAAAAAAAQEAAAEBAAABAAAAAQEBAQABAAABAAAAAQAAAQAAAAAAAQEBAQEAAQABAAAAAQEBAQEBAQAAAQABAQEBAQEBAAAAAAEAAAEAAAAAAAEBAQEBAQEBAQAAAAABAQAAAQEBAAAAAQEAAAAAAAEAAQEAAQAAAAEAAQAAAAEAAAAAAAAAAAAAAQEAAQEBAAABAQEBAQEBAQEAAQEAAAAAAAABAAEBAAABAAAAAAAAAAAAAQEAAAABAQEBAQABAAABAAABAAABAAAAAAABAAABAQEAAAAAAQAAAQEBAAAAAAAAAQEBAQAAAAAAAAABAAAAAQEBAAAAAAAAAQABAQABAAEBAQEAAAABAAABAAAAAQAAAAAAAQEAAQEBAQEBAQEAAAEBAAABAQEBAQAAAAAAAAABAQEAAAABAAAAAAABAAAAAAAAAAEBAQABAQEAAAEBAAABAAAAAQEBAQEBAQAAAAAAAAEAAQEBAQAAAAAAAAAAAAAAAQABAQEBAQAAAAABAQEAAAABAAAAAQEBAQEBAQABAQAAAAABAAEAAQEBAQEBAAEAAQAAAAAAAQAAAAAAAQEBAQAAAAABAQAAAAAAAAAAAAEAAAEBAQEBAAABAQAAAAAAAAEAAAAAAAAAAAEBAQAAAQEBAAAAAAABAAEAAAAAAAEBAQEBAAAAAAAAAAABAQEBAQEAAQEBAAABAQEBAAEAAQEAAAAAAQEAAAAAAQABAQAAAQEAAQEBAQEAAAABAAEAAAAAAAAAAAEBAQEAAAEBAAABAQEBAQAAAAABAAAAAAAAAAAAAAAAAQEAAAAAAAABAAAAAQEAAAABAAAAAQAAAAEBAAEAAAEAAAAAAAABAAEBAQEBAAABAAAAAAAAAAAAAAEBAQEBAAAAAAABAAEBAQEAAAAAAAABAAEAAAABAAAAAAEBAAAAAAAAAAABAQEBAAAAAAABAAAAAAAAAQEBAAAAAAEBAAEAAQEBAQEAAAABAQEAAQAAAAAAAAABAQEBAQABAQEBAAEBAQAAAQAAAQAAAAEAAAEAAAEAAAAAAQABAQEBAQABAQEBAQEAAAEAAAAAAAAAAAAAAAEAAQEBAQAAAAAAAAAAAAEBAQEBAQEBAQABAAEBAAABAQAAAAAAAQAAAAAAAAAAAQEBAQAAAAAAAAEBAAAAAQAAAAAAAAAAAAAAAAEAAAAAAAABAAEBAQAAAAABAAEBAQEBAAABAQEBAQEAAAEAAAAAAAEBAAAAAAAAAQAAAQEBAQEAAAABAAAAAQAAAQEBAAEAAQEAAAAAAQEBAAEAAAAAAAAAAAEBAQEAAAAAAAABAQEBAQEAAQAAAQAAAAAAAAEBAAABAQEAAQAAAAEAAAABAAAAAAEAAAEAAAEBAQAAAAAAAAEAAQABAQEBAQAAAQEBAAAAAQAAAAABAQEAAAAAAAAAAAABAQEAAAEAAAAAAAABAQEBAQEBAQEBAAEBAQABAQEAAAEAAAAAAQABAQABAQEAAQAAAAABAAAAAAEBAAEAAAAAAAABAAAAAAEBAAEBAQAAAAABAAABAQAAAAAAAAEBAQEBAQEBAAEAAQEBAAEAAAEAAQEBAQEBAQEAAAEBAQABAAABAQEAAAAAAAAAAAEAAQEBAAAAAQEBAAEBAQEBAQEBAAAAAAABAQEBAAEBAQAAAAAAAQEBAAABAQEAAAAAAAEBAQABAAAAAAEBAQAAAQEBAAEBAAEBAQEBAQEBAAEBAQABAAABAAAAAAAAAQEAAAAAAQAAAQEAAAABAQAAAAAAAAEBAQAAAQABAQAAAAEBAAAAAQAAAQEAAAEBAAEBAQEBAQABAQEBAAAAAQEBAQEAAAAAAQEAAAABAQEAAAEAAAABAQEBAQEBAQEAAAABAAAAAQEAAAABAQEAAQEAAQABAAEAAAABAAEAAAAAAQEBAQEAAQEBAAABAAABAQEBAQEBAQAAAAAAAQEAAAEBAQAAAAAAAQABAAAAAAABAQEBAAEAAAEAAAAAAAAAAAAAAAEBAQEBAQEBAAEAAQEBAQEBAQEBAQEBAQEAAAABAQEAAQEBAQEBAQEBAQEBAQAAAQEBAQEBAQEBAAABAAAAAAEBAQABAQEAAAEAAAAAAAABAQABAQEBAQABAAEAAQEAAAAAAQEBAQEBAQAAAAAAAAABAAAAAQEAAAAAAAEBAAAAAAEBAQEAAAEAAQEBAQEBAAAAAAEBAAEAAAEAAAAAAAEAAAABAQAAAAEBAAEBAAEBAQEAAQEAAQEBAQEAAQEBAQABAQEBAQABAAEBAQEAAQEBAQABAQEBAQEBAQEAAAEBAAEBAQAAAAEAAQEBAAEAAAEBAAAAAQEAAQAAAQEAAQEBAQEBAQEBAAEBAQEAAAABAQABAQEBAQABAAABAQEBAQEAAQEBAAEBAQAAAQEAAQEAAAEAAQEBAQEAAAEAAAABAAAAAQEBAQEAAQABAAEBAQAAAQABAAAAAAEAAAAAAAAAAQAAAAEBAQABAAAAAAAAAQAAAAAAAAEBAQAAAQEAAAEBAQEBAAEAAAEAAQEBAQABAAEBAQEAAQAAAAEBAQEAAQEAAAEAAAABAAABAQAAAQEBAQEBAAEAAQEBAAEAAAEAAAEBAQEBAAAAAAAAAQEBAQEBAAABAQEBAQEAAAABAQAAAAEBAAAAAQEBAQEAAQABAQEAAQAAAAEAAQEBAQEBAQABAAEAAAABAAEAAAEBAAABAQEBAAABAQEBAQEAAAAAAAEAAQEBAQEAAQEAAAAAAQABAAEBAAAAAAABAAAAAAAAAQAAAAAAAAAAAAABAAEBAQEAAAAAAQEBAAABAQEBAAAAAAEAAAABAQEBAQEBAAABAQAAAQEAAQEBAQAAAAABAAEBAAEBAAAAAAAAAAABAQEBAAEAAQEAAAABAQEBAQEBAAEAAQEAAAEAAQABAAAAAAEAAQEBAAABAQEBAQEBAQAAAAEAAAAAAQEBAQAAAAEBAQEBAAAAAAAAAAAAAAABAQABAAEBAQABAQEAAAAAAAAAAAAAAAAAAAEAAQAAAQEBAQEBAQABAAABAAAAAAEBAQAAAAABAQEBAAABAAEBAAABAQEBAQEBAQEAAAEAAAAAAAEBAQEBAAAAAAAAAAEAAAAAAAABAQAAAAAAAAEBAAAAAAEBAQAAAAABAAAAAQEBAQEBAAAAAAABAQAAAAEAAQEBAAAAAAAAAAABAAEAAAEBAAAAAAEAAAEAAAABAQABAQABAAABAAAAAQAAAAEBAQEAAAABAQEBAQAAAQEBAQEAAAEBAQEAAAEBAQAAAAAAAAABAQEBAQEAAAABAQEAAQABAQEBAAEBAAAAAQAAAAABAAEAAQAAAAAAAQEBAQABAAAAAQEBAQEBAQEBAQAAAAABAQAAAAABAAEAAAAAAQEBAQABAAEBAQABAQEBAAABAQABAQAAAAEBAQEAAAAAAAABAQAAAAAAAAAAAAEBAQAAAAAAAQEBAAAAAAEBAAEAAAAAAAAAAAEBAQEBAAEAAQEBAQABAAABAQEBAQEBAQEBAQEBAQAAAQEAAAABAQEBAQABAQABAQEAAAEAAQEBAQABAAABAQEBAAAAAAEBAQABAAEBAAAAAAEBAQEBAAAAAAEBAAAAAAEBAAAAAQEAAQEBAQAAAAABAAAAAAEAAAABAQABAQAAAAAAAAAAAAEBAAABAQEBAQAAAAAAAAAAAAAAAAAAAQAAAAAAAAAAAQAAAAABAAEBAQEAAAAAAQEBAQEBAAAAAAABAQEBAQAAAQABAQEBAAAAAQEBAAAAAAAAAQAAAAAAAAAAAAABAQEAAAAAAAAAAQAAAQEAAAAAAAAAAQEAAAEAAAEAAQEBAQEBAQAAAAABAQEBAAABAQAAAAAAAAAAAQEBAQEBAQEBAAAAAAAAAAABAQABAQEBAQEAAAEBAQEBAQEAAQEBAQEBAAEBAQEBAQEAAAAAAQAAAAEAAQEBAQEAAQEAAQAAAQAAAAAAAAABAQAAAQABAQEBAQAAAAABAQEBAQEAAAEAAQEBAQEBAAEBAAEAAQEAAAAAAQAAAQEBAAEAAAAAAAAAAQAAAAEBAQEAAAABAAABAQAAAAEAAQEBAQAAAAABAQAAAAABAQAAAAAAAAAAAAEAAQEAAAAAAAAAAAAAAAABAQEAAQEBAAABAAAAAAAAAAABAAEAAAEBAQABAQAAAQABAQEBAQAAAAEAAAEAAQEBAQEBAAEAAAEBAQAAAAABAQEBAQAAAAABAAABAAAAAAEAAQEBAAAAAAEBAQEBAQABAAAAAQEBAQAAAAEAAAAAAAAAAQAAAAEAAAAAAAEBAQAAAAEBAQAAAQEAAQAAAQAAAQEAAQEBAQAAAAEAAQEAAQEAAQEBAAEBAQAAAQEAAQEBAAEAAQABAAEBAAEAAAABAQEBAAEAAAAAAAEAAAAAAQEAAAAAAAEBAQEBAQEAAAEBAQEAAAABAQABAAEBAQAAAQAAAAEBAQEAAQEAAAABAQEBAQEBAQEAAAABAQEBAAABAQABAAABAAAAAQAAAQEAAAAAAAEBAQEBAAEAAQEAAAAAAAEAAQEAAQAAAQEAAAEBAAEBAQEAAAAAAAEAAAABAAAAAAEBAQAAAQEBAQEAAAAAAAEAAAAAAAAAAAEBAQEAAAEBAQEBAQEBAAABAAAAAAABAQEBAAAAAAABAQEBAAEBAQEBAQEAAQAAAAEAAAABAQAAAQAAAQAAAAABAAAAAAAAAAABAAAAAQEBAQAAAQEBAQEBAAEBAQABAAAAAAABAQEBAAEBAAABAAAAAAEBAQAAAAEBAAAAAQEAAQEBAAAAAAABAAEAAQABAQEBAAEBAQEBAQEAAAEBAQEBAQABAQEAAQABAAAAAQAAAQEBAAEAAAAAAQEBAQEAAQEBAQAAAAEBAAAAAAABAQAAAQAAAQEBAAEAAAAAAAAAAQAAAAAAAQEBAQEBAQEAAAAAAAEBAQEAAAABAAABAQEBAQEAAAAAAQAAAAABAAEAAAEBAQEBAQEBAAAAAAAAAAEAAQEBAAEBAQEBAQABAAABAAAAAAAAAAAAAAEBAQEBAAAAAAEBAQEAAAEAAQEBAQEAAQABAQEBAQABAQAAAAEBAQABAQEBAQABAAAAAAEAAQAAAQABAAAAAQEBAQEBAQEBAAABAQAAAQEAAAAAAQEAAAABAAEBAQABAAABAAEBAAAAAAABAQAAAAABAAAAAQEBAQAAAQEBAQEBAAAAAAAAAAABAAAAAAAAAAAAAAAAAAAAAQEBAQAAAQEBAQAAAAAAAAEAAQEAAAABAAABAQEBAQAAAQEAAAAAAAAAAAABAAAAAAABAAAAAQABAAAAAQABAAEBAAABAQEBAQAAAAABAQEBAQABAAEAAQAAAAEAAQEBAQEBAQEAAQEAAQEBAAAAAAEBAAEBAAAAAAAAAQEBAQEAAAAAAQEBAQAAAAABAAEAAAAAAAEAAAEBAAAAAAABAAEBAAABAQEBAQEBAQEBAQABAAAAAAABAQEBAQABAQEAAQAAAAAAAQEAAAEAAQEBAQEBAQABAQEAAQAAAAABAQEAAQEBAAEBAAEAAAAAAQEBAAABAQEAAQEAAAAAAQEBAQABAQAAAQEBAQAAAAAAAAEAAQEAAAABAQAAAAEBAAEBAAABAAEBAQEBAAAAAQEBAQEAAAAAAAAAAAEAAAEBAAABAAAAAAABAAAAAAAAAAABAQABAQABAAABAAAAAAEAAQABAQEBAAAAAAABAAAAAAAAAQEBAQEAAAAAAAABAAAAAAAAAAAAAAABAAAAAAABAQEBAQAAAAABAAABAQEAAAABAAABAAAAAAABAAAAAAAAAQEBAAAAAAAAAQEAAQAAAQABAAAAAQAAAAABAAABAQAAAAABAQEBAAAAAAAAAAAAAAEBAQABAQEBAAAAAQAAAAABAAABAQEBAQEAAQABAAEAAQAAAAEBAQEBAQAAAQEBAQAAAAEBAQAAAAEAAAAAAQABAQEAAAEBAQABAAAAAAABAAAAAQEBAQEBAQEBAQAAAAABAQEBAAABAQAAAAABAQABAQEBAQEBAQABAAEBAAAAAAABAQEBAQEBAQEBAQAAAQAAAAAAAAABAQEAAAAAAAAAAAABAQEBAQEBAQEBAAAAAQEBAQEBAAAAAAAAAAABAQEBAQAAAAEBAQAAAAAAAQEBAQEBAQEAAAAAAAABAQEAAAAAAAAAAQEAAAEBAQABAQEAAAABAQAAAAEBAQEAAAABAAAAAAAAAAAAAAABAQAAAAAAAQEBAAAAAAEAAQEAAQEBAAAAAAAAAAAAAQEBAQAAAAEBAQEAAAABAQEBAQEAAAEBAAAAAAEBAQEAAAAAAAEAAAAAAAABAAEAAAEBAAABAQAAAQEBAQEBAQEBAAAAAAEBAQEBAAAAAQABAQEBAQEBAAEAAQEBAQEBAQAAAAEBAQEAAQEBAAEAAQAAAAAAAAABAAEBAQEBAQEAAAAAAAAAAQEBAQAAAQABAQEBAAABAQEAAAAAAAABAQAAAQABAQEAAAEBAQAAAAEBAQEBAAEAAAAAAQAAAQAAAQAAAAABAAEBAQEBAQEBAAAAAAAAAAAAAAEBAAAAAAEBAQEAAQAAAAEAAAAAAAABAQEBAAEBAQAAAAABAQEBAAEBAQAAAQEBAAABAQEBAQEBAAAAAQEAAQEBAQAAAAAAAQEAAQAAAQABAQAAAAAAAQAAAAEAAAAAAAEAAAABAQEBAQEBAAEBAQEAAAAAAAAAAAEBAQEAAAAAAAEAAAEBAQEBAQEBAQAAAAAAAQABAAEBAQEBAQEAAQEBAAEAAQEBAAEBAAAAAAAAAAAAAQAAAQABAQAAAAAAAAABAQABAQEBAAAAAAAAAQEBAQEAAAEBAQABAQEBAQAAAAEAAQAAAAEAAQAAAQABAAAAAAAAAQEBAQEAAAAAAQEBAAABAQEAAAAAAAABAQEBAQAAAAEBAAAAAAEAAAAAAAEAAQAAAAEAAAAAAQEAAQEAAAAAAAAAAAABAAABAAABAAEBAAABAQAAAAABAQEBAQEAAAAAAQEBAAEBAQEBAAABAAAAAQEBAQABAQEBAAABAQEAAAAAAAEBAQEBAQEBAQAAAAABAQEAAQEBAQEBAAABAAABAQAAAAABAQEBAQAAAQAAAAAAAQEAAQEBAQEAAAEBAAEBAQABAAAAAAABAQEBAQEAAQEAAAAAAQAAAQAAAAEBAQABAQAAAQAAAAAAAAAAAAAAAQABAQEAAQAAAAAAAAEAAAEBAQEAAQAAAQEBAAAAAAABAAABAAAAAAEAAQEBAQAAAAAAAQEAAAAAAAABAQABAAAAAQEAAAAAAAABAAEAAQEBAQABAAABAQEAAQEBAQEBAAEAAAABAAABAAEAAAABAAAAAAEAAAAAAAEAAAEBAQEAAAEBAQEBAAABAQEBAQEAAAABAQEBAQEBAQABAQEBAAABAQAAAQEAAAEBAAAAAAABAAAAAQAAAAEBAQEBAQAAAAEBAQABAAEBAQEBAAEBAQAAAQAAAAAAAQABAAABAQABAAEBAQEAAAABAAEAAAAAAAEBAAAAAAAAAAAAAAEAAQEAAAAAAAAAAQEBAAEBAQEBAQEBAAEAAAABAAABAQEBAQEAAQABAQEBAQEBAAAAAAABAAEBAQEBAQEBAQABAQEBAQABAQAAAAAAAAABAAABAQAAAAAAAQEAAAABAQABAQAAAAABAAEBAQAAAAABAQEBAQAAAQEBAQEAAAAAAAAAAAABAQEAAAAAAAEAAAEBAQEAAAEBAQAAAQAAAQEAAAEBAAAAAQAAAAABAQAAAQEBAQEBAQEBAQABAQAAAQABAQEAAQEBAQABAQEBAAAAAAAAAAEBAQAAAAEAAAAAAQEBAQABAQAAAAAAAAAAAQABAAAAAAABAQEAAAABAQEAAQAAAAAAAAABAAEAAAAAAQEAAQEBAQEAAAEAAAEBAQABAQABAQEAAAEAAQEBAQEBAAABAQEAAQEAAAEAAAABAQEBAAABAQEBAQEAAQEBAAABAQAAAQEBAAABAAAAAQEAAAAAAAEBAQEBAQEAAAEBAAABAQAAAAAAAAAAAAAAAQEBAQEBAQEBAAABAAABAAABAQEBAQEBAQEAAQABAQABAQAAAAEAAQEAAQEBAAABAAAAAAAAAAEAAAABAQEBAQAAAAABAAAAAAAAAQAAAQAAAQEAAAABAQABAQEAAAEAAQABAAEAAAAAAQAAAAABAQEBAQAAAQEBAAAAAAABAAEBAAAAAAEBAAABAQEAAAAAAQEBAAAAAAABAAAAAAEAAQAAAAAAAAAAAAEAAQABAQEBAAEBAQEBAQABAQABAQEAAAEBAQAAAQEAAQABAQAAAAEBAQEAAQEBAQEAAAABAQABAQEBAAAAAQAAAQEBAQEAAQEBAQEAAAAAAAAAAAAAAAAAAAAAAAEAAQEBAAAAAQABAQABAQEBAQEAAQAAAQEBAQEBAAAAAAAAAQEAAAABAQAAAAEAAAEBAQEAAAABAQEBAAEBAAAAAAAAAAABAQEBAQAAAAEAAQAAAQABAQAAAAAAAAAAAAAAAAEBAQABAAAAAAABAQAAAAAAAAAAAAAAAAEBAQEBAQABAAABAAAAAAEAAAAAAAAAAAABAAEBAAAAAQEAAQABAAAAAQEBAQEBAAABAQEBAQABAQEBAQEAAAAAAAAAAAAAAAEAAQEAAAEBAQEBAQAAAAAAAQAAAAAAAQAAAAABAAABAQAAAQEAAQEBAQEBAAABAAAAAQEBAQEBAQAAAAAAAAAAAQEBAAABAAAAAAABAQEBAQEAAQEBAAAAAQEBAQAAAAAAAAEAAAEBAQAAAQEBAQEBAAAAAAAAAAAAAAEAAAEBAAABAAAAAAAAAAABAQEBAQEBAQEAAQAAAQABAAAAAAABAQEBAAAAAAABAQEBAAAAAAAAAAEBAAAAAQEBAQEAAQEBAQEBAAAAAAAAAAAAAAEAAAEAAAEBAQAAAQAAAQEBAQAAAAAAAAAAAAAAAAAAAQAAAAABAQAAAQEBAQAAAQABAQAAAQEBAAAAAAEBAQEBAQEAAQEAAQABAAAAAAEAAQABAAAAAAAAAQEAAAEAAQEBAQEBAQEAAAEBAQEBAAEBAAAAAAABAAEAAQEBAQABAQEBAAABAQEBAQEAAAEAAQEBAQABAAABAAAAAQAAAAABAQEAAQAAAAEBAQABAQEAAAAAAQEBAQEAAAABAQAAAQAAAQEAAAEBAQAAAQEBAQEBAQABAAAAAQABAAEBAQEBAQABAQEBAAAAAAAAAAEAAAEAAAABAQAAAAABAAABAQEAAQAAAAEAAQAAAQEBAQAAAAEAAAEAAAEBAQEBAAAAAAEBAQABAAABAQEBAQEAAAEAAQEAAQEAAQEAAAEAAAEAAQABAQEBAAAAAAEBAAABAQAAAAAAAAEAAAAAAAEBAAAAAQAAAAAAAQEBAQAAAAABAQABAQAAAQEBAAABAAEBAQAAAQABAQEAAAAAAAABAAAAAQAAAQEBAAABAQABAQEBAQAAAAEAAQAAAAAAAAAAAAAAAQEBAAEBAQABAQEAAAAAAQEBAQAAAAEAAQABAAAAAAAAAQEBAQABAQEBAQAAAQABAQAAAAAAAAAAAQEBAQEBAAAAAAABAAEAAAEAAAEAAAABAQAAAAEBAAABAQEBAQAAAQEBAQEBAQEBAAABAAAAAQABAQEBAAAAAQEAAAABAQEAAQAAAAAAAQEBAQEBAQAAAQEBAQEBAQEBAAAAAQEBAQEAAQEBAAEAAAEBAQABAQABAAAAAAEBAQEBAAABAQEBAAEBAQAAAQABAAEBAQAAAAEBAAEBAAAAAAABAQABAQABAQEBAQEBAAEBAQABAAAAAQEBAQEBAQABAQAAAQEBAAEBAAABAAAAAAEBAQAAAAAAAAEAAAEBAAAAAAEBAQAAAQABAAEBAQEAAQEAAAEBAQEAAQEBAAEBAAEBAQAAAQEBAAEBAQEBAQEAAAABAAAAAQAAAAEAAAABAQAAAQEBAAABAQAAAQEAAQABAQEBAQAAAAABAQEBAQAAAAAAAAABAAEAAQAAAAABAQEBAQABAAAAAQAAAAAAAAABAAAAAQABAQEBAAAAAAAAAQEAAAAAAQAAAAABAQEAAAAAAAAAAAAAAAABAQABAQEBAQEBAQABAQEAAQEBAAEBAQEBAQEBAAEAAQEAAAAAAQABAAEBAAAAAQEBAQEAAAEBAAEBAQEBAAABAAEBAAAAAQEBAAEAAAAAAQABAQEAAAAAAAEAAAAAAQEBAAEBAAAAAAAAAAAAAAAAAQABAQAAAAABAQAAAQEAAAAAAAEBAQABAAAAAAAAAQABAAEBAAEAAAABAQABAAEBAAAAAQAAAQEBAQABAQEBAAABAAABAAEBAQEAAAAAAAEBAAEAAQAAAQEBAQEBAQAAAAEBAAAAAAAAAAAAAAAAAQAAAQEAAQEBAAABAQABAQEAAQABAQAAAQAAAAEAAAAAAAAAAQEAAAEAAQEBAQABAAEAAAAAAAAAAAEAAAABAAAAAQEAAQEBAQEBAQEBAAAAAQEAAQEBAQEBAQEAAAABAAEBAQEBAQEAAQAAAAABAQAAAQEBAAEBAAEBAQEBAQEAAAAAAAEBAQAAAAEBAQABAQEBAQAAAAAAAAABAAAAAQEAAQAAAAEBAQABAQEAAQAAAQAAAAAAAAAAAAABAQEAAAEAAAAAAQEAAAABAQEBAAAAAQEBAAAAAAEAAQAAAQAAAAABAAAAAAAAAQEAAAAAAQEBAAEBAQEBAAEAAAAAAAAAAAAAAAAAAQEAAAAAAAEBAAABAQAAAQEBAQEBAAAAAQABAAABAQEAAQAAAAEBAQEBAAEBAAABAQEAAQEAAQEAAQABAAABAAAAAAAAAAEBAAEBAAEAAQEAAAAAAAAAAAAAAQAAAQEAAAAAAQAAAAEAAQEBAQEAAAAAAAAAAAEAAAEBAAAAAAAAAAEBAQABAAEAAAAAAAAAAQEAAAEBAQAAAAAAAAABAQEAAQAAAAABAQEBAQEAAQABAAAAAQABAQABAAEAAAABAQEAAAAAAAAAAQAAAQAAAQAAAAAAAAEBAQABAQEBAQEBAQEBAQAAAQABAQABAQEAAQEBAQEAAQEAAQEAAAAAAAABAQEBAQAAAQEBAQAAAAABAAABAQEAAAEBAQEBAQAAAAAAAAAAAAABAQEBAQAAAAAAAAEBAQEAAAAAAAAAAAAAAAAAAQEBAAAAAAEBAQAAAAAAAAABAQEAAAABAQEBAQEBAQEAAAEBAQEBAAAAAQAAAQABAQAAAAEBAQABAAEAAAAAAQEAAAABAAEAAAEAAAABAAABAQEAAQEBAAAAAQABAAAAAAEBAQABAAEBAAEBAQAAAQEBAQAAAAEBAQEBAQAAAAABAQEAAAAAAQAAAAABAQEBAAEBAAAAAQEBAQAAAAEBAQEAAAABAQAAAAABAQAAAQEBAQEBAQEBAQEAAQAAAQEBAQAAAAEBAQAAAAAAAAABAQEAAAAAAAAAAAABAQAAAAAAAQEBAQEAAAAAAAEBAQABAQEAAAAAAAEBAAEBAAAAAAABAQABAQEBAQEBAQABAQEBAAABAQEBAQAAAAAAAQEBAQAAAAAAAAEAAAABAQEBAQABAQEBAQEBAAAAAAAAAQAAAAEAAAABAQAAAAEAAQEBAQAAAAEBAAEBAQEBAQAAAQEAAQAAAQAAAAEBAQEAAAAAAQAAAAABAQEBAAEBAAEBAAABAAAAAAABAAEAAAEBAQABAAAAAQABAAEAAQAAAQEBAAEAAQEBAQEBAQABAAABAAEAAAEBAAAAAQEBAQABAAAAAQABAAAAAQEBAQEAAAEBAAEBAQEAAAEAAAABAQEBAQEAAQAAAQEBAAAAAAEAAAAAAAAAAAAAAAEAAQABAAABAQEAAAAAAAEBAQEBAAAAAQAAAAEBAQABAAAAAAAAAAAAAQABAAABAAAAAAAAAQAAAQEBAAAAAAAAAAEBAQABAAEBAAAAAAAAAQEBAQEAAAAAAAEAAAEBAAEAAAAAAAAAAAEBAQABAAEBAQAAAAAAAQAAAQABAQEBAQEBAQEBAQEAAAEBAAAAAAEBAAEAAQEBAAEBAQEBAQEBAAAAAAAAAAABAQEBAQEBAQABAQAAAQEBAAAAAQEBAQEBAQEAAQEAAAAAAQEBAQEBAAABAQEAAQEBAQEAAAEBAQEAAAAAAAAAAAAAAAAAAAABAAABAAABAQEBAQEAAQEBAQAAAAEAAAAAAAAAAQAAAQEBAQEAAAEBAQEBAQEBAQEBAQABAQEBAQABAQABAQEAAAAAAAABAQAAAAEBAQEBAQEBAAABAAABAAAAAAABAQEBAAABAQEBAAEAAAEBAAAAAQAAAQEBAQEBAQEBAAEBAAABAQAAAAEBAQAAAAAAAQAAAQABAQEAAQEBAQAAAAAAAQEBAQEBAAEBAQAAAAAAAAABAQEBAAEBAQEBAQEBAQEAAQABAQEAAAAAAAAAAQEBAQAAAQEAAAEBAQEAAQEBAQEAAAEAAQEBAAEBAQEBAQAAAQEBAAABAQABAQABAAEBAQAAAAAAAAAAAQEBAQABAQEBAQEAAQEAAAEBAAABAAAAAAEBAQAAAAAAAAABAQEAAAAAAAEBAAAAAAEBAQEBAAABAAEAAQABAQEBAAAAAQEAAAEAAQABAQEAAQEBAAABAQABAQEAAAABAQEBAQEAAAABAAAAAQAAAQABAQEBAAABAQEBAQABAQEAAQEAAAEAAQAAAAEBAQABAQEBAQEBAAABAAEAAQEBAAABAQEBAQEBAQEBAAEBAQAAAQAAAAEAAQEAAAAAAAABAQABAQAAAQEAAQEAAAEAAQEBAAABAAABAQAAAQEBAAAAAAABAQEAAQABAAABAAAAAAEBAAAAAQEAAQAAAQEAAAAAAAAAAAAAAAABAAEAAQEBAQEBAAABAAAAAQABAQEAAAAAAQAAAQABAAABAQEAAQEAAAABAAEAAAAAAAAAAQEBAAAAAAABAQEBAQEAAAAAAAAAAQEBAAEAAAABAAAAAAAAAAABAQEAAQABAQEAAAEBAQABAQEBAQEAAAEBAQEBAAAAAAABAQAAAAEBAQAAAAAAAQEAAAEBAQEAAAAAAAAAAAEAAAABAQEAAQAAAAAAAQAAAQEAAAABAQABAAEAAAEBAQEBAQEBAAAAAAABAAEBAQEBAQEBAQEAAAABAAEBAQABAAEBAAEBAAEBAAABAAAAAAEBAQEBAQEAAQEBAAEBAQEAAQEBAAEAAAEBAAABAQEAAAABAAEBAQEBAQEBAAAAAAABAAEBAQABAQEBAQAAAAAAAQAAAQEBAQEAAAAAAAAAAAEBAQEAAQEBAQAAAAABAAAAAAEBAQABAQEAAAAAAQEAAAAAAAABAQEAAAAAAAABAQEBAQEBAQEAAQEBAQEBAQEAAAEAAQEBAQEAAQEAAQEBAAAAAQEBAQAAAAEBAQABAQEBAQEAAAAAAQEAAAEAAQABAQEBAAABAQEBAAAAAAEBAQEBAAEBAQEAAQAAAQAAAAAAAQEAAAABAAAAAAAAAQEBAQEBAQAAAQEBAAEAAAEAAQAAAAAAAQAAAQAAAQEAAAABAQABAQAAAAAAAAABAAAAAAAAAAEBAQEBAQEAAAEBAQEAAQAAAQEAAQEAAAEAAAEAAQEBAQEAAQAAAAEBAQEBAQEBAQEBAQEBAAAAAAAAAQEBAAEBAQEBAAAAAAEBAAABAQEBAQEBAQABAQEAAAEAAAAAAAABAQEBAQEBAQEBAAAAAQABAAAAAAAAAAAAAQEBAAEBAAEBAAEBAQEAAAAAAAABAAAAAAABAQAAAAABAAAAAAABAQAAAAAAAQABAQAAAAAAAQEAAQAAAAEAAAABAAAAAAAAAQEAAQAAAAEBAAAAAQEBAQAAAAABAAEBAQEAAQEAAQABAAAAAAABAQABAQAAAAEAAQEAAAEBAQAAAQEAAQEBAQABAQEBAQEAAAEAAAABAAAAAAAAAAEBAQAAAAABAQAAAAEAAQEAAQEAAQEAAAEAAAABAQEBAAABAQEBAAAAAAABAAEBAQEBAAAAAQABAQEBAQEAAQEBAQAAAAAAAQAAAAAAAAEBAAEAAAAAAAAAAAAAAAABAQAAAAEBAQEBAQEBAQEBAQEBAQEBAQEBAQEBAAABAQEBAQEAAAEBAQAAAAABAQAAAAEBAAABAQEBAQABAAAAAAAAAAAAAQAAAQABAQEAAAAAAAEBAQAAAAEBAQEBAQEAAAAAAQABAAEAAQAAAAAAAQABAQABAAAAAAABAAABAAABAQABAAAAAQAAAQABAAAAAAAAAQABAAAAAAAAAQAAAAEBAQEBAAAAAAAAAQEBAAAAAQEAAQEBAQAAAAABAQEAAAABAQEBAQABAQAAAAAAAAAAAAABAAEAAAAAAAEBAAAAAQAAAAABAQAAAAAAAQEBAQEBAAEAAAAAAAABAAAAAAAAAQEAAQABAAAAAQEBAQEBAAEAAAEBAQEAAAAAAAABAAEAAQEAAQABAQEAAQAAAAAAAAABAQEBAAEAAAAAAQABAAAAAAAAAQEBAQEAAQEBAQAAAAAAAAAAAQABAQAAAAAAAQEBAQAAAAEAAQEBAAAAAAAAAQEBAQEBAQABAAAAAAEAAAEAAAEBAQAAAQAAAQEBAAABAQEBAQAAAAAAAQAAAQAAAQABAAABAQAAAQABAQABAAEBAAEBAQEBAQEAAQAAAQEBAAEBAQEBAAABAQABAAABAQEAAAABAQAAAAAAAAEBAQEBAQEBAQEBAQEBAAABAQEBAAAAAQEAAQEBAQEAAAAAAQEBAQAAAAABAQEBAQABAQAAAAEAAAABAQEBAQEAAQEAAAEAAAABAAAAAQEAAAAAAQABAQEAAAEBAAABAAAAAAAAAQABAQAAAAEAAQEBAQEBAAAAAQEAAQEBAQEAAAEAAAEBAQEAAAAAAAAAAAEBAAEBAQABAQEBAAEAAQEBAAEBAQAAAQEAAAAAAAAAAQABAAEBAQEBAQEBAQAAAQEBAAEAAAAAAAEBAQABAAABAQEAAQEBAQEAAAABAQEAAAEBAQEBAQEAAAEBAAABAAAAAAEBAQEBAQAAAQEAAAEAAQABAAEBAAEAAAEAAAABAQEBAQEBAQAAAAEBAQEBAQEAAQEBAAABAQEBAAAAAQAAAAEAAAABAQAAAQEAAAABAAAAAQAAAQABAQAAAQEAAAABAQEAAAAAAQEBAAABAAABAQABAQAAAAEBAQABAAEAAQABAAAAAQAAAQEAAAEAAAABAQEBAQEAAQEAAAABAAAAAQABAAEAAQEBAAEBAQEAAQAAAQAAAAAAAAEBAQEAAAAAAQEAAAABAAAAAAAAAAAAAQAAAAABAAAAAQABAQAAAQEAAAEAAAEBAQEAAQAAAAEAAAABAQEAAQEAAAEBAQEBAQABAQAAAAAAAAAAAAAAAQEBAQEAAQEAAQABAAABAAABAAABAAAAAAAAAAEAAAAAAAEBAQEBAQEBAQAAAQEAAQEBAAEBAQEAAQEBAAABAQEBAQABAQAAAQEAAQABAAEBAQEBAAAAAAEBAQABAAEBAAABAAABAAABAQEBAAABAQEAAAAAAAEBAQEAAAAAAQEBAQEBAAAAAQAAAAAAAAEBAQEBAQABAAAAAAABAQABAQEAAAEAAAAAAAAAAAEBAQEBAQEBAQEAAAEAAQAAAQEBAAEBAAEAAAEAAAABAQABAQABAQEBAQEAAQABAAEBAAAAAAEBAAAAAQEBAQEBAQEAAAAAAAAAAAEBAQAAAAABAQEAAAAAAAAAAAAAAAEBAQEBAQEAAAEBAAEBAQAAAAEBAAABAAEBAAEBAQAAAAABAQEAAAEAAQEAAAAAAAAAAQEAAAAAAQEBAQEAAAEAAAAAAAEAAAABAQEBAAEBAAABAQEAAAABAQEBAAEAAQAAAQAAAAAAAQAAAAEAAAEBAQABAAEBAQEAAQEBAQEBAQAAAAAAAAABAQEBAQABAQEAAAABAAEBAAEBAAEAAAABAQABAQABAQEBAAAAAQEBAAEBAQAAAQABAAEBAQEBAQEBAQEAAAAAAQEBAQABAQAAAQAAAAABAAEAAQAAAAEAAQABAAEBAQEBAAABAAABAQEBAQEAAQAAAAEAAAABAQAAAAAAAAABAQEBAQAAAQEBAAAAAAEBAQAAAQABAQEAAAAAAAAAAAABAAAAAQAAAAEAAAABAQAAAAEBAAABAAABAAABAAEBAQAAAQEBAAAAAQEAAAEAAAAAAAEBAAAAAAABAAEBAQAAAAEBAQABAQEBAAABAAEAAAAAAAAAAAAAAAEAAQEAAQABAAAAAAABAQAAAAEBAAAAAAEBAAAAAAAAAQABAAAAAAEBAAEAAAEBAAAAAAAAAQEAAAABAQEBAQAAAAEAAQEAAQEAAQEAAAAAAAABAQABAAEBAAAAAAABAAEBAQAAAAABAQEBAQAAAQEAAAAAAAAAAAAAAAEAAAEBAAEBAQEBAQEAAAABAQAAAAABAQAAAQABAQEBAQEBAQEAAAAAAAAAAAEBAQAAAAEAAAAAAQEAAAAAAAEAAAABAAEAAAABAQEBAAAAAAEBAAABAQAAAAEAAAAAAAEAAAAAAQEAAQEAAAABAQEBAQEBAAEBAAAAAQABAAEBAQEAAAEBAQAAAAAAAAEAAAEAAAAAAAEAAAEBAQEAAQEAAQEBAQEAAAAAAAABAQABAAEBAAEAAQEBAQEBAQEAAAEAAAAAAAAAAQAAAQEAAAAAAAAAAAEAAQEBAAEBAQEAAQEAAAEBAAEAAQEAAQAAAAAAAQEBAQEAAAABAAEBAQEBAAEAAAAAAAAAAQAAAQEBAAAAAAABAQEBAAAAAQABAQEAAAEAAAEBAQEBAQEAAQEBAQEAAQEAAQEBAAEBAQEBAQEBAAEBAAAAAAAAAAAAAQEBAAABAQAAAQEAAQAAAQEBAQEBAAEBAQEAAAEBAQEAAAAAAAEBAQEAAQABAQABAQEBAQEBAQAAAQEAAAEBAQEAAQAAAQEBAQEBAAEAAAAAAAAAAAEAAQEAAAAAAAEBAAEBAAAAAQEBAQABAQEBAQAAAQEBAQEBAAAAAQEBAAAAAAEAAQAAAAAAAQEAAQABAQEBAAEBAQEAAQEBAQEBAAABAAABAQEBAAAAAQAAAQAAAAAAAAABAQAAAAAAAQEAAAEBAQEBAAAAAQEBAQEBAAAAAAABAAAAAAEBAAABAQEAAQEBAAABAAAAAQEBAQAAAAAAAAEBAAEAAQABAAABAQEAAAEBAAEBAAEAAQEBAQEAAAAAAAEBAAABAQABAQABAAABAAEBAAAAAQABAQAAAQEAAQEBAQAAAAAAAAAAAAEAAAAAAQEAAAABAQAAAAEBAAABAQABAAABAQEAAAEBAQEBAAEAAQAAAAABAQEBAAAAAAABAQEAAQABAAEAAQEBAAAAAAAAAAAAAAEBAQEAAAABAQAAAQAAAAEBAQEBAQEAAAAAAAEAAAEBAAABAAAAAAABAQEAAQEBAAEBAQABAAABAAABAQEAAAAAAAAAAAAAAQEBAQAAAQEAAAABAQAAAAEAAAAAAAEAAQEAAAEBAQABAQAAAAAAAQEBAQABAAEAAAAAAAABAQEBAQAAAQAAAAAAAAEBAQEAAQEAAAABAQAAAQEAAQAAAQEAAAAAAAEBAAEAAAEAAQAAAAAAAAEAAAAAAQAAAAAAAAABAQAAAAAAAAEBAQEAAQEBAAABAAABAQAAAQEAAQAAAAAAAAAAAAAAAAABAQEBAQEBAQEBAQAAAAAAAQEBAQAAAAAAAAEBAAEBAQEBAQABAAEBAQEBAQAAAQAAAQAAAAEBAAAAAAEBAAAAAQEBAAEBAQAAAAAAAAAAAAEAAQAAAQAAAQABAAAAAQEBAQEAAQAAAAABAQEAAQEBAAABAAEBAAAAAAABAQEBAAEBAQEBAQAAAAEBAQEAAAEAAQAAAAEAAQAAAAEBAQEBAQEAAAABAAEAAAAAAAABAAAAAAAAAQEAAQEAAQAAAQABAAEAAQEBAQEBAQABAAAAAAEBAQEBAQEBAAEBAQAAAQAAAAEBAQEAAAEAAAAAAAABAQEBAAEBAQEBAQEAAAABAQAAAAEBAAEAAQAAAAABAAAAAAABAQABAQAAAQABAAAAAAABAQEBAQEBAQEAAQEBAQABAQABAAABAQAAAQEBAAAAAAABAAEBAAEBAQAAAAAAAAAAAAAAAQEBAQEBAAEBAAEBAAEBAQAAAQAAAAEBAQAAAAAAAQABAQAAAQEBAAAAAAABAQAAAAAAAAEBAQAAAAABAQEBAQEBAQEBAAEAAAAAAAABAQEBAAABAQEBAQAAAQAAAAEBAQABAAABAQEAAAEBAAABAQABAQABAQABAAEBAQEBAQEBAQABAQAAAAAAAAAAAAABAQEAAAEAAQAAAAEAAQAAAAEAAQEBAAEAAQABAQAAAAAAAQEAAAEBAAEAAQEBAQEBAQAAAAAAAAAAAQAAAAAAAAAAAQEBAQEBAAABAQABAAAAAAEAAAEBAQABAAAAAAAAAAABAQABAQEAAAABAQEBAQEAAQAAAAABAAEBAAAAAAAAAAEBAQAAAQEAAAEBAQABAAAAAAABAQEBAAABAQAAAAABAAAAAAEAAAABAQABAQEBAAABAAAAAAEBAQEAAAAAAQABAQABAQAAAQAAAAEBAQAAAQABAAAAAAEAAAEBAQAAAAAAAAAAAAEBAAEBAAAAAAEAAAAAAQEBAQEAAQAAAAABAAEAAAEAAAABAQEAAQEBAQEAAAEBAQEAAAABAAABAQEAAAEBAAABAQABAAEBAQEBAQAAAAAAAAEAAQAAAAABAAEBAQABAAEBAAABAAEBAAABAQEBAQAAAAEBAQAAAQAAAAAAAAABAQAAAAEAAAEAAQEAAAEAAQAAAQABAAAAAAABAAAAAAABAAAAAAEAAAEAAAAAAAEBAQEBAQEBAAEAAQABAQEAAQEBAAAAAAABAAEBAAEAAAAAAAABAQABAAAAAAEAAQEBAQEAAAABAQEBAQEBAQEBAQEBAQAAAQABAQAAAAABAAAAAAABAQABAQEBAQEAAQABAAABAAAAAQEBAAEBAQEBAAAAAQEBAQAAAQABAAAAAAEAAAEBAAEBAQEAAQAAAAEAAAAAAAAAAAABAQEBAAEAAQEBAQEAAAEAAQEBAQEAAAEBAQAAAAAAAAEAAQEAAQEBAAEBAQEBAAABAAABAQABAAABAAAAAQEAAAEBAAAAAAAAAAEBAQAAAAAAAQAAAQEBAQEAAAABAAEAAQAAAAEAAAABAQABAQEBAAAAAQEAAQAAAQAAAQAAAAEBAAEAAQEAAQEBAQEAAAAAAQABAQAAAQAAAAEAAQEBAQEAAAAAAQABAAEAAAABAAABAQEBAAAAAQEBAQEBAQEAAAEBAAEBAQEAAQEAAAABAQEBAQAAAAEBAQABAAABAQEBAQAAAAAAAAABAAEAAQEBAQABAAEBAQAAAAAAAQAAAAEAAAAAAAABAQAAAQEAAAAAAAEBAQEBAQAAAAABAQEBAQEBAQABAQEAAQEBAQEBAQEAAAABAQEBAQEAAQAAAAAAAQABAAEBAQEBAAEAAAAAAAEBAQAAAAEAAAEAAAAAAQEBAAABAAABAQEBAQABAQEAAAABAQEBAQAAAQEBAAABAAEAAQEAAAEBAQAAAQABAAABAQEBAAEBAQAAAAAAAAEAAQEBAQEBAAAAAQEBAAABAQEBAAEBAQEBAQEBAQEBAAEAAAAAAAAAAAABAQEBAQEBAAEBAQABAQEBAQEAAAAAAAAAAQAAAAABAAAAAQEBAQEBAAAAAQAAAAEBAQAAAAEAAAEAAAABAQABAQEAAAAAAAABAAEBAAEAAQEAAAABAQEBAAAAAAAAAAAAAAAAAQEAAAAAAQABAQAAAQAAAAEAAQAAAAEBAQEBAQAAAAEAAAAAAAABAAABAAAAAQABAQABAQEAAQAAAAABAAEBAAAAAQEAAQEBAAAAAAAAAAAAAAABAAAAAAAAAAEAAAAAAQEAAAEAAAEAAQEAAAEBAQEBAAAAAAABAQEAAAEBAQABAAABAQEAAQEBAQEAAQEAAQEBAQAAAAABAQEBAQEBAQEBAQEBAAEBAQEBAQEBAQAAAQAAAAEAAAEBAQEBAAEAAQEBAAAAAAAAAAABAAAAAAEBAQEBAAABAQEBAAEBAAABAQAAAAEBAQAAAAEBAQAAAAEAAAEBAQEBAQAAAQAAAQEAAQEBAAAAAAAAAQAAAAAAAAEBAAEBAQEAAAEBAAAAAQEAAQAAAQABAAEAAAAAAAEBAQEBAQEAAQABAAEAAQEAAQEBAQAAAAEBAAABAQABAQABAAABAAAAAQAAAAEAAQAAAQAAAQAAAAABAAABAAAAAAABAQAAAAAAAAABAQEBAAEBAAEBAAABAAEBAQEBAQEAAAAAAAEAAAEAAAABAAAAAQAAAAEAAAEBAAEBAQABAQAAAAEAAAEBAAEAAAEAAAEBAAABAAEBAQEBAAEAAAEAAAAAAAABAQAAAAEAAQEAAAEBAQEBAQEBAAABAAEAAQAAAAABAQEBAQAAAAEAAAEBAAEBAAEAAQAAAQAAAQEAAAAAAAAAAAEBAAEBAQEBAAEAAAEAAAEAAQEAAQEAAQEAAQEBAAEAAQAAAAABAQEAAQABAAEBAAEBAQAAAAAAAAAAAQEAAQEAAAEAAQEBAQEAAAAAAAABAAABAQAAAQEBAQAAAAAAAAEBAQEAAQEAAQEBAQEBAQEAAAABAAAAAQEBAQEAAAAAAQAAAAAAAAABAAEBAQEBAQABAAABAQEBAAABAAAAAQAAAQABAAABAQEBAAABAQABAQEBAAAAAAEBAAEBAAEBAQAAAAEAAQAAAQABAQEBAAEBAQEBAQABAQABAAAAAAAAAQEAAAEBAQABAAAAAAEAAQEBAAEBAAEBAAAAAAABAQEBAAAAAAEAAAEBAAABAAEBAQEBAQEBAAAAAQEAAAAAAAEBAQAAAAAAAAEBAAAAAAAAAAEAAAAAAAAAAQABAQEBAAEBAAAAAAEBAAEBAAEBAQEAAQAAAAAAAQAAAQEAAAAAAAABAQEAAQABAAAAAAABAQEAAAABAAEBAQEBAAEBAAEAAAAAAAABAAAAAAEBAAEBAQAAAQAAAAABAAAAAAAAAAAAAAAAAAABAAAAAAABAAEBAAABAQEBAQABAQEAAAEBAQABAAAAAAEBAQEBAAAAAQAAAAAAAQEAAAEBAQEAAQAAAQABAAEBAQEAAAABAQAAAAAAAAEBAAEAAAAAAAEBAQABAAAAAQEBAAAAAQAAAAAAAAAAAQAAAAABAQEBAAABAQEAAAEBAAAAAAEBAAEAAAAAAAEAAAABAAEAAQEBAQEBAAEBAQABAQEAAAAAAAEBAQEBAQAAAQEAAAEAAAAAAQEBAQEAAAEAAAEAAAAAAQAAAAABAQEBAQAAAAABAQEAAQEAAAAAAQEAAAEBAQAAAAAAAAAAAAAAAAAAAAAAAQEAAAEBAAEBAQEAAAAAAQABAQEBAAABAQEBAAEAAAABAQEBAAAAAAABAAABAQEBAAAAAAEBAQAAAAABAAABAQEAAQEBAQEAAAAAAAABAAEAAQAAAAAAAAAAAAAAAQEBAQEBAQEAAAABAAEAAAEAAQAAAQEBAQEAAQEAAAEBAQAAAQEBAAABAAABAQAAAAEAAAEBAAAAAAAAAAAAAAAAAAAAAAEBAQEBAQABAAEAAQEAAAAAAQEAAQAAAAABAQABAQEAAQABAAABAAEBAQAAAAAAAAABAAAAAAAAAAAAAQABAQABAQEBAAABAQABAQAAAQEBAQABAQEBAQEAAAABAQEBAAAAAAABAQAAAQEBAQAAAQABAQEBAQEAAAABAQEBAAAAAAEAAAEBAQEBAQABAQEBAQEAAAEBAQAAAQEAAQEAAQABAQEBAQAAAAAAAAAAAAEBAAABAAABAQEBAQAAAAEAAQEBAQEBAQEBAQEBAQEBAQEBAAABAQAAAQEBAQAAAAABAQAAAAEBAQEBAQEBAQEBAAEAAAAAAQAAAAAAAAABAAAAAQABAQEBAQEBAQEBAQEAAAAAAAAAAQEBAQEAAQAAAAABAAEAAAAAAQABAQEAAAABAQEAAAEAAAAAAQABAQEBAQEBAQEBAQEBAQEBAQEAAAAAAAAAAAAAAAAAAQEBAQEBAQEBAAAAAAEBAQEBAQEBAQEBAQAAAAAAAAAAAAAAAAAAAAEBAQEBAQEAAAABAQEBAQEBAAEAAQEAAAEBAQAAAAAAAAAAAAAAAQEBAQEBAQEBAQEBAQAAAQEAAAAAAAEBAQEBAQEBAQAAAAAAAAAAAQEBAQAAAAABAQEAAAABAAAAAAAAAAABAQEBAQEBAQEBAAAAAAAAAAABAAAAAQEBAQEBAQEBAQAAAAAAAQEBAAAAAAAAAQAAAAEBAQEBAQEBAAAAAAABAQEBAQEBAAAAAAEBAQAAAAAAAAAAAQEAAQEAAAAAAAAAAAEBAQEBAQEBAQEBAQEBAQEBAAEBAQEBAQEBAQEBAQEBAQABAQAAAAABAQAAAQEAAAABAAAAAAAAAAAAAAAAAAAAAAAAAQEBAQEBAQEBAAAAAAABAQEBAQEAAAAAAAAAAAAAAAAAAAAAAAABAAABAQEBAAAAAQEBAAAAAAABAQEBAQEBAQEBAAAAAAAAAAABAAEAAAAAAAAAAAAAAAAAAAEAAAAAAAAAAQEBAAABAQABAQEBAQEBAAEAAAAAAAABAAAAAQEAAQEBAQEBAQEBAAAAAAAAAAAAAAAAAAAAAAABAQEBAQEBAQEBAQEBAQEBAAEBAQEBAQEAAQEBAQEBAQEBAQEBAQEAAAAAAAAAAAEBAAEBAQEBAQAAAAAAAAAAAAEBAQEBAQEBAQEAAQAAAAAAAQEBAQEBAQEBAQEBAAAAAAAAAAABAQEBAAAAAAAAAAAAAAAAAQAAAAAAAAAAAAABAQEBAQEBAQEBAAAAAAAAAAAAAAEBAQEBAQAAAQAAAQEAAAEBAQEBAAAAAAAAAAAAAAABAQEAAAAAAAAAAAAAAQEAAAEBAQAAAQEBAQAAAAAAAAAAAAAAAAAAAAAAAAABAQEAAAAAAAEBAAABAQEBAQEBAQEBAQEBAQEBAQEBAQEAAQAAAQAAAAAAAAAAAAAAAQEBAQEAAAEAAAEBAAEBAQEBAQEBAQEBAAAAAAAAAAAAAAAAAAAAAAAAAAAAAQAAAAAAAAAAAAAAAQAAAAABAQEAAAEBAQAAAQEBAQEBAAAAAQEBAQEBAQEBAQEBAQEBAQEBAAABAQAAAAABAAEBAQEBAAAAAAABAQAAAAAAAAAAAAAAAAAAAAAAAAAAAAAAAAAAAAAAAAABAAAAAAABAQEBAQEBAAABAQEBAQEBAQEBAQEBAQAAAAABAAAAAAAAAAAAAAAAAAABAQEBAQEBAQABAAAAAAAAAAAAAAABAQEBAQEBAQEBAQEAAAABAQEAAAAAAQEBAQEAAAABAQAAAAAAAQEAAAAAAAAAAAABAQAAAQEBAAAAAQEBAQAAAAEBAQAAAAAAAAEBAQABAAAAAAEBAQEBAQEAAQAAAQAAAAAAAQEBAQEAAQEBAQEAAAABAQEBAAABAAAAAAEAAAAAAQABAQEAAAABAAABAQEBAQEAAAAAAAAAAAAAAQEAAAEBAQEAAAAAAAEBAAEBAQAAAAABAAAAAQEBAQEBAQAAAAEBAQEBAQEBAAEAAAABAQEAAAAAAAEBAAEBAAEBAQEAAAEAAQEBAQEBAQEAAAABAAEAAAEBAQAAAQEBAQEAAAAAAAEAAQEBAAEAAQEBAAEAAAABAQEBAQEAAAAAAAEAAAABAAABAQAAAAEBAQAAAQEBAQEAAAAAAAAAAQEBAAEAAAEAAAABAAAAAAEBAQEBAQABAQEBAQEBAAABAQEBAAABAAEAAAAAAAEBAQAAAQEAAAABAQEAAAAAAAAAAAAAAQEBAQEBAAAAAQEBAQAAAAABAAAAAAAAAQEBAQEBAAABAQEAAQEBAAEAAAABAAABAQEAAQEAAAAAAAEAAAABAQEAAAAAAAABAQEAAAAAAQAAAQEBAQABAQEBAQEAAAABAQEBAQEAAAAAAAEAAQEAAQEAAAEAAQEBAQAAAAEAAQABAQEAAAABAQABAAAAAAAAAAEBAAABAQEBAQEBAAEAAAAAAQAAAAEBAQAAAAABAAEBAAAAAAAAAQABAQEBAQEBAQEBAAEBAQEBAQEBAQEBAAAAAQEBAQEBAQEBAQAAAQEAAAEAAAABAQEAAAEAAAAAAAABAQEBAQEBAQEBAAAAAAAAAAABAAAAAAEBAQABAQAAAQABAAAAAAAAAAAAAQAAAAABAAABAQEBAQABAAABAAEAAAABAQAAAAABAQEBAQAAAAABAQEAAQEAAAEBAAEBAQABAQABAAEBAQEBAAAAAAEAAAAAAQABAAAAAAAAAAABAAAAAAABAAEAAQEBAQEAAQAAAAAAAQEAAAABAAABAQEBAQEBAAEBAQAAAAEAAQEAAAEBAQEBAAEAAAEBAAEAAQEAAQEBAAAAAQEBAQAAAAAAAAAAAAEBAQAAAAAAAAABAQEAAQEBAQEBAAEBAQEAAAABAAAAAAABAQABAAAAAQAAAAEAAQEBAQEAAQEBAQEBAQABAAAAAAEAAAAAAQEAAQEBAAAAAAAAAAAAAAABAAEBAAEAAAAAAQEAAAAAAAAAAAABAQAAAAABAQAAAAEBAAAAAAEAAAEAAAAAAAEAAQEBAAABAQEBAAEBAQEAAQAAAQEAAAAAAAEBAQEBAAEBAAABAQEBAQEAAQEBAAAAAQEAAAAAAAAAAAEAAAAAAAABAAAAAAEAAAAAAAAAAQAAAQABAQAAAQEAAQEBAQAAAAEAAQAAAAAAAAEBAQAAAAEAAAEBAQEBAAAAAQEBAQEAAQABAQAAAAAAAQAAAAEBAQAAAAAAAQEBAQEBAQEAAAAAAQAAAAEBAQABAAAAAQEBAAABAQABAQEBAQEBAQAAAAEBAQEBAQEAAQAAAQABAAEBAQAAAQAAAAEAAAAAAAABAQAAAAAAAAAAAAAAAQEBAQEAAQEAAAAAAQABAAEAAAEAAQEAAAAAAAAAAAEBAAEBAAAAAAAAAQAAAAAAAAAAAAEBAQEAAAEAAAEAAAABAQAAAAABAAEAAAEBAAAAAQAAAQABAAAAAAAAAAAAAAAAAQEBAAEAAQAAAAEAAAAAAQEBAAAAAQAAAQEAAAAAAAEBAAAAAAAAAAAAAAAAAAAAAAAAAAEAAQEBAAEAAQEBAAAAAQABAAABAQEAAAAAAQEAAAAAAQAAAAABAAABAQEBAQEBAAABAAEAAAAAAAEAAAEBAQAAAQEBAQEBAQEAAQEBAAEAAQEBAQAAAAEBAQABAAEBAAAAAAAAAAAAAQABAAEBAQEBAAEBAQEBAQEAAQABAQEBAAAAAAAAAQABAQAAAAAAAQEAAAAAAAEAAQABAAAAAAABAQEBAQABAQEAAQABAAAAAQEAAAAAAQEBAQABAQAAAAEBAAEBAQEAAAAAAQAAAAAAAAABAQEBAQEAAAEAAQAAAAABAQEBAQEAAAAAAQEBAAEBAAEAAAEBAQEBAQAAAAEBAAEAAAABAQABAQEBAQEAAAABAAEAAQEBAQEAAQEBAAEBAQAAAQABAAABAQEBAQABAQAAAAAAAAEBAQAAAAEAAAAAAAEBAQEAAQABAAEBAAAAAAABAQEAAQEBAQAAAQAAAAEBAQABAAAAAAEBAAAAAAAAAQEBAQEBAAAAAAEBAQEBAQEBAQAAAAAAAAEAAAAAAAEAAAEBAAEBAQAAAAAAAAEBAQAAAQEAAAAAAQAAAAABAQEBAAEBAQEAAQAAAAEBAAAAAAABAQABAQEAAAAAAAAAAQABAQEBAQEBAAAAAAABAAABAAAAAAAAAAEAAAEBAQAAAQEAAAAAAAABAQEBAQEAAAAAAQAAAAAAAAAAAQEBAQEBAAEAAQABAQABAQAAAQEAAAEBAQEBAQABAQAAAQAAAAABAAABAQEAAQEAAAABAAEBAQAAAAABAAEAAAAAAQABAAEAAQEAAAEBAQAAAAEBAAEAAQABAQEBAQAAAAEBAAEAAAABAQEBAQEAAAEAAAAAAQEBAQAAAAABAQEAAAEBAQAAAAEBAQEBAQEAAAEAAAAAAAEAAQABAQAAAQEBAAEAAAAAAAEBAAEBAQAAAAAAAQEBAAEAAAABAAAAAAAAAAEAAAAAAQABAQEAAAEAAAAAAQEBAAEAAQEBAQEBAAABAQEBAQEAAAAAAQEBAAEBAAAAAAAAAAEBAQAAAAAAAQAAAQEAAQAAAQEBAQAAAAABAQEAAQAAAAAAAAAAAAAAAAEBAAEAAAAAAAABAQABAQEBAQEAAAAAAQEBAAABAQEAAQAAAAAAAAEBAAEBAQEBAAEBAAAAAAAAAQEAAAAAAAABAAAAAAEBAQEBAAAAAQABAQABAQAAAAAAAQABAAABAQAAAAABAQAAAAAAAQABAQAAAQEAAQABAAABAAEBAAEAAAAAAAEAAAABAQABAQAAAQEAAAAAAQEBAAEAAQEBAAEAAAABAQEBAQEAAQEBAQEAAAAAAAAAAAAAAQEBAAAAAQEBAQEBAQABAQEBAQEBAAEBAQAAAQABAQABAQEAAAAAAAEBAAAAAQEAAQAAAAEAAQAAAQAAAAAAAAEAAAABAQEBAAEBAQEBAAEAAAEAAAEBAAAAAAAAAAEAAQEBAQEAAAAAAAAAAAAAAAEAAQAAAAAAAAABAQEAAAABAQABAAAAAAAAAAAAAAEBAAEBAQEAAAABAQAAAAAAAAEAAAABAAAAAQEAAAEAAQEBAQAAAQEBAQAAAAAAAQEBAQABAAABAAAAAQEBAQEBAQEBAAAAAQEBAQEAAAAAAAEBAAABAQAAAAABAAABAQEBAQABAQEAAAABAAABAQAAAQEBAAAAAAEBAAAAAAEBAQEAAQEBAQAAAQEBAAEBAAAAAAEBAAEAAQABAQEBAQABAQEBAQAAAAEBAQAAAAAAAAEBAAABAAAAAAABAAAAAQABAAAAAQEAAAAAAQEBAAEBAQABAQAAAAEAAAABAQAAAQEAAQEAAAAAAAAAAAEBAQEAAQAAAAEBAQEBAQAAAAAAAAABAQEAAQEBAQEBAAAAAQEBAAAAAAAAAAEAAQABAQAAAQAAAAAAAAABAQAAAQEAAQABAQEBAQEBAQEBAQAAAAAAAAAAAAAAAAAAAQEAAAAAAQABAAAAAAAAAQABAQEAAAAAAAABAQEAAQABAQABAQEAAAEBAQABAQAAAAAAAQEAAAEBAAAAAAABAAABAAAAAAAAAQEAAAAAAQAAAAAAAAAAAAAAAAABAAABAQEAAQAAAAAAAQEAAAAAAAABAQABAAEAAAABAAAAAQAAAAEBAAEAAAEAAQEAAQEAAAAAAAABAAABAQEAAAAAAAEAAAABAAEBAQEAAAAAAQAAAAABAQAAAAEAAAABAAEBAQEAAAABAQABAAEBAQAAAQEAAAEBAQEBAQEBAQEBAAEBAAABAQEAAAAAAAAAAAAAAAEBAAAAAAABAAABAAEAAAAAAAEBAQEBAQEAAQABAQEBAAEAAAEAAQEBAQAAAAAAAQEAAQEAAQEAAQEAAAAAAAEAAQEAAAEAAAEAAQEBAQEBAAEBAAEAAQEBAQEBAAABAAABAAEBAQAAAAAAAAEAAAABAAEBAAAAAQEAAQEBAAAAAAEBAQABAQEBAQEBAQEAAQAAAAAAAQEAAQEBAQAAAAAAAAABAQEAAAAAAAEAAAAAAQEAAAEBAQEAAAAAAAEBAAEBAQEBAQAAAAAAAQEAAAAAAAABAQABAQEBAQEBAAAAAQEAAQEBAQAAAAEAAAEBAQEBAAAAAAEBAQAAAAAAAAEBAQABAAEBAQEBAAAAAAAAAQEBAAABAQAAAQEAAAEAAAABAQEAAAABAQAAAAABAAEBAAEAAAAAAAABAQEBAQAAAAAAAAABAQEBAAAAAAABAQEAAQEBAAEAAQAAAAAAAQEBAAEBAAEAAQABAQAAAAEBAQEBAAAAAAABAQEBAAABAAEAAQEAAAAAAQAAAAEAAAAAAAABAAAAAAAAAQAAAAAAAAEBAQEAAAAAAAABAAABAQEAAAEBAQABAAEAAAAAAAEBAQABAQEBAQABAQEBAQEBAQEBAQEBAAAAAQAAAAAAAQEAAAABAQAAAQAAAQEBAQEBAAABAQABAQEBAQAAAAEAAAEAAQABAAAAAQEBAQEBAQEBAAAAAQEBAQEBAAEAAQAAAAAAAAEAAQAAAQEBAAEBAAEAAAAAAAEAAAEAAAEAAQEBAQABAQEAAAAAAAEAAQEAAAAAAQEBAQEBAAEBAQEBAQEAAAEBAAABAQABAQEAAAABAAAAAAAAAAEAAAABAQEAAAEAAAEBAAEAAAAAAAABAQEBAAEBAQEAAAEAAAAAAQABAQEAAAEBAQEBAQEBAQABAQABAQEBAQABAQEAAAABAQEBAAEAAQEAAAEAAAEAAAEBAQEAAAEAAQEBAAABAAABAQEAAAAAAAABAQEBAAAAAQEBAQABAAAAAAEAAQABAQEBAQEBAQAAAQEAAQEBAAAAAAEBAAAAAAAAAAAAAAAAAAABAQAAAAEAAQEAAQEBAQEAAAAAAAAAAAAAAAAAAQABAQABAQABAAAAAAEAAAEBAAAAAQEAAQEBAQAAAQEBAQEBAQEBAQEBAQABAQEBAQEBAAABAQEAAAAAAQEBAQEAAAAAAAEBAQEAAQEBAQABAAEBAQEAAQAAAQEAAAABAQEAAQEAAAABAQAAAQEBAAEBAQEAAAAAAAAAAQABAQEBAQAAAQAAAAAAAQEBAQEAAAAAAAAAAQEBAAEBAAABAQEAAAAAAQEAAQAAAAABAAAAAQAAAAABAQEBAQEAAAABAQEBAQAAAQEBAQEAAAAAAAAAAQAAAAEAAQAAAAEAAAAAAAAAAAABAAEAAAEBAAAAAQEBAQABAQEBAAAAAAEBAAABAAEAAQAAAAABAQABAQEBAAABAQEBAQABAQAAAAABAQEAAQAAAAEAAQAAAQEAAAABAAEBAAABAQAAAAEBAQEBAQEBAAABAQEBAQEBAQABAQEBAQEBAQEAAAAAAAAAAAEBAQEAAAAAAAAAAAAAAQABAQEBAQABAQAAAAAAAAAAAAABAAAAAAEAAQAAAAAAAQEBAQEAAAABAQEBAQEAAAAAAQEBAQABAAAAAAEAAQAAAAABAQEBAQAAAQEBAAEBAAEBAQEBAQEAAQABAQEBAQAAAAAAAAEBAQAAAQEBAAAAAAABAAABAQEBAAEBAAAAAAABAQEAAQEBAAAAAAAAAAAAAQABAAAAAQEBAAEAAAEBAQABAQEBAQAAAAEAAAEBAQABAQABAAABAAEBAQABAQEBAQEAAAABAQAAAQEBAAABAAAAAQEAAAAAAQAAAQEBAQEBAAEAAQEBAQEBAAAAAAEBAAABAQABAAABAAEAAAABAAAAAAEAAAEAAAEAAAABAAAAAAEAAAEAAQAAAQEAAAAAAAEBAAEAAQEAAQEAAAAAAQEBAAAAAAAAAAABAQEAAAAAAQEAAQEAAAAAAQEAAAAAAAAAAQAAAAABAQAAAQEBAAEBAAAAAAAAAQEBAQEAAQABAAABAQAAAAEAAQEAAAEAAAAAAAAAAQEAAAAAAAAAAQEBAQAAAAABAAAAAQAAAAABAQEAAQEAAQAAAQEBAAABAAABAQEBAQEBAQEBAQEBAQEBAQEAAAAAAQEBAQEBAQEBAQAAAAEBAQEBAAEBAAEAAAAAAQAAAAAAAQEBAQAAAQABAQEAAQABAQEBAQABAAEBAAEAAQABAQEBAQAAAAEBAQEAAAEAAQEBAQAAAAAAAQAAAAABAAABAQABAQAAAQEAAQEAAQAAAQEBAAAAAQABAAABAQEBAQAAAAABAQEAAAEAAAAAAAAAAAAAAAABAQEBAAAAAAAAAQEBAQEAAAABAQEAAAAAAQAAAQEAAQEBAQAAAAAAAQEBAAABAQEBAQEBAAEAAQAAAAAAAQEBAQEBAAEBAAAAAAAAAAAAAAAAAQEBAQAAAAAAAAEBAQABAAAAAAAAAAABAQAAAAAAAAABAQAAAQAAAAABAAAAAQEBAAEBAQEBAAEBAQEAAQEBAQABAQEBAQAAAQEAAAAAAAAAAAABAAAAAAEAAQEBAQAAAQEBAAAAAQAAAAABAQAAAAABAQAAAQABAAAAAAAAAQEAAAAAAAAAAQAAAAABAAAAAAEBAQEAAQEBAAAAAAAAAQABAQAAAQEAAQEBAAEBAQAAAAAAAAAAAAAAAAAAAAABAQEAAAAAAAABAQEBAQABAQEBAQAAAAEBAAEBAQEBAQEBAAAAAQEAAQAAAAEAAAEAAAEAAAEBAAAAAAAAAQEAAAAAAAABAQAAAAAAAAEAAAABAAEBAAAAAAAAAAAAAAAAAAABAQEBAAEBAQEAAAAAAQEAAQEBAQABAAEBAQEAAAABAAAAAAEBAAEBAQEAAAAAAQEBAAAAAAAAAQEAAQABAAAAAQEBAQAAAQAAAAEBAAEBAAEAAAEAAAAAAQEAAAEAAAAAAQEBAQAAAAABAQAAAAEAAAEAAQABAQAAAAAAAAAAAQABAQEAAAAAAQAAAAAAAQABAAAAAAAAAAEBAQEAAQEBAQABAAEAAAAAAAABAQEBAQEAAAAAAAEBAQAAAAEBAQEBAAABAAABAAABAQEAAAEAAAABAQEAAQEBAQEAAAEBAQAAAAABAAEBAAAAAAAAAAABAAEAAQABAQEBAAEBAQAAAAEBAQAAAQEBAAAAAAAAAAEBAQABAAABAQABAQEBAAEBAQAAAAAAAAABAQEBAAABAQAAAAABAQEAAQAAAAAAAAEBAAAAAQAAAAABAQABAQAAAAEBAQEAAAABAAEBAQEBAQABAQEBAAEAAQAAAAABAAAAAAEAAQAAAAEAAAAAAQABAQEAAAEAAAAAAAAAAQEBAQAAAQEAAQEAAQEAAAEAAQAAAAAAAAABAQEAAAEAAAEBAQAAAQAAAQEBAAEBAAABAAEBAQEBAQAAAAEBAAABAQEBAQEBAQAAAQAAAAAAAQAAAQEAAQABAAAAAQAAAQAAAQABAQABAQEAAAEBAAEAAAEAAQEBAQABAAAAAAAAAAAAAAEAAAABAQAAAAAAAAAAAAAAAQAAAAEAAAAAAAAAAAAAAAAAAAEAAQAAAAEAAQEAAQEBAAEAAQEAAQAAAAABAAEBAQABAAEBAAEAAAEBAAEAAAEBAQEBAQEAAAAAAAEBAAEBAQAAAAAAAQABAAABAQAAAQABAQEAAAABAQEAAAEBAAEBAAEBAQABAQEAAQEBAQABAQEBAAEAAQEBAQEBAAAAAQAAAAAAAAABAQEBAAABAQABAQAAAQEBAQAAAQAAAQAAAAAAAAAAAQAAAQEAAAEAAAAAAAABAQAAAQAAAAABAAAAAQAAAQEBAQEBAQEAAQEBAQEAAAEBAQABAAABAQEBAQEBAQEBAAAAAQEBAQEBAAEAAQABAQEAAAEAAAEBAAAAAAEAAQABAAEBAAEAAQEAAQEBAAABAAAAAAAAAQAAAQABAQAAAAAAAAEBAQEAAQABAAAAAAAAAAAAAAEBAQABAAABAQEBAQEBAAEBAAEBAAABAAEBAQAAAAEBAQABAQABAAEBAQEBAQAAAAEBAQAAAQABAQEAAQAAAAAAAQABAAEAAAAAAQAAAAABAQEBAQABAAAAAAEAAQEAAQAAAQEBAQEAAQEBAQEAAAAAAAAAAAAAAQAAAAEAAAAAAAEAAQAAAAABAQEAAAABAQAAAAAAAQAAAQABAQEBAAEBAQEAAAAAAQEBAAEAAQEBAAEAAAEAAQEBAAAAAQEAAQAAAAEAAQEBAAEAAAAAAQEBAQEBAQEAAAEBAQEBAQAAAQABAQEBAAAAAQAAAAABAQEBAQEAAAABAQEBAAEBAQEBAAAAAAAAAAAAAQAAAQAAAAEAAQEAAQEAAAABAQEBAQAAAAEAAAEBAQAAAAEAAQEBAQEBAQABAAAAAAAAAAEBAQEBAAAAAAAAAQEBAAAAAAEBAQAAAQAAAAAAAAEBAQABAQABAQEBAAABAAEBAQEAAAABAQEBAQEAAQAAAAAAAAEAAQAAAAEAAQEAAAEBAQEBAAAAAAAAAAAAAQEBAAABAQAAAAAAAQAAAQEAAQEBAAEBAAAAAAABAQAAAAAAAQEBAQEBAQABAQAAAQABAQEBAQEBAAEBAQEBAAAAAAAAAAAAAQEAAQAAAAABAQAAAAAAAQEAAAAAAAAAAAABAAAAAAAAAAEBAAAAAAABAQEBAAAAAAABAQEAAAAAAAEBAQEBAQABAQAAAAAAAQEBAQABAQEAAAEBAAAAAAABAQEAAQAAAAEBAAAAAQABAAAAAQEBAAEAAAAAAAAAAAAAAAEBAAAAAAABAQEBAQEBAAEAAAEBAAEAAQEAAQAAAQEBAQAAAAEBAAAAAQABAQABAAABAAABAQEBAAAAAAEBAQAAAQEAAAAAAAAAAQEBAAABAAABAQAAAAEAAQEAAAAAAAAAAQEAAAAAAQEBAQEAAQEAAAAAAAAAAQEBAQEBAQEBAAEBAAEAAQAAAAEBAQEAAAAAAQAAAQEBAQEAAAAAAQEAAQEAAAAAAQABAAEAAQABAQEAAQEBAAAAAAEBAQABAQABAQEBAAAAAQAAAAAAAQEBAAABAQAAAQEAAQABAQEBAQAAAAAAAAABAQABAAEBAQABAAAAAQAAAQEBAQEAAQAAAAABAAEAAAAAAAAAAQABAAEAAAAAAQAAAQEBAAAAAQABAQEBAQEBAQEAAQAAAQEBAQABAAAAAQEAAAEBAQAAAAEBAQAAAAEBAAAAAQAAAAAAAQABAQABAAAAAQAAAAAAAAAAAQABAQEAAQAAAQEBAAABAAABAQAAAAAAAQEBAAAAAQABAAAAAAABAAAAAAAAAAEAAAAAAAABAQEAAQEBAQEBAAABAAABAQABAAEAAQAAAQEBAQABAQAAAQEAAAAAAQEBAQAAAAEAAQEBAAEAAQEBAAAAAAAAAAABAAEAAQEBAAEAAAEBAAAAAAEBAQEBAQEAAAABAQEBAAAAAQEBAQEAAAAAAQABAAEAAAAAAAAAAAAAAAABAQEBAQAAAAEBAQEBAQABAQEBAAAAAAEBAQABAAEAAQEAAAAAAQEBAAEBAQABAQAAAQEBAAABAAEAAAAAAQABAAAAAAEBAAABAAEBAQAAAAABAQAAAAAAAQEBAQEBAQEBAQEBAQEAAQEBAAABAAEBAQEAAAEBAQEBAQEBAAAAAAAAAQABAAAAAQEBAQAAAAEAAAAAAQEBAQEBAQAAAAAAAAABAAEAAAEBAAEBAQEBAQEAAAEAAAAAAQEBAQEBAQAAAAAAAQEAAQABAQEAAAEBAQEAAQEBAQEAAQEAAAEBAAAAAAEAAAAAAQEAAQEBAAEAAQEBAQAAAAAAAAEBAAAAAAEAAQAAAAEBAQABAQAAAAEBAAABAQEBAQAAAAABAAEBAQEBAAEBAQEBAAEBAQABAAAAAAEBAAAAAAEAAAAAAAEBAQABAQABAQEAAQAAAQEBAQEBAQEAAQABAQEBAQABAAAAAAAAAQEAAAEBAQABAAABAQAAAAAAAAAAAAEBAAEAAAAAAAAAAAEBAQAAAQEAAAEAAAEBAQEBAAEAAAEAAAEAAAAAAAAAAAEAAQABAAAAAAAAAAABAQEAAAEBAQEBAQABAAEBAAAAAQEAAAABAQEBAQEBAQEAAAAAAAEBAQEAAQEAAAABAQABAAEBAAAAAAAAAAEBAQABAAABAQEAAAEAAAEAAQAAAQAAAQEAAQEAAQEBAQEBAAEBAAAAAQEBAAAAAQABAAAAAQAAAQAAAAABAQEBAAAAAQAAAAEAAQEBAAAAAQEAAAABAAEAAQEAAAAAAAEAAQAAAAEAAQAAAAEBAAABAQEAAQAAAQEBAQEBAQEAAAEBAQEBAAAAAQABAAEBAQEBAAEBAQEAAAAAAAEAAAEBAQAAAQAAAQAAAQEAAAEBAQEAAQABAQEBAQEBAQABAAEBAAABAAAAAQEAAAEAAAABAQEAAQEBAQABAAEBAAABAAAAAAABAQAAAAEAAAAAAAEBAQEBAQEBAQEAAAEAAAEBAAAAAAEBAQAAAAAAAAEBAQAAAAEBAQEAAAAAAQAAAAAAAQEBAQAAAQEBAAABAQEBAQAAAQAAAQEAAQEBAQAAAQABAAAAAAAAAAEBAAAAAQAAAQEAAAEBAQEBAAEAAAAAAQEBAQEBAQEAAAAAAAAAAQEAAAABAAABAQAAAAEBAQABAQEAAAEAAQAAAAABAAABAAEBAQEBAQEAAAAAAAEAAAEAAAAAAAAAAAABAQABAAAAAAEAAQAAAAEBAQEBAAABAQEBAQEAAAAAAQAAAAABAAAAAQEBAQEAAQABAQAAAAEBAQABAQEAAAEAAAAAAAAAAQEAAAABAQEAAAEBAQEBAQEBAAABAQABAAAAAAABAAEAAQEBAAAAAQAAAQABAAEAAAABAAAAAAABAAEBAQEAAAAAAAAAAAABAQEBAQAAAAEAAAAAAAEAAAEAAAABAAABAQEAAAEBAQEAAAEBAAAAAQAAAAABAQEAAAABAQEAAAAAAAAAAAABAAABAQEAAQEAAAAAAQAAAAAAAQEBAQABAQEBAQEAAAAAAAAAAAEBAQEAAQEAAAAAAQEBAQEAAAEBAQEBAQEBAAEBAQEBAQEBAQABAAABAQEBAQABAAEAAQAAAAAAAQEBAAAAAAEBAQEBAQEBAAEBAQEAAQEAAQABAQEAAQEBAQAAAQEAAQEBAAAAAAEBAAEAAQEBAQEAAAEAAAEBAAEBAAEAAAAAAAEAAQEBAQABAQAAAAEBAAAAAQAAAAAAAAABAQAAAAABAAABAQEBAAABAAABAAABAQABAAEBAAAAAAABAAEBAQAAAAABAAABAQEAAQEBAQEAAAEBAAAAAQABAAEAAAEBAQEAAAAAAAABAQEBAQABAAEAAAABAQEAAAAAAAEAAQAAAAEBAAAAAQABAQAAAQEAAAAAAAAAAAABAQEBAAEAAQAAAAABAQEBAQEAAQEAAAEBAQEAAAABAAAAAAEAAAABAAEAAAAAAAEBAQAAAAABAQABAQAAAAABAQAAAQEAAAABAAEAAAAAAAEBAQEBAAAAAQEBAQABAAAAAQEAAAABAAAAAAAAAQEBAQAAAAABAAAAAQEAAQEAAAEBAQAAAQAAAAEAAQAAAAABAQEBAAABAAABAAEAAAAAAAAAAAEBAAABAQEBAQEBAAABAQEAAQEBAQEBAQEAAQEBAAEBAAAAAAAAAQEBAQEBAAABAAEBAAEBAQABAQEBAQEBAQEAAAABAAEAAAAAAQABAAEBAAAAAAEAAAEBAAAAAQEBAQEAAAAAAAABAQEBAAABAAAAAAABAAABAQAAAAEBAQEAAAEBAAEBAQEBAAABAAEBAAEAAQEAAAABAQEAAQABAQAAAAAAAAABAQAAAAAAAAAAAAABAQAAAAEAAQAAAAEBAQEBAAEAAAAAAAEAAQABAAAAAAAAAQAAAAAAAQEAAAAAAAEBAQEAAQEAAQAAAAEAAQEAAAEAAAEAAAEBAQAAAAEBAQEBAAEBAAAAAAEBAQEAAAEBAQAAAAABAAEAAQEAAAAAAAAAAAEAAAAAAQEBAQEBAQEBAQEBAQEAAQEBAQEAAAABAQEAAAEAAAAAAAAAAQAAAAAAAAEAAAAAAAABAAAAAQEBAQAAAAAAAAAAAQAAAQEBAAAAAAAAAAEAAAEBAAAAAAAAAAABAQEAAQABAQEBAQEBAQEBAQEBAQAAAAEBAQEBAAEBAAAAAAAAAAABAQABAAABAQAAAQEBAQAAAQABAQABAQEBAQEAAQEAAAAAAAABAQABAQEBAQEAAAEBAQEBAQAAAAEBAQAAAAAAAAAAAQEBAQAAAAABAQAAAQABAQEAAQAAAAABAAEBAQEBAAAAAAEBAQEBAAABAQEAAAABAAABAQABAQEAAAABAQEBAQEBAQEBAAABAAAAAAEBAQAAAQEBAQEAAQAAAAEAAAABAQEAAAABAAEBAAAAAQEBAQEBAQEAAAAAAAABAQEAAQEBAAAAAAABAQAAAQEBAQABAAABAQEAAAAAAAEAAQEBAQABAQAAAQEBAQEBAAEBAQEBAAABAQEBAQAAAQEBAQAAAAAAAAABAQEAAAAAAAABAAAAAAABAQAAAAAAAQEBAQEAAAABAAAAAQABAQABAQEAAAEAAAAAAAEBAQABAAEBAAAAAQEBAAEBAQAAAQEBAAAAAAAAAQABAAABAQEBAAEAAQEBAAEBAAABAAABAQAAAAABAQEAAQEAAAEBAQEBAQEBAQEBAQAAAQAAAAAAAAEBAQAAAAAAAAAAAAEBAQEAAQEBAQEAAQEAAQEAAAEBAAAAAQEBAAEBAQAAAAABAQABAAEAAQABAQEAAQEAAAAAAAAAAAAAAAEAAAABAQEAAQEBAQEBAAABAAABAQAAAQABAAAAAAEBAQAAAAABAAEBAAAAAQEAAQEAAAEAAAEAAAABAQEBAQABAAEAAAAAAQAAAAEBAAEAAQEBAAAAAQABAQEBAQEBAAEBAAEAAAEAAAAAAQEAAQABAQAAAAAAAQAAAAEBAAABAAABAAABAAAAAQEAAQEBAAEBAAEBAQEBAQEBAAAAAQABAQEBAQEAAQEAAAABAAAAAAEBAQEAAQEBAQAAAAEBAAAAAAEBAQEBAQEAAAEAAQEBAAABAQEBAAAAAQEBAAAAAAEAAQEAAAAAAQAAAQEAAQABAQABAAAAAAEBAQEBAAEBAQEBAAAAAQAAAQEAAAEBAAABAAAAAAEBAAEAAAEBAAABAAEBAQEBAQEBAAAAAAABAQEAAQAAAAAAAQEBAAAAAQAAAAEAAAEBAQEAAAAAAAAAAAAAAAABAAEAAQAAAAAAAAAAAQABAQABAQAAAAEBAQABAQAAAAEAAQAAAAAAAQAAAQAAAAABAQEAAAEBAAABAQEAAAEBAAAAAAAAAAAAAQABAQEAAAAAAQEAAAEBAAEBAAEAAAEBAAEBAQEAAQEBAAABAAABAAAAAAAAAQEBAQEBAAAAAAEAAAAAAQEBAQEBAQEBAQEAAQEAAAABAQEAAQEAAAAAAAEAAAABAAABAQAAAAEAAQAAAAABAQEBAQEBAQABAAAAAQABAQEBAAABAQEAAQEBAAABAAEAAQEAAAAAAQEAAAAAAAAAAAABAQEBAQEAAAEBAAAAAAEAAAABAAAAAQEBAQEAAQAAAAEBAAAAAQEAAQAAAAAAAQEBAAEAAAABAQAAAAEBAAAAAAEAAAAAAAAAAQAAAAEAAAAAAAABAQEBAAEBAAEBAAAAAQABAQEBAQEBAQAAAQEBAAABAAEAAQEBAQEBAQEBAQABAQABAAAAAQAAAAEAAAABAQEBAQEBAAABAQEBAAAAAAAAAAEBAQEAAQEAAAABAQEAAAAAAQAAAQAAAAEBAAEBAAABAQEBAAEAAAAAAAAAAAEAAAABAAAAAQAAAAAAAQAAAAABAAABAAEAAAEBAQEBAQABAQAAAAABAQEBAQEAAQAAAQEAAAABAAEBAQAAAAEAAAAAAAAAAQAAAQABAAAAAAAAAQAAAQAAAAAAAAEAAAAAAAABAQAAAAABAQEBAAEAAQAAAAAAAQEBAQEAAQEBAQEBAAABAAEAAQABAAEBAAEBAQAAAQEBAQEBAAABAAEAAAABAAAAAAAAAQEBAQEAAQAAAQAAAAEBAAAAAAABAQEAAAAAAAEBAAEAAAAAAAEAAQEBAAAAAQABAAABAQEBAQEBAQABAAABAQEBAQEBAQEBAQEAAAEBAAAAAAAAAQABAAEBAAEBAQAAAQAAAAEAAAEAAAEBAAABAAEBAAAAAAAAAAAAAAABAQAAAQABAQAAAQEBAQEBAQEBAAAAAAAAAAABAAEBAQEAAQAAAAEAAAAAAAEAAQAAAAAAAAABAQABAQAAAAEBAQAAAAABAQEBAQEAAAAAAAABAAAAAAAAAAEAAQAAAQABAQABAQEBAAABAQAAAQAAAAEAAAEBAQAAAAEBAQAAAAAAAAEBAAAAAQEAAQABAQEBAQEAAAEAAQEBAQAAAAABAAEBAQABAQABAAEBAAAAAAEAAAEBAAAAAAAAAAABAAEBAQABAAABAQAAAQEBAAEBAQEBAQABAQABAAABAAAAAQABAAAAAAABAAAAAQAAAAAAAAEBAAEAAAABAAABAAEAAAAAAQEAAAEBAAAAAQEAAAEBAQAAAQABAQAAAAEBAQABAQEAAAEAAQEAAQEBAQAAAQEBAQAAAAAAAQAAAQEAAAAAAAEAAAABAAABAQEBAAEBAAAAAAEAAQABAQAAAAAAAAAAAAAAAQAAAAAAAAABAAABAQAAAAAAAAABAQEBAQEBAQAAAAAAAAAAAAABAAABAAEBAQEBAAAAAAEBAQEBAAABAAAAAAEBAQEAAQEAAQAAAQABAAAAAAAAAQEBAQEBAAEBAAAAAAAAAAAAAQEBAQEBAAABAQEBAAEBAQEAAQAAAAABAAAAAQAAAAEBAAAAAAEBAQEBAQABAAAAAQABAAAAAQABAAEBAQABAQEBAQAAAAEAAAABAQAAAAAAAAEBAAEBAAAAAQAAAQEBAAABAQEBAAABAQAAAAABAAABAQEBAAAAAAEAAQEAAAEAAAAAAAEBAQABAAEBAAEBAAEAAQEAAAEAAAEAAAABAQABAAEBAQEAAAEAAAEAAQEBAQAAAAABAQABAQABAQAAAAEAAAAAAAEAAQEBAQEAAAABAAEBAQEAAAAAAAAAAAABAAABAQABAAEBAQABAQEBAQEBAQEBAAEAAQEBAAAAAAABAQABAQEBAAABAQEAAQEAAQEAAQAAAQEBAQABAQEAAAEAAQABAAAAAQABAQABAQEAAAABAAABAAAAAQEBAQEBAAAAAAEBAAEBAQEBAAAAAQABAQEBAQEAAQEAAAABAAABAAAAAQAAAAAAAQEAAQEBAAEBAQAAAAEBAQEBAAABAQAAAAEAAAAAAAABAQEAAQEAAQEBAQEBAAABAQEAAAABAAEAAQABAAAAAAABAQABAQEBAQABAQEBAAEBAAEBAQEBAAABAAABAAABAAEAAQEBAQABAQEBAAEBAAABAAAAAAAAAAEBAQEBAAEBAAAAAAAAAQEAAAAAAAEAAQAAAAABAAAAAQEAAQAAAAEBAQAAAAAAAAEBAQEBAQEAAAAAAAEAAAEBAAAAAAAAAAABAQAAAAEAAQABAQEAAAABAQAAAAAAAAEAAAEAAAAAAAAAAQEBAAABAAAAAAAAAAAAAAEAAAABAQEBAAEBAQAAAAAAAQEAAAAAAAABAQAAAAAAAQEBAAABAQAAAQEBAQAAAAAAAAABAAEAAAEAAAEBAQEBAQAAAAABAQAAAAAAAAEBAQEBAQAAAQEBAAABAAAAAAAAAQAAAQEBAAAAAAAAAQAAAQEAAAEBAQEBAQEAAAEBAQEBAQABAAAAAQABAAABAAAAAAEAAAEBAAAAAQEAAAEBAQEBAAAAAQEBAAAAAQEBAQABAAEAAAEAAAAAAAEAAAAAAAEBAAAAAAAAAQABAAABAQEAAAEBAQEAAAEBAQEBAQEAAQEBAQEBAQEAAQAAAQEAAAAAAQAAAQAAAAEAAAABAQEBAQAAAAAAAQEAAAAAAQEBAQABAQEBAQAAAAABAQAAAQABAAAAAAABAAAAAAAAAAEAAAABAAAAAQEBAAEBAAABAQAAAQAAAQAAAQEBAAABAQEAAAAAAQAAAAAAAAAAAAEAAAAAAAAAAAABAQEAAQEBAQEBAAABAQEAAAEAAAABAQEAAAABAQEAAAEBAQEBAQABAQEBAAAAAQAAAAAAAQEAAQEBAQEAAQABAAEAAAEBAAEBAQEBAQEAAAABAAAAAQEBAAEBAQABAQEAAQAAAAAAAQABAQEAAAAAAAEBAQEAAQAAAQABAAAAAAAAAAAAAQEAAAEAAAEAAAAAAAEBAQEBAQABAAEAAQABAQEBAAABAAEAAAEAAAAAAAEAAAABAAEAAQABAAABAAAAAAEAAAEBAQEBAAABAQEBAAABAQEAAAEAAAABAAAAAQEBAQABAQEBAAAAAAABAQAAAAAAAQABAQEBAAAAAQEAAAEAAAAAAAABAAEBAQAAAQEBAQEBAQABAQEBAAAAAQEBAAEAAAAAAAEBAQEBAQEAAAAAAAAAAQABAQAAAAAAAAEAAAEBAAABAQEAAAEAAAABAQEAAQEBAQEAAAEAAQEBAAAAAAAAAAAAAAAAAAAAAAAAAAABAQEAAAAAAAEBAQEBAAABAAEBAAEAAQEBAQAAAAAAAAEAAAAAAQEBAQAAAAEAAAAAAQABAQAAAAEAAQEAAQAAAQEBAAAAAQAAAAAAAQEAAAABAQAAAQEBAQEBAQAAAAAAAAEAAAAAAAEAAQAAAAAAAQEBAAEAAQEAAQAAAQEAAQABAAAAAQEBAQAAAQAAAAAAAQABAAEBAQEAAAEBAAEBAAAAAQABAAEBAQAAAQEBAAAAAQABAAEBAQEBAQABAQAAAQAAAAAAAAEBAQEBAQEBAQAAAQABAQAAAAEBAAEBAQAAAQAAAQABAQEBAQEBAAAAAAABAAABAAABAAAAAAAAAAAAAAABAAAAAAEBAAEBAAEAAAEAAAAAAAAAAQEBAQEBAAABAAAAAQEBAQAAAQAAAQEBAAABAAEBAAEAAAEBAQEBAAABAAEAAAEAAQAAAAEBAQEAAAAAAAEAAQEBAAABAAABAQEAAAAAAQAAAAAAAQEAAAEAAAAAAAEBAAEBAQEAAQAAAAAAAQABAQEAAAAAAAAAAAEBAAAAAAEBAAABAQEAAAAAAQEBAQAAAAEAAAABAAAAAAABAAABAQABAAABAAABAAABAQEAAAAAAQEBAQAAAQEAAQABAAAAAQAAAAABAAAAAAEBAQEAAAAAAAEAAAAAAAEAAQAAAQEAAAAAAAEAAAAAAAEAAAEAAQABAAEAAQEBAQABAAEAAQABAAABAAEAAQAAAAAAAAEBAQAAAAEBAQABAAEBAQAAAAEAAQABAQEBAQEAAQAAAQABAQEBAAEAAAABAAEBAAAAAQABAAAAAQEBAQAAAAEBAAAAAAEAAQABAQABAQEAAAEBAAAAAAAAAQEBAAEAAQEBAQEAAAAAAQAAAQEBAAAAAAAAAAAAAQEBAAABAAEBAAAAAQABAQABAAEBAQEAAQEAAQEAAAEBAAABAAAAAQEBAQEAAAABAAABAQEAAAEAAAEAAAAAAQABAAEBAAABAQEAAQABAAABAAEBAQEBAAEAAAEAAQAAAAEBAAEAAAEBAQEBAAABAQEAAAABAQAAAAEBAQEBAAEBAQEBAAEBAAAAAAAAAQEBAAAAAQAAAQEBAAEAAAAAAAAAAAAAAAAAAAABAAABAQABAAEBAQEAAQABAQEBAAEAAAEBAQEBAQAAAAEBAQEAAAAAAAABAQEBAQEBAAEBAAEBAQABAAAAAAAAAAABAQABAQEBAAEAAAEBAAAAAAAAAQABAQAAAQEBAQABAQEBAAEAAQAAAQEAAAAAAAEAAAABAAEBAQEBAAAAAQAAAAAAAAEBAAAAAAAAAAAAAAABAQEBAQAAAQEAAAAAAAAAAAAAAAEAAAAAAQABAAEAAAABAAABAQEBAAEBAAEBAQEAAAEBAQAAAQEBAAEAAQAAAAEBAAEBAQEAAAAAAQEAAQEAAQAAAAEAAQEAAQAAAAAAAQEBAQAAAQEAAAABAAABAAABAAAAAAAAAQAAAAABAAAAAAABAAAAAAAAAAAAAQAAAAAAAAAAAAABAAEBAQEBAQABAQAAAAEBAQEAAQABAQEBAQEAAAEAAAAAAAEBAAEBAAABAQEBAQEAAQEBAQEBAQAAAQABAQEAAAAAAAEAAAAAAAAAAAAAAAAAAAAAAQABAAEAAQEBAQAAAQEBAQEAAAAAAQAAAAABAAABAAAAAAEBAQABAAAAAAABAQEAAAABAAEBAQAAAAAAAQAAAQEBAQEAAAABAQABAAAAAAABAQAAAAEAAQEBAAABAAAAAAABAQEAAQEBAAAAAQABAQEBAQEBAQEBAQEAAAAAAAEBAAABAAAAAAAAAQEBAAEBAQABAAAAAAABAQEBAQAAAAEBAAABAQEBAQABAQAAAAABAAEBAAAAAAAAAAEBAQEAAAEBAAAAAQEBAQAAAAAAAAEAAAABAQAAAAEBAAAAAQEBAQEAAQEBAQAAAAEAAQABAQEAAAEAAAABAAEBAQAAAQABAAAAAAABAAAAAQABAQEBAAAAAAAAAQEBAQEAAQEAAQEAAQABAAEBAAAAAQEBAAABAAEAAAEBAQEAAAEBAAEBAQABAAABAAABAAAAAAABAAEAAQEAAAABAAEAAQEAAQEBAAAAAAAAAAAAAAEBAAABAQAAAAAAAQABAAAAAAEBAAEBAAAAAAEAAAEBAAEAAQEBAQEAAAAAAAEBAQEAAQEBAQEAAAAAAQEBAAEBAAAAAQAAAAAAAAAAAQEBAAABAAABAQEBAQEAAAAAAAABAAAAAAAAAAEBAAEAAQABAAABAQEAAAABAQAAAAAAAAAAAAEBAQEAAAAAAAABAQABAAAAAQEAAQEBAQAAAAEAAQAAAAAAAQEBAAAAAAEAAAAAAAAAAAABAAEBAQAAAAAAAAAAAAAAAQAAAAAAAAAAAAABAQABAAEAAAAAAAEBAQEBAQEAAQABAAEAAAEAAQABAQABAAEBAAAAAQAAAAEAAQEBAAAAAAABAQEBAAEAAAABAAABAQAAAQABAQEBAQEBAQAAAAABAAAAAAEBAQAAAAEBAQEBAAAAAAEAAQEBAAAAAAAAAQEAAAABAQAAAAEBAAEAAAAAAAEBAAEBAQEBAQAAAAEBAQAAAQABAAEAAQEAAAEAAQAAAQEAAQABAQEAAAAAAAEBAAAAAAAAAQEAAAEBAQEAAQAAAAEBAAAAAAAAAAABAQABAQEAAAABAAAAAAEAAAAAAAEBAQAAAAEAAAABAAAAAAABAAAAAQAAAQAAAAAAAAEBAQABAAEAAAAAAAAAAQABAAEBAAAAAQAAAQEAAQAAAAEBAAABAAEAAQEAAAEBAAAAAAEAAAABAQAAAQABAQEBAAABAAEAAAEBAQEBAAEAAQABAQABAAEBAAAAAAAAAAAAAAEAAQEBAAEBAAEBAQEAAAABAQABAQABAQEAAQAAAQAAAQEAAAAAAAABAQEBAQAAAQEAAQEBAAEAAQEBAAABAQEBAQEBAAEBAAEBAQEBAAAAAAABAQABAQAAAAEAAAAAAQABAAEBAAAAAQEBAQABAAAAAAABAQAAAAEAAAAAAQEAAQAAAQEAAAEAAAEBAAAAAAAAAAEBAAEAAQABAQAAAQAAAQAAAAABAQEBAQAAAAABAQEBAQEBAAABAQEAAQEAAAEAAAEBAAAAAAEBAAAAAAABAQAAAAAAAAEBAQABAQEBAAAAAAAAAAAAAAEAAAEBAQAAAAABAAAAAAAAAQEAAQAAAQAAAAEAAAEBAAEAAQAAAAABAQAAAAEAAQAAAQEBAQAAAAABAAEBAAABAAEBAAAAAAABAAAAAAABAQEAAAABAAEAAQABAQEBAQEBAAEAAQEBAQABAAEBAAEAAAEBAQEBAAEAAAABAAAAAQAAAAAAAQEBAAEBAQEAAAEAAAEBAQAAAAABAQEBAQAAAAABAQEAAQAAAAABAQEAAAEAAQEAAAABAQEAAAEAAQAAAQEBAAAAAAABAQEBAQAAAQEAAAABAAEBAAEAAAEAAQAAAQEBAQEAAQEAAAEBAAABAQEBAAAAAAEBAQABAAEBAAEBAAEAAAEAAQEBAQEBAAAAAAABAQEAAAEBAQEBAAAAAQAAAAAAAAAAAQABAQEAAAABAAEBAAAAAAEBAAEBAAEBAQAAAAAAAAAAAAAAAAAAAAAAAAEAAAABAQAAAQEAAAAAAQAAAQABAAEAAAAAAQEAAAEBAAAAAQEAAAAAAAEBAQEAAAAAAQEBAQEAAQEAAQAAAAABAAABAQAAAAAAAAEBAAEAAAEBAQAAAQEBAQEAAAEAAQEAAAEAAQEBAAABAQEBAQAAAQEAAAEAAAEAAAABAAEAAAEAAQEBAQEBAAAAAAEBAAEAAAAAAQEBAAAAAAEAAQEBAQEAAAEBAQAAAAEBAQEAAAAAAQAAAAABAAABAQEAAAABAAABAAAAAQAAAAAAAAABAAAAAAABAAEAAQEBAQEBAQEAAAEBAQAAAAAAAQEAAAEAAAABAQEBAAAAAAEBAAABAAAAAAEBAAEAAQAAAQEBAAEAAQAAAAEBAAAAAQAAAQEBAQEBAQABAAABAAABAAAAAAAAAQEAAAAAAQAAAAAAAQEAAAABAQABAQEBAQAAAAEAAAAAAQEAAQAAAAAAAAAAAQEBAQEAAQEBAQEAAQAAAAAAAAAAAAABAAEAAAEAAAABAAEBAQEBAQEBAQEBAQEBAQABAAEBAAAAAAAAAAAAAAABAQABAQEAAQEBAQEBAQAAAAEBAQABAQABAAEAAAEBAQAAAQEBAQEBAAAAAAAAAQAAAAAAAQEBAQEAAAAAAQEBAQEAAAABAAABAAEBAQAAAAABAQEBAQEBAAABAQAAAAEAAQEAAQEBAQEAAQAAAAAAAAABAAABAQEBAAAAAAAAAAEBAAEBAAABAAAAAQABAQEBAAAAAAEBAQAAAAEBAAAAAQEBAQEBAAABAQEAAQEBAAABAAAAAQABAAABAQAAAAEBAQEAAAAAAAAAAAABAQEBAAAAAAEAAQAAAAEAAQEBAAAAAQAAAAEBAQAAAAABAQEBAQABAQEAAAAAAAEAAQEAAAAAAAEBAQEBAQEBAQEBAQEBAQEBAQEAAAEBAAEAAAABAQEAAAABAQEBAAAAAAABAQAAAQABAQEAAQABAAAAAAAAAAEAAAABAQEAAAAAAQEBAQEBAQEBAQABAAABAAEBAQEBAAEBAAAAAAEBAQEAAAEBAQEBAAEBAAEAAQEAAQEBAQAAAAEBAQAAAAEAAAEBAAEAAAABAAEBAAEBAAEAAAABAAEBAAEAAAAAAAABAQEAAAABAAAAAQEBAQABAQAAAQAAAAABAQEBAQEBAAAAAQEAAQAAAQABAQEBAQABAAAAAAABAQABAAAAAAEAAQEBAAABAQABAAAAAQAAAAEBAAEAAAEAAAABAAEBAQABAQEBAAAAAQEBAQABAQEAAQABAAAAAAABAQEBAQEBAQAAAQEBAQEBAAEBAAEAAQEBAQAAAAABAQEBAQAAAAEBAAABAAAAAQEBAQEAAQEBAQEBAAABAQEBAQABAQEBAAABAAAAAAAAAAAAAAABAAAAAAAAAAAAAAEBAQEBAQAAAQEBAQEAAQEBAAABAAABAAEBAQAAAQAAAAAAAQAAAAABAAEAAQABAQABAQEBAQABAQEAAAAAAQABAQABAQAAAAABAAABAQABAAEBAAAAAAAAAAAAAAEAAAEBAAAAAAEBAAEBAQEBAAABAAAAAQEAAAAAAAEBAQAAAQAAAAEAAAAAAAAAAAAAAQEBAAEBAQAAAAEAAQEBAAEAAAEBAQEAAQEAAAABAQEBAQEBAQAAAQEBAQEAAQAAAQEAAAAAAAABAQAAAAABAAABAQEBAQEAAAEAAAABAQAAAAEBAAEAAQEBAQABAAEBAAEBAAEBAQEBAQEAAAAAAQAAAAEBAAAAAAAAAAEBAQAAAAAAAAEBAQABAQAAAQABAQAAAQEAAQAAAAABAQEBAAAAAQABAQEAAQEBAAAAAQEAAAEAAQABAQEAAQABAQEBAQEAAAAAAAABAAEBAAEBAAEBAQEBAQABAQEAAAABAAEBAQEBAQEBAQABAAABAAEAAQAAAQABAQEAAAEBAAAAAQAAAAABAQEBAAABAQAAAQAAAAAAAAABAAAAAAAAAAABAAEAAAEAAAEBAAEAAAEAAAAAAAABAQAAAAABAQEBAQEBAQAAAAEAAQAAAQABAAABAAEBAAEBAQABAAEBAAABAQEBAQEBAAEBAQABAAEAAQEBAQAAAAAAAAEAAQAAAAEBAQAAAAABAAAAAAEBAQEBAQAAAAAAAQABAQEAAQEBAQEBAQAAAQABAQEAAQAAAQABAAEBAQEAAAAAAQEAAQEAAQEAAAEBAQAAAAEBAAABAQEBAAABAAAAAQAAAQEAAQEAAQEAAQEBAQEAAQAAAAAAAAABAQAAAAAAAQEAAQEBAQEBAQAAAAABAAABAAEBAAAAAAAAAAABAQEBAQAAAQAAAAAAAQEBAQEBAQEBAAABAAABAQEBAAEBAQEBAQEAAAEAAQABAAAAAQABAAEBAQAAAAEAAAAAAQEAAAEAAAEAAAAAAAAAAQABAQAAAAAAAAAAAQAAAAAAAAAAAAABAQEBAQEAAAAAAAABAQABAAAAAQABAAEBAQEBAQEBAAAAAAEAAQEAAQAAAQEAAQEBAAAAAAEAAAEAAAEBAAAAAAAAAAABAQABAQEBAQABAQAAAAEBAAEBAQAAAQAAAAABAQAAAAEAAQAAAAAAAQAAAAEBAAEAAQEAAAEAAAEBAQAAAQAAAQABAQAAAQEAAQAAAAABAAABAQEBAQEBAQAAAAAAAQEBAAAAAAEBAAAAAQAAAAEAAQEAAAAAAAABAQEBAQEAAAAAAAEAAQAAAAEAAQABAQEAAAAAAQAAAAAAAAAAAAAAAAAAAQEAAAEBAAAAAQABAAEAAQEAAAAAAQAAAAAAAQAAAAEBAAAAAAAAAAAAAAAAAAEBAAABAQEAAAEBAQABAAAAAAAAAAABAAABAAEBAAEAAAEBAQEAAQEAAAEAAQABAQEBAQABAAABAAEAAAEBAQEAAAEBAQEBAAAAAAEBAQEAAAEBAQEBAQAAAAEAAQABAQEAAAABAQEBAQAAAAEAAAAAAAEBAAEBAQEAAAEBAAAAAAABAQEAAAABAAEBAQAAAQEAAQAAAAABAAEAAAAAAAABAQEAAQEBAQEBAQEAAAABAQAAAAAAAAAAAAEBAQEAAAAAAQABAQEAAAEAAAABAQEBAAEBAQEAAAEAAAAAAQEAAAAAAQAAAAAAAAAAAAABAAAAAQAAAQEBAAEBAAABAQAAAAABAQEBAQEBAQAAAAAAAAEBAQEBAQABAQAAAAABAAEBAQEAAQEBAQABAQEBAQABAQAAAAAAAQAAAAEBAQABAAAAAQEAAAABAQEBAAEAAAAAAAEAAQEAAAEBAQEAAAEAAQABAQAAAQAAAAAAAAABAQEBAAAAAAEAAQEBAQEAAAABAAAAAAEBAQABAAAAAQAAAQEAAAEBAAEAAAABAAEBAQAAAAEBAAEBAQAAAAAAAAAAAAAAAQAAAAEAAQEAAQEBAAEBAAEAAQAAAAEAAAAAAAEAAAABAQABAAEBAAAAAAEBAQEAAQABAQABAQAAAAEBAQEAAQEBAQEBAQEAAAAAAAAAAAAAAAEAAAEAAQEBAQAAAQABAQEBAQABAAEBAQEAAQEAAAAAAAEBAAAAAQEAAAEAAQABAQEBAAAAAAEAAQABAQAAAAABAAAAAAAAAAAAAQEBAAAAAAEAAAAAAAABAQEBAQEAAAEBAQAAAAAAAQAAAAAAAAAAAAAAAAEAAQAAAAABAAAAAQAAAAEBAQEAAQEBAQEAAQAAAQEBAQAAAAAAAQEAAAEAAAEAAAAAAAEBAQABAAAAAQAAAAAAAAEBAAAAAAAAAAABAAEBAQEAAAAAAQEAAAAAAQEBAAABAAEBAQAAAAEBAAAAAAAAAAAAAQEBAAAAAAEBAAABAQEBAAAAAAEBAQEBAAAAAAEBAAAAAAAAAAAAAAAAAAAAAQABAAEBAAEAAQEAAAEBAQEBAQEBAQABAQABAAABAAABAAEAAAABAAEBAQEAAAAAAQEBAAAAAAABAQABAAEBAQAAAAABAAEBAAAAAAEAAQAAAAABAQEBAQEBAAABAAAAAAABAQEBAQAAAQABAAAAAAAAAAEBAQEBAQAAAAAAAAAAAAAAAAAAAAABAQEAAQAAAQAAAAAAAAEBAQEAAAEAAAEBAAABAAABAAEBAQABAAABAAEBAAEAAAABAAAAAAAAAAEBAAEAAQABAAEBAQEAAAEBAQABAAEBAAABAQEAAQEBAAAAAAABAQAAAAAAAAEAAQAAAQAAAAABAQAAAAAAAAABAAAAAAABAQEAAAAAAAAAAQEAAAAAAAABAQEBAQEBAAABAQEAAQEAAAAAAAEBAAEBAAEAAAAAAQEAAAAAAAAAAAEBAQABAQEAAQEBAQEBAQEAAQAAAQEAAAEAAAEBAQEBAAEBAAAAAAABAQEAAAAAAAEAAAEAAAEAAQEAAQEAAQABAAAAAQABAAAAAQEBAQEBAAABAQEAAAABAQEAAAABAQAAAQABAQEAAQAAAQEBAQEAAAAAAAEAAAAAAAEBAQEBAAEBAAEAAAEBAQABAQAAAAABAQEBAAAAAQEBAQEAAAEBAQEAAAEBAQAAAAEBAAAAAQEBAQAAAAEBAAABAQEBAAABAQEBAQABAAABAQEAAQAAAQAAAAEBAAEBAQAAAQEBAQAAAQAAAAAAAAABAAEBAQABAAEBAQABAAEBAQEAAAABAAEBAQAAAQABAQEAAAEAAQEBAQAAAQAAAAEAAAAAAQEBAAAAAQEBAQAAAAEBAQEBAQEBAQEBAAAAAAEAAAAAAQEAAQEBAQEBAQAAAAAAAAAAAAEAAAAAAQEBAQAAAAEBAQEAAQEBAAEBAQEBAAAAAAAAAQABAQEBAQEBAQAAAQEBAAAAAQEBAAABAQEBAQAAAAAAAQAAAQEBAQABAQEAAAAAAQEAAQAAAQAAAAABAAEAAAAAAAEBAAAAAAABAQAAAAAAAQAAAQAAAAEAAQEAAAAAAAAAAAEBAQABAAABAAAAAAEBAQEBAQEAAAAAAQEBAQEBAQAAAQEAAAEBAQEBAAEBAQEAAAEBAAAAAQEAAAAAAAAAAAEAAAAAAQABAQEBAQEAAQAAAQABAAAAAAAAAAEAAAEBAAABAAAAAAAAAQAAAQABAQABAQEBAAAAAAAAAAEBAQAAAAABAAABAQAAAQEBAQEBAAABAQAAAAAAAAABAQAAAQEAAQAAAAAAAQEAAAEAAQABAQEAAQEAAAABAAAAAAEBAAEAAQEBAQEBAAEAAQEAAAEBAAEBAQEBAAEAAAAAAQEAAAAAAAEBAQEBAQABAQEBAQEBAAEBAAABAQEAAQEBAAAAAAEBAAEAAQEBAAABAQABAAABAQABAQEAAAEAAAEBAAEAAAEBAAABAQEBAAAAAQAAAAAAAAAAAQAAAAEAAAEBAAEAAAAAAQEAAQEAAAAAAAAAAAABAAABAAEAAAAAAAABAAAAAQEBAQEBAQABAAABAQEBAQEAAQEBAQAAAAAAAAABAAABAAABAQAAAAAAAAAAAAABAQEAAAAAAQAAAAAAAAAAAAAAAQEBAQEAAAAAAQAAAAAAAQEBAAEBAAEBAQEBAAABAAAAAAEBAQEAAQAAAAABAAEBAAEBAQAAAAABAQEBAAEAAAABAQABAAAAAAAAAAABAAAAAAAAAQAAAAEBAQAAAAEBAQAAAAABAQEAAQABAAEAAAEBAQEAAAABAAEBAAABAAEAAQEBAAEBAQEBAQEBAQEBAQAAAAAAAQAAAAABAQAAAAABAAAAAAAAAQAAAAEBAAAAAAEBAAABAAEBAQEAAAABAQEAAAEAAQABAAAAAQEBAQEBAQEAAAEBAQEBAQABAQABAAABAAAAAAABAAEBAQAAAAAAAQAAAAAAAAEAAQEAAQABAAEAAAEBAAAAAAAAAAAAAQAAAQEAAAABAQEBAQEBAAEAAQEBAQABAQEAAAAAAQEBAAABAAABAAABAQAAAAABAAABAAABAQEAAAEBAAAAAQEBAQAAAAABAAAAAQABAQAAAAABAAEAAAAAAQABAAEBAAABAAABAAAAAAAAAQEAAQEAAAAAAQEAAAABAQEAAAEBAAABAAEBAQEBAQEBAQAAAAEAAAAAAAAAAAEAAAEBAAAAAAABAQEBAQAAAAABAAEAAAABAQAAAAEAAQAAAAABAAAAAQEBAAAAAAAAAAAAAAABAAEBAAABAQABAQEBAQEAAAAAAAAAAQAAAAAAAQABAAABAAEBAAABAAAAAAEAAAABAQEBAQAAAAAAAQEBAAABAQAAAQEAAAAAAAABAAAAAAAAAQAAAQEBAAEBAQAAAAEBAAEBAQEBAAEAAQABAAAAAQEBAQAAAAEBAQAAAAAAAAABAAABAAEAAAAAAAEAAAEAAAABAAAAAAABAAAAAQAAAAEBAAAAAQEBAQAAAAABAQEAAAABAAEBAQEBAQEAAQABAAAAAQEAAAABAAEBAAEBAQAAAQEAAQEBAQABAAAAAQABAAAAAQAAAQAAAAEAAQEBAQAAAQEAAQABAQABAAAAAAABAAEAAAAAAAEBAAEAAAABAQAAAAEAAAEAAAAAAAAAAAABAQABAAEAAQABAAAAAAEBAAEBAAAAAAAAAAEAAAEBAQEAAQAAAAAAAQABAAABAQAAAAABAQAAAQAAAQEBAQABAAEAAAEAAQEBAQEAAAEBAQEAAAAAAQABAQABAQEBAAAAAQAAAQEAAQABAAABAQEBAQAAAAEBAQAAAQEBAAABAAAAAAEAAQEAAAAAAAABAQEBAAABAAABAQAAAQAAAQEAAQEAAAAAAAEBAQEBAAABAQEBAAEAAQEBAQAAAQABAQAAAAABAQEAAAAAAAABAQAAAAEBAQAAAAEBAQEAAAAAAAAAAQEAAAAAAAABAAEAAQEAAAEBAQEBAQEAAQABAAAAAAEBAAEAAQEBAQABAAEAAAAAAAAAAAAAAQEAAQAAAAABAAAAAAAAAQEAAAEBAQABAQAAAAAAAQEAAAEBAAABAQAAAAEAAQABAQAAAQEBAQEBAAAAAQAAAQAAAAABAQAAAQEAAAEBAQABAQABAQABAQAAAAAAAQAAAAAAAQEBAQEBAQEBAQAAAQEAAQAAAQAAAAEBAAEBAAEBAQEBAAABAAABAQEBAAEBAQABAAABAAABAQEAAQEAAQAAAQABAQAAAAAAAAEBAAEAAAEBAQEBAAAAAAEAAQEBAAEBAAAAAAEBAAEBAAEAAAAAAQEAAAABAQEBAAABAQEBAAAAAAAAAQABAAEBAQEBAQEBAQEBAQAAAAEAAAABAQEBAQEAAQAAAAAAAAAAAAAAAAEBAAEAAAAAAQEBAQAAAAAAAAEAAQABAAAAAAAAAAEBAQEBAQEAAAAAAAABAQEAAAAAAAAAAQEAAQEBAQAAAAEBAQABAAEBAQEBAAEBAAEAAQEBAQEAAAABAQEAAAEAAQEBAQAAAQABAQEAAQAAAAEAAQAAAAAAAAAAAAEAAAAAAAAAAAAAAQAAAAAAAAAAAAEBAQEBAQAAAQEBAAABAQEBAQEBAQAAAQEAAAEAAAAAAAEBAAEAAQAAAAAAAAAAAQABAAABAAABAQEAAAAAAAEBAAEBAAEAAAAAAAEAAQABAAAAAAABAAAAAQEAAAEAAAAAAAABAQEBAQEAAQABAAEBAQEBAAEAAAAAAAABAQAAAAABAQAAAQEAAQEBAAAAAAAAAAABAAABAQEAAAAAAAEBAQAAAAEAAQEAAAEAAAEBAQEBAQABAQEBAQABAAEBAQAAAAAAAQABAAEAAAAAAAAAAAABAAABAAAAAQABAAAAAQAAAQAAAQEAAAEBAQAAAAEBAQEAAQEBAQABAQAAAAEAAAEBAAAAAAAAAAEBAAAAAQEAAAEBAAEBAAAAAAEAAAEBAQABAAEBAAEAAAEAAAABAAAAAAEBAAAAAAEAAQEBAAAAAAABAAEBAAABAQEBAQABAQAAAAEAAAAAAAAAAAABAQABAAEBAAABAAAAAQEBAAEBAQAAAQAAAAABAQAAAAEAAQABAAEAAAABAQAAAAAAAQEAAQEBAAABAQEBAQEBAAABAAAAAAAAAQABAQAAAQABAQABAQABAQEAAAAAAAAAAAEAAQEBAQEBAQEAAAEAAQABAQEBAQEBAQAAAAEAAAAAAAAAAAEAAAEAAAAAAQEBAAABAQEBAAEBAAAAAQEBAAAAAAABAQEAAQAAAQEBAAEAAAAAAQEBAQEAAAAAAAEAAAEAAAABAAAAAQEBAQEBAQEBAQAAAQEBAQEAAQEBAQAAAAAAAAEBAQEBAAAAAAABAQEBAQAAAAABAAAAAAEAAAEAAAAAAQEAAAABAAEAAAAAAAAAAQEAAQAAAQAAAAAAAAAAAAAAAQABAAEAAAABAAABAQABAQEAAAAAAAAAAAEAAAABAQEAAQABAAAAAAEBAAEBAQABAAABAAAAAAAAAAAAAQABAQAAAAEAAQABAQAAAAEAAAEBAAAAAQAAAAABAAAAAQEAAAAAAAEAAAEBAQAAAQEAAAABAQABAAEBAAAAAQEBAQAAAAAAAAABAQAAAAAAAAABAQABAQEBAAAAAAAAAAEAAAAAAQAAAAEAAAABAQABAAAAAAEBAQABAAABAAABAAAAAAAAAAAAAAAAAQAAAQEBAQEAAQEAAAEAAAABAQAAAAAAAQAAAAAAAQAAAAEAAAAAAAEAAQABAQAAAQABAAAAAAEBAQEBAQEBAAABAAAAAQEAAAABAQAAAQAAAAABAQAAAQAAAQEAAAABAAABAQAAAQEBAQAAAQEAAQEBAQABAQAAAQEAAQAAAAAAAQEBAAAAAAABAQABAAEAAQEBAAEBAQEBAAEBAQABAAABAQEAAQAAAQEAAAEBAQAAAAAAAAEAAAEBAAEBAQAAAAAAAQEBAAAAAQEBAAABAAEBAQEBAAAAAAABAQEAAQEBAQAAAQEAAQEBAQEBAQAAAAEAAAEAAAAAAAEAAAAAAAEAAAAAAAEAAQAAAQEAAQAAAQEAAAEAAAAAAAEAAQEAAQEAAAEAAAEAAAAAAAABAAAAAQABAQEBAAEBAAAAAAEBAAEAAAAAAAAAAAABAAAAAAAAAQEAAQEBAAEBAAABAQABAQEAAQEAAQAAAAEBAQAAAAAAAQABAQABAQEAAQEAAQEAAQEBAAEAAAAAAAAAAQEBAQAAAQAAAAEBAQAAAQEAAAEAAQEAAAABAAEBAQABAQABAAABAAEAAAAAAAABAQEBAQABAAAAAQAAAQEAAAAAAAEAAAABAAABAAAAAAEAAAEAAQEAAAAAAAEBAAAAAAEBAAAAAAAAAQABAQAAAAABAQEAAAAAAAABAQEBAAAAAQABAQABAAAAAAEBAAAAAQEBAAAAAAAAAAEAAQEAAAAAAAAAAQEAAAAAAAAAAQEBAQEBAQEBAAEAAQEBAQABAAABAAABAQEBAQEAAAABAAEAAQEAAAAAAAABAAAAAAAAAAEBAAEAAAAAAAAAAQAAAQEAAQABAQEAAAEAAAABAQEAAAEAAAAAAQAAAAEBAQAAAAEAAAAAAAEBAAEAAAEBAQEAAQABAQEAAAAAAQEAAQEAAAEBAAEBAQAAAQEBAAAAAAAAAAEBAAABAAEAAAAAAAAAAAABAQABAQAAAQEBAAABAQEBAQABAQAAAAAAAAAAAAEBAAEBAQABAQAAAAAAAAAAAAEBAAEBAAAAAAAAAAEBAQEAAQAAAAAAAQAAAQEBAAAAAQEAAAAAAAABAAAAAAABAQEBAAABAAAAAAEAAAAAAQABAQABAQABAQABAQEBAAAAAQEBAQEBAQEAAQEAAAEAAAAAAAAAAQEBAQEBAAEAAAABAAEAAAABAQAAAAEBAAABAAEAAQABAAAAAQEAAAABAAEAAQAAAAABAAEBAAEBAAABAQEAAAEAAAABAAEBAQAAAAEAAAEAAQEBAAABAQAAAAEAAQEBAAEAAAEBAAAAAAEBAAEBAQABAQAAAAEBAQEAAAABAQABAQABAQEBAQEAAQAAAAABAQEAAAABAQAAAAABAQAAAAAAAQEAAAEAAQEBAQEAAAABAQABAQEBAAAAAAEBAAEAAAAAAAABAQAAAQEAAAABAAEAAAABAQEAAAEAAAEBAAABAQAAAQAAAQEBAQAAAAAAAAEAAAAAAAEAAAABAQEBAAABAAABAAAAAAAAAQAAAAAAAAABAAEAAAABAQEBAQAAAAAAAAEAAQAAAAEBAQEBAQABAQABAQEAAAABAAABAQABAAEBAAAAAAEBAAAAAQEBAQEBAQAAAAAAAAEBAAAAAAABAAEAAQAAAAABAAAAAQEAAQAAAQEAAQAAAQEBAQEBAAABAAABAQEBAAAAAQABAAAAAAAAAAABAAEBAAEAAQAAAAEAAAAAAAAAAAABAAAAAAAAAQEBAQEAAQEBAQABAAAAAQEAAAEAAAABAAEAAQEBAAEBAAEBAAAAAAEAAAAAAAEBAAEAAQEBAQABAQEAAAEAAAAAAAEBAAAAAAAAAAAAAAAAAQEAAAABAAEAAQEBAQABAAEBAQABAAEBAAAAAAEAAQAAAAABAAABAQEBAQEAAAEAAQEBAAAAAAABAQEBAQEBAQAAAQAAAAABAQEAAQABAAAAAAEAAQAAAQAAAQAAAAABAQAAAAEAAQAAAAEBAAEBAQABAQEBAAAAAAABAQEAAAAAAAAAAQABAAAAAQEAAAAAAAABAAAAAQEBAAAAAQABAQABAQABAQEAAQEBAQABAQABAQEBAQEAAQEAAAAAAAAAAAABAQEBAAAAAAEAAQEBAQAAAQAAAQEBAAABAQEBAQAAAQABAQABAQEAAAEBAAABAAAAAAAAAAEAAQAAAAEAAAABAAAAAAABAAAAAAEAAQEBAQEBAQEBAAEAAQABAAEBAAAAAAAAAAEAAAAAAQABAQABAQAAAAAAAAEBAAAAAAEAAQAAAAABAQAAAAEBAAAAAAAAAQAAAAEBAQEBAAABAQEAAAEBAAAAAAABAQEAAAAAAAAAAAAAAQAAAQEBAQEAAQABAAAAAAABAAEBAQAAAAABAAEAAQABAQEBAQAAAQABAAABAQAAAAEAAAEBAAEAAQAAAQEBAAAAAAEBAAAAAQAAAQABAQAAAAEBAQEBAAABAQAAAAAAAAEAAQABAQABAAAAAAEBAAABAAAAAAEBAQEBAAABAQAAAAEBAAABAAAAAQEAAAEAAQABAQABAAEAAQAAAQABAQABAAABAQABAAEAAAAAAAEAAAEAAAABAQEAAQEBAAAAAAABAQAAAAABAQABAQAAAAAAAQEBAAEBAQEAAQAAAAAAAAEBAQEBAAEAAAAAAAEAAAAAAAEAAQAAAQEBAQEBAQABAQEAAQAAAQAAAAEBAQEAAAAAAAABAQEAAQABAQEBAAEBAQABAQEAAQAAAQAAAAABAAEBAAABAQAAAAEBAAAAAQEAAAEBAQABAAABAAABAQEBAQEAAAAAAQEBAAABAAEAAAAAAAABAAEAAAAAAAEAAQAAAAEAAAABAAEAAAAAAAAAAQABAAAAAQABAAAAAQEBAQAAAAEBAQAAAQEAAAEAAAEBAAAAAAAAAAABAAEBAAAAAAEBAAAAAAABAQAAAQABAAABAQAAAQEAAAAAAAAAAQABAAABAQAAAAEBAAEAAQEBAQEBAAABAQABAAAAAQABAQAAAQEAAQEBAQABAAEBAQEBAAEBAQABAQEBAQABAAEBAQEBAAAAAAEAAAEAAAEBAQAAAQABAQAAAAEAAAABAAEBAQAAAQABAQABAQEBAAEAAAAAAAAAAAEBAAAAAQEBAQABAQEAAAAAAQABAQAAAAABAAABAQEBAAEAAQEBAQABAAAAAAEAAQAAAAEAAQAAAAEBAQEAAQEAAQEAAQAAAQAAAQABAAAAAQABAAAAAAABAQEBAAABAQEAAQEAAAEAAAAAAQABAAAAAAABAQEAAAAAAQEBAAABAQAAAAAAAAEBAQEAAAEBAQEBAAEBAAEBAAAAAAAAAAAAAQEBAAEBAQAAAAEAAAABAAAAAQEAAAABAQEBAAAAAQEAAAABAAABAQABAAAAAQAAAAABAAABAAABAAAAAAAAAAAAAAEBAAAAAQABAAEAAQEBAQEBAQAAAAABAAAAAAEBAAEAAAAAAQABAQEAAAABAQEBAAEBAAAAAAEBAQEAAQEAAAAAAAAAAAEAAAABAQEBAQEBAQAAAQAAAAAAAAEBAQAAAQEAAQEAAAAAAQEBAQEAAAAAAQEBAQAAAQEAAAAAAQEAAQAAAQABAQAAAQEBAQEAAQEBAAAAAQAAAAEAAAAAAQABAQEAAAAAAAABAAEAAQEBAQEAAAEBAQABAQEBAAABAAEBAAABAQAAAQEAAAABAAAAAAABAQEAAQAAAQEBAAEAAAEBAQEAAQEBAQAAAQEBAQAAAAABAAEAAAAAAAABAQEAAAEAAAABAAEBAAEBAQABAAABAQAAAAAAAAABAAEAAQAAAAABAQABAAEBAQEBAQEBAAEAAAABAQAAAAAAAAAAAQABAQABAQEBAQAAAAEAAQAAAQAAAAEAAQAAAQAAAQEAAAAAAAEBAQEBAAEBAAABAAEAAAABAQAAAAABAQEAAAAAAAEAAAAAAQEBAAEAAAEAAAEBAAAAAAEBAQEBAAABAAAAAQEBAQABAAEAAAAAAAABAAAAAAAAAQEAAQEBAAEAAAEBAAAAAAAAAAAAAAABAQEAAAABAAEAAAAAAQEBAAEBAQEBAAAAAQABAAEAAAAAAQEAAAABAAEBAQEAAAAAAQEAAAABAAEAAQEBAQEBAAABAQABAAAAAQAAAAABAQABAQEAAAEAAAEAAAAAAAAAAQAAAAAAAAAAAAEAAQEAAQAAAAAAAAEAAQEBAQEAAAEAAAEBAQEBAQABAAAAAAABAAAAAAABAQEBAQAAAAABAQEAAAAAAQABAAEBAAAAAAEAAQEAAQABAAAAAQABAAAAAAEAAAEAAQEBAAEBAAAAAQABAAEBAQABAAEAAAAAAAAAAAAAAAEAAQAAAQEBAQEBAAABAQAAAQEAAAEBAQAAAAEAAQEAAQAAAAEAAQEBAQEAAAEAAQEBAAAAAQEAAQABAQEBAAAAAAAAAAABAQEAAAAAAAAAAAAAAAABAQEBAAAAAAEBAAAAAQEAAQABAAAAAQAAAQABAQABAQEAAQEAAAAAAAABAAEBAAABAQAAAQEBAAEAAAEBAAAAAQEAAAEAAAEBAQEBAAEAAQAAAAEBAAABAAAAAAAAAQEAAAAAAQEBAQABAQAAAAEAAAAAAQEBAAEAAAAAAAABAAEBAQEBAAAAAQEAAAAAAAEAAAAAAQEAAAAAAQAAAAEBAQAAAAEBAQAAAAAAAAAAAAAAAAAAAQAAAAAAAAEAAAABAQEAAAEBAQEAAAAAAAEBAAAAAAAAAAAAAQEAAAABAQABAAABAQAAAQAAAQAAAAEBAQEBAQEBAAEAAAAAAAAAAQAAAAAAAAEBAAAAAAABAAEAAAABAQEBAAABAAEBAQEBAQEAAAAAAQEBAAAAAAAAAAEBAQEBAQABAAAAAAABAAABAAEBAAAAAQAAAAABAQABAQEAAAEBAQAAAQABAAABAAAAAQAAAQAAAAEBAAAAAAABAAAAAAAAAAABAQEBAQEAAQEAAAABAAAAAQAAAAAAAAAAAAEBAQEBAQABAAABAAEBAQABAQAAAQEBAQABAQAAAAAAAAEBAQEAAAEAAAAAAAABAQABAQEAAAEBAQEBAQAAAAEBAAEAAAEAAAABAQAAAAAAAQEAAQAAAAABAQEBAQAAAAEAAAEBAAEBAQABAAEAAAAAAQEAAQABAAAAAQAAAQAAAQAAAAABAAEAAAAAAQAAAAABAAEAAAEAAQEAAQAAAQEAAAABAQEBAAABAAAAAAAAAQAAAAAAAQEAAAAAAAEAAQEBAAAAAQEAAAAAAAAAAAAAAQEBAQEAAQEAAQEAAAABAAAAAAEAAQEBAAAAAQABAQAAAAEAAAEAAAEBAQABAAEBAQEAAAEBAQAAAAEAAQEAAQABAQAAAAAAAQEAAAEBAAEAAAABAQAAAQEAAAABAAABAAAAAQEAAAAAAAAAAAAAAQEAAAAAAQEBAAAAAAAAAAAAAAABAQAAAQEAAAEBAQABAAAAAQAAAAEBAQEAAAAAAAEAAAAAAQEBAQEBAQEAAAEBAAEBAQABAQEAAAEAAAAAAQAAAAABAAAAAAEAAAEBAAAAAAAAAQAAAAAAAQABAAAAAAAAAAABAQEAAAEBAQABAAABAAAAAAEAAAAAAAAAAQAAAAAAAAEAAQABAQAAAAEAAQEBAQEAAAEBAQABAQEAAAABAQEBAAABAQEBAQAAAQABAAEBAQEAAQEAAAAAAQABAQEAAQEBAQEAAAEBAQEBAQEAAAEAAQEAAAABAAEBAAEBAQEBAAEAAAEBAAAAAAEAAAAAAQEAAAEBAAEAAQEBAAAAAQEBAQABAAEBAQAAAAEBAQAAAAEAAQABAAEBAQEBAQABAAEBAQEAAAABAQAAAAAAAAAAAQEBAQAAAAABAQAAAAABAAAAAAAAAQAAAAEAAQEBAQEAAAEAAAEAAAAAAQABAQEAAAABAQEBAQEBAAAAAAAAAAEAAQAAAAEBAQEBAAAAAQEAAAEBAAEAAAAAAAAAAAEAAQEBAAAAAQEAAQEBAQAAAQEAAAAAAQABAAEBAAAAAQEBAAAAAAAAAQEBAAAAAQAAAAAAAAAAAAABAQEBAQEBAQEBAQAAAAABAAEAAQABAQEAAQAAAQEAAAABAQABAQABAAAAAQEAAAAAAAAAAQEBAQAAAAAAAAEBAAABAAEAAAEAAQEAAAAAAAAAAAEBAQABAQEBAAABAAAAAAAAAAEAAAAAAQABAAEAAQAAAQEBAQEBAQEAAAEAAAAAAAEAAAEAAQEBAAAAAQEAAQAAAQAAAQABAQABAQABAQEAAQABAQABAAAAAQEAAQAAAAAAAAAAAQEAAAAAAAAAAQEAAAABAAEAAAEAAQEAAQAAAQEAAAAAAAEBAQABAQEBAAEBAAAAAAEAAQAAAAAAAQEBAAEBAAAAAQEBAQAAAAEAAQEBAQEBAAEBAAEAAAEBAQEBAQABAAEAAAEAAAABAQABAQEBAQEAAAEBAAAAAAABAAAAAAEBAAAAAQAAAAAAAAABAAABAQEBAAAAAQAAAAEAAAAAAQEAAAEAAAABAQEBAAEAAAABAAEAAAEAAAABAAEAAAABAAAAAQEBAQEBAQEAAAEBAAABAAEAAQEBAQAAAQEBAQEAAQEBAAABAQABAQEBAAABAAAAAAAAAQAAAAABAQEBAAAAAAABAQABAAAAAQEBAAABAAEAAAABAQEAAQAAAAAAAQEBAAABAQAAAAAAAQAAAAABAAAAAQEAAQAAAAEBAQAAAQABAAEBAAEAAQEAAAABAAAAAAAAAAAAAAABAAABAQEBAQEAAQABAAEAAAEBAQAAAQAAAQEBAQEAAAAAAQAAAQEAAAEBAAEBAAEBAAAAAAEBAAEAAAEAAQEBAQABAQAAAAEAAQAAAQABAQEAAQEBAAEAAQEBAQEBAQEBAQEBAAEBAAEAAQEAAAABAAABAAEBAAAAAQAAAAABAQEAAAAAAQAAAAABAQAAAAAAAQEAAAEAAQEAAQEAAAAAAAEBAQAAAAAAAQABAQAAAAAAAQAAAAABAQEBAAEBAAEBAQAAAAABAQAAAAAAAAEBAQAAAAEBAAAAAAEBAQABAAABAAAAAAABAAAAAAABAAAAAAEBAQAAAAAAAAABAQEBAAEAAQEBAQABAQEBAAABAAAAAQAAAAAAAQEBAQEAAQAAAAAAAAEBAQEBAQAAAQEBAAABAAEAAAEAAAAAAAAAAAAAAAAAAAAAAQAAAQEBAAABAAEAAQAAAQEAAQEAAQAAAAEAAQAAAAAAAAEAAQAAAQABAQABAAABAQAAAQEAAAEAAQAAAAEBAQEBAQABAQAAAAEAAQABAQEAAAEAAAEAAQEBAQEAAAAAAQEAAAABAQAAAAEAAAAAAQEAAQAAAAEBAQEBAAABAQEBAAEBAQEBAQEAAAAAAAAAAAABAQEBAQAAAQEBAQABAQEBAQAAAAEAAAABAQAAAAAAAAAAAAABAQAAAQEBAAEAAAABAQEAAAEAAAAAAAAAAQAAAAAAAAAAAAABAQEAAAAAAAABAAABAAAAAAEAAAEBAQAAAAAAAQABAAABAQAAAQAAAAAAAQEBAAAAAAAAAAEBAAEBAAEBAQAAAAEAAAAAAQAAAAEAAAEBAQEAAAABAAEAAAABAAAAAAABAAAAAQAAAQABAQAAAAABAAABAQEAAQAAAAEBAQEAAQEBAAAAAAAAAQEBAQABAAAAAAABAAEAAQEAAAAAAAAAAQABAQEBAAABAAEAAAAAAAABAQEBAQAAAQABAQEAAQEBAQEBAQABAAEAAQAAAAAAAAEBAQAAAAAAAAABAAAAAAEAAAAAAAAAAAAAAAAAAQEAAAAAAAABAAAAAAAAAQAAAQEAAQAAAQEBAAEBAAEBAAABAQAAAAAAAAEAAAAAAQAAAAEAAAEAAAAAAAEBAQEBAAAAAAEAAAAAAQAAAAEBAAEBAQEAAAAAAQAAAAEBAAAAAQEBAQEBAAEAAAEBAAEAAAABAAABAAAAAQAAAAEBAQABAAEAAAABAAEBAQAAAQAAAAEAAAAAAAAAAAEBAAAAAQEAAQAAAQEAAAAAAAAAAAEAAQEAAQEAAAEBAAEBAQABAAEAAAAAAQAAAAEBAAEBAAEAAAAAAAABAAAAAQABAQEBAQABAQAAAQAAAAABAAAAAAEAAAEBAAAAAAABAQABAQEBAQAAAQAAAAAAAAAAAQAAAQEAAAAAAAEBAQAAAAAAAAABAQEAAAEAAQEBAAEAAAEAAQAAAAAAAAEBAAEBAQAAAQAAAQABAQEBAQAAAAAAAQEBAQABAQEBAQEBAAAAAQABAQABAQAAAAAAAAEBAAAAAQAAAQAAAQABAAABAQEAAAAAAAAAAAABAAAAAQEAAAEAAQABAQEAAQEBAQABAQAAAQAAAAEBAAEAAQAAAAABAAAAAAABAQABAQEAAQEBAAAAAQEAAQEBAAEBAAAAAAEBAAAAAQAAAAEBAAABAAEBAAABAAAAAQAAAAAAAAAAAQEBAAEAAQEBAAAAAAAAAQEBAAABAQABAQAAAQAAAAEAAAEAAAABAAAAAQAAAAAAAAAAAAABAQEAAAABAAAAAQABAAAAAAEBAAAAAAEBAAEAAQABAQEBAAABAAAAAAABAAEBAQEBAQEBAAAAAQEAAQAAAAEBAAEAAAABAQABAQAAAQEBAAEBAQEBAAAAAQEAAAEBAQEBAAEBAQEAAQAAAQAAAAAAAQEBAQEBAQAAAQAAAQAAAQAAAAABAAABAAABAAABAQEBAQABAQEAAQEBAAABAQABAQEBAQAAAQEAAQEAAAAAAAEAAQEBAAAAAAAAAAEAAAABAQAAAAAAAAAAAQEBAAABAAABAQEBAQAAAAEBAAEBAAABAQAAAAAAAAAAAAABAQAAAAAAAQEAAAAAAQABAQAAAQABAAEAAQEAAQAAAAEAAAEAAQEBAAAAAAAAAQAAAAEBAAABAQAAAAEAAQEAAQAAAAEAAAAAAAEBAAAAAQEAAAABAQABAAAAAAABAQAAAQAAAAAAAQEAAAABAQAAAQEAAQEAAQEBAQEAAAAAAAAAAQEBAAABAAEBAAAAAQEAAAAAAQABAAEBAAABAQABAAEAAAEBAQEAAQAAAAAAAAABAQABAAEAAQAAAAAAAAABAQEBAQABAQABAAABAAAAAAAAAAABAQAAAAABAQEAAQEAAAEBAAEBAQABAAABAQABAAEAAQABAQAAAAEAAQAAAAAAAAEBAAAAAQEAAAAAAAABAQEBAQABAAEBAQABAAEBAQABAAABAQEAAAEAAQEAAAABAQAAAAAAAQEAAAAAAAAAAAABAAABAQEBAQABAAEBAQEBAQAAAAAAAAAAAQAAAAABAAABAAEAAAEAAAAAAAAAAQAAAAEBAAEBAAAAAAAAAQABAAAAAQEBAQAAAAABAAABAAEAAAABAAAAAQAAAQABAQEBAQEBAAEAAAABAQEBAQAAAAEAAQEBAAAAAQAAAAAAAQAAAQEBAQAAAAEAAAEBAAAAAQEBAAEAAQABAAEAAAEBAAEAAAAAAAAAAAAAAAAAAQAAAAEBAQEBAQEBAQEBAQEAAQAAAAEAAAEAAQAAAAAAAAAAAQABAQEBAAEAAAEAAAAAAQEAAAAAAQABAAAAAQABAAABAAAAAAEAAQEBAAABAQEAAAEAAAAAAQEBAQABAQAAAAEAAAEBAAAAAAEAAAABAAEBAAEAAAAAAAEAAAEAAAEAAAEBAQABAAEAAAEBAAAAAAABAAAAAAAAAAAAAAEAAAABAAEAAAABAQABAQEBAQEAAQEBAQEAAAEBAAAAAQEAAAEBAAABAQAAAAAAAAABAQAAAAAAAAABAQEBAQAAAQEAAAAAAAAAAAEAAQEBAQEAAQAAAAAAAAABAQEBAAAAAAABAQEBAQABAAABAAABAQEAAQEAAAAAAQEBAQABAAEAAAABAAEBAQEAAQAAAQAAAAABAAEAAAEAAQAAAAEBAAABAQAAAQABAAEAAAAAAAEBAAAAAAEAAAEBAQAAAQABAQABAAABAQEAAQEAAQEAAAEBAQAAAQEBAQEAAAEBAAABAAAAAQEBAAEBAAABAQEAAAAAAQEBAQABAQEAAQAAAAAAAQEAAAAAAAAAAQABAAABAQAAAAEAAAAAAQEAAQEAAAAAAAEAAQEAAAAAAQAAAQEBAAAAAAAAAAEBAAABAAEAAAEBAAAAAAAAAAAAAQABAQEBAQEAAQAAAQAAAAABAAABAAEAAAABAAAAAAABAAAAAAAAAAABAAEAAAAAAAAAAAAAAQAAAQABAAABAAABAAAAAQAAAAAAAAABAQEAAQAAAQEBAAAAAAEAAAAAAQEAAAAAAQABAAEAAAAAAQAAAAAAAQEBAAAAAAABAAAAAAABAQEAAAABAAABAQAAAAEBAQAAAAABAAAAAAABAAEBAQEAAAAAAAAAAQEAAAABAAAAAQEBAQAAAAAAAQAAAAABAQAAAQABAQEBAAEBAAEBAAEAAAABAQEBAQEAAAABAAAAAAABAQEBAQAAAAABAQABAAAAAQABAQAAAAAAAAAAAAAAAAABAAEAAAEAAQABAAABAQAAAQABAQABAQEAAQEBAAAAAAEAAQEAAAAAAQABAQABAQAAAAEAAAABAQAAAQAAAAAAAQABAQEAAQEAAQAAAAABAAAAAAEBAAEAAAAAAAAAAQAAAQEBAQAAAAAAAAABAAAAAAABAAAAAAEAAAAAAAABAAAAAAAAAQABAAABAQAAAAEBAQABAAAAAQEAAAABAAAAAQABAAAAAAAAAQEAAQAAAAAAAQAAAQAAAAABAQAAAQAAAQEAAAEAAAEBAAABAQEBAAABAQEBAAEBAQEBAAEAAAAAAAEBAAAAAAEBAAAAAAAAAQEBAAEAAQEAAQAAAAAAAAAAAQAAAQEAAQAAAQAAAQABAAEAAQEAAQABAAAAAQEAAQAAAQABAQABAAEBAQABAAABAAABAAAAAAABAQAAAAEBAAEAAQEBAQEAAQABAQEAAAEBAAABAAEBAAEAAAEAAAAAAAAAAAEBAAAAAQEBAQAAAQAAAQEBAAAAAAEBAAABAQABAQEBAAEAAAEBAQAAAQEAAQEAAAAAAQABAQAAAQAAAAAAAAEBAAAAAAABAQEBAAABAQEAAAEAAAEAAQEAAQAAAQAAAQEBAAEAAQAAAAAAAQABAQAAAAAAAAEAAAAAAQEAAQAAAAEAAAABAAEAAAAAAQEAAAEAAAABAQAAAAABAQEBAQEAAQEBAQEAAAABAAAAAAABAQEAAAAAAAEBAQABAAABAAAAAAABAQABAAAAAAAAAQEBAQAAAAAAAAEBAQAAAQAAAAAAAAAAAQEAAAEAAQEBAAABAAEAAAEAAAAAAQEBAQABAQABAQABAQEAAAEBAAAAAAAAAQAAAQAAAQEBAQAAAAEAAAEBAAEAAAABAAABAQEBAAAAAAAAAQAAAQEAAAEAAAAAAAEAAAAAAQAAAAEAAAEAAAEBAAAAAQEBAQAAAQABAAEBAQAAAQAAAQAAAQAAAAABAQEBAQEAAAAAAAEAAQABAQAAAAAAAAEBAQAAAAEAAAEBAQEAAAEAAQEBAQEAAAAAAQABAAAAAAAAAQEBAQEBAQABAQEBAAABAQEAAAEAAAAAAAABAAABAAAAAAAAAAABAAAAAAAAAAEBAAEAAAEBAQEBAAEBAAEAAAABAQABAAABAAAAAAEBAAAAAQEAAAABAQABAAABAQABAAEBAQABAQEAAQAAAQABAAEAAQEBAAAAAAAAAAEBAAABAAEBAQAAAQABAQAAAAAAAAABAAABAAEAAAEAAQABAAEAAQEBAQAAAAEAAAABAAEAAAAAAAAAAAAAAAEBAQAAAAEAAAAAAAABAAABAAABAQAAAAAAAQAAAAAAAAAAAAABAQAAAQEBAQAAAAAAAQAAAAAAAAAAAAAAAAAAAAAAAAAAAAAAAAAAAAABAAEBAAABAAEAAAEAAAABAAABAAAAAQEAAQEAAAAAAAEBAQEAAAEAAAAAAQABAQAAAQAAAAEBAAAAAAEAAQAAAAAAAQAAAAEBAQEAAQEAAAEBAAABAAABAAEBAAAAAAEAAAAAAQABAAAAAAEBAAEAAAEAAQEAAQAAAAEAAAEAAQAAAAEBAAEAAAEAAQEBAQEBAAEAAAABAQEAAQABAAABAQAAAQABAQABAQAAAQEAAAABAQAAAQEBAQAAAAABAQABAQEBAAABAAEBAAA=",
          "dtype": "i1"
         },
         "xaxis": "x",
         "xbins": {
          "end": 1.5,
          "size": 1,
          "start": -0.5
         },
         "yaxis": "y"
        },
        {
         "name": "study_cohort",
         "opacity": 0.6,
         "type": "histogram",
         "x": {
          "bdata": "AQAAAAAAAAEAAQABAAEAAAAAAQAAAAEAAAAAAQEAAAAAAAAAAQEAAAABAQAAAAEAAAABAAAAAAAAAAEBAAEBAQAAAQEBAQEBAAAAAAEAAQABAAAAAAEBAAEBAAAAAAEAAAEBAAEAAAAAAAEBAAEBAQEBAQABAQEAAAABAAEBAAABAAAAAQEAAAAAAAEAAAAAAQAAAQEBAQEBAAABAAAAAAEBAQEAAQEBAAAAAQAAAAAAAAAAAQABAAAAAAABAAEAAAAAAQABAQAAAQAAAAEAAAABAAEBAQEAAAAAAAEAAAAAAQAAAAEBAAABAAABAAAAAQABAAEAAQEBAAAAAAABAQAAAAABAQEAAAABAQEAAAAAAAEAAAEBAAABAAABAAABAQEAAQEBAAABAAEAAAAAAAAAAQABAQEBAAEAAAABAAAAAAEBAAAAAAEBAQEAAQAAAQAAAQEAAQEBAQAAAAABAQABAQAAAQEBAAEBAAEAAAEAAAAAAQABAQABAAABAQAAAAABAAEAAQABAAEBAAAAAQEBAAEAAQABAAAAAAAAAAEAAQEAAQEBAAEAAAEBAAAAAQABAAABAQEBAQAAAQAAAQAAAAEBAAEBAAEAAQEBAQAAAQABAQEBAAABAAAAAAAAAQEBAQAAAAAAAAEBAQABAAEAAQABAAABAQEBAAEBAAAAAAEAAQEBAQEBAAABAAABAQABAQAAAAAAAAEAAQEBAQEBAQEBAQAAAAAAAAAAAAEAAAEBAQABAAEAAQAAAQEBAQABAAABAAAAAAEBAAEAAQEAAAEAAAAAAQEAAAAAAAEBAAAAAQABAQEAAQABAQEAAAAAAAEAAAAAAAEBAQEBAQABAAEBAQEBAQEAAQEBAQABAAAAAAAAAAAAAAABAQABAAAAAAAAAQAAAAAAAAABAAEAAAEBAQAAAAAAAAAAAQEBAQEAAQEAAQEBAAAAAAEAAAEAAAABAQEBAAEBAAABAAABAQABAQEBAAEBAAAAAAAAAAEBAAAAAAABAAABAAAAAAABAQEAAAABAQABAAABAQABAAEBAQEAAAABAAABAQEBAQABAAAAAQEAAAABAQEAAAAAAAEBAQEAAAAAAQEAAAEBAAAAAQAAAQEBAQAAAAEAAQAAAAAAAQEAAQEAAQAAAQAAAQEBAAEBAAAAAAAAAAEAAAEAAAABAQAAAAAAAAEBAQABAAABAQEBAQABAQEBAQAAAAAAAAEAAAAAAAEAAQEAAQABAQABAAABAAAAAAABAAAAAQABAQEAAQEBAAEAAAEAAQEAAQAAAQAAAAEAAAAAAAAAAAAAAQEAAAAAAAAAAAAAAAABAQEBAAAAAAAAAAABAQABAQAAAAAAAQEAAQEBAAAAAQEAAQABAQEAAAABAAAAAAEBAQAAAQAAAQABAQABAQEBAAAAAQABAQABAQAAAQAAAQEAAAEAAQAAAAABAAEAAAAAAAEAAAEAAAAAAQABAQEBAQABAAAAAAEAAQAAAAABAAEBAQABAAABAQABAQEAAAABAQABAAAAAAEBAAEBAAEBAAAAAAABAAEBAAAAAQABAAABAAEBAQAAAAAAAAAAAQEAAQEBAAAAAQEBAAEBAQAAAQAAAQABAQABAAEAAQEBAQEBAAEBAAABAAEAAQABAAAAAAAAAQAAAAAAAAABAQEBAQEBAQABAAEBAAABAAEAAQEBAAEAAAABAAABAQEBAAEAAAEAAQABAAABAQEBAAAAAQABAAEAAQEAAAAAAQAAAQEBAAAAAQEBAAABAQEBAAAAAAEAAQAAAQEBAAABAQAAAQABAQAAAAEBAQAAAAEBAAAAAAEBAAABAQABAAABAAABAAEAAAEBAAAAAQABAAABAAEBAQEAAAEAAAEBAAABAAABAAABAQABAAAAAAEAAAAAAQEAAQABAQEAAAEAAQEAAAAAAQABAAABAQEBAAEBAAAAAAABAAABAQEBAAEBAQAAAQEBAAAAAQEBAQEBAAAAAAABAQABAAEAAQABAQEBAQABAQEAAQEBAAEBAAEBAQAAAAEBAQABAAAAAQEBAQEBAAEAAQAAAAABAQEBAAABAQEAAQABAAAAAAAAAAEAAAABAQABAAAAAQEBAAABAAEBAAEAAQABAAEBAAAAAAABAQABAQABAQAAAAEAAQEBAQABAAABAQEAAQEAAAEBAQEAAAABAAABAQAAAQEAAAEBAQEBAAAAAQEAAAEAAQEAAAAAAAAAAQABAQAAAQEAAAEBAQAAAQABAQAAAAEAAQAAAAEBAAABAQEBAAEAAAABAQEAAAAAAAAAAQAAAQABAAAAAAAAAAEAAAEAAAEAAQEBAAABAQABAQAAAQABAAAAAQEBAQEAAQEAAAEBAAABAQEBAAABAAABAQEAAQEBAAEBAAEBAQEAAAEAAAEBAQEBAQAAAAEBAAAAAQAAAQEAAAABAAABAAABAAABAQABAAAAAQABAQAAAAAAAQEBAAABAQABAAEAAAABAQEBAQABAAEAAQAAAQEBAAABAAEAAQEAAQABAAAAAQAAAAEAAQABAQEBAAABAAAAAAABAAEBAAAAAQAAAQABAQEBAQEBAAABAQEBAAAAAAEBAAABAAAAAQAAAQAAAQAAAAABAQEAAQABAAAAAQEAAAAAAQAAAQAAAQEBAAEAAAAAAQABAQEAAAABAQAAAQAAAAAAAAEAAQEAAAEBAQAAAQEAAQEAAAEBAAABAAABAAEAAQAAAAEBAAAAAQEAAAAAAAAAAQABAAEAAQEBAQEAAAEAAAEAAQAAAAABAAEAAQEBAAEBAAAAAAEBAAEAAQABAQEAAAABAQAAAAAAAAABAQAAAQAAAAAAAQEBAAAAAAEAAQEBAAAAAQEBAAEAAAEBAAEAAAEBAAEAAQABAAEAAAAAAQEAAAEAAAEAAQEAAAABAQEBAQEBAAAAAQAAAQEAAQAAAAAAAQEBAQAAAAAAAAEAAAABAAEBAAABAQEAAQAAAAEBAAEAAQAAAAEAAAABAAEBAAAAAAEBAAAAAAABAQEBAAAAAAAAAQEBAAAAAAEBAQABAAEAAAAAAAAAAQEBAAABAQEBAQAAAQABAAAAAAABAQEBAAEBAQAAAAAAAQAAAAAAAAABAQEAAAAAAAEAAQEAAAAAAAAAAAEBAAEAAQAAAAAAAAAAAAAAAAAAAAEBAQEBAAEAAQAAAAABAQEAAAAAAAAAAAEBAQEAAQEAAQEAAAAAAQAAAAAAAAEBAAEBAAABAAABAAAAAAAAAAEAAAABAAEAAAABAAEAAAAAAQEAAQABAAABAQAAAAABAAABAQAAAAABAAEBAQAAAAAAAQAAAQEBAQEBAAEAAAABAQEAAAABAQAAAAAAAAAAAAAAAAAAAQEAAQEBAAABAAABAAAAAQEBAQEBAAAAAAABAAEAAAABAQAAAQAAAQAAAAAAAQABAQEBAQAAAAABAAAAAQEAAAEBAAABAQAAAAEBAAAAAAAAAQAAAQEBAAEBAQAAAQABAQEAAAEAAAEAAQABAQEAAAABAQEBAQEAAQEBAAAAAQABAQEAAAAAAAEAAAABAAEBAAAAAAAAAAEBAQABAQEBAAABAQEAAAEAAAAAAAEAAQEAAAEAAAEAAQEBAAAAAQABAAABAAAAAAEBAQAAAQAAAQEBAAEAAAEBAQAAAAABAQAAAQABAQEAAQAAAAEBAAAAAAAAAQABAAAAAAAAAAABAAAAAAEAAAAAAAEAAAEAAQEBAQAAAAEAAQEBAAABAQAAAQEAAAABAAEAAQABAAEBAQAAAQEBAAAAAQEBAAAAAAEAAAABAQEBAAAAAAAAAQABAAAAAAAAAQEAAQAAAAAAAAAAAAAAAAABAAEBAAEBAQAAAAEAAQEBAQEAAQABAQAAAAEBAQEAAQABAAAAAAEAAAAAAAEBAQEBAQABAQABAAEAAQABAQABAQABAAEAAAEBAAAAAQABAQEBAAABAQAAAQEBAQEAAAAAAQAAAAAAAQEAAAEBAQAAAQEAAQAAAQEAAQAAAAEAAQABAQAAAQAAAAABAQEBAAABAQABAQAAAAABAAAAAAABAAEAAAEBAAAAAAAAAAAAAAEBAAEAAAEAAAAAAAAAAAABAAAAAQAAAAABAAAAAAAAAAAAAAAAAAAAAAABAAEAAAABAQABAAAAAAAAAAAAAAAAAQEAAAAAAAAAAAEBAAABAAAAAAABAAAAAAEBAQEBAQEBAAEAAAEBAQAAAQAAAAEAAQEAAAAAAAABAQABAQEAAAABAQEBAQEBAQAAAAAAAAABAQAAAAABAAAAAQEBAAABAAAAAQEAAQEBAAEBAAAAAAEAAQAAAAAAAQAAAAEAAAAAAAEAAQEBAAABAQEBAAAAAAEBAAAAAQEAAQABAAAAAAAAAAABAAABAAAAAAABAQAAAAEBAAEBAAAAAAEAAAABAAEBAQABAQEBAQEAAQAAAAEAAQAAAQAAAAAAAAAAAAEAAAABAQEAAAABAAAAAAEAAQABAAAAAAABAQABAQABAQAAAQAAAQEAAAAAAQABAAAAAQEBAAEAAQEBAAAAAQEBAAEAAQEAAQABAQEAAQEBAQEBAAEBAQEAAAABAQABAAABAQEBAAABAAABAAEBAAAAAAEAAAAAAAABAQABAQEBAQEBAAEBAQEBAAEBAQEBAQEBAAAAAAEBAAAAAAABAAABAQEBAQABAQABAAABAAABAQEAAAAAAQAAAQEAAQAAAAEBAAEAAQEAAQAAAAAAAQAAAAEBAAAAAQAAAAABAAAAAQAAAAABAAAAAAAAAQABAAAAAQEBAAAAAAABAQAAAAEBAQABAQABAAAAAQAAAQEAAAEBAQEBAQEBAAAAAAAAAAABAQABAAABAQEAAQEAAQAAAQAAAAEAAAAAAQAAAAEAAQEAAAEAAAAAAQEAAQAAAQAAAQABAAEBAAEBAQABAAAAAAABAAAAAAEAAAAAAQEAAQEBAAEAAAEBAQEBAAAAAAEBAAAAAAABAAAAAQEAAQEBAQEAAQABAAAAAAAAAQEAAQEBAAEBAAEBAQEAAAEAAQEAAAAAAAABAQAAAQEAAAEAAAEAAQAAAQABAQAAAQEBAQEAAAABAQEAAAAAAAAAAAABAQABAQEBAQAAAQEAAQEBAQEAAQEAAQABAAAAAAEBAAEBAQAAAAEAAQEAAQABAAAAAAEAAAEBAAEBAQEAAAAAAAABAQABAQABAAAAAAAAAQABAAABAQABAAEAAAAAAAABAQEBAAABAAABAQAAAQEAAQEBAQEAAQAAAAAAAAEBAQEBAQEAAAABAAEAAAEBAQAAAQEAAAEAAAEBAQEBAQABAQAAAQAAAAAAAQABAQEBAAEBAAABAQEBAAEBAQEAAQEAAQEAAAEBAQABAAAAAAAAAAEBAAABAAEBAQEAAQABAQABAQAAAAABAAEAAQABAQAAAAAAAAABAAABAAEBAQAAAAEBAAEAAAAAAAAAAQEBAQEBAQABAQABAQAAAAAAAAAAAAAAAQABAQEBAAEBAQEBAQAAAQEAAQABAQEBAQEAAQEBAQEBAAABAQAAAAAAAQEBAAAAAQABAQEBAAEBAQABAAABAAEAAQEBAAAAAAEBAQEAAQEAAAABAAAAAQEAAAAAAQEBAQEBAAAAAAAAAAAAAQEBAQAAAAAAAAABAAAAAQABAQABAQAAAAEBAQAAAAAAAAEAAQAAAQEAAQAAAAEAAQABAQAAAAEBAQABAAEAAQEAAAAAAAAAAQAAAQAAAAABAAAAAAAAAAAAAAABAQAAAAABAQEBAAAAAAEAAAEBAAABAQABAQEBAQEBAAABAAEAAQEBAQEBAQEAAAAAAAAAAQAAAAAAAAABAAABAQABAQAAAQEBAQEAAQAAAQEBAQEBAAABAQAAAQEBAAAAAAABAAEAAQEBAQEBAQAAAQABAAAAAQEBAQABAQEBAAABAQAAAAAAAAABAAEBAQAAAQABAAEAAAAAAQAAAAABAQEAAAEBAQEBAQEAAAEAAAAAAAEAAQEBAAEBAQEBAQEBAQABAQABAQABAAAAAQEBAQAAAAABAAABAAEBAQEAAAEAAQABAAEBAQAAAQEAAAEBAQAAAQABAAAAAAABAAAAAAAAAQEBAAAAAQEBAQABAAEAAAEAAQAAAAEAAAABAQEAAAAAAQAAAAAAAQEAAAEBAAEAAAAAAQEBAQEBAQAAAAABAAABAAEAAAABAQABAAAAAAAAAAAAAQABAQAAAAEBAAEAAAAAAAEAAAEBAAEBAAAAAAAAAAEBAQABAQEAAQAAAQAAAQEAAAEBAQABAQABAQAAAAABAQEBAAABAAAAAAAAAAABAQABAQABAQEBAQEBAQAAAQAAAAAAAQEBAQAAAAABAAEBAAABAQEAAQEBAAAAAAEBAAABAQEAAAAAAAAAAAABAQEAAQEBAAEBAQEAAQABAQABAAAAAQAAAQABAQEBAQAAAQEBAAABAQEAAQEAAAEBAAAAAAEAAAAAAAABAAABAAABAAAAAQEAAQAAAQEAAAAAAAEBAAABAQAAAAEBAQEBAAABAQAAAAAAAQEAAAEAAAEBAQABAAAAAQEAAAEBAAAAAQEBAQEBAQEBAQEBAAAAAAABAQAAAAEBAQAAAQEBAAABAQABAAABAQEAAQAAAQEBAQEBAQEAAAAAAAAAAQEBAQEBAQEAAQAAAAEAAAAAAAAAAQEBAAEBAQEBAAEAAQEAAAEAAQEBAAAAAAEBAQAAAAAAAQAAAQAAAAEBAQABAQEAAQEBAQAAAQABAQEBAQEAAAAAAAAAAQAAAAAAAQABAAAAAAAAAQEBAAABAQAAAQEBAQEAAQEAAAAAAAEAAQAAAQEBAQABAQAAAAAAAAABAAAAAQEBAAEBAQEAAQAAAQEBAQAAAQAAAAAAAAAAAAAAAQEAAQAAAQAAAAEBAQAAAAABAAEBAAEAAQABAQEAAQAAAAABAAEBAAEAAQABAQAAAAAAAQEBAAAAAAAAAAAAAAAAAQEBAQAAAAEBAQEBAQEBAQEBAAEBAAABAQEBAQABAQEAAAEBAQABAAEBAAABAQEBAAEBAQEAAAABAQAAAQAAAAAAAQAAAAABAQABAAAAAAEAAQEAAAEBAQABAQEBAAEBAAAAAQEBAAAAAAABAAEBAAABAQEBAQEAAAAAAQEAAAABAAAAAAABAAABAQAAAAABAAAAAAAAAQAAAAEAAQEBAAAAAQEBAQEAAAAAAAAAAAABAQEAAQABAQEBAQEBAQABAAEBAAABAQEBAQEBAAAAAAAAAQEBAAAAAAEAAQABAAEBAQABAAAAAQABAAAAAQEAAAEAAAEAAQEBAAAAAAAAAQEBAQEAAAABAQAAAAEAAQEAAAAAAAAAAAAAAAABAQEAAAEBAAEBAAEAAQEAAAEAAQABAAAAAAAAAAABAQAAAQABAAAAAQEBAAAAAQEBAAEBAAABAAAAAQABAQEBAAEBAQEBAQEBAQEBAQEBAQEBAQEAAAEBAAAAAAEBAQEAAAEBAAAAAAEAAQEAAAABAAABAQEAAAAAAAEBAQAAAQEAAQABAAEBAAEAAAAAAAAAAQEBAQAAAAEAAQAAAAABAAABAAAAAAABAAABAAEAAAAAAQABAAABAQEAAQEAAAEBAQABAAEAAAEAAAEBAAEBAAEAAAAAAAEAAAEAAAABAAAAAAABAQEAAQEAAAABAQEBAAEAAAEAAQEBAAABAAAAAQEBAQEAAQEBAAEAAQABAAABAAABAQEBAAAAAAAAAQAAAAAAAQAAAQEBAQEBAAAAAQEBAAAAAQAAAAAAAQABAAAAAQAAAQAAAQAAAAEBAAAAAQEBAQABAQABAAEAAAAAAAAAAAABAQEAAAABAQEBAQAAAQABAAEAAAABAQEAAAAAAAEAAQEAAAEAAQABAAAAAQAAAAEBAQEAAQAAAQABAAEBAAAAAQEAAQAAAAEBAAAAAAEAAAEBAAABAQEBAAEBAAABAQEAAQAAAAAAAAEAAQEBAAAAAQEBAAEAAQAAAAABAQEAAAEAAQAAAQABAQAAAAABAAABAQAAAAAAAAABAAEAAQABAAEAAAAAAAAAAAEAAAAAAAEAAAAAAQEBAAAAAAAAAAEAAQABAQEBAQABAQABAQABAQEAAAAAAQEAAQAAAAAAAQAAAQABAQEBAAAAAQAAAQEBAAEAAAEBAQEBAQEBAQEAAQEBAQEAAQEAAQAAAAEBAAABAQEAAAAAAAEBAAAAAAEAAAAAAQAAAAABAQABAQEBAAAAAQAAAAABAQEBAQEAAQABAQEAAAAAAQAAAAABAAEAAQEAAQABAAAAAAAAAQEAAAEBAAAAAAEAAAAAAQEAAAAAAAAAAAABAQEAAQEAAAEBAQABAAEAAAAAAQEAAQEAAAEAAAEAAQEAAAEAAAEBAAAAAAEBAAAAAAEAAQABAQAAAAEAAAAAAQAAAAEBAQEAAQAAAQEBAAABAAABAAEBAQAAAQAAAAEAAQEBAQEBAAABAQAAAAEAAAAAAQABAAAAAAAAAQEBAQEBAAEAAAAAAQAAAQEAAAEAAQABAAEBAQEBAQEAAAEAAQEBAAABAQAAAQEBAAEAAAABAQAAAAEAAQAAAAEAAAEAAAABAQABAQEBAQAAAAAAAQABAQEAAQEAAAEBAAABAAAAAQABAAEAAAEAAQABAAABAAEAAQEBAQEBAAABAQEBAAEAAQEAAAAAAAAAAAABAQAAAAABAAEBAAEAAAAAAAABAQAAAQEBAQAAAQABAAEBAQABAQABAQEAAAAAAAABAQEAAQEAAQEAAQEAAQEAAAEAAAAAAAEAAQABAAAAAAABAAAAAAEAAAABAAEAAAABAAEAAQEAAAAAAQEBAQEAAQEAAAAAAQABAAEBAAEBAQABAQAAAAAAAAABAQABAQAAAQAAAAABAAAAAQEAAQABAAABAQAAAAAAAQEBAQAAAQEBAQEAAAEBAAEAAAABAAAAAAABAQEAAAABAQAAAAEAAAABAAABAQEAAQAAAQEAAQAAAQEBAAAAAQABAQEBAQABAAAAAAEBAQABAQAAAQAAAAABAQAAAAEBAAAAAAEBAQABAQEAAAEAAAAAAQEBAAEAAAEBAQAAAQABAQEBAAEBAAABAAEAAQEBAAAAAAEBAAEAAQAAAAEBAAABAQEAAAEAAQAAAAEBAAAAAAAAAQABAQEBAQEBAAEAAAABAAABAQAAAAAAAAEAAQEAAAAAAAEAAAEBAAEAAQEBAAEBAQEAAQEAAAEAAQEBAAAAAAABAQAAAAABAQEBAQABAQEAAAAAAQEBAAEBAAAAAAAAAQEAAQABAQEAAAABAQABAAEAAAEAAAEAAQAAAAEAAAAAAAAAAAEAAAAAAAABAAAAAAEBAAEBAQAAAAEAAQAAAAABAAEAAAAAAAAAAQAAAQABAQABAQEAAAAAAQEAAQABAAABAQEBAAABAAABAAABAQABAAAAAAEAAQAAAAAAAAAAAQAAAAEAAQAAAAABAAEAAAAAAAAAAAAAAQEBAAEBAQAAAQEAAQAAAQEBAAAAAAAAAAABAQAAAQABAAEBAAEBAQAAAAAAAQEAAQEBAQEBAAEAAAEAAQEAAAABAQEAAAEAAAEAAAEBAAEBAQAAAQEBAQEAAAEBAAEBAAAAAQAAAAABAQAAAQEBAQABAQAAAQEAAQEAAQABAQABAAEAAQAAAAAAAQAAAAAAAAEBAQEAAAAAAAEBAQEAAQAAAAEBAAABAAAAAAEBAAEBAQABAAAAAQAAAAABAAABAQABAQEBAAEAAQEAAQEBAAABAAEAAAEAAAAAAAEBAQABAQAAAAAAAAAAAQEAAQABAAAAAQEBAQABAQAAAQEAAAEBAAEBAAEAAAAAAQABAAABAAAAAQAAAAAAAQEAAAEBAAAAAAAAAQEBAQEBAAEBAAAAAAABAAAAAQABAQEBAAABAAABAAEAAAEBAQAAAQABAQAAAAEAAAABAAEAAAEAAQEBAAAAAQEAAAEBAAEBAAABAAEBAQEBAQEBAQEAAAEAAAAAAQEBAAEBAAABAAEAAAABAAAAAQEBAAABAQABAQEAAQAAAAABAQEBAAAAAQABAQAAAAAAAQEAAQEBAQAAAAEBAQAAAQABAAAAAAAAAQEBAQABAQABAQAAAQEAAQEBAAAAAAABAQEAAAAAAQEBAQABAAEBAQEBAAAAAQAAAQEAAAAAAQAAAAAAAAEAAAAAAAEBAAEBAQEBAAAAAAAAAAEAAAAAAQEBAQEAAQAAAAAAAQABAQEAAAEAAAABAAEBAAEAAQEBAAABAAABAQAAAQAAAAABAQEAAQABAAAAAAAAAQEBAAABAAAAAAAAAQABAAEBAAEAAQAAAAAAAAAAAQEBAAEAAQEBAQEAAQEAAQEBAAAAAAEBAQAAAQEBAAEBAAEAAAAAAQAAAAABAAAAAQEBAAAAAQAAAAABAQEBAQEBAAAAAAEBAAEBAAAAAAABAAABAAAAAQABAAEBAAEBAQABAAAAAAEAAAEBAQEAAQEAAQEBAQAAAAABAQAAAAABAAAAAAEBAQEBAAABAQAAAAEBAQEBAAAAAQEAAAEBAQAAAQEBAAAAAQEAAQAAAAEBAQEAAQEBAAEAAAAAAQABAQABAQEBAQEAAAEAAAEAAAAAAAAAAAAAAQAAAAABAAEBAQEAAAABAQEAAAEBAQEBAAAAAAAAAAEAAAABAQAAAQAAAQABAAAAAAEBAAAAAAABAQEBAQABAAABAQEBAQABAQEAAQAAAQAAAAEAAAAAAAAAAQAAAAAAAAEAAQAAAQABAQABAQEAAAEBAAABAQEBAAABAAAAAQAAAAAAAQEBAQEAAQABAAAAAQAAAAABAQEAAAAAAQEBAAEAAQAAAAAAAAAAAAABAAABAAEBAAEAAQEAAAABAQEBAQABAQABAQEBAAABAAEBAAEBAQAAAAEAAAAAAAAAAQABAQEBAAAAAAABAQEAAAAAAAAAAAAAAQEAAAABAQEBAAEBAQABAAAAAQABAAEBAAEBAAEAAAEBAAABAAEBAAAAAAABAAAAAQAAAAEAAAABAAABAQEBAQEAAAEAAQAAAQAAAQAAAAABAAABAAEBAQAAAQEBAQEAAAAAAAEBAAAAAQABAQEAAQAAAAABAQEAAAEAAQAAAAABAAAAAAAAAQEBAAABAQEAAQEAAAEAAQEBAAABAAABAQEBAQAAAQEBAQEAAQEAAAABAQEAAQAAAQABAQABAAEAAAEBAQABAQAAAAAAAQEBAAEAAAEBAAEBAQEBAAAAAQEAAQEAAAAAAAAAAQEAAQAAAQAAAAAAAAAAAAAAAQEAAQEBAQEAAQABAAAAAQABAAABAQEBAQAAAQABAAAAAQAAAAEAAAAAAAAAAAABAAEBAQAAAQAAAAEBAAABAQAAAAEBAQAAAAAAAAEAAQEAAAABAAEBAAAAAAABAAABAQEAAQAAAQABAQEAAQEBAQEAAAEBAAABAQABAAEBAQAAAQEBAAEAAQABAQEBAAABAAAAAQEBAAAAAQEAAQEAAQEBAAAAAQEBAAAAAAEBAQABAQABAQEAAAAAAQEAAAEBAAAAAQABAAAAAAAAAQEBAQEAAAABAQAAAAAAAQAAAAABAAEBAQAAAAAAAAABAAAAAAEBAAEBAAABAQEBAAEBAAEAAQAAAQABAAAAAAEAAQEAAAEAAQEBAQAAAAEAAAABAAAAAQAAAAABAAEBAAEAAAEAAQEAAQEAAQEBAQAAAQAAAAABAQAAAQAAAQEAAQAAAQAAAAABAAEAAQEAAQAAAAEAAQEBAQABAQEAAQAAAAABAQEBAQEAAAEBAQABAQEAAAAAAQEAAQEBAQAAAAABAQABAAEBAQEAAAABAQEAAQAAAQEBAQEAAAAAAAABAQAAAAABAQABAAAAAAAAAQEBAAABAQEBAQAAAAAAAAEBAAEAAQABAAEBAAABAAEAAQEBAQABAAEBAQAAAAAAAQEBAQEAAAABAQEAAAEAAAAAAAAAAQEAAAAAAQEAAQAAAQAAAAEBAQAAAAABAQEBAQEAAQABAQABAQEBAAABAAABAQABAAEAAAAAAAABAAAAAAEBAQEAAQEAAAABAQEAAAABAQEAAQEAAQEAAAEBAQEAAQEAAQAAAAABAQAAAQEAAQEAAAEBAQEBAAEBAAEBAAAAAAABAQAAAAAAAAEAAAABAAAAAQABAQABAQAAAQEBAAAAAQAAAAEBAAABAQAAAQABAAEBAAABAAEBAQAAAQEAAAABAAAAAAABAAAAAAABAAABAQAAAAABAQABAQEBAQEBAAEAAAABAQEBAQEBAAAAAAAAAQEAAAEAAAAAAAABAQAAAQEAAQEBAQEAAQEAAQEAAQAAAAABAAAAAAAAAQEBAQEAAQABAQEBAAAAAQEAAAAAAAEAAQEBAQABAAABAAAAAQABAQEAAQAAAQAAAQEBAQAAAQEBAQEAAAABAQAAAQABAQABAQAAAAEBAAEBAQEAAAAAAQEBAAEBAAAAAQEBAAEBAQEBAQEAAAEBAQABAQAAAQAAAQAAAQEBAAEBAAEAAAEBAAAAAQEBAQABAQAAAQABAQEBAQEAAAAAAAAAAAABAQAAAQAAAAAAAAEAAAAAAQEAAQEAAAEBAQABAAAAAQABAAEBAAEBAAABAQEBAQABAAEBAAEBAAEBAAABAQAAAAEAAAEAAQEBAAAAAQEBAAAAAQEBAAEAAQAAAQEAAAEBAAAAAAEBAAABAAAAAAEAAAEBAQEAAAEAAAAAAAAAAQAAAAEBAAAAAAABAAEBAQEBAQEBAQAAAQEAAAAAAAAAAQAAAAAAAQEBAQAAAAAAAQEBAAEBAQAAAAEAAQEAAAABAQEAAQEBAAAAAAAAAAEAAAABAQABAQAAAQEBAQEAAQAAAQAAAQEAAQEAAAAAAAABAAAAAQEAAAEAAAEBAQAAAAEBAAAAAAABAQEBAQEAAAAAAAEBAAEBAQEBAAAAAQAAAQABAAABAAEBAQAAAQEBAQEBAQEBAAAAAAEAAAAAAAABAQAAAAEBAQEAAAAAAAEBAAABAQEBAQEAAQEAAAEBAAEBAQAAAQAAAQEAAQAAAAAAAQEAAAEBAQAAAAEBAQABAQAAAAEBAQEBAAEAAAABAAEBAQABAAABAAEBAQABAAAAAQABAQEBAAEAAAAAAAEAAAAAAAAAAAEAAAABAAABAQEAAAAAAQAAAAEBAQEBAQEBAQABAQABAQEAAQEBAAEAAAAAAQEBAAAAAQEAAQABAQABAQEAAQABAQABAQABAAABAAEAAAEBAQAAAQAAAAAAAAAAAAABAQEBAQABAQEBAAEBAQEAAAAAAAABAAABAQEBAQEBAAABAAAAAQEBAQABAAEAAAAAAAEAAAEAAAAAAAABAAAAAAAAAAEBAQAAAAAAAQAAAAABAAABAQEBAAAAAQABAQEBAQAAAQEAAQAAAAABAAAAAQEAAQEAAAEBAQAAAAEAAQEAAQEBAQAAAQEAAAABAQAAAAEAAQEBAQEBAQABAQEAAQEAAQAAAAABAAEBAQABAQABAQABAAEAAAAAAQEBAQAAAQAAAAAAAQEBAAEBAQEAAAEAAAAAAAEBAQABAAAAAAEBAAEBAQAAAAEAAAEBAAEAAAEBAAEBAAABAAABAQEAAAEAAAAAAQEBAQEBAQAAAAEBAAAAAAAAAQAAAAABAAABAQEBAQABAQEBAAEAAQAAAQABAAEBAQAAAAAAAQEAAAEAAAEAAAEBAQABAAEAAQAAAAABAQEAAAABAAAAAAAAAAABAQEBAQEBAAEAAQABAAAAAAAAAAEAAQEAAAABAQEAAQEAAQEAAQEBAQAAAAABAAABAAEBAQABAAEAAAEAAQAAAQEBAAABAQAAAAEAAAAAAQABAAAAAAABAAAAAAEAAAAAAQAAAQABAAEBAAABAQEAAQEBAAABAAEBAAEAAQEBAQABAQAAAAAAAQABAAAAAAABAQABAAEAAAEAAAEBAAEAAAEAAAEAAQABAQEBAQEAAAAAAAAAAQAAAAAAAAAAAAABAAEBAQABAQAAAAABAAEAAQEAAAEAAAABAQEBAAEBAAAAAQABAQAAAQEBAQABAQABAAAAAQEBAQEBAQEBAQEBAQEAAAAAAQABAQEBAAEAAQEAAAEBAAABAQAAAQAAAAABAQABAQEBAQEBAAABAAABAQEBAQEBAQEBAAABAAEBAQEAAAAAAAABAQEAAAAAAQAAAAAAAAAAAAAAAAAAAQEBAQABAAAAAAAAAAABAQABAQEBAAAAAQEAAAABAQEAAQEAAAEAAAEBAQEBAQEAAAEAAQEBAQAAAAEBAQEAAAAAAQEBAQABAAAAAAEBAQEBAQABAAAAAAEBAAEAAAEBAQEAAQABAQEAAAAAAQEBAQABAAAAAQAAAQEAAQEAAQAAAAABAAEAAAAAAQEAAQAAAAABAAEAAAEAAQEBAQEBAQEBAQEBAQAAAQABAQAAAAEAAQABAAEBAAEBAAEAAAABAQABAAEAAAAAAQEAAQEAAAEAAQEBAAAAAQAAAAAAAAEBAQABAQAAAAABAQAAAQEBAQAAAAAAAQABAAEAAAAAAAEBAQEBAQEBAAAAAQEBAAABAAAAAAAAAAABAQABAQAAAAABAQEBAAAAAQAAAAEAAAABAAEBAAAAAAAAAQAAAQABAQEAAAEBAAAAAAEBAAEAAQABAAAAAAAAAAAAAAAAAQEAAAABAQEBAAEAAAAAAAEAAAABAAEBAQEBAAEBAQABAAABAQEAAQEBAAEBAAAAAQEAAAAAAAAAAAEAAQABAQEBAQEBAQEAAQABAAAAAAEBAQEBAQAAAAEAAAEAAAEAAQAAAQABAAEBAQAAAAABAAEAAQAAAAAAAAABAQEAAAABAAAAAAAAAAABAQABAQEBAAAAAAABAQAAAAABAQABAAABAAAAAAEAAAEAAAEBAAABAQEAAQAAAQAAAAAAAAEAAQAAAQABAAEBAAEBAAEBAAEAAAEBAQAAAQABAAAAAAAAAAABAQEBAAEAAAAAAQABAQAAAAEBAQABAAEBAAAAAQEBAQEAAQAAAAAAAAABAQEBAAAAAQEAAAABAAEBAAEBAAABAQABAAAAAQAAAQEAAAAAAAAAAAABAQEBAQEBAAABAQAAAQEBAAEBAQEBAAEAAQAAAQEBAQEAAAABAQABAAAAAAAAAAABAQEAAQABAQEBAAABAAEBAQEBAQEBAAEAAAAAAAEAAQEAAQEAAQEBAAABAQAAAQAAAAAAAAABAAAAAAABAAEBAQAAAAABAAEBAQAAAAAAAAABAAAAAAAAAQEBAAAAAAAAAQABAQABAQABAQABAQEAAAABAAABAAAAAQEBAQABAAEAAQEAAAAAAQAAAAEAAQEBAQAAAAEBAAEAAAEBAQEBAAEBAQAAAQABAQAAAQEAAAEBAAABAQEBAAEAAQEAAAEAAAAAAQEAAAABAAAAAQEAAAEAAAABAQEAAQEAAQEAAAEBAAEBAQEAAAEBAQAAAQAAAAAAAQAAAQEAAAEAAQEAAQABAQABAAEAAAEAAAEBAQABAAEBAQEAAQAAAQAAAAEBAQAAAAEAAAEAAQABAAEAAQABAQAAAAEAAAABAAAAAQAAAAABAQEAAQEAAAEAAQABAQABAAAAAAAAAAABAQAAAQAAAQAAAQEBAQEAAAEAAAEBAAAAAAEBAQABAAAAAAABAAEAAAEAAQEAAAEAAQEAAQAAAAEBAQAAAAEBAQAAAQEAAQEAAAAAAAABAAEBAQABAQAAAAAAAAABAQEAAAAAAAABAAEAAAEAAQEBAQAAAAABAAABAQEBAAEAAAAAAAAAAQAAAQAAAAABAQEBAQEBAQAAAQABAAEBAQABAQAAAAABAQEAAAAAAQAAAQEAAAEBAAEAAQAAAQAAAAABAAABAAEAAQABAQEAAAABAQEAAQEAAQAAAAEAAAEBAQAAAAAAAAEAAAEBAAEBAQAAAQEAAAABAQEBAAEBAAAAAQABAQEBAAABAAABAQAAAAAAAQAAAAEAAAEAAAABAAEBAQEAAQAAAAAAAAAAAAEBAAABAQEAAQEBAAAAAQAAAAEAAAAAAAAAAAABAQAAAAABAAABAQAAAQEAAAEBAQABAAEBAQEAAAAAAAAAAAAAAAEAAQEBAAABAAAAAAAAAAAAAAABAQAAAQAAAAAAAQEAAAEBAAEAAAEBAQAAAAABAAEBAAABAQEBAAEBAQEBAQAAAAEBAQEAAQEAAAEBAQAAAAEAAQEBAQAAAAABAQABAAEAAQABAQABAAEBAQEBAAEAAAAAAAEAAAABAAAAAAAAAQAAAAAAAAEAAAABAQEBAQABAAEBAQEAAQABAQABAAAAAQAAAAABAAEAAQEBAAEBAAABAAEAAQEAAAEAAQABAQAAAQAAAQEAAAAAAAABAQEBAQEAAQABAAAAAAEBAAABAAEBAQAAAAABAQAAAQEBAQEAAAAAAAEAAAABAQEAAAEBAAABAQEAAAAAAQAAAQABAAEAAAEAAAEBAAAAAAAAAQEAAAABAAAAAAEAAAABAAAAAAAAAAEAAAAAAAEBAAEAAQABAAAAAAABAAEAAAEBAAEBAAABAAAAAQEBAQABAQEBAAABAAEBAQAAAAABAQAAAAEBAAEBAAEAAQEBAAAAAAAAAQEAAAEBAAEBAAEAAAEAAQEBAAABAAAAAQEAAAEAAAAAAAAAAQAAAQAAAAAAAQEAAAEBAQEAAAABAQEBAAEBAAEAAAEBAAEAAAEAAAEAAAEAAAAAAQAAAAABAAEAAAABAAAAAAEAAAABAQEAAQAAAQAAAAAAAQAAAAAAAQAAAAEAAAABAAABAQEBAAAAAAAAAAAAAAEAAAEAAAAAAQAAAAAAAQAAAAABAQAAAAAAAAABAAABAQAAAQEBAQAAAQEAAQAAAQAAAAEBAQEBAAEAAQEAAAABAAEBAQAAAQABAAEAAAAAAAEBAAABAQEBAQEBAAAAAQEBAAABAQAAAAAAAAAAAAEAAQEAAAEBAQEAAAAAAAEAAAEAAAABAQEAAAEBAQAAAAABAAEBAQEAAQEBAQEBAAEAAAEAAAAAAAABAAABAQAAAQEAAAABAQEBAQEBAAAAAAAAAQEBAAABAQEBAAABAAABAAEBAQABAAEBAAABAAEBAAABAQABAQABAAAAAQEBAAAAAAABAQEBAQEAAAABAQABAAAAAAAAAQEAAAABAQEAAAEBAAABAAAAAAAAAQEBAQAAAQEBAAABAAEBAAAAAQAAAAEAAQAAAAAAAQAAAAABAAABAQEBAQEBAAEAAAEBAQAAAAABAAEAAQEBAQEAAAEAAQEAAQABAAEAAQEBAQABAAEBAQAAAAEAAAABAAEAAAEBAAAAAAAAAAAAAQAAAQABAAABAQAAAAEAAQABAAEAAQAAAAAAAAABAAEBAAEAAAEAAQEAAAAAAAAAAAAAAAAAAAEAAAABAAEAAAAAAAAAAAAAAAABAQAAAAAAAQEAAQAAAQEAAAEAAAABAAAAAAEAAQABAAABAQABAAABAAAAAAAAAAAAAAAAAAABAAEAAQEBAAEBAAABAQAAAAABAAEBAQEAAAABAQABAAAAAAEAAQAAAQEAAAABAAEBAAAAAAAAAAABAAAAAQAAAQAAAQAAAAABAQAAAQAAAAAAAAEAAAEBAAEBAAEBAQAAAQAAAQEAAAEBAQABAQAAAAEAAQABAQEAAAAAAAABAAABAAAAAQEAAAAAAQEAAAABAQEAAAAAAQEAAAEAAAAAAAEBAQAAAAEAAQABAQEBAQABAAEBAAEAAQEBAQEBAAEBAQAAAAABAAABAAEBAQEAAAAAAQAAAAEAAAAAAAAAAAAAAQABAAAAAAAAAAAAAAABAAAAAAABAAAAAAAAAAAAAAEBAQEAAAAAAAAAAAABAQEAAAAAAQABAQABAQABAAABAQABAAEBAQAAAAEBAAEBAAAAAAEBAQABAQEAAQAAAQEBAAAAAAEAAQEBAQAAAQABAAAAAAAAAAAAAAEAAAEAAAEBAAEBAQABAQAAAAABAAAAAQAAAAABAQABAQAAAAABAAEAAQEAAQEAAQEBAQEAAAEAAAAAAAAAAAEBAQABAQAAAAAAAQAAAAABAAEAAAAAAAABAAEAAQEBAAEBAQABAAEAAAEAAAEBAQABAAABAQABAAAAAQEAAAABAAABAAEAAAAAAAAAAQAAAAAAAAEBAQAAAAEBAAEBAAAAAAEBAAEBAAEAAQEAAQEBAQABAAAAAAEAAAABAQAAAAAAAAABAQAAAAEBAAEBAAAAAAABAQEAAAEBAAEAAQAAAQABAAAAAAEBAAABAAEAAAEAAAEBAAAAAAAAAAAAAQABAQAAAQEBAAEBAAAAAQEAAQEBAAEBAQAAAQABAAAAAAAAAAEBAAABAQEBAQEBAQABAQEBAAEAAAABAAAAAQABAAAAAAAAAAEAAAEAAQABAAAAAQABAQEAAQAAAQEBAQEBAQEBAQAAAAEBAAABAQEAAAABAAEAAAAAAAABAQAAAAABAQEAAAAAAQEAAAEBAQEBAQABAQEBAQEAAQAAAAEAAAAAAAEAAAEBAQEBAQEBAQEBAAABAAEBAAEAAQEAAAAAAAAAAAAAAQAAAAAAAQAAAQABAAABAAEAAAABAQEBAAAAAAABAAEAAQEBAAEBAQEBAAEAAQEBAAEAAAAAAAEAAQEAAAAAAQEBAAABAQAAAAAAAAEAAAAAAAABAQABAQAAAAEAAQEAAAEAAAAAAAEAAAEAAAEAAAAAAQABAAABAQAAAAABAAAAAQABAAAAAQAAAAAAAQAAAAABAQAAAQEBAAEAAAEAAAABAQAAAAEBAAAAAAEAAQABAAABAAEAAAAAAAAAAAAAAAAAAAEBAQEAAAEBAAEAAQAAAAAAAQAAAAEBAAAAAQAAAAEBAAEBAQABAAEAAAEBAAEAAAEAAQEAAAAAAAEAAAABAQAAAAEBAQEBAQEAAAEAAAAAAAAAAQABAQEBAAABAQEBAQEBAQEBAQEBAQAAAAAAAQEAAAABAQEBAAAAAAAAAQAAAAAAAAAAAAAAAQABAAAAAAEBAAEBAAAAAAAAAQEBAAAAAQEAAAAAAAABAAABAAEBAQEAAAEAAAEBAAEAAQABAQEAAAAAAQAAAAEBAQEAAAABAQEBAQEAAAEAAQAAAAAAAAEBAAABAAEBAQAAAQEAAAEBAQABAAAAAQAAAAAAAAEAAQEAAAEAAAAAAQABAQEBAQEAAQAAAAABAAEAAQAAAQAAAAEAAAEBAAAAAAABAAEBAAABAAAAAAAAAQAAAQEAAAABAQEBAAAAAQEAAAAAAAAAAAEAAAAAAQEBAQABAAAAAAABAQAAAQEBAAABAAAAAAABAAEAAAABAQAAAQEBAQAAAAEBAQEBAQEBAAAAAAABAAEAAQAAAQAAAQABAAEBAAAAAQEBAAABAQEAAAEBAQEAAQEBAAEAAAAAAQEAAAAAAQABAAABAAAAAQEAAQEBAQEAAQEBAQAAAAAAAQAAAAEAAAEAAQEAAQEBAQEAAQEAAAAAAQEAAQABAAABAQAAAAAAAAAAAQEAAAEAAQAAAQAAAAAAAAEAAAEBAAEAAQABAQABAAEBAAEBAQEAAQEAAAAAAAEAAAAAAQABAAABAQABAAEAAQAAAAABAQABAQEAAAABAAAAAAAAAQAAAQAAAQAAAQEAAAEAAAABAQEBAAEAAAEBAQAAAQABAAABAQEAAQABAAEAAAEAAQEBAQEBAQEBAAEAAAEBAAAAAQAAAQAAAAAAAAEBAAEAAQAAAAAAAAABAAEBAQEBAQEAAQABAAEBAQEBAQEAAAEAAAABAAABAQAAAAABAQEBAQEAAQEBAQABAAAAAQABAQAAAAEBAAAAAQAAAQEAAQABAAAAAAABAAEBAQEAAQEBAQEBAAEAAAEAAQAAAQAAAAEBAQEAAQAAAAABAQEAAQAAAQAAAQEBAQAAAQEAAQEBAAEBAAEBAAEBAAAAAQEAAQEAAAAAAAEAAAEAAAEAAAEAAAABAQAAAQEAAAEBAQEBAAEAAAAAAQEBAAEAAAAAAAEAAAAAAQAAAQABAQEAAQABAQABAAEAAQEAAQABAQABAQEBAQABAQAAAAAAAAAAAAEBAAEAAAEAAAABAQEAAQAAAAAAAAEBAQABAAEAAAAAAQEBAQABAQABAQAAAQEBAAAAAAAAAAEBAQEAAQEAAAEAAAABAQABAAAAAQAAAAEAAAABAAEAAQAAAAAAAQEAAQEBAAEBAAEBAAEAAQABAAEAAAEAAQEBAAEAAQABAQEBAQEAAAEAAAEBAAEBAAAAAAAAAAEAAQAAAAAAAAABAAAAAAABAQAAAQABAQABAQEAAAEAAQABAQEBAAAAAQEBAQEBAQEAAAEAAAABAQAAAAABAAAAAAAAAAEBAQAAAAABAQEBAQAAAAEBAQEBAQABAQABAQABAAEAAQAAAAAAAQEAAQAAAAAAAQEBAAABAAAAAQEBAAABAAABAAEBAQEBAQEAAAEAAAEBAQABAAABAAAAAQABAAEAAAAAAQAAAAEAAAAAAAABAQAAAAEAAAABAQABAAAAAAABAAABAAABAAAAAQEBAQEBAQAAAAEBAAAAAAABAAABAAAAAAEAAAAAAAAAAQEBAQABAAAAAQAAAAAAAQEBAQEBAQAAAAEBAQAAAQEBAQAAAAEBAAEBAQEAAAABAAAAAAEAAQEAAQAAAQAAAAABAQEBAAEAAQABAQAAAAEBAQABAQEBAQEAAAAAAAEAAQEAAAAAAAEAAAEAAAEBAQEAAQEAAAEBAAEBAQAAAAEBAAABAAABAAAAAAEAAAAAAAABAQEAAQABAAEAAQABAAAAAAEBAQEBAAAAAAEBAQABAQEAAAABAQEAAQABAQAAAAABAAAAAQAAAAABAAABAQEAAAAAAQAAAQEBAAAAAQEAAAAAAAEAAAEBAQEAAQEBAAEAAAAAAAABAQAAAQAAAAEAAAEAAAAAAAABAAEBAAABAQAAAAABAQEBAAAAAAABAQAAAAEBAQEBAAEAAAABAQEBAQAAAAAAAQABAQAAAAAAAQAAAQEAAQEBAAAAAQEAAAAAAQAAAQEBAQEBAAABAAEBAAEAAQEAAAABAQAAAAEAAAEBAAAAAAABAAEAAAEAAAEAAAABAAAAAAEAAQABAAEAAAABAAAAAAAAAAEAAQABAAEBAAAAAAAAAAEAAQAAAAABAAABAQAAAAAAAAABAAAAAAABAQABAQABAAAAAAAAAAABAAAAAQABAQAAAQEBAQABAQAAAQEAAAAAAAABAQEAAAABAAEBAQABAQEBAAEBAAAAAAAAAAABAQAAAQAAAQEAAAAAAAABAAAAAQABAQABAAEBAQEBAQAAAQAAAQABAAABAQAAAAEAAAAAAAABAAABAAEAAAEBAQABAQAAAAEBAQAAAAEAAQAAAQEBAQEBAQABAAAAAAEAAQABAQABAAEBAAABAAEAAAAAAAAAAAEBAAAAAAEAAQEAAQAAAAAAAAAAAAEAAAAAAQEBAAEBAQABAAABAQABAQEAAAEBAAABAAEAAQEAAQABAAEBAQEBAQEBAQEBAQABAAEAAQAAAAAAAQEAAQEAAAAAAAABAQEBAAEBAAEBAQEBAQEBAAEBAQABAQEAAAEBAAABAAEBAAAAAQEAAAEAAAAAAQAAAQEAAQABAAAAAQEBAAAAAQEBAAABAAEAAQABAQEBAQABAQABAQAAAQAAAQABAQAAAQEAAQAAAAAAAAAAAQABAQEAAAABAQAAAAEAAAAAAQEAAAABAAEBAQEAAAEAAAAAAQAAAAABAAAAAAEAAQEBAAABAQAAAAABAAEBAAEBAQEBAAABAQABAAAAAQEBAAEBAQABAAEBAAEBAAEBAAAAAAEBAQEBAQEBAQEAAQABAAABAQAAAAABAAEAAQABAAABAQEAAAEBAQEBAQAAAAABAAABAAEBAQEBAQAAAQABAQAAAQAAAQEBAAABAAAAAAEAAAABAAEAAQEAAQEAAQEBAAEBAAABAAAAAAABAQEAAQEAAQAAAQEAAAEAAQEBAQEAAAABAQEAAAABAAAAAQABAAEAAAEAAAAAAAAAAAABAAEAAAEAAQABAAEAAQEBAQEBAQAAAAEAAQEBAQAAAQEAAQEBAQEBAAABAAABAQEBAQABAQAAAAABAQEAAQEAAAEBAAABAQEBAAEAAQAAAQABAAEAAAAAAQABAAAAAQAAAQAAAQEBAQAAAQEAAQEAAQEAAQAAAAABAQEAAQEAAQABAAAAAQAAAAAAAAEBAAABAAEBAAABAQAAAAABAQAAAAABAQABAAEAAAEAAAEBAQAAAAABAAEBAQEBAQABAAABAQEAAAAAAAABAQEAAQEBAAABAQAAAAEBAQABAQABAQEBAAAAAAABAQEBAAEAAAEBAQEAAQAAAAAAAAEAAAAAAQEBAAABAAAAAAEBAQABAQABAAAAAAABAQEAAAABAQAAAAAAAAEBAQABAAABAAAAAQABAQABAAABAAEAAAEBAQAAAAABAAAAAQAAAQEAAAEAAAEBAQEAAAEAAQEAAQAAAAAAAAABAQEBAAAAAAAAAQABAQEAAQEBAQAAAQABAQEAAQAAAQAAAQAAAAEAAAEBAAEAAAAAAQEBAAEBAAEAAAAAAQABAAAAAAAAAAABAAAAAAEAAAEBAQABAAAAAQAAAAAAAAEAAQEAAAEAAQEBAQABAAEBAQABAAEBAQEAAAAAAQABAQEAAAAAAQAAAAEAAAAAAAABAAAAAAABAAEAAAEBAQEAAAABAQAAAAEAAQAAAAEBAQEBAAEBAAAAAAAAAQEBAAAAAQEAAAAAAQABAAABAAABAQAAAQEBAQEBAAAAAQEBAQAAAAAAAAAAAAEBAQAAAAAAAQAAAAAAAAABAQAAAAEBAAAAAQAAAQEBAAEBAAABAAABAAEAAQAAAQAAAQEAAQEAAAAAAQABAQEAAQABAAAAAQEBAAAAAQAAAAABAQAAAQEBAAEBAQEAAAAAAAABAAEBAQEBAAAAAAAAAQEBAAABAAAAAQEAAAABAQAAAQAAAAAAAAEAAQEAAAAAAAEBAQABAAAAAAABAAEAAAAAAAEAAAAAAQABAQEAAQEAAAEAAAEBAQABAAAAAAAAAQABAQABAQEAAAEAAQABAAEAAAEAAQABAAEAAAEBAAAAAAAAAQEAAAAAAAAAAQAAAQEAAQABAAABAAEAAAEBAQEBAQEBAAABAAEBAAABAAEBAQAAAQEAAAABAAAAAAEBAAEAAQABAAEBAQEAAAEAAQAAAQEAAQABAAEBAQEAAAEBAQAAAAAAAQEAAAAAAAEAAQABAQABAAAAAAABAAABAAEAAAEBAAAAAQEAAQABAQAAAQAAAQAAAAEAAQABAQEAAQAAAQABAAEAAQEBAAEBAAEBAAEAAQEAAAAAAAABAAAAAAEBAAEAAQABAAEAAAAAAAEAAAAAAAAAAQEAAAABAAEAAQABAAEAAQABAQAAAQAAAQAAAAEBAQAAAQEAAAAAAAAAAQEAAAABAAEAAQEAAQAAAQEBAAEAAQABAAABAQEBAAABAQAAAAAAAAAAAAAAAQEAAAAAAAAAAQEBAAEBAQABAAAAAQAAAAAAAQAAAAAAAAABAAABAAEAAAAAAAABAAAAAAEBAQABAAAAAAEAAQAAAQABAAEAAQEAAAAAAAAAAAEAAAAAAAAAAAAAAAABAQEAAAEAAQABAAAAAAABAAABAQAAAAAAAAAAAAAAAQEAAAEBAAEAAAEAAQEAAAEBAAABAQEAAQEAAQAAAQEAAAAAAAEAAAEAAQAAAQEAAAABAQABAQEBAQEBAAEAAAAAAAABAAEBAQABAQABAAEAAAAAAQEAAAABAAEAAAABAAEAAAAAAQEBAQEAAAAAAQAAAAEAAAEBAAAAAQABAAEAAAAAAAEBAQAAAQEBAQEBAAAAAAEBAQEAAQAAAAEAAAABAQAAAAAAAQEAAAAAAQAAAQABAAAAAQAAAAABAQAAAQEBAQAAAAAAAAAAAAAAAAABAAAAAQEBAQEBAAAAAAABAAEAAAEAAQAAAAABAAAAAAAAAAEAAAEAAAEBAAAAAAEAAQABAAAAAQAAAAEBAQABAAAAAAAAAAABAAAAAQABAQAAAAAAAAABAAABAAAAAAAAAQEAAQABAAABAQAAAQABAAABAAEBAQEAAQABAQAAAQAAAQAAAAEAAAAAAAAAAAAAAAEAAAEBAAEAAQEBAAEAAAAAAQABAQAAAQEAAQAAAAEAAAABAQEAAAAAAAABAQABAAABAQABAQEAAAEBAQAAAAABAQABAAABAAAAAAABAAABAQABAAEAAQABAAAAAAABAQAAAQEBAAEBAQAAAQEBAAABAQABAAAAAQEAAQAAAQAAAQEBAQABAQEAAAABAAABAAEAAAEAAAEAAAAAAAEBAAEBAQAAAQAAAAEAAQEAAAEAAAEAAAAAAAABAQAAAAAAAAAAAQABAAAAAQEBAAEBAQEAAAEBAAEAAQEAAAABAAAAAAAAAQAAAQABAQABAAABAAEBAAABAQEBAAEBAAEBAQABAAEBAQAAAQEAAQEAAAEBAQEAAAEAAAEAAAABAAEBAQEBAQEAAAABAQABAAABAAEAAQEAAAABAAEAAQEAAQEBAAEBAAABAAAAAAAAAQAAAAAAAAAAAQEAAAAAAAEBAQABAAEAAAAAAAEBAQEBAAAAAQEAAQAAAAAAAQABAAAAAQABAQABAQEBAQABAQAAAQABAQAAAQEBAQEAAAAAAQABAAEBAAEBAAEAAAEAAAEBAAABAAABAAEAAAEAAQABAQEBAQEAAAABAQAAAAEAAAAAAAEAAAABAQABAAAAAQEAAQAAAAABAAEAAQAAAQABAAAAAAAAAAEBAAABAAEAAQABAAAAAAAAAQEAAAAAAQEAAQEBAQEBAQEBAQABAAABAAAAAAAAAQEBAAEBAAAAAQAAAQAAAAAAAQEAAAABAAABAQABAQEBAAABAQEAAAEBAAABAAABAAAAAAEBAQEAAQEBAQAAAAEAAAABAQEAAAAAAAABAAABAQEAAAEBAAEBAAEAAAABAQEAAQEAAAABAAABAAAAAAEAAAAAAQEAAAEAAAEAAAAAAQEBAQEBAQABAQEAAAEAAAABAQAAAAEBAAAAAQAAAAEBAQABAAEAAQAAAQABAAAAAAAAAAAAAAAAAQABAAAAAAABAAABAQEAAAABAQABAQABAAEAAQAAAAEAAAEAAAAAAAEBAAEBAAAAAAEBAQAAAQAAAQABAQABAAABAAEBAQAAAAEBAQEBAAEAAQEAAQEBAAEAAAAAAAABAAAAAAEAAQEBAAAAAQABAQABAQEBAQAAAQABAQAAAAABAAAAAA==",
          "dtype": "i1"
         },
         "xaxis": "x2",
         "xbins": {
          "end": 1.5,
          "size": 1,
          "start": -0.5
         },
         "yaxis": "y2"
        },
        {
         "name": "validation_cohort",
         "opacity": 0.6,
         "type": "histogram",
         "x": {
          "bdata": "AAABAQAAAAEAAQEAAQABAAEBAQAAAAAAAAABAAABAAABAAAAAAAAAAAAAAEAAQAAAAEBAAAAAAEAAQEBAAEAAAEAAQEBAQAAAAEBAAAAAAEBAQEAAAEBAQABAAAAAAAAAAAAAAEAAQEAAAAAAAEBAAAAAAAAAAEAAAEBAAAAAAABAAAAAAAAAAE=",
          "dtype": "i1"
         },
         "xaxis": "x3",
         "xbins": {
          "end": 1.5,
          "size": 1,
          "start": -0.5
         },
         "yaxis": "y3"
        }
       ],
       "layout": {
        "annotations": [
         {
          "font": {
           "size": 16
          },
          "showarrow": false,
          "text": "primary_cohort",
          "x": 0.14444444444444446,
          "xanchor": "center",
          "xref": "paper",
          "y": 1,
          "yanchor": "bottom",
          "yref": "paper"
         },
         {
          "font": {
           "size": 16
          },
          "showarrow": false,
          "text": "study_cohort",
          "x": 0.5,
          "xanchor": "center",
          "xref": "paper",
          "y": 1,
          "yanchor": "bottom",
          "yref": "paper"
         },
         {
          "font": {
           "size": 16
          },
          "showarrow": false,
          "text": "validation_cohort",
          "x": 0.8555555555555556,
          "xanchor": "center",
          "xref": "paper",
          "y": 1,
          "yanchor": "bottom",
          "yref": "paper"
         }
        ],
        "bargap": 0.3,
        "height": 400,
        "showlegend": false,
        "template": {
         "data": {
          "bar": [
           {
            "error_x": {
             "color": "#2a3f5f"
            },
            "error_y": {
             "color": "#2a3f5f"
            },
            "marker": {
             "line": {
              "color": "#E5ECF6",
              "width": 0.5
             },
             "pattern": {
              "fillmode": "overlay",
              "size": 10,
              "solidity": 0.2
             }
            },
            "type": "bar"
           }
          ],
          "barpolar": [
           {
            "marker": {
             "line": {
              "color": "#E5ECF6",
              "width": 0.5
             },
             "pattern": {
              "fillmode": "overlay",
              "size": 10,
              "solidity": 0.2
             }
            },
            "type": "barpolar"
           }
          ],
          "carpet": [
           {
            "aaxis": {
             "endlinecolor": "#2a3f5f",
             "gridcolor": "white",
             "linecolor": "white",
             "minorgridcolor": "white",
             "startlinecolor": "#2a3f5f"
            },
            "baxis": {
             "endlinecolor": "#2a3f5f",
             "gridcolor": "white",
             "linecolor": "white",
             "minorgridcolor": "white",
             "startlinecolor": "#2a3f5f"
            },
            "type": "carpet"
           }
          ],
          "choropleth": [
           {
            "colorbar": {
             "outlinewidth": 0,
             "ticks": ""
            },
            "type": "choropleth"
           }
          ],
          "contour": [
           {
            "colorbar": {
             "outlinewidth": 0,
             "ticks": ""
            },
            "colorscale": [
             [
              0,
              "#0d0887"
             ],
             [
              0.1111111111111111,
              "#46039f"
             ],
             [
              0.2222222222222222,
              "#7201a8"
             ],
             [
              0.3333333333333333,
              "#9c179e"
             ],
             [
              0.4444444444444444,
              "#bd3786"
             ],
             [
              0.5555555555555556,
              "#d8576b"
             ],
             [
              0.6666666666666666,
              "#ed7953"
             ],
             [
              0.7777777777777778,
              "#fb9f3a"
             ],
             [
              0.8888888888888888,
              "#fdca26"
             ],
             [
              1,
              "#f0f921"
             ]
            ],
            "type": "contour"
           }
          ],
          "contourcarpet": [
           {
            "colorbar": {
             "outlinewidth": 0,
             "ticks": ""
            },
            "type": "contourcarpet"
           }
          ],
          "heatmap": [
           {
            "colorbar": {
             "outlinewidth": 0,
             "ticks": ""
            },
            "colorscale": [
             [
              0,
              "#0d0887"
             ],
             [
              0.1111111111111111,
              "#46039f"
             ],
             [
              0.2222222222222222,
              "#7201a8"
             ],
             [
              0.3333333333333333,
              "#9c179e"
             ],
             [
              0.4444444444444444,
              "#bd3786"
             ],
             [
              0.5555555555555556,
              "#d8576b"
             ],
             [
              0.6666666666666666,
              "#ed7953"
             ],
             [
              0.7777777777777778,
              "#fb9f3a"
             ],
             [
              0.8888888888888888,
              "#fdca26"
             ],
             [
              1,
              "#f0f921"
             ]
            ],
            "type": "heatmap"
           }
          ],
          "histogram": [
           {
            "marker": {
             "pattern": {
              "fillmode": "overlay",
              "size": 10,
              "solidity": 0.2
             }
            },
            "type": "histogram"
           }
          ],
          "histogram2d": [
           {
            "colorbar": {
             "outlinewidth": 0,
             "ticks": ""
            },
            "colorscale": [
             [
              0,
              "#0d0887"
             ],
             [
              0.1111111111111111,
              "#46039f"
             ],
             [
              0.2222222222222222,
              "#7201a8"
             ],
             [
              0.3333333333333333,
              "#9c179e"
             ],
             [
              0.4444444444444444,
              "#bd3786"
             ],
             [
              0.5555555555555556,
              "#d8576b"
             ],
             [
              0.6666666666666666,
              "#ed7953"
             ],
             [
              0.7777777777777778,
              "#fb9f3a"
             ],
             [
              0.8888888888888888,
              "#fdca26"
             ],
             [
              1,
              "#f0f921"
             ]
            ],
            "type": "histogram2d"
           }
          ],
          "histogram2dcontour": [
           {
            "colorbar": {
             "outlinewidth": 0,
             "ticks": ""
            },
            "colorscale": [
             [
              0,
              "#0d0887"
             ],
             [
              0.1111111111111111,
              "#46039f"
             ],
             [
              0.2222222222222222,
              "#7201a8"
             ],
             [
              0.3333333333333333,
              "#9c179e"
             ],
             [
              0.4444444444444444,
              "#bd3786"
             ],
             [
              0.5555555555555556,
              "#d8576b"
             ],
             [
              0.6666666666666666,
              "#ed7953"
             ],
             [
              0.7777777777777778,
              "#fb9f3a"
             ],
             [
              0.8888888888888888,
              "#fdca26"
             ],
             [
              1,
              "#f0f921"
             ]
            ],
            "type": "histogram2dcontour"
           }
          ],
          "mesh3d": [
           {
            "colorbar": {
             "outlinewidth": 0,
             "ticks": ""
            },
            "type": "mesh3d"
           }
          ],
          "parcoords": [
           {
            "line": {
             "colorbar": {
              "outlinewidth": 0,
              "ticks": ""
             }
            },
            "type": "parcoords"
           }
          ],
          "pie": [
           {
            "automargin": true,
            "type": "pie"
           }
          ],
          "scatter": [
           {
            "fillpattern": {
             "fillmode": "overlay",
             "size": 10,
             "solidity": 0.2
            },
            "type": "scatter"
           }
          ],
          "scatter3d": [
           {
            "line": {
             "colorbar": {
              "outlinewidth": 0,
              "ticks": ""
             }
            },
            "marker": {
             "colorbar": {
              "outlinewidth": 0,
              "ticks": ""
             }
            },
            "type": "scatter3d"
           }
          ],
          "scattercarpet": [
           {
            "marker": {
             "colorbar": {
              "outlinewidth": 0,
              "ticks": ""
             }
            },
            "type": "scattercarpet"
           }
          ],
          "scattergeo": [
           {
            "marker": {
             "colorbar": {
              "outlinewidth": 0,
              "ticks": ""
             }
            },
            "type": "scattergeo"
           }
          ],
          "scattergl": [
           {
            "marker": {
             "colorbar": {
              "outlinewidth": 0,
              "ticks": ""
             }
            },
            "type": "scattergl"
           }
          ],
          "scattermap": [
           {
            "marker": {
             "colorbar": {
              "outlinewidth": 0,
              "ticks": ""
             }
            },
            "type": "scattermap"
           }
          ],
          "scattermapbox": [
           {
            "marker": {
             "colorbar": {
              "outlinewidth": 0,
              "ticks": ""
             }
            },
            "type": "scattermapbox"
           }
          ],
          "scatterpolar": [
           {
            "marker": {
             "colorbar": {
              "outlinewidth": 0,
              "ticks": ""
             }
            },
            "type": "scatterpolar"
           }
          ],
          "scatterpolargl": [
           {
            "marker": {
             "colorbar": {
              "outlinewidth": 0,
              "ticks": ""
             }
            },
            "type": "scatterpolargl"
           }
          ],
          "scatterternary": [
           {
            "marker": {
             "colorbar": {
              "outlinewidth": 0,
              "ticks": ""
             }
            },
            "type": "scatterternary"
           }
          ],
          "surface": [
           {
            "colorbar": {
             "outlinewidth": 0,
             "ticks": ""
            },
            "colorscale": [
             [
              0,
              "#0d0887"
             ],
             [
              0.1111111111111111,
              "#46039f"
             ],
             [
              0.2222222222222222,
              "#7201a8"
             ],
             [
              0.3333333333333333,
              "#9c179e"
             ],
             [
              0.4444444444444444,
              "#bd3786"
             ],
             [
              0.5555555555555556,
              "#d8576b"
             ],
             [
              0.6666666666666666,
              "#ed7953"
             ],
             [
              0.7777777777777778,
              "#fb9f3a"
             ],
             [
              0.8888888888888888,
              "#fdca26"
             ],
             [
              1,
              "#f0f921"
             ]
            ],
            "type": "surface"
           }
          ],
          "table": [
           {
            "cells": {
             "fill": {
              "color": "#EBF0F8"
             },
             "line": {
              "color": "white"
             }
            },
            "header": {
             "fill": {
              "color": "#C8D4E3"
             },
             "line": {
              "color": "white"
             }
            },
            "type": "table"
           }
          ]
         },
         "layout": {
          "annotationdefaults": {
           "arrowcolor": "#2a3f5f",
           "arrowhead": 0,
           "arrowwidth": 1
          },
          "autotypenumbers": "strict",
          "coloraxis": {
           "colorbar": {
            "outlinewidth": 0,
            "ticks": ""
           }
          },
          "colorscale": {
           "diverging": [
            [
             0,
             "#8e0152"
            ],
            [
             0.1,
             "#c51b7d"
            ],
            [
             0.2,
             "#de77ae"
            ],
            [
             0.3,
             "#f1b6da"
            ],
            [
             0.4,
             "#fde0ef"
            ],
            [
             0.5,
             "#f7f7f7"
            ],
            [
             0.6,
             "#e6f5d0"
            ],
            [
             0.7,
             "#b8e186"
            ],
            [
             0.8,
             "#7fbc41"
            ],
            [
             0.9,
             "#4d9221"
            ],
            [
             1,
             "#276419"
            ]
           ],
           "sequential": [
            [
             0,
             "#0d0887"
            ],
            [
             0.1111111111111111,
             "#46039f"
            ],
            [
             0.2222222222222222,
             "#7201a8"
            ],
            [
             0.3333333333333333,
             "#9c179e"
            ],
            [
             0.4444444444444444,
             "#bd3786"
            ],
            [
             0.5555555555555556,
             "#d8576b"
            ],
            [
             0.6666666666666666,
             "#ed7953"
            ],
            [
             0.7777777777777778,
             "#fb9f3a"
            ],
            [
             0.8888888888888888,
             "#fdca26"
            ],
            [
             1,
             "#f0f921"
            ]
           ],
           "sequentialminus": [
            [
             0,
             "#0d0887"
            ],
            [
             0.1111111111111111,
             "#46039f"
            ],
            [
             0.2222222222222222,
             "#7201a8"
            ],
            [
             0.3333333333333333,
             "#9c179e"
            ],
            [
             0.4444444444444444,
             "#bd3786"
            ],
            [
             0.5555555555555556,
             "#d8576b"
            ],
            [
             0.6666666666666666,
             "#ed7953"
            ],
            [
             0.7777777777777778,
             "#fb9f3a"
            ],
            [
             0.8888888888888888,
             "#fdca26"
            ],
            [
             1,
             "#f0f921"
            ]
           ]
          },
          "colorway": [
           "#636efa",
           "#EF553B",
           "#00cc96",
           "#ab63fa",
           "#FFA15A",
           "#19d3f3",
           "#FF6692",
           "#B6E880",
           "#FF97FF",
           "#FECB52"
          ],
          "font": {
           "color": "#2a3f5f"
          },
          "geo": {
           "bgcolor": "white",
           "lakecolor": "white",
           "landcolor": "#E5ECF6",
           "showlakes": true,
           "showland": true,
           "subunitcolor": "white"
          },
          "hoverlabel": {
           "align": "left"
          },
          "hovermode": "closest",
          "mapbox": {
           "style": "light"
          },
          "paper_bgcolor": "white",
          "plot_bgcolor": "#E5ECF6",
          "polar": {
           "angularaxis": {
            "gridcolor": "white",
            "linecolor": "white",
            "ticks": ""
           },
           "bgcolor": "#E5ECF6",
           "radialaxis": {
            "gridcolor": "white",
            "linecolor": "white",
            "ticks": ""
           }
          },
          "scene": {
           "xaxis": {
            "backgroundcolor": "#E5ECF6",
            "gridcolor": "white",
            "gridwidth": 2,
            "linecolor": "white",
            "showbackground": true,
            "ticks": "",
            "zerolinecolor": "white"
           },
           "yaxis": {
            "backgroundcolor": "#E5ECF6",
            "gridcolor": "white",
            "gridwidth": 2,
            "linecolor": "white",
            "showbackground": true,
            "ticks": "",
            "zerolinecolor": "white"
           },
           "zaxis": {
            "backgroundcolor": "#E5ECF6",
            "gridcolor": "white",
            "gridwidth": 2,
            "linecolor": "white",
            "showbackground": true,
            "ticks": "",
            "zerolinecolor": "white"
           }
          },
          "shapedefaults": {
           "line": {
            "color": "#2a3f5f"
           }
          },
          "ternary": {
           "aaxis": {
            "gridcolor": "white",
            "linecolor": "white",
            "ticks": ""
           },
           "baxis": {
            "gridcolor": "white",
            "linecolor": "white",
            "ticks": ""
           },
           "bgcolor": "#E5ECF6",
           "caxis": {
            "gridcolor": "white",
            "linecolor": "white",
            "ticks": ""
           }
          },
          "title": {
           "x": 0.05
          },
          "xaxis": {
           "automargin": true,
           "gridcolor": "white",
           "linecolor": "white",
           "ticks": "",
           "title": {
            "standoff": 15
           },
           "zerolinecolor": "white",
           "zerolinewidth": 2
          },
          "yaxis": {
           "automargin": true,
           "gridcolor": "white",
           "linecolor": "white",
           "ticks": "",
           "title": {
            "standoff": 15
           },
           "zerolinecolor": "white",
           "zerolinewidth": 2
          }
         }
        },
        "title": {
         "text": "Nombre d'hommes (0) vs nombre de femmes (1)"
        },
        "width": 900,
        "xaxis": {
         "anchor": "y",
         "domain": [
          0,
          0.2888888888888889
         ]
        },
        "xaxis2": {
         "anchor": "y2",
         "domain": [
          0.35555555555555557,
          0.6444444444444445
         ]
        },
        "xaxis3": {
         "anchor": "y3",
         "domain": [
          0.7111111111111111,
          1
         ]
        },
        "yaxis": {
         "anchor": "x",
         "domain": [
          0,
          1
         ]
        },
        "yaxis2": {
         "anchor": "x2",
         "domain": [
          0,
          1
         ]
        },
        "yaxis3": {
         "anchor": "x3",
         "domain": [
          0,
          1
         ]
        }
       }
      }
     },
     "metadata": {},
     "output_type": "display_data"
    }
   ],
   "source": [
    "fig = make_subplots(rows=1, cols=len(cohorts), subplot_titles=cohorts)\n",
    "\n",
    "for i, cohort in enumerate(cohorts):\n",
    "    fig.add_trace(\n",
    "        go.Histogram(x=dict_df[cohort].sex_0male_1female, name=cohort, xbins=dict(start=-0.5, end=1.5, size=1), opacity=0.6),\n",
    "        row=1, col=i+1\n",
    "    )\n",
    "\n",
    "\n",
    "fig.update_layout(\n",
    "    title=\"Nombre d'hommes (0) vs nombre de femmes (1)\",\n",
    "    showlegend=False,\n",
    "    height=400,\n",
    "    width=900,\n",
    "    bargap=0.3\n",
    ")\n",
    "\n",
    "fig.show()"
   ]
  },
  {
   "cell_type": "markdown",
   "id": "989251ca",
   "metadata": {},
   "source": [
    "On remarque plus d'hommes que de femmes dans chaque population étudiée \\\n",
    "Cependant, pour les données coréennes il y a seulement 47 pour 90 hommes : elles ne représentent qu'un tiers des patients étudiés ici. \\\n",
    "Pour le groupe primaire il y a 47% de femmes et pour le groupe d'étude il y en a 45%, c'est similaire. \\\n",
    "\n",
    "\n"
   ]
  },
  {
   "cell_type": "markdown",
   "id": "78cdfd5b",
   "metadata": {},
   "source": [
    "### 4. Vérification age et sexe indépendant"
   ]
  },
  {
   "cell_type": "code",
   "execution_count": 33,
   "id": "21f964b9",
   "metadata": {},
   "outputs": [
    {
     "data": {
      "application/vnd.plotly.v1+json": {
       "config": {
        "plotlyServerURL": "https://plot.ly"
       },
       "data": [
        {
         "marker": {
          "color": "#1f77b4"
         },
         "name": "Homme",
         "nbinsx": 20,
         "opacity": 0.6,
         "type": "histogram",
         "x": {
          "bdata": "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",
          "dtype": "i1"
         },
         "xaxis": "x",
         "yaxis": "y"
        },
        {
         "marker": {
          "color": "#ff7f0e"
         },
         "name": "Femme",
         "nbinsx": 20,
         "opacity": 0.6,
         "type": "histogram",
         "x": {
          "bdata": "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",
          "dtype": "i1"
         },
         "xaxis": "x",
         "yaxis": "y"
        },
        {
         "marker": {
          "color": "#1f77b4"
         },
         "name": "Homme",
         "nbinsx": 20,
         "opacity": 0.6,
         "type": "histogram",
         "x": {
          "bdata": "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",
          "dtype": "i1"
         },
         "xaxis": "x2",
         "yaxis": "y2"
        },
        {
         "marker": {
          "color": "#ff7f0e"
         },
         "name": "Femme",
         "nbinsx": 20,
         "opacity": 0.6,
         "type": "histogram",
         "x": {
          "bdata": "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",
          "dtype": "i1"
         },
         "xaxis": "x2",
         "yaxis": "y2"
        },
        {
         "marker": {
          "color": "#1f77b4"
         },
         "name": "Homme",
         "nbinsx": 20,
         "opacity": 0.6,
         "type": "histogram",
         "x": {
          "bdata": "FBYhISMkKCotMDEyMjQ0NTU2Njc5OTo7PDw8PD09PkBAQEJCQ0NESUpKS0xOTk9PT1JZWTcYPlA4HUcrOzJNSUMyJDZNIzAsRkw/Hjw5RUc1RT9WMkMvMj46",
          "dtype": "i1"
         },
         "xaxis": "x3",
         "yaxis": "y3"
        },
        {
         "marker": {
          "color": "#ff7f0e"
         },
         "name": "Femme",
         "nbinsx": 20,
         "opacity": 0.6,
         "type": "histogram",
         "x": {
          "bdata": "GiEjJCYpKy4vMDU2Nz0+QEJDRUZISUpLS0tMTk9TVFRYTDxZKVc1RC0yQi49OTc=",
          "dtype": "i1"
         },
         "xaxis": "x3",
         "yaxis": "y3"
        }
       ],
       "layout": {
        "annotations": [
         {
          "font": {
           "size": 16
          },
          "showarrow": false,
          "text": "primary_cohort",
          "x": 0.14444444444444446,
          "xanchor": "center",
          "xref": "paper",
          "y": 1,
          "yanchor": "bottom",
          "yref": "paper"
         },
         {
          "font": {
           "size": 16
          },
          "showarrow": false,
          "text": "study_cohort",
          "x": 0.5,
          "xanchor": "center",
          "xref": "paper",
          "y": 1,
          "yanchor": "bottom",
          "yref": "paper"
         },
         {
          "font": {
           "size": 16
          },
          "showarrow": false,
          "text": "validation_cohort",
          "x": 0.8555555555555556,
          "xanchor": "center",
          "xref": "paper",
          "y": 1,
          "yanchor": "bottom",
          "yref": "paper"
         }
        ],
        "barmode": "overlay",
        "height": 500,
        "showlegend": true,
        "template": {
         "data": {
          "bar": [
           {
            "error_x": {
             "color": "#2a3f5f"
            },
            "error_y": {
             "color": "#2a3f5f"
            },
            "marker": {
             "line": {
              "color": "#E5ECF6",
              "width": 0.5
             },
             "pattern": {
              "fillmode": "overlay",
              "size": 10,
              "solidity": 0.2
             }
            },
            "type": "bar"
           }
          ],
          "barpolar": [
           {
            "marker": {
             "line": {
              "color": "#E5ECF6",
              "width": 0.5
             },
             "pattern": {
              "fillmode": "overlay",
              "size": 10,
              "solidity": 0.2
             }
            },
            "type": "barpolar"
           }
          ],
          "carpet": [
           {
            "aaxis": {
             "endlinecolor": "#2a3f5f",
             "gridcolor": "white",
             "linecolor": "white",
             "minorgridcolor": "white",
             "startlinecolor": "#2a3f5f"
            },
            "baxis": {
             "endlinecolor": "#2a3f5f",
             "gridcolor": "white",
             "linecolor": "white",
             "minorgridcolor": "white",
             "startlinecolor": "#2a3f5f"
            },
            "type": "carpet"
           }
          ],
          "choropleth": [
           {
            "colorbar": {
             "outlinewidth": 0,
             "ticks": ""
            },
            "type": "choropleth"
           }
          ],
          "contour": [
           {
            "colorbar": {
             "outlinewidth": 0,
             "ticks": ""
            },
            "colorscale": [
             [
              0,
              "#0d0887"
             ],
             [
              0.1111111111111111,
              "#46039f"
             ],
             [
              0.2222222222222222,
              "#7201a8"
             ],
             [
              0.3333333333333333,
              "#9c179e"
             ],
             [
              0.4444444444444444,
              "#bd3786"
             ],
             [
              0.5555555555555556,
              "#d8576b"
             ],
             [
              0.6666666666666666,
              "#ed7953"
             ],
             [
              0.7777777777777778,
              "#fb9f3a"
             ],
             [
              0.8888888888888888,
              "#fdca26"
             ],
             [
              1,
              "#f0f921"
             ]
            ],
            "type": "contour"
           }
          ],
          "contourcarpet": [
           {
            "colorbar": {
             "outlinewidth": 0,
             "ticks": ""
            },
            "type": "contourcarpet"
           }
          ],
          "heatmap": [
           {
            "colorbar": {
             "outlinewidth": 0,
             "ticks": ""
            },
            "colorscale": [
             [
              0,
              "#0d0887"
             ],
             [
              0.1111111111111111,
              "#46039f"
             ],
             [
              0.2222222222222222,
              "#7201a8"
             ],
             [
              0.3333333333333333,
              "#9c179e"
             ],
             [
              0.4444444444444444,
              "#bd3786"
             ],
             [
              0.5555555555555556,
              "#d8576b"
             ],
             [
              0.6666666666666666,
              "#ed7953"
             ],
             [
              0.7777777777777778,
              "#fb9f3a"
             ],
             [
              0.8888888888888888,
              "#fdca26"
             ],
             [
              1,
              "#f0f921"
             ]
            ],
            "type": "heatmap"
           }
          ],
          "histogram": [
           {
            "marker": {
             "pattern": {
              "fillmode": "overlay",
              "size": 10,
              "solidity": 0.2
             }
            },
            "type": "histogram"
           }
          ],
          "histogram2d": [
           {
            "colorbar": {
             "outlinewidth": 0,
             "ticks": ""
            },
            "colorscale": [
             [
              0,
              "#0d0887"
             ],
             [
              0.1111111111111111,
              "#46039f"
             ],
             [
              0.2222222222222222,
              "#7201a8"
             ],
             [
              0.3333333333333333,
              "#9c179e"
             ],
             [
              0.4444444444444444,
              "#bd3786"
             ],
             [
              0.5555555555555556,
              "#d8576b"
             ],
             [
              0.6666666666666666,
              "#ed7953"
             ],
             [
              0.7777777777777778,
              "#fb9f3a"
             ],
             [
              0.8888888888888888,
              "#fdca26"
             ],
             [
              1,
              "#f0f921"
             ]
            ],
            "type": "histogram2d"
           }
          ],
          "histogram2dcontour": [
           {
            "colorbar": {
             "outlinewidth": 0,
             "ticks": ""
            },
            "colorscale": [
             [
              0,
              "#0d0887"
             ],
             [
              0.1111111111111111,
              "#46039f"
             ],
             [
              0.2222222222222222,
              "#7201a8"
             ],
             [
              0.3333333333333333,
              "#9c179e"
             ],
             [
              0.4444444444444444,
              "#bd3786"
             ],
             [
              0.5555555555555556,
              "#d8576b"
             ],
             [
              0.6666666666666666,
              "#ed7953"
             ],
             [
              0.7777777777777778,
              "#fb9f3a"
             ],
             [
              0.8888888888888888,
              "#fdca26"
             ],
             [
              1,
              "#f0f921"
             ]
            ],
            "type": "histogram2dcontour"
           }
          ],
          "mesh3d": [
           {
            "colorbar": {
             "outlinewidth": 0,
             "ticks": ""
            },
            "type": "mesh3d"
           }
          ],
          "parcoords": [
           {
            "line": {
             "colorbar": {
              "outlinewidth": 0,
              "ticks": ""
             }
            },
            "type": "parcoords"
           }
          ],
          "pie": [
           {
            "automargin": true,
            "type": "pie"
           }
          ],
          "scatter": [
           {
            "fillpattern": {
             "fillmode": "overlay",
             "size": 10,
             "solidity": 0.2
            },
            "type": "scatter"
           }
          ],
          "scatter3d": [
           {
            "line": {
             "colorbar": {
              "outlinewidth": 0,
              "ticks": ""
             }
            },
            "marker": {
             "colorbar": {
              "outlinewidth": 0,
              "ticks": ""
             }
            },
            "type": "scatter3d"
           }
          ],
          "scattercarpet": [
           {
            "marker": {
             "colorbar": {
              "outlinewidth": 0,
              "ticks": ""
             }
            },
            "type": "scattercarpet"
           }
          ],
          "scattergeo": [
           {
            "marker": {
             "colorbar": {
              "outlinewidth": 0,
              "ticks": ""
             }
            },
            "type": "scattergeo"
           }
          ],
          "scattergl": [
           {
            "marker": {
             "colorbar": {
              "outlinewidth": 0,
              "ticks": ""
             }
            },
            "type": "scattergl"
           }
          ],
          "scattermap": [
           {
            "marker": {
             "colorbar": {
              "outlinewidth": 0,
              "ticks": ""
             }
            },
            "type": "scattermap"
           }
          ],
          "scattermapbox": [
           {
            "marker": {
             "colorbar": {
              "outlinewidth": 0,
              "ticks": ""
             }
            },
            "type": "scattermapbox"
           }
          ],
          "scatterpolar": [
           {
            "marker": {
             "colorbar": {
              "outlinewidth": 0,
              "ticks": ""
             }
            },
            "type": "scatterpolar"
           }
          ],
          "scatterpolargl": [
           {
            "marker": {
             "colorbar": {
              "outlinewidth": 0,
              "ticks": ""
             }
            },
            "type": "scatterpolargl"
           }
          ],
          "scatterternary": [
           {
            "marker": {
             "colorbar": {
              "outlinewidth": 0,
              "ticks": ""
             }
            },
            "type": "scatterternary"
           }
          ],
          "surface": [
           {
            "colorbar": {
             "outlinewidth": 0,
             "ticks": ""
            },
            "colorscale": [
             [
              0,
              "#0d0887"
             ],
             [
              0.1111111111111111,
              "#46039f"
             ],
             [
              0.2222222222222222,
              "#7201a8"
             ],
             [
              0.3333333333333333,
              "#9c179e"
             ],
             [
              0.4444444444444444,
              "#bd3786"
             ],
             [
              0.5555555555555556,
              "#d8576b"
             ],
             [
              0.6666666666666666,
              "#ed7953"
             ],
             [
              0.7777777777777778,
              "#fb9f3a"
             ],
             [
              0.8888888888888888,
              "#fdca26"
             ],
             [
              1,
              "#f0f921"
             ]
            ],
            "type": "surface"
           }
          ],
          "table": [
           {
            "cells": {
             "fill": {
              "color": "#EBF0F8"
             },
             "line": {
              "color": "white"
             }
            },
            "header": {
             "fill": {
              "color": "#C8D4E3"
             },
             "line": {
              "color": "white"
             }
            },
            "type": "table"
           }
          ]
         },
         "layout": {
          "annotationdefaults": {
           "arrowcolor": "#2a3f5f",
           "arrowhead": 0,
           "arrowwidth": 1
          },
          "autotypenumbers": "strict",
          "coloraxis": {
           "colorbar": {
            "outlinewidth": 0,
            "ticks": ""
           }
          },
          "colorscale": {
           "diverging": [
            [
             0,
             "#8e0152"
            ],
            [
             0.1,
             "#c51b7d"
            ],
            [
             0.2,
             "#de77ae"
            ],
            [
             0.3,
             "#f1b6da"
            ],
            [
             0.4,
             "#fde0ef"
            ],
            [
             0.5,
             "#f7f7f7"
            ],
            [
             0.6,
             "#e6f5d0"
            ],
            [
             0.7,
             "#b8e186"
            ],
            [
             0.8,
             "#7fbc41"
            ],
            [
             0.9,
             "#4d9221"
            ],
            [
             1,
             "#276419"
            ]
           ],
           "sequential": [
            [
             0,
             "#0d0887"
            ],
            [
             0.1111111111111111,
             "#46039f"
            ],
            [
             0.2222222222222222,
             "#7201a8"
            ],
            [
             0.3333333333333333,
             "#9c179e"
            ],
            [
             0.4444444444444444,
             "#bd3786"
            ],
            [
             0.5555555555555556,
             "#d8576b"
            ],
            [
             0.6666666666666666,
             "#ed7953"
            ],
            [
             0.7777777777777778,
             "#fb9f3a"
            ],
            [
             0.8888888888888888,
             "#fdca26"
            ],
            [
             1,
             "#f0f921"
            ]
           ],
           "sequentialminus": [
            [
             0,
             "#0d0887"
            ],
            [
             0.1111111111111111,
             "#46039f"
            ],
            [
             0.2222222222222222,
             "#7201a8"
            ],
            [
             0.3333333333333333,
             "#9c179e"
            ],
            [
             0.4444444444444444,
             "#bd3786"
            ],
            [
             0.5555555555555556,
             "#d8576b"
            ],
            [
             0.6666666666666666,
             "#ed7953"
            ],
            [
             0.7777777777777778,
             "#fb9f3a"
            ],
            [
             0.8888888888888888,
             "#fdca26"
            ],
            [
             1,
             "#f0f921"
            ]
           ]
          },
          "colorway": [
           "#636efa",
           "#EF553B",
           "#00cc96",
           "#ab63fa",
           "#FFA15A",
           "#19d3f3",
           "#FF6692",
           "#B6E880",
           "#FF97FF",
           "#FECB52"
          ],
          "font": {
           "color": "#2a3f5f"
          },
          "geo": {
           "bgcolor": "white",
           "lakecolor": "white",
           "landcolor": "#E5ECF6",
           "showlakes": true,
           "showland": true,
           "subunitcolor": "white"
          },
          "hoverlabel": {
           "align": "left"
          },
          "hovermode": "closest",
          "mapbox": {
           "style": "light"
          },
          "paper_bgcolor": "white",
          "plot_bgcolor": "#E5ECF6",
          "polar": {
           "angularaxis": {
            "gridcolor": "white",
            "linecolor": "white",
            "ticks": ""
           },
           "bgcolor": "#E5ECF6",
           "radialaxis": {
            "gridcolor": "white",
            "linecolor": "white",
            "ticks": ""
           }
          },
          "scene": {
           "xaxis": {
            "backgroundcolor": "#E5ECF6",
            "gridcolor": "white",
            "gridwidth": 2,
            "linecolor": "white",
            "showbackground": true,
            "ticks": "",
            "zerolinecolor": "white"
           },
           "yaxis": {
            "backgroundcolor": "#E5ECF6",
            "gridcolor": "white",
            "gridwidth": 2,
            "linecolor": "white",
            "showbackground": true,
            "ticks": "",
            "zerolinecolor": "white"
           },
           "zaxis": {
            "backgroundcolor": "#E5ECF6",
            "gridcolor": "white",
            "gridwidth": 2,
            "linecolor": "white",
            "showbackground": true,
            "ticks": "",
            "zerolinecolor": "white"
           }
          },
          "shapedefaults": {
           "line": {
            "color": "#2a3f5f"
           }
          },
          "ternary": {
           "aaxis": {
            "gridcolor": "white",
            "linecolor": "white",
            "ticks": ""
           },
           "baxis": {
            "gridcolor": "white",
            "linecolor": "white",
            "ticks": ""
           },
           "bgcolor": "#E5ECF6",
           "caxis": {
            "gridcolor": "white",
            "linecolor": "white",
            "ticks": ""
           }
          },
          "title": {
           "x": 0.05
          },
          "xaxis": {
           "automargin": true,
           "gridcolor": "white",
           "linecolor": "white",
           "ticks": "",
           "title": {
            "standoff": 15
           },
           "zerolinecolor": "white",
           "zerolinewidth": 2
          },
          "yaxis": {
           "automargin": true,
           "gridcolor": "white",
           "linecolor": "white",
           "ticks": "",
           "title": {
            "standoff": 15
           },
           "zerolinecolor": "white",
           "zerolinewidth": 2
          }
         }
        },
        "title": {
         "text": "Répartition des âges par sexe selon la cohorte"
        },
        "width": 1200,
        "xaxis": {
         "anchor": "y",
         "domain": [
          0,
          0.2888888888888889
         ],
         "title": {
          "text": "Âge"
         }
        },
        "xaxis2": {
         "anchor": "y2",
         "domain": [
          0.35555555555555557,
          0.6444444444444445
         ]
        },
        "xaxis3": {
         "anchor": "y3",
         "domain": [
          0.7111111111111111,
          1
         ]
        },
        "yaxis": {
         "anchor": "x",
         "domain": [
          0,
          1
         ],
         "title": {
          "text": "Nombre de patients"
         }
        },
        "yaxis2": {
         "anchor": "x2",
         "domain": [
          0,
          1
         ]
        },
        "yaxis3": {
         "anchor": "x3",
         "domain": [
          0,
          1
         ]
        }
       }
      }
     },
     "metadata": {},
     "output_type": "display_data"
    }
   ],
   "source": [
    "import plotly.graph_objects as go\n",
    "from plotly.subplots import make_subplots\n",
    "\n",
    "fig = make_subplots(\n",
    "    rows=1,\n",
    "    cols=len(cohorts),\n",
    "    subplot_titles=cohorts)\n",
    "\n",
    "\n",
    "colors = {0: '#1f77b4', 1: '#ff7f0e'}  # bleu = homme, orange = femme\n",
    "\n",
    "for i, cohort in enumerate(cohorts):\n",
    "    fig.add_trace(\n",
    "        go.Histogram(\n",
    "            x=dict_df[cohort].loc[dict_df[cohort].sex_0male_1female == 0, 'age_years'],\n",
    "            name='Homme',\n",
    "            opacity=0.6,\n",
    "            marker_color=colors[0],\n",
    "            nbinsx=20\n",
    "        ),\n",
    "        row=1, col=i+1\n",
    "    )\n",
    "\n",
    "    fig.add_trace(\n",
    "        go.Histogram(\n",
    "            x=dict_df[cohort].loc[dict_df[cohort].sex_0male_1female == 1, 'age_years'],\n",
    "            name='Femme',\n",
    "            opacity=0.6,\n",
    "            marker_color=colors[1],\n",
    "            nbinsx=20\n",
    "        ),\n",
    "        row=1, col=i+1\n",
    "    )\n",
    "\n",
    "fig.update_layout(\n",
    "    title=\"Répartition des âges par sexe selon la cohorte\",\n",
    "    xaxis_title=\"Âge\",\n",
    "    yaxis_title=\"Nombre de patients\",\n",
    "    barmode='overlay',   \n",
    "    height=500,\n",
    "    width=1200,\n",
    "    showlegend=True\n",
    ")\n",
    "\n",
    "fig.show()\n"
   ]
  },
  {
   "cell_type": "markdown",
   "id": "a5a03855",
   "metadata": {},
   "source": [
    "### 5. Effets généraux de l'age et du sexe sur la probabilité de mort"
   ]
  },
  {
   "cell_type": "code",
   "execution_count": 38,
   "id": "190b13e4",
   "metadata": {},
   "outputs": [
    {
     "name": "stderr",
     "output_type": "stream",
     "text": [
      "/tmp/ipykernel_1367/3974294505.py:25: FutureWarning:\n",
      "\n",
      "The default of observed=False is deprecated and will be changed to True in a future version of pandas. Pass observed=False to retain current behavior or observed=True to adopt the future default and silence this warning.\n",
      "\n",
      "/tmp/ipykernel_1367/3974294505.py:25: FutureWarning:\n",
      "\n",
      "The default of observed=False is deprecated and will be changed to True in a future version of pandas. Pass observed=False to retain current behavior or observed=True to adopt the future default and silence this warning.\n",
      "\n",
      "/tmp/ipykernel_1367/3974294505.py:25: FutureWarning:\n",
      "\n",
      "The default of observed=False is deprecated and will be changed to True in a future version of pandas. Pass observed=False to retain current behavior or observed=True to adopt the future default and silence this warning.\n",
      "\n"
     ]
    },
    {
     "data": {
      "application/vnd.plotly.v1+json": {
       "config": {
        "plotlyServerURL": "https://plot.ly"
       },
       "data": [
        {
         "line": {
          "color": "#1f77b4"
         },
         "mode": "lines+markers",
         "name": "Homme (primary_cohort)",
         "showlegend": true,
         "type": "scatter",
         "x": [
          "[0, 10)",
          "[10, 20)",
          "[20, 30)",
          "[30, 40)",
          "[40, 50)",
          "[50, 60)",
          "[60, 70)",
          "[70, 80)",
          "[80, 90)",
          "[90, 100)"
         ],
         "xaxis": "x",
         "y": {
          "bdata": "gPe9aAqgfD/Av2xtugSLP0ANr4/aSIg/gFdlC9Q7iT8ghJjYteSTP8Cag8miM6Q/UIpflnggsT/oF0t+seS3P6xd9h6BLcE/qBEs78mIxj8=",
          "dtype": "f8"
         },
         "yaxis": "y"
        },
        {
         "line": {
          "color": "#ff7f0e"
         },
         "mode": "lines+markers",
         "name": "Femme (primary_cohort)",
         "showlegend": true,
         "type": "scatter",
         "x": [
          "[0, 10)",
          "[10, 20)",
          "[20, 30)",
          "[30, 40)",
          "[40, 50)",
          "[50, 60)",
          "[60, 70)",
          "[70, 80)",
          "[80, 90)",
          "[90, 100)"
         ],
         "xaxis": "x",
         "y": {
          "bdata": "gK8lh7jKdD+AtYl3lc12PwD6TPII4HQ/AFABFVABZT/AB2WeVdSYP1C+8O8/XqI/oF3pMtyYrj/Ytm3btm2zPyDssmQDo70/+Ech0Zh/xD8=",
          "dtype": "f8"
         },
         "yaxis": "y"
        },
        {
         "line": {
          "color": "#1f77b4"
         },
         "mode": "lines+markers",
         "name": "Homme (study_cohort)",
         "showlegend": false,
         "type": "scatter",
         "x": [
          "[0, 10)",
          "[10, 20)",
          "[20, 30)",
          "[30, 40)",
          "[40, 50)",
          "[50, 60)",
          "[60, 70)",
          "[70, 80)",
          "[80, 90)",
          "[90, 100)"
         ],
         "xaxis": "x2",
         "y": {
          "bdata": "wBWKW6G4pT/QcFL35bG1P7AaRRw6aa8/kJGRkZGRsT/IdaqR2dWzP1SitNAMesA/yL4Z739Nxz8YA4JU3U/KPwQK+l7Bw80/1g5FAGPt0D8=",
          "dtype": "f8"
         },
         "yaxis": "y2"
        },
        {
         "line": {
          "color": "#ff7f0e"
         },
         "mode": "lines+markers",
         "name": "Femme (study_cohort)",
         "showlegend": false,
         "type": "scatter",
         "x": [
          "[0, 10)",
          "[10, 20)",
          "[20, 30)",
          "[30, 40)",
          "[40, 50)",
          "[50, 60)",
          "[60, 70)",
          "[70, 80)",
          "[80, 90)",
          "[90, 100)"
         ],
         "xaxis": "x2",
         "y": {
          "bdata": "wGNqYO+Yqj8gHh4eHh6uP3DlAck6V64/AAAAAAAAoD+4OkBWrg7AP8hfsvwly78/VFVVVVVVxT8cEf+UZ2XGPzyjITujIcs/CAYGBgYGzj8=",
          "dtype": "f8"
         },
         "yaxis": "y2"
        },
        {
         "line": {
          "color": "#1f77b4"
         },
         "mode": "lines+markers",
         "name": "Homme (validation_cohort)",
         "showlegend": false,
         "type": "scatter",
         "x": [
          "[0, 10)",
          "[10, 20)",
          "[20, 30)",
          "[30, 40)",
          "[40, 50)",
          "[50, 60)",
          "[60, 70)",
          "[70, 80)",
          "[80, 90)",
          "[90, 100)"
         ],
         "xaxis": "x3",
         "y": {
          "bdata": "AAAAAAAA+H8AAAAAAAD4fwAAAAAAAAAAlCRJkiRJwj8AAAAAAAAAAFZVVVVVVdU/UFVVVVVVpT+WlpaWlpbWPwAAAAAAAAAAAAAAAAAA+H8=",
          "dtype": "f8"
         },
         "yaxis": "y3"
        },
        {
         "line": {
          "color": "#ff7f0e"
         },
         "mode": "lines+markers",
         "name": "Femme (validation_cohort)",
         "showlegend": false,
         "type": "scatter",
         "x": [
          "[0, 10)",
          "[10, 20)",
          "[20, 30)",
          "[30, 40)",
          "[40, 50)",
          "[50, 60)",
          "[60, 70)",
          "[70, 80)",
          "[80, 90)",
          "[90, 100)"
         ],
         "xaxis": "x3",
         "y": {
          "bdata": "AAAAAAAA+H8AAAAAAAD4fwAAAAAAAPA/AAAAAAAAAAAAAAAAAADQPwAAAAAAAAAAmJmZmZmZyT9IF1100UW3P1ZVVVVVVdU/AAAAAAAA+H8=",
          "dtype": "f8"
         },
         "yaxis": "y3"
        }
       ],
       "layout": {
        "annotations": [
         {
          "font": {
           "size": 16
          },
          "showarrow": false,
          "text": "primary_cohort",
          "x": 0.14444444444444446,
          "xanchor": "center",
          "xref": "paper",
          "y": 1,
          "yanchor": "bottom",
          "yref": "paper"
         },
         {
          "font": {
           "size": 16
          },
          "showarrow": false,
          "text": "study_cohort",
          "x": 0.5,
          "xanchor": "center",
          "xref": "paper",
          "y": 1,
          "yanchor": "bottom",
          "yref": "paper"
         },
         {
          "font": {
           "size": 16
          },
          "showarrow": false,
          "text": "validation_cohort",
          "x": 0.8555555555555556,
          "xanchor": "center",
          "xref": "paper",
          "y": 1,
          "yanchor": "bottom",
          "yref": "paper"
         }
        ],
        "font": {
         "size": 13
        },
        "height": 500,
        "legend": {
         "title": {
          "text": "Sexe"
         }
        },
        "template": {
         "data": {
          "bar": [
           {
            "error_x": {
             "color": "#2a3f5f"
            },
            "error_y": {
             "color": "#2a3f5f"
            },
            "marker": {
             "line": {
              "color": "white",
              "width": 0.5
             },
             "pattern": {
              "fillmode": "overlay",
              "size": 10,
              "solidity": 0.2
             }
            },
            "type": "bar"
           }
          ],
          "barpolar": [
           {
            "marker": {
             "line": {
              "color": "white",
              "width": 0.5
             },
             "pattern": {
              "fillmode": "overlay",
              "size": 10,
              "solidity": 0.2
             }
            },
            "type": "barpolar"
           }
          ],
          "carpet": [
           {
            "aaxis": {
             "endlinecolor": "#2a3f5f",
             "gridcolor": "#C8D4E3",
             "linecolor": "#C8D4E3",
             "minorgridcolor": "#C8D4E3",
             "startlinecolor": "#2a3f5f"
            },
            "baxis": {
             "endlinecolor": "#2a3f5f",
             "gridcolor": "#C8D4E3",
             "linecolor": "#C8D4E3",
             "minorgridcolor": "#C8D4E3",
             "startlinecolor": "#2a3f5f"
            },
            "type": "carpet"
           }
          ],
          "choropleth": [
           {
            "colorbar": {
             "outlinewidth": 0,
             "ticks": ""
            },
            "type": "choropleth"
           }
          ],
          "contour": [
           {
            "colorbar": {
             "outlinewidth": 0,
             "ticks": ""
            },
            "colorscale": [
             [
              0,
              "#0d0887"
             ],
             [
              0.1111111111111111,
              "#46039f"
             ],
             [
              0.2222222222222222,
              "#7201a8"
             ],
             [
              0.3333333333333333,
              "#9c179e"
             ],
             [
              0.4444444444444444,
              "#bd3786"
             ],
             [
              0.5555555555555556,
              "#d8576b"
             ],
             [
              0.6666666666666666,
              "#ed7953"
             ],
             [
              0.7777777777777778,
              "#fb9f3a"
             ],
             [
              0.8888888888888888,
              "#fdca26"
             ],
             [
              1,
              "#f0f921"
             ]
            ],
            "type": "contour"
           }
          ],
          "contourcarpet": [
           {
            "colorbar": {
             "outlinewidth": 0,
             "ticks": ""
            },
            "type": "contourcarpet"
           }
          ],
          "heatmap": [
           {
            "colorbar": {
             "outlinewidth": 0,
             "ticks": ""
            },
            "colorscale": [
             [
              0,
              "#0d0887"
             ],
             [
              0.1111111111111111,
              "#46039f"
             ],
             [
              0.2222222222222222,
              "#7201a8"
             ],
             [
              0.3333333333333333,
              "#9c179e"
             ],
             [
              0.4444444444444444,
              "#bd3786"
             ],
             [
              0.5555555555555556,
              "#d8576b"
             ],
             [
              0.6666666666666666,
              "#ed7953"
             ],
             [
              0.7777777777777778,
              "#fb9f3a"
             ],
             [
              0.8888888888888888,
              "#fdca26"
             ],
             [
              1,
              "#f0f921"
             ]
            ],
            "type": "heatmap"
           }
          ],
          "histogram": [
           {
            "marker": {
             "pattern": {
              "fillmode": "overlay",
              "size": 10,
              "solidity": 0.2
             }
            },
            "type": "histogram"
           }
          ],
          "histogram2d": [
           {
            "colorbar": {
             "outlinewidth": 0,
             "ticks": ""
            },
            "colorscale": [
             [
              0,
              "#0d0887"
             ],
             [
              0.1111111111111111,
              "#46039f"
             ],
             [
              0.2222222222222222,
              "#7201a8"
             ],
             [
              0.3333333333333333,
              "#9c179e"
             ],
             [
              0.4444444444444444,
              "#bd3786"
             ],
             [
              0.5555555555555556,
              "#d8576b"
             ],
             [
              0.6666666666666666,
              "#ed7953"
             ],
             [
              0.7777777777777778,
              "#fb9f3a"
             ],
             [
              0.8888888888888888,
              "#fdca26"
             ],
             [
              1,
              "#f0f921"
             ]
            ],
            "type": "histogram2d"
           }
          ],
          "histogram2dcontour": [
           {
            "colorbar": {
             "outlinewidth": 0,
             "ticks": ""
            },
            "colorscale": [
             [
              0,
              "#0d0887"
             ],
             [
              0.1111111111111111,
              "#46039f"
             ],
             [
              0.2222222222222222,
              "#7201a8"
             ],
             [
              0.3333333333333333,
              "#9c179e"
             ],
             [
              0.4444444444444444,
              "#bd3786"
             ],
             [
              0.5555555555555556,
              "#d8576b"
             ],
             [
              0.6666666666666666,
              "#ed7953"
             ],
             [
              0.7777777777777778,
              "#fb9f3a"
             ],
             [
              0.8888888888888888,
              "#fdca26"
             ],
             [
              1,
              "#f0f921"
             ]
            ],
            "type": "histogram2dcontour"
           }
          ],
          "mesh3d": [
           {
            "colorbar": {
             "outlinewidth": 0,
             "ticks": ""
            },
            "type": "mesh3d"
           }
          ],
          "parcoords": [
           {
            "line": {
             "colorbar": {
              "outlinewidth": 0,
              "ticks": ""
             }
            },
            "type": "parcoords"
           }
          ],
          "pie": [
           {
            "automargin": true,
            "type": "pie"
           }
          ],
          "scatter": [
           {
            "fillpattern": {
             "fillmode": "overlay",
             "size": 10,
             "solidity": 0.2
            },
            "type": "scatter"
           }
          ],
          "scatter3d": [
           {
            "line": {
             "colorbar": {
              "outlinewidth": 0,
              "ticks": ""
             }
            },
            "marker": {
             "colorbar": {
              "outlinewidth": 0,
              "ticks": ""
             }
            },
            "type": "scatter3d"
           }
          ],
          "scattercarpet": [
           {
            "marker": {
             "colorbar": {
              "outlinewidth": 0,
              "ticks": ""
             }
            },
            "type": "scattercarpet"
           }
          ],
          "scattergeo": [
           {
            "marker": {
             "colorbar": {
              "outlinewidth": 0,
              "ticks": ""
             }
            },
            "type": "scattergeo"
           }
          ],
          "scattergl": [
           {
            "marker": {
             "colorbar": {
              "outlinewidth": 0,
              "ticks": ""
             }
            },
            "type": "scattergl"
           }
          ],
          "scattermap": [
           {
            "marker": {
             "colorbar": {
              "outlinewidth": 0,
              "ticks": ""
             }
            },
            "type": "scattermap"
           }
          ],
          "scattermapbox": [
           {
            "marker": {
             "colorbar": {
              "outlinewidth": 0,
              "ticks": ""
             }
            },
            "type": "scattermapbox"
           }
          ],
          "scatterpolar": [
           {
            "marker": {
             "colorbar": {
              "outlinewidth": 0,
              "ticks": ""
             }
            },
            "type": "scatterpolar"
           }
          ],
          "scatterpolargl": [
           {
            "marker": {
             "colorbar": {
              "outlinewidth": 0,
              "ticks": ""
             }
            },
            "type": "scatterpolargl"
           }
          ],
          "scatterternary": [
           {
            "marker": {
             "colorbar": {
              "outlinewidth": 0,
              "ticks": ""
             }
            },
            "type": "scatterternary"
           }
          ],
          "surface": [
           {
            "colorbar": {
             "outlinewidth": 0,
             "ticks": ""
            },
            "colorscale": [
             [
              0,
              "#0d0887"
             ],
             [
              0.1111111111111111,
              "#46039f"
             ],
             [
              0.2222222222222222,
              "#7201a8"
             ],
             [
              0.3333333333333333,
              "#9c179e"
             ],
             [
              0.4444444444444444,
              "#bd3786"
             ],
             [
              0.5555555555555556,
              "#d8576b"
             ],
             [
              0.6666666666666666,
              "#ed7953"
             ],
             [
              0.7777777777777778,
              "#fb9f3a"
             ],
             [
              0.8888888888888888,
              "#fdca26"
             ],
             [
              1,
              "#f0f921"
             ]
            ],
            "type": "surface"
           }
          ],
          "table": [
           {
            "cells": {
             "fill": {
              "color": "#EBF0F8"
             },
             "line": {
              "color": "white"
             }
            },
            "header": {
             "fill": {
              "color": "#C8D4E3"
             },
             "line": {
              "color": "white"
             }
            },
            "type": "table"
           }
          ]
         },
         "layout": {
          "annotationdefaults": {
           "arrowcolor": "#2a3f5f",
           "arrowhead": 0,
           "arrowwidth": 1
          },
          "autotypenumbers": "strict",
          "coloraxis": {
           "colorbar": {
            "outlinewidth": 0,
            "ticks": ""
           }
          },
          "colorscale": {
           "diverging": [
            [
             0,
             "#8e0152"
            ],
            [
             0.1,
             "#c51b7d"
            ],
            [
             0.2,
             "#de77ae"
            ],
            [
             0.3,
             "#f1b6da"
            ],
            [
             0.4,
             "#fde0ef"
            ],
            [
             0.5,
             "#f7f7f7"
            ],
            [
             0.6,
             "#e6f5d0"
            ],
            [
             0.7,
             "#b8e186"
            ],
            [
             0.8,
             "#7fbc41"
            ],
            [
             0.9,
             "#4d9221"
            ],
            [
             1,
             "#276419"
            ]
           ],
           "sequential": [
            [
             0,
             "#0d0887"
            ],
            [
             0.1111111111111111,
             "#46039f"
            ],
            [
             0.2222222222222222,
             "#7201a8"
            ],
            [
             0.3333333333333333,
             "#9c179e"
            ],
            [
             0.4444444444444444,
             "#bd3786"
            ],
            [
             0.5555555555555556,
             "#d8576b"
            ],
            [
             0.6666666666666666,
             "#ed7953"
            ],
            [
             0.7777777777777778,
             "#fb9f3a"
            ],
            [
             0.8888888888888888,
             "#fdca26"
            ],
            [
             1,
             "#f0f921"
            ]
           ],
           "sequentialminus": [
            [
             0,
             "#0d0887"
            ],
            [
             0.1111111111111111,
             "#46039f"
            ],
            [
             0.2222222222222222,
             "#7201a8"
            ],
            [
             0.3333333333333333,
             "#9c179e"
            ],
            [
             0.4444444444444444,
             "#bd3786"
            ],
            [
             0.5555555555555556,
             "#d8576b"
            ],
            [
             0.6666666666666666,
             "#ed7953"
            ],
            [
             0.7777777777777778,
             "#fb9f3a"
            ],
            [
             0.8888888888888888,
             "#fdca26"
            ],
            [
             1,
             "#f0f921"
            ]
           ]
          },
          "colorway": [
           "#636efa",
           "#EF553B",
           "#00cc96",
           "#ab63fa",
           "#FFA15A",
           "#19d3f3",
           "#FF6692",
           "#B6E880",
           "#FF97FF",
           "#FECB52"
          ],
          "font": {
           "color": "#2a3f5f"
          },
          "geo": {
           "bgcolor": "white",
           "lakecolor": "white",
           "landcolor": "white",
           "showlakes": true,
           "showland": true,
           "subunitcolor": "#C8D4E3"
          },
          "hoverlabel": {
           "align": "left"
          },
          "hovermode": "closest",
          "mapbox": {
           "style": "light"
          },
          "paper_bgcolor": "white",
          "plot_bgcolor": "white",
          "polar": {
           "angularaxis": {
            "gridcolor": "#EBF0F8",
            "linecolor": "#EBF0F8",
            "ticks": ""
           },
           "bgcolor": "white",
           "radialaxis": {
            "gridcolor": "#EBF0F8",
            "linecolor": "#EBF0F8",
            "ticks": ""
           }
          },
          "scene": {
           "xaxis": {
            "backgroundcolor": "white",
            "gridcolor": "#DFE8F3",
            "gridwidth": 2,
            "linecolor": "#EBF0F8",
            "showbackground": true,
            "ticks": "",
            "zerolinecolor": "#EBF0F8"
           },
           "yaxis": {
            "backgroundcolor": "white",
            "gridcolor": "#DFE8F3",
            "gridwidth": 2,
            "linecolor": "#EBF0F8",
            "showbackground": true,
            "ticks": "",
            "zerolinecolor": "#EBF0F8"
           },
           "zaxis": {
            "backgroundcolor": "white",
            "gridcolor": "#DFE8F3",
            "gridwidth": 2,
            "linecolor": "#EBF0F8",
            "showbackground": true,
            "ticks": "",
            "zerolinecolor": "#EBF0F8"
           }
          },
          "shapedefaults": {
           "line": {
            "color": "#2a3f5f"
           }
          },
          "ternary": {
           "aaxis": {
            "gridcolor": "#DFE8F3",
            "linecolor": "#A2B1C6",
            "ticks": ""
           },
           "baxis": {
            "gridcolor": "#DFE8F3",
            "linecolor": "#A2B1C6",
            "ticks": ""
           },
           "bgcolor": "white",
           "caxis": {
            "gridcolor": "#DFE8F3",
            "linecolor": "#A2B1C6",
            "ticks": ""
           }
          },
          "title": {
           "x": 0.05
          },
          "xaxis": {
           "automargin": true,
           "gridcolor": "#EBF0F8",
           "linecolor": "#EBF0F8",
           "ticks": "",
           "title": {
            "standoff": 15
           },
           "zerolinecolor": "#EBF0F8",
           "zerolinewidth": 2
          },
          "yaxis": {
           "automargin": true,
           "gridcolor": "#EBF0F8",
           "linecolor": "#EBF0F8",
           "ticks": "",
           "title": {
            "standoff": 15
           },
           "zerolinecolor": "#EBF0F8",
           "zerolinewidth": 2
          }
         }
        },
        "title": {
         "text": "Visualisation des effets de l'âge et du sexe sur la probabilité de mort"
        },
        "width": 1200,
        "xaxis": {
         "anchor": "y",
         "domain": [
          0,
          0.2888888888888889
         ],
         "title": {
          "text": "Tranches d'âge (ans)"
         }
        },
        "xaxis2": {
         "anchor": "y2",
         "domain": [
          0.35555555555555557,
          0.6444444444444445
         ]
        },
        "xaxis3": {
         "anchor": "y3",
         "domain": [
          0.7111111111111111,
          1
         ]
        },
        "yaxis": {
         "anchor": "x",
         "domain": [
          0,
          1
         ],
         "range": [
          0,
          1
         ],
         "title": {
          "text": "Probabilité de mort"
         }
        },
        "yaxis2": {
         "anchor": "x2",
         "domain": [
          0,
          1
         ],
         "matches": "y",
         "showticklabels": false
        },
        "yaxis3": {
         "anchor": "x3",
         "domain": [
          0,
          1
         ],
         "matches": "y",
         "showticklabels": false
        }
       }
      }
     },
     "metadata": {},
     "output_type": "display_data"
    }
   ],
   "source": [
    "import plotly.graph_objects as go\n",
    "from plotly.subplots import make_subplots\n",
    "import pandas as pd\n",
    "\n",
    "# --- Création de la figure avec axes Y partagés ---\n",
    "fig = make_subplots(\n",
    "    rows=1,\n",
    "    cols=len(cohorts),\n",
    "    subplot_titles=list(cohorts),\n",
    "    shared_yaxes=True  # ✅ même échelle Y pour tous les sous-graphes\n",
    ")\n",
    "\n",
    "# Couleurs par sexe\n",
    "colors = {0: '#1f77b4', 1: '#ff7f0e'}\n",
    "\n",
    "# Boucle sur les cohortes\n",
    "for i, cohort in enumerate(cohorts, start=1):\n",
    "    \n",
    "    # Création de tranches d’âge (ex: tous les 10 ans)\n",
    "    dict_df[cohort]['age_bin'] = pd.cut(dict_df[cohort].age_years, bins=range(0, 101, 10), right=False)\n",
    "\n",
    "    # Calcul de la probabilité de mort (1 - taux de survie) par sexe et tranche d’âge\n",
    "    prob = (\n",
    "        dict_df[cohort]\n",
    "        .groupby(['age_bin', 'sex_0male_1female'])\n",
    "        .hospital_outcome_1alive_0dead\n",
    "        .mean()\n",
    "        .reset_index()\n",
    "    )\n",
    "    prob['death_prob'] = 1 - prob.hospital_outcome_1alive_0dead  # car 0 = mort, 1 = vivant\n",
    "\n",
    "    # Tracer pour chaque sexe\n",
    "    for sex in [0, 1]:\n",
    "        subset = prob[prob['sex_0male_1female'] == sex]\n",
    "        fig.add_trace(\n",
    "            go.Scatter(\n",
    "                x=subset['age_bin'].astype(str),\n",
    "                y=subset['death_prob'],\n",
    "                mode='lines+markers',\n",
    "                name=f\"{'Homme' if sex==0 else 'Femme'} ({cohort})\",\n",
    "                line=dict(color=colors[sex]),\n",
    "                showlegend=(i == 1)  # ✅ la légende n’apparaît qu’une fois\n",
    "            ),\n",
    "            row=1, col=i\n",
    "        )\n",
    "\n",
    "# --- Mise en page générale ---\n",
    "fig.update_layout(\n",
    "    title=\"Visualisation des effets de l'âge et du sexe sur la probabilité de mort\",\n",
    "    height=500,\n",
    "    width=1200,\n",
    "    xaxis_title=\"Tranches d'âge (ans)\",\n",
    "    yaxis_title=\"Probabilité de mort\",\n",
    "    yaxis=dict(range=[0, 1]),  # ✅ même échelle [0,1] sur tous les subplots\n",
    "    legend_title=\"Sexe\",\n",
    "    template=\"plotly_white\",\n",
    "    font=dict(size=13)\n",
    ")\n",
    "\n",
    "fig.show()\n"
   ]
  },
  {
   "cell_type": "markdown",
   "id": "8ad8970f",
   "metadata": {},
   "source": [
    "### 6. Effets du nombre d'épisodes de sepsis sur la mortalité"
   ]
  },
  {
   "cell_type": "markdown",
   "id": "671ed18f",
   "metadata": {},
   "source": [
    "# II. Création d'un modèle de classification"
   ]
  },
  {
   "cell_type": "markdown",
   "id": "26a2a04d",
   "metadata": {},
   "source": [
    "### 1. Choix du modèle à entraîner\n",
    "\n",
    "##### Remarque : **pas de feature engineering à faire**"
   ]
  },
  {
   "cell_type": "markdown",
   "id": "3cdf7f77",
   "metadata": {},
   "source": [
    "### 2. Dimensionnement de l'hyper paramètre en accord avec l'étude"
   ]
  },
  {
   "cell_type": "code",
   "execution_count": null,
   "id": "f886a822",
   "metadata": {},
   "outputs": [
    {
     "name": "stderr",
     "output_type": "stream",
     "text": [
      "/home/guillaumereynier/anaconda3/envs/myenv/lib/python3.12/site-packages/xgboost/core.py:377: FutureWarning:\n",
      "\n",
      "Your system has an old version of glibc (< 2.28). We will stop supporting Linux distros with glibc older than 2.28 after **May 31, 2025**. Please upgrade to a recent Linux distro (with glibc >= 2.28) to use future versions of XGBoost.\n",
      "Note: You have installed the 'manylinux2014' variant of XGBoost. Certain features such as GPU algorithms or federated learning are not available. To use these features, please upgrade to a recent Linux distro with glibc 2.28+, and install the 'manylinux_2_28' variant.\n",
      "\n"
     ]
    }
   ],
   "source": [
    "import xgboost as xgb\n",
    "from sklearn.model_selection import train_test_split\n",
    "from sklearn.metrics import accuracy_score, roc_auc_score, classification_report"
   ]
  },
  {
   "cell_type": "code",
   "execution_count": null,
   "id": "4d5605b4",
   "metadata": {},
   "outputs": [
    {
     "ename": "ValueError",
     "evalue": "DataFrame.dtypes for data must be int, float, bool or category. When categorical type is supplied, the experimental DMatrix parameter`enable_categorical` must be set to `True`.  Invalid columns:age_bin: category",
     "output_type": "error",
     "traceback": [
      "\u001b[31m---------------------------------------------------------------------------\u001b[39m",
      "\u001b[31mKeyError\u001b[39m                                  Traceback (most recent call last)",
      "\u001b[36mFile \u001b[39m\u001b[32m~/anaconda3/envs/myenv/lib/python3.12/site-packages/xgboost/data.py:407\u001b[39m, in \u001b[36mpandas_feature_info\u001b[39m\u001b[34m(data, meta, feature_names, feature_types, enable_categorical)\u001b[39m\n\u001b[32m    406\u001b[39m \u001b[38;5;28;01mtry\u001b[39;00m:\n\u001b[32m--> \u001b[39m\u001b[32m407\u001b[39m     new_feature_types.append(\u001b[43m_pandas_dtype_mapper\u001b[49m\u001b[43m[\u001b[49m\u001b[43mdtype\u001b[49m\u001b[43m.\u001b[49m\u001b[43mname\u001b[49m\u001b[43m]\u001b[49m)\n\u001b[32m    408\u001b[39m \u001b[38;5;28;01mexcept\u001b[39;00m \u001b[38;5;167;01mKeyError\u001b[39;00m:\n",
      "\u001b[31mKeyError\u001b[39m: 'category'",
      "\nDuring handling of the above exception, another exception occurred:\n",
      "\u001b[31mValueError\u001b[39m                                Traceback (most recent call last)",
      "\u001b[36mCell\u001b[39m\u001b[36m \u001b[39m\u001b[32mIn[12]\u001b[39m\u001b[32m, line 17\u001b[39m\n\u001b[32m      4\u001b[39m model = xgb.XGBClassifier(\n\u001b[32m      5\u001b[39m     objective=\u001b[33m\"\u001b[39m\u001b[33mbinary:logistic\u001b[39m\u001b[33m\"\u001b[39m,\n\u001b[32m      6\u001b[39m     eval_metric=\u001b[33m\"\u001b[39m\u001b[33mlogloss\u001b[39m\u001b[33m\"\u001b[39m,  \u001b[38;5;66;03m# ou \"auc\" si tu préfères\u001b[39;00m\n\u001b[32m   (...)\u001b[39m\u001b[32m     13\u001b[39m     random_state=\u001b[32m42\u001b[39m,\n\u001b[32m     14\u001b[39m )\n\u001b[32m     16\u001b[39m \u001b[38;5;66;03m# === 5. Entraînement ===\u001b[39;00m\n\u001b[32m---> \u001b[39m\u001b[32m17\u001b[39m \u001b[43mmodel\u001b[49m\u001b[43m.\u001b[49m\u001b[43mfit\u001b[49m\u001b[43m(\u001b[49m\u001b[43mXtrain\u001b[49m\u001b[43m,\u001b[49m\u001b[43m \u001b[49m\u001b[43mytrain\u001b[49m\u001b[43m)\u001b[49m\n\u001b[32m     19\u001b[39m X_val_primary = dict_df[\u001b[33m\"\u001b[39m\u001b[33mprimary_cohort\u001b[39m\u001b[33m\"\u001b[39m].drop(columns=[\u001b[33m\"\u001b[39m\u001b[33mhospital_outcome_1alive_0dead\u001b[39m\u001b[33m\"\u001b[39m])\n\u001b[32m     20\u001b[39m X_val_test = dict_df[\u001b[33m\"\u001b[39m\u001b[33mstudy_cohort\u001b[39m\u001b[33m\"\u001b[39m].drop(columns=[\u001b[33m\"\u001b[39m\u001b[33mhospital_outcome_1alive_0dead\u001b[39m\u001b[33m\"\u001b[39m])\n",
      "\u001b[36mFile \u001b[39m\u001b[32m~/anaconda3/envs/myenv/lib/python3.12/site-packages/xgboost/core.py:729\u001b[39m, in \u001b[36mrequire_keyword_args.<locals>.throw_if.<locals>.inner_f\u001b[39m\u001b[34m(*args, **kwargs)\u001b[39m\n\u001b[32m    727\u001b[39m \u001b[38;5;28;01mfor\u001b[39;00m k, arg \u001b[38;5;129;01min\u001b[39;00m \u001b[38;5;28mzip\u001b[39m(sig.parameters, args):\n\u001b[32m    728\u001b[39m     kwargs[k] = arg\n\u001b[32m--> \u001b[39m\u001b[32m729\u001b[39m \u001b[38;5;28;01mreturn\u001b[39;00m \u001b[43mfunc\u001b[49m\u001b[43m(\u001b[49m\u001b[43m*\u001b[49m\u001b[43m*\u001b[49m\u001b[43mkwargs\u001b[49m\u001b[43m)\u001b[49m\n",
      "\u001b[36mFile \u001b[39m\u001b[32m~/anaconda3/envs/myenv/lib/python3.12/site-packages/xgboost/sklearn.py:1663\u001b[39m, in \u001b[36mXGBClassifier.fit\u001b[39m\u001b[34m(self, X, y, sample_weight, base_margin, eval_set, verbose, xgb_model, sample_weight_eval_set, base_margin_eval_set, feature_weights)\u001b[39m\n\u001b[32m   1658\u001b[39m     params[\u001b[33m\"\u001b[39m\u001b[33mnum_class\u001b[39m\u001b[33m\"\u001b[39m] = \u001b[38;5;28mself\u001b[39m.n_classes_\n\u001b[32m   1660\u001b[39m model, metric, params, feature_weights = \u001b[38;5;28mself\u001b[39m._configure_fit(\n\u001b[32m   1661\u001b[39m     xgb_model, params, feature_weights\n\u001b[32m   1662\u001b[39m )\n\u001b[32m-> \u001b[39m\u001b[32m1663\u001b[39m train_dmatrix, evals = \u001b[43m_wrap_evaluation_matrices\u001b[49m\u001b[43m(\u001b[49m\n\u001b[32m   1664\u001b[39m \u001b[43m    \u001b[49m\u001b[43mmissing\u001b[49m\u001b[43m=\u001b[49m\u001b[38;5;28;43mself\u001b[39;49m\u001b[43m.\u001b[49m\u001b[43mmissing\u001b[49m\u001b[43m,\u001b[49m\n\u001b[32m   1665\u001b[39m \u001b[43m    \u001b[49m\u001b[43mX\u001b[49m\u001b[43m=\u001b[49m\u001b[43mX\u001b[49m\u001b[43m,\u001b[49m\n\u001b[32m   1666\u001b[39m \u001b[43m    \u001b[49m\u001b[43my\u001b[49m\u001b[43m=\u001b[49m\u001b[43my\u001b[49m\u001b[43m,\u001b[49m\n\u001b[32m   1667\u001b[39m \u001b[43m    \u001b[49m\u001b[43mgroup\u001b[49m\u001b[43m=\u001b[49m\u001b[38;5;28;43;01mNone\u001b[39;49;00m\u001b[43m,\u001b[49m\n\u001b[32m   1668\u001b[39m \u001b[43m    \u001b[49m\u001b[43mqid\u001b[49m\u001b[43m=\u001b[49m\u001b[38;5;28;43;01mNone\u001b[39;49;00m\u001b[43m,\u001b[49m\n\u001b[32m   1669\u001b[39m \u001b[43m    \u001b[49m\u001b[43msample_weight\u001b[49m\u001b[43m=\u001b[49m\u001b[43msample_weight\u001b[49m\u001b[43m,\u001b[49m\n\u001b[32m   1670\u001b[39m \u001b[43m    \u001b[49m\u001b[43mbase_margin\u001b[49m\u001b[43m=\u001b[49m\u001b[43mbase_margin\u001b[49m\u001b[43m,\u001b[49m\n\u001b[32m   1671\u001b[39m \u001b[43m    \u001b[49m\u001b[43mfeature_weights\u001b[49m\u001b[43m=\u001b[49m\u001b[43mfeature_weights\u001b[49m\u001b[43m,\u001b[49m\n\u001b[32m   1672\u001b[39m \u001b[43m    \u001b[49m\u001b[43meval_set\u001b[49m\u001b[43m=\u001b[49m\u001b[43meval_set\u001b[49m\u001b[43m,\u001b[49m\n\u001b[32m   1673\u001b[39m \u001b[43m    \u001b[49m\u001b[43msample_weight_eval_set\u001b[49m\u001b[43m=\u001b[49m\u001b[43msample_weight_eval_set\u001b[49m\u001b[43m,\u001b[49m\n\u001b[32m   1674\u001b[39m \u001b[43m    \u001b[49m\u001b[43mbase_margin_eval_set\u001b[49m\u001b[43m=\u001b[49m\u001b[43mbase_margin_eval_set\u001b[49m\u001b[43m,\u001b[49m\n\u001b[32m   1675\u001b[39m \u001b[43m    \u001b[49m\u001b[43meval_group\u001b[49m\u001b[43m=\u001b[49m\u001b[38;5;28;43;01mNone\u001b[39;49;00m\u001b[43m,\u001b[49m\n\u001b[32m   1676\u001b[39m \u001b[43m    \u001b[49m\u001b[43meval_qid\u001b[49m\u001b[43m=\u001b[49m\u001b[38;5;28;43;01mNone\u001b[39;49;00m\u001b[43m,\u001b[49m\n\u001b[32m   1677\u001b[39m \u001b[43m    \u001b[49m\u001b[43mcreate_dmatrix\u001b[49m\u001b[43m=\u001b[49m\u001b[38;5;28;43mself\u001b[39;49m\u001b[43m.\u001b[49m\u001b[43m_create_dmatrix\u001b[49m\u001b[43m,\u001b[49m\n\u001b[32m   1678\u001b[39m \u001b[43m    \u001b[49m\u001b[43menable_categorical\u001b[49m\u001b[43m=\u001b[49m\u001b[38;5;28;43mself\u001b[39;49m\u001b[43m.\u001b[49m\u001b[43menable_categorical\u001b[49m\u001b[43m,\u001b[49m\n\u001b[32m   1679\u001b[39m \u001b[43m    \u001b[49m\u001b[43mfeature_types\u001b[49m\u001b[43m=\u001b[49m\u001b[38;5;28;43mself\u001b[39;49m\u001b[43m.\u001b[49m\u001b[43mfeature_types\u001b[49m\u001b[43m,\u001b[49m\n\u001b[32m   1680\u001b[39m \u001b[43m\u001b[49m\u001b[43m)\u001b[49m\n\u001b[32m   1682\u001b[39m \u001b[38;5;28mself\u001b[39m._Booster = train(\n\u001b[32m   1683\u001b[39m     params,\n\u001b[32m   1684\u001b[39m     train_dmatrix,\n\u001b[32m   (...)\u001b[39m\u001b[32m   1693\u001b[39m     callbacks=\u001b[38;5;28mself\u001b[39m.callbacks,\n\u001b[32m   1694\u001b[39m )\n\u001b[32m   1696\u001b[39m \u001b[38;5;28;01mif\u001b[39;00m \u001b[38;5;129;01mnot\u001b[39;00m \u001b[38;5;28mcallable\u001b[39m(\u001b[38;5;28mself\u001b[39m.objective):\n",
      "\u001b[36mFile \u001b[39m\u001b[32m~/anaconda3/envs/myenv/lib/python3.12/site-packages/xgboost/sklearn.py:628\u001b[39m, in \u001b[36m_wrap_evaluation_matrices\u001b[39m\u001b[34m(missing, X, y, group, qid, sample_weight, base_margin, feature_weights, eval_set, sample_weight_eval_set, base_margin_eval_set, eval_group, eval_qid, create_dmatrix, enable_categorical, feature_types)\u001b[39m\n\u001b[32m    607\u001b[39m \u001b[38;5;28;01mdef\u001b[39;00m\u001b[38;5;250m \u001b[39m\u001b[34m_wrap_evaluation_matrices\u001b[39m(\n\u001b[32m    608\u001b[39m     *,\n\u001b[32m    609\u001b[39m     missing: \u001b[38;5;28mfloat\u001b[39m,\n\u001b[32m   (...)\u001b[39m\u001b[32m    624\u001b[39m     feature_types: Optional[FeatureTypes],\n\u001b[32m    625\u001b[39m ) -> Tuple[Any, List[Tuple[Any, \u001b[38;5;28mstr\u001b[39m]]]:\n\u001b[32m    626\u001b[39m \u001b[38;5;250m    \u001b[39m\u001b[33;03m\"\"\"Convert array_like evaluation matrices into DMatrix.  Perform validation on the\u001b[39;00m\n\u001b[32m    627\u001b[39m \u001b[33;03m    way.\"\"\"\u001b[39;00m\n\u001b[32m--> \u001b[39m\u001b[32m628\u001b[39m     train_dmatrix = \u001b[43mcreate_dmatrix\u001b[49m\u001b[43m(\u001b[49m\n\u001b[32m    629\u001b[39m \u001b[43m        \u001b[49m\u001b[43mdata\u001b[49m\u001b[43m=\u001b[49m\u001b[43mX\u001b[49m\u001b[43m,\u001b[49m\n\u001b[32m    630\u001b[39m \u001b[43m        \u001b[49m\u001b[43mlabel\u001b[49m\u001b[43m=\u001b[49m\u001b[43my\u001b[49m\u001b[43m,\u001b[49m\n\u001b[32m    631\u001b[39m \u001b[43m        \u001b[49m\u001b[43mgroup\u001b[49m\u001b[43m=\u001b[49m\u001b[43mgroup\u001b[49m\u001b[43m,\u001b[49m\n\u001b[32m    632\u001b[39m \u001b[43m        \u001b[49m\u001b[43mqid\u001b[49m\u001b[43m=\u001b[49m\u001b[43mqid\u001b[49m\u001b[43m,\u001b[49m\n\u001b[32m    633\u001b[39m \u001b[43m        \u001b[49m\u001b[43mweight\u001b[49m\u001b[43m=\u001b[49m\u001b[43msample_weight\u001b[49m\u001b[43m,\u001b[49m\n\u001b[32m    634\u001b[39m \u001b[43m        \u001b[49m\u001b[43mbase_margin\u001b[49m\u001b[43m=\u001b[49m\u001b[43mbase_margin\u001b[49m\u001b[43m,\u001b[49m\n\u001b[32m    635\u001b[39m \u001b[43m        \u001b[49m\u001b[43mfeature_weights\u001b[49m\u001b[43m=\u001b[49m\u001b[43mfeature_weights\u001b[49m\u001b[43m,\u001b[49m\n\u001b[32m    636\u001b[39m \u001b[43m        \u001b[49m\u001b[43mmissing\u001b[49m\u001b[43m=\u001b[49m\u001b[43mmissing\u001b[49m\u001b[43m,\u001b[49m\n\u001b[32m    637\u001b[39m \u001b[43m        \u001b[49m\u001b[43menable_categorical\u001b[49m\u001b[43m=\u001b[49m\u001b[43menable_categorical\u001b[49m\u001b[43m,\u001b[49m\n\u001b[32m    638\u001b[39m \u001b[43m        \u001b[49m\u001b[43mfeature_types\u001b[49m\u001b[43m=\u001b[49m\u001b[43mfeature_types\u001b[49m\u001b[43m,\u001b[49m\n\u001b[32m    639\u001b[39m \u001b[43m        \u001b[49m\u001b[43mref\u001b[49m\u001b[43m=\u001b[49m\u001b[38;5;28;43;01mNone\u001b[39;49;00m\u001b[43m,\u001b[49m\n\u001b[32m    640\u001b[39m \u001b[43m    \u001b[49m\u001b[43m)\u001b[49m\n\u001b[32m    642\u001b[39m     n_validation = \u001b[32m0\u001b[39m \u001b[38;5;28;01mif\u001b[39;00m eval_set \u001b[38;5;129;01mis\u001b[39;00m \u001b[38;5;28;01mNone\u001b[39;00m \u001b[38;5;28;01melse\u001b[39;00m \u001b[38;5;28mlen\u001b[39m(eval_set)\n\u001b[32m    644\u001b[39m     \u001b[38;5;28;01mdef\u001b[39;00m\u001b[38;5;250m \u001b[39m\u001b[34mvalidate_or_none\u001b[39m(meta: Optional[Sequence], name: \u001b[38;5;28mstr\u001b[39m) -> Sequence:\n",
      "\u001b[36mFile \u001b[39m\u001b[32m~/anaconda3/envs/myenv/lib/python3.12/site-packages/xgboost/sklearn.py:1137\u001b[39m, in \u001b[36mXGBModel._create_dmatrix\u001b[39m\u001b[34m(self, ref, **kwargs)\u001b[39m\n\u001b[32m   1135\u001b[39m \u001b[38;5;28;01mif\u001b[39;00m _can_use_qdm(\u001b[38;5;28mself\u001b[39m.tree_method, \u001b[38;5;28mself\u001b[39m.device) \u001b[38;5;129;01mand\u001b[39;00m \u001b[38;5;28mself\u001b[39m.booster != \u001b[33m\"\u001b[39m\u001b[33mgblinear\u001b[39m\u001b[33m\"\u001b[39m:\n\u001b[32m   1136\u001b[39m     \u001b[38;5;28;01mtry\u001b[39;00m:\n\u001b[32m-> \u001b[39m\u001b[32m1137\u001b[39m         \u001b[38;5;28;01mreturn\u001b[39;00m \u001b[43mQuantileDMatrix\u001b[49m\u001b[43m(\u001b[49m\n\u001b[32m   1138\u001b[39m \u001b[43m            \u001b[49m\u001b[43m*\u001b[49m\u001b[43m*\u001b[49m\u001b[43mkwargs\u001b[49m\u001b[43m,\u001b[49m\u001b[43m \u001b[49m\u001b[43mref\u001b[49m\u001b[43m=\u001b[49m\u001b[43mref\u001b[49m\u001b[43m,\u001b[49m\u001b[43m \u001b[49m\u001b[43mnthread\u001b[49m\u001b[43m=\u001b[49m\u001b[38;5;28;43mself\u001b[39;49m\u001b[43m.\u001b[49m\u001b[43mn_jobs\u001b[49m\u001b[43m,\u001b[49m\u001b[43m \u001b[49m\u001b[43mmax_bin\u001b[49m\u001b[43m=\u001b[49m\u001b[38;5;28;43mself\u001b[39;49m\u001b[43m.\u001b[49m\u001b[43mmax_bin\u001b[49m\n\u001b[32m   1139\u001b[39m \u001b[43m        \u001b[49m\u001b[43m)\u001b[49m\n\u001b[32m   1140\u001b[39m     \u001b[38;5;28;01mexcept\u001b[39;00m \u001b[38;5;167;01mTypeError\u001b[39;00m:  \u001b[38;5;66;03m# `QuantileDMatrix` supports lesser types than DMatrix\u001b[39;00m\n\u001b[32m   1141\u001b[39m         \u001b[38;5;28;01mpass\u001b[39;00m\n",
      "\u001b[36mFile \u001b[39m\u001b[32m~/anaconda3/envs/myenv/lib/python3.12/site-packages/xgboost/core.py:729\u001b[39m, in \u001b[36mrequire_keyword_args.<locals>.throw_if.<locals>.inner_f\u001b[39m\u001b[34m(*args, **kwargs)\u001b[39m\n\u001b[32m    727\u001b[39m \u001b[38;5;28;01mfor\u001b[39;00m k, arg \u001b[38;5;129;01min\u001b[39;00m \u001b[38;5;28mzip\u001b[39m(sig.parameters, args):\n\u001b[32m    728\u001b[39m     kwargs[k] = arg\n\u001b[32m--> \u001b[39m\u001b[32m729\u001b[39m \u001b[38;5;28;01mreturn\u001b[39;00m \u001b[43mfunc\u001b[49m\u001b[43m(\u001b[49m\u001b[43m*\u001b[49m\u001b[43m*\u001b[49m\u001b[43mkwargs\u001b[49m\u001b[43m)\u001b[49m\n",
      "\u001b[36mFile \u001b[39m\u001b[32m~/anaconda3/envs/myenv/lib/python3.12/site-packages/xgboost/core.py:1614\u001b[39m, in \u001b[36mQuantileDMatrix.__init__\u001b[39m\u001b[34m(self, data, label, weight, base_margin, missing, silent, feature_names, feature_types, nthread, max_bin, ref, group, qid, label_lower_bound, label_upper_bound, feature_weights, enable_categorical, max_quantile_batches, data_split_mode)\u001b[39m\n\u001b[32m   1594\u001b[39m     \u001b[38;5;28;01mif\u001b[39;00m \u001b[38;5;28many\u001b[39m(\n\u001b[32m   1595\u001b[39m         info \u001b[38;5;129;01mis\u001b[39;00m \u001b[38;5;129;01mnot\u001b[39;00m \u001b[38;5;28;01mNone\u001b[39;00m\n\u001b[32m   1596\u001b[39m         \u001b[38;5;28;01mfor\u001b[39;00m info \u001b[38;5;129;01min\u001b[39;00m (\n\u001b[32m   (...)\u001b[39m\u001b[32m   1607\u001b[39m         )\n\u001b[32m   1608\u001b[39m     ):\n\u001b[32m   1609\u001b[39m         \u001b[38;5;28;01mraise\u001b[39;00m \u001b[38;5;167;01mValueError\u001b[39;00m(\n\u001b[32m   1610\u001b[39m             \u001b[33m\"\u001b[39m\u001b[33mIf data iterator is used as input, data like label should be \u001b[39m\u001b[33m\"\u001b[39m\n\u001b[32m   1611\u001b[39m             \u001b[33m\"\u001b[39m\u001b[33mspecified as batch argument.\u001b[39m\u001b[33m\"\u001b[39m\n\u001b[32m   1612\u001b[39m         )\n\u001b[32m-> \u001b[39m\u001b[32m1614\u001b[39m \u001b[38;5;28;43mself\u001b[39;49m\u001b[43m.\u001b[49m\u001b[43m_init\u001b[49m\u001b[43m(\u001b[49m\n\u001b[32m   1615\u001b[39m \u001b[43m    \u001b[49m\u001b[43mdata\u001b[49m\u001b[43m,\u001b[49m\n\u001b[32m   1616\u001b[39m \u001b[43m    \u001b[49m\u001b[43mref\u001b[49m\u001b[43m=\u001b[49m\u001b[43mref\u001b[49m\u001b[43m,\u001b[49m\n\u001b[32m   1617\u001b[39m \u001b[43m    \u001b[49m\u001b[43mlabel\u001b[49m\u001b[43m=\u001b[49m\u001b[43mlabel\u001b[49m\u001b[43m,\u001b[49m\n\u001b[32m   1618\u001b[39m \u001b[43m    \u001b[49m\u001b[43mweight\u001b[49m\u001b[43m=\u001b[49m\u001b[43mweight\u001b[49m\u001b[43m,\u001b[49m\n\u001b[32m   1619\u001b[39m \u001b[43m    \u001b[49m\u001b[43mbase_margin\u001b[49m\u001b[43m=\u001b[49m\u001b[43mbase_margin\u001b[49m\u001b[43m,\u001b[49m\n\u001b[32m   1620\u001b[39m \u001b[43m    \u001b[49m\u001b[43mgroup\u001b[49m\u001b[43m=\u001b[49m\u001b[43mgroup\u001b[49m\u001b[43m,\u001b[49m\n\u001b[32m   1621\u001b[39m \u001b[43m    \u001b[49m\u001b[43mqid\u001b[49m\u001b[43m=\u001b[49m\u001b[43mqid\u001b[49m\u001b[43m,\u001b[49m\n\u001b[32m   1622\u001b[39m \u001b[43m    \u001b[49m\u001b[43mlabel_lower_bound\u001b[49m\u001b[43m=\u001b[49m\u001b[43mlabel_lower_bound\u001b[49m\u001b[43m,\u001b[49m\n\u001b[32m   1623\u001b[39m \u001b[43m    \u001b[49m\u001b[43mlabel_upper_bound\u001b[49m\u001b[43m=\u001b[49m\u001b[43mlabel_upper_bound\u001b[49m\u001b[43m,\u001b[49m\n\u001b[32m   1624\u001b[39m \u001b[43m    \u001b[49m\u001b[43mfeature_weights\u001b[49m\u001b[43m=\u001b[49m\u001b[43mfeature_weights\u001b[49m\u001b[43m,\u001b[49m\n\u001b[32m   1625\u001b[39m \u001b[43m    \u001b[49m\u001b[43mfeature_names\u001b[49m\u001b[43m=\u001b[49m\u001b[43mfeature_names\u001b[49m\u001b[43m,\u001b[49m\n\u001b[32m   1626\u001b[39m \u001b[43m    \u001b[49m\u001b[43mfeature_types\u001b[49m\u001b[43m=\u001b[49m\u001b[43mfeature_types\u001b[49m\u001b[43m,\u001b[49m\n\u001b[32m   1627\u001b[39m \u001b[43m    \u001b[49m\u001b[43menable_categorical\u001b[49m\u001b[43m=\u001b[49m\u001b[43menable_categorical\u001b[49m\u001b[43m,\u001b[49m\n\u001b[32m   1628\u001b[39m \u001b[43m    \u001b[49m\u001b[43mmax_quantile_blocks\u001b[49m\u001b[43m=\u001b[49m\u001b[43mmax_quantile_batches\u001b[49m\u001b[43m,\u001b[49m\n\u001b[32m   1629\u001b[39m \u001b[43m\u001b[49m\u001b[43m)\u001b[49m\n",
      "\u001b[36mFile \u001b[39m\u001b[32m~/anaconda3/envs/myenv/lib/python3.12/site-packages/xgboost/core.py:1678\u001b[39m, in \u001b[36mQuantileDMatrix._init\u001b[39m\u001b[34m(self, data, ref, enable_categorical, max_quantile_blocks, **meta)\u001b[39m\n\u001b[32m   1663\u001b[39m config = make_jcargs(\n\u001b[32m   1664\u001b[39m     nthread=\u001b[38;5;28mself\u001b[39m.nthread,\n\u001b[32m   1665\u001b[39m     missing=\u001b[38;5;28mself\u001b[39m.missing,\n\u001b[32m   1666\u001b[39m     max_bin=\u001b[38;5;28mself\u001b[39m.max_bin,\n\u001b[32m   1667\u001b[39m     max_quantile_blocks=max_quantile_blocks,\n\u001b[32m   1668\u001b[39m )\n\u001b[32m   1669\u001b[39m ret = _LIB.XGQuantileDMatrixCreateFromCallback(\n\u001b[32m   1670\u001b[39m     \u001b[38;5;28;01mNone\u001b[39;00m,\n\u001b[32m   1671\u001b[39m     it.proxy.handle,\n\u001b[32m   (...)\u001b[39m\u001b[32m   1676\u001b[39m     ctypes.byref(handle),\n\u001b[32m   1677\u001b[39m )\n\u001b[32m-> \u001b[39m\u001b[32m1678\u001b[39m \u001b[43mit\u001b[49m\u001b[43m.\u001b[49m\u001b[43mreraise\u001b[49m\u001b[43m(\u001b[49m\u001b[43m)\u001b[49m\n\u001b[32m   1679\u001b[39m \u001b[38;5;66;03m# delay check_call to throw intermediate exception first\u001b[39;00m\n\u001b[32m   1680\u001b[39m _check_call(ret)\n",
      "\u001b[36mFile \u001b[39m\u001b[32m~/anaconda3/envs/myenv/lib/python3.12/site-packages/xgboost/core.py:572\u001b[39m, in \u001b[36mDataIter.reraise\u001b[39m\u001b[34m(self)\u001b[39m\n\u001b[32m    570\u001b[39m exc = \u001b[38;5;28mself\u001b[39m._exception\n\u001b[32m    571\u001b[39m \u001b[38;5;28mself\u001b[39m._exception = \u001b[38;5;28;01mNone\u001b[39;00m\n\u001b[32m--> \u001b[39m\u001b[32m572\u001b[39m \u001b[38;5;28;01mraise\u001b[39;00m exc\n",
      "\u001b[36mFile \u001b[39m\u001b[32m~/anaconda3/envs/myenv/lib/python3.12/site-packages/xgboost/core.py:553\u001b[39m, in \u001b[36mDataIter._handle_exception\u001b[39m\u001b[34m(self, fn, dft_ret)\u001b[39m\n\u001b[32m    550\u001b[39m     \u001b[38;5;28;01mreturn\u001b[39;00m dft_ret\n\u001b[32m    552\u001b[39m \u001b[38;5;28;01mtry\u001b[39;00m:\n\u001b[32m--> \u001b[39m\u001b[32m553\u001b[39m     \u001b[38;5;28;01mreturn\u001b[39;00m \u001b[43mfn\u001b[49m\u001b[43m(\u001b[49m\u001b[43m)\u001b[49m\n\u001b[32m    554\u001b[39m \u001b[38;5;28;01mexcept\u001b[39;00m \u001b[38;5;167;01mException\u001b[39;00m \u001b[38;5;28;01mas\u001b[39;00m e:  \u001b[38;5;66;03m# pylint: disable=broad-except\u001b[39;00m\n\u001b[32m    555\u001b[39m     \u001b[38;5;66;03m# Defer the exception in order to return 0 and stop the iteration.\u001b[39;00m\n\u001b[32m    556\u001b[39m     \u001b[38;5;66;03m# Exception inside a ctype callback function has no effect except\u001b[39;00m\n\u001b[32m    557\u001b[39m     \u001b[38;5;66;03m# for printing to stderr (doesn't stop the execution).\u001b[39;00m\n\u001b[32m    558\u001b[39m     tb = sys.exc_info()[\u001b[32m2\u001b[39m]\n",
      "\u001b[36mFile \u001b[39m\u001b[32m~/anaconda3/envs/myenv/lib/python3.12/site-packages/xgboost/core.py:640\u001b[39m, in \u001b[36mDataIter._next_wrapper.<locals>.<lambda>\u001b[39m\u001b[34m()\u001b[39m\n\u001b[32m    638\u001b[39m     \u001b[38;5;28mself\u001b[39m._temporary_data = \u001b[38;5;28;01mNone\u001b[39;00m\n\u001b[32m    639\u001b[39m \u001b[38;5;66;03m# pylint: disable=not-callable\u001b[39;00m\n\u001b[32m--> \u001b[39m\u001b[32m640\u001b[39m \u001b[38;5;28;01mreturn\u001b[39;00m \u001b[38;5;28mself\u001b[39m._handle_exception(\u001b[38;5;28;01mlambda\u001b[39;00m: \u001b[38;5;28mint\u001b[39m(\u001b[38;5;28;43mself\u001b[39;49m\u001b[43m.\u001b[49m\u001b[43mnext\u001b[49m\u001b[43m(\u001b[49m\u001b[43minput_data\u001b[49m\u001b[43m)\u001b[49m), \u001b[32m0\u001b[39m)\n",
      "\u001b[36mFile \u001b[39m\u001b[32m~/anaconda3/envs/myenv/lib/python3.12/site-packages/xgboost/data.py:1654\u001b[39m, in \u001b[36mSingleBatchInternalIter.next\u001b[39m\u001b[34m(self, input_data)\u001b[39m\n\u001b[32m   1652\u001b[39m     \u001b[38;5;28;01mreturn\u001b[39;00m \u001b[38;5;28;01mFalse\u001b[39;00m\n\u001b[32m   1653\u001b[39m \u001b[38;5;28mself\u001b[39m.it += \u001b[32m1\u001b[39m\n\u001b[32m-> \u001b[39m\u001b[32m1654\u001b[39m \u001b[43minput_data\u001b[49m\u001b[43m(\u001b[49m\u001b[43m*\u001b[49m\u001b[43m*\u001b[49m\u001b[38;5;28;43mself\u001b[39;49m\u001b[43m.\u001b[49m\u001b[43mkwargs\u001b[49m\u001b[43m)\u001b[49m\n\u001b[32m   1655\u001b[39m \u001b[38;5;28;01mreturn\u001b[39;00m \u001b[38;5;28;01mTrue\u001b[39;00m\n",
      "\u001b[36mFile \u001b[39m\u001b[32m~/anaconda3/envs/myenv/lib/python3.12/site-packages/xgboost/core.py:729\u001b[39m, in \u001b[36mrequire_keyword_args.<locals>.throw_if.<locals>.inner_f\u001b[39m\u001b[34m(*args, **kwargs)\u001b[39m\n\u001b[32m    727\u001b[39m \u001b[38;5;28;01mfor\u001b[39;00m k, arg \u001b[38;5;129;01min\u001b[39;00m \u001b[38;5;28mzip\u001b[39m(sig.parameters, args):\n\u001b[32m    728\u001b[39m     kwargs[k] = arg\n\u001b[32m--> \u001b[39m\u001b[32m729\u001b[39m \u001b[38;5;28;01mreturn\u001b[39;00m \u001b[43mfunc\u001b[49m\u001b[43m(\u001b[49m\u001b[43m*\u001b[49m\u001b[43m*\u001b[49m\u001b[43mkwargs\u001b[49m\u001b[43m)\u001b[49m\n",
      "\u001b[36mFile \u001b[39m\u001b[32m~/anaconda3/envs/myenv/lib/python3.12/site-packages/xgboost/core.py:620\u001b[39m, in \u001b[36mDataIter._next_wrapper.<locals>.input_data\u001b[39m\u001b[34m(data, feature_names, feature_types, **kwargs)\u001b[39m\n\u001b[32m    618\u001b[39m     new, cat_codes, feature_names, feature_types = \u001b[38;5;28mself\u001b[39m._temporary_data\n\u001b[32m    619\u001b[39m \u001b[38;5;28;01melse\u001b[39;00m:\n\u001b[32m--> \u001b[39m\u001b[32m620\u001b[39m     new, cat_codes, feature_names, feature_types = \u001b[43m_proxy_transform\u001b[49m\u001b[43m(\u001b[49m\n\u001b[32m    621\u001b[39m \u001b[43m        \u001b[49m\u001b[43mdata\u001b[49m\u001b[43m,\u001b[49m\n\u001b[32m    622\u001b[39m \u001b[43m        \u001b[49m\u001b[43mfeature_names\u001b[49m\u001b[43m,\u001b[49m\n\u001b[32m    623\u001b[39m \u001b[43m        \u001b[49m\u001b[43mfeature_types\u001b[49m\u001b[43m,\u001b[49m\n\u001b[32m    624\u001b[39m \u001b[43m        \u001b[49m\u001b[38;5;28;43mself\u001b[39;49m\u001b[43m.\u001b[49m\u001b[43m_enable_categorical\u001b[49m\u001b[43m,\u001b[49m\n\u001b[32m    625\u001b[39m \u001b[43m    \u001b[49m\u001b[43m)\u001b[49m\n\u001b[32m    626\u001b[39m \u001b[38;5;66;03m# Stage the data, meta info are copied inside C++ MetaInfo.\u001b[39;00m\n\u001b[32m    627\u001b[39m \u001b[38;5;28mself\u001b[39m._temporary_data = (new, cat_codes, feature_names, feature_types)\n",
      "\u001b[36mFile \u001b[39m\u001b[32m~/anaconda3/envs/myenv/lib/python3.12/site-packages/xgboost/data.py:1707\u001b[39m, in \u001b[36m_proxy_transform\u001b[39m\u001b[34m(data, feature_names, feature_types, enable_categorical)\u001b[39m\n\u001b[32m   1705\u001b[39m     \u001b[38;5;28;01mreturn\u001b[39;00m df_pa, \u001b[38;5;28;01mNone\u001b[39;00m, feature_names, feature_types\n\u001b[32m   1706\u001b[39m \u001b[38;5;28;01mif\u001b[39;00m _is_pandas_df(data):\n\u001b[32m-> \u001b[39m\u001b[32m1707\u001b[39m     df, feature_names, feature_types = \u001b[43m_transform_pandas_df\u001b[49m\u001b[43m(\u001b[49m\n\u001b[32m   1708\u001b[39m \u001b[43m        \u001b[49m\u001b[43mdata\u001b[49m\u001b[43m,\u001b[49m\u001b[43m \u001b[49m\u001b[43menable_categorical\u001b[49m\u001b[43m,\u001b[49m\u001b[43m \u001b[49m\u001b[43mfeature_names\u001b[49m\u001b[43m,\u001b[49m\u001b[43m \u001b[49m\u001b[43mfeature_types\u001b[49m\n\u001b[32m   1709\u001b[39m \u001b[43m    \u001b[49m\u001b[43m)\u001b[49m\n\u001b[32m   1710\u001b[39m     \u001b[38;5;28;01mreturn\u001b[39;00m df, \u001b[38;5;28;01mNone\u001b[39;00m, feature_names, feature_types\n\u001b[32m   1711\u001b[39m \u001b[38;5;28;01mraise\u001b[39;00m \u001b[38;5;167;01mTypeError\u001b[39;00m(\u001b[33m\"\u001b[39m\u001b[33mValue type is not supported for data iterator:\u001b[39m\u001b[33m\"\u001b[39m + \u001b[38;5;28mstr\u001b[39m(\u001b[38;5;28mtype\u001b[39m(data)))\n",
      "\u001b[36mFile \u001b[39m\u001b[32m~/anaconda3/envs/myenv/lib/python3.12/site-packages/xgboost/data.py:640\u001b[39m, in \u001b[36m_transform_pandas_df\u001b[39m\u001b[34m(data, enable_categorical, feature_names, feature_types, meta)\u001b[39m\n\u001b[32m    637\u001b[39m \u001b[38;5;28;01mif\u001b[39;00m meta \u001b[38;5;129;01mand\u001b[39;00m \u001b[38;5;28mlen\u001b[39m(data.columns) > \u001b[32m1\u001b[39m \u001b[38;5;129;01mand\u001b[39;00m meta \u001b[38;5;129;01mnot\u001b[39;00m \u001b[38;5;129;01min\u001b[39;00m _matrix_meta:\n\u001b[32m    638\u001b[39m     \u001b[38;5;28;01mraise\u001b[39;00m \u001b[38;5;167;01mValueError\u001b[39;00m(\u001b[33mf\u001b[39m\u001b[33m\"\u001b[39m\u001b[33mDataFrame for \u001b[39m\u001b[38;5;132;01m{\u001b[39;00mmeta\u001b[38;5;132;01m}\u001b[39;00m\u001b[33m cannot have multiple columns\u001b[39m\u001b[33m\"\u001b[39m)\n\u001b[32m--> \u001b[39m\u001b[32m640\u001b[39m feature_names, feature_types = \u001b[43mpandas_feature_info\u001b[49m\u001b[43m(\u001b[49m\n\u001b[32m    641\u001b[39m \u001b[43m    \u001b[49m\u001b[43mdata\u001b[49m\u001b[43m,\u001b[49m\u001b[43m \u001b[49m\u001b[43mmeta\u001b[49m\u001b[43m,\u001b[49m\u001b[43m \u001b[49m\u001b[43mfeature_names\u001b[49m\u001b[43m,\u001b[49m\u001b[43m \u001b[49m\u001b[43mfeature_types\u001b[49m\u001b[43m,\u001b[49m\u001b[43m \u001b[49m\u001b[43menable_categorical\u001b[49m\n\u001b[32m    642\u001b[39m \u001b[43m\u001b[49m\u001b[43m)\u001b[49m\n\u001b[32m    644\u001b[39m arrays = pandas_transform_data(data)\n\u001b[32m    645\u001b[39m \u001b[38;5;28;01mreturn\u001b[39;00m PandasTransformed(arrays), feature_names, feature_types\n",
      "\u001b[36mFile \u001b[39m\u001b[32m~/anaconda3/envs/myenv/lib/python3.12/site-packages/xgboost/data.py:409\u001b[39m, in \u001b[36mpandas_feature_info\u001b[39m\u001b[34m(data, meta, feature_names, feature_types, enable_categorical)\u001b[39m\n\u001b[32m    407\u001b[39m             new_feature_types.append(_pandas_dtype_mapper[dtype.name])\n\u001b[32m    408\u001b[39m         \u001b[38;5;28;01mexcept\u001b[39;00m \u001b[38;5;167;01mKeyError\u001b[39;00m:\n\u001b[32m--> \u001b[39m\u001b[32m409\u001b[39m             \u001b[43m_invalid_dataframe_dtype\u001b[49m\u001b[43m(\u001b[49m\u001b[43mdata\u001b[49m\u001b[43m)\u001b[49m\n\u001b[32m    411\u001b[39m \u001b[38;5;28;01mif\u001b[39;00m feature_types \u001b[38;5;129;01mis\u001b[39;00m \u001b[38;5;28;01mNone\u001b[39;00m \u001b[38;5;129;01mand\u001b[39;00m meta \u001b[38;5;129;01mis\u001b[39;00m \u001b[38;5;28;01mNone\u001b[39;00m:\n\u001b[32m    412\u001b[39m     feature_types = new_feature_types\n",
      "\u001b[36mFile \u001b[39m\u001b[32m~/anaconda3/envs/myenv/lib/python3.12/site-packages/xgboost/data.py:372\u001b[39m, in \u001b[36m_invalid_dataframe_dtype\u001b[39m\u001b[34m(data)\u001b[39m\n\u001b[32m    370\u001b[39m type_err = \u001b[33m\"\u001b[39m\u001b[33mDataFrame.dtypes for data must be int, float, bool or category.\u001b[39m\u001b[33m\"\u001b[39m\n\u001b[32m    371\u001b[39m msg = \u001b[33mf\u001b[39m\u001b[33m\"\"\"\u001b[39m\u001b[38;5;132;01m{\u001b[39;00mtype_err\u001b[38;5;132;01m}\u001b[39;00m\u001b[33m \u001b[39m\u001b[38;5;132;01m{\u001b[39;00m_ENABLE_CAT_ERR\u001b[38;5;132;01m}\u001b[39;00m\u001b[33m \u001b[39m\u001b[38;5;132;01m{\u001b[39;00merr\u001b[38;5;132;01m}\u001b[39;00m\u001b[33m\"\"\"\u001b[39m\n\u001b[32m--> \u001b[39m\u001b[32m372\u001b[39m \u001b[38;5;28;01mraise\u001b[39;00m \u001b[38;5;167;01mValueError\u001b[39;00m(msg)\n",
      "\u001b[31mValueError\u001b[39m: DataFrame.dtypes for data must be int, float, bool or category. When categorical type is supplied, the experimental DMatrix parameter`enable_categorical` must be set to `True`.  Invalid columns:age_bin: category"
     ]
    }
   ],
   "source": [
    "Xtrain = dict_df[\"study_cohort\"].drop(columns=[\"hospital_outcome_1alive_0dead\"])\n",
    "ytrain = dict_df[\"study_cohort\"][\"hospital_outcome_1alive_0dead\"]\n",
    "\n",
    "model = xgb.XGBClassifier(\n",
    "    objective=\"binary:logistic\",\n",
    "    eval_metric=\"logloss\",  # ou \"auc\" si tu préfères\n",
    "    use_label_encoder=False,\n",
    "    n_estimators=200,\n",
    "    learning_rate=0.05,\n",
    "    max_depth=5,\n",
    "    subsample=0.8,\n",
    "    colsample_bytree=0.8,\n",
    "    random_state=42,\n",
    ")\n",
    "\n",
    "# === 5. Entraînement ===\n",
    "model.fit(Xtrain, ytrain)\n",
    "\n",
    "X_val_primary = dict_df[\"primary_cohort\"].drop(columns=[\"hospital_outcome_1alive_0dead\"])\n",
    "X_val_test = dict_df[\"study_cohort\"].drop(columns=[\"hospital_outcome_1alive_0dead\"])\n",
    "y_val_primary = dict_df[\"primary_cohort\"][\"hospital_outcome_1alive_0dead\"]\n",
    "y_val_test = dict_df[\"study_cohort\"][\"hospital_outcome_1alive_0dead\"]\n",
    "\n",
    "# === 6. Prédiction et évaluation ===\n",
    "y_pred_primary = model.predict(X_val_primary)\n",
    "y_pred_test= model.predict(X_val_test)\n",
    "\n",
    "print(\"Accuracy :\", accuracy_score(y_val_primary, y_pred_primary))\n",
    "print(\"\\nRapport de classification primary :\\n\", classification_report(y_val_primary, y_pred_primary))\n",
    "print(\"Accuracy :\", accuracy_score(y_val_test, y_pred_test))\n",
    "\n",
    "print(\"\\nRapport de classification test :\\n\", classification_report(y_val_test, y_pred_test))\n",
    "\n"
   ]
  },
  {
   "cell_type": "markdown",
   "id": "26be736b",
   "metadata": {},
   "source": [
    "# III. Conclusion de l'étude : performance du modèle et limites"
   ]
  },
  {
   "cell_type": "markdown",
   "id": "08d1e04c",
   "metadata": {},
   "source": []
  }
 ],
 "metadata": {
  "kernelspec": {
   "display_name": "myenv",
   "language": "python",
   "name": "python3"
  },
  "language_info": {
   "codemirror_mode": {
    "name": "ipython",
    "version": 3
   },
   "file_extension": ".py",
   "mimetype": "text/x-python",
   "name": "python",
   "nbconvert_exporter": "python",
   "pygments_lexer": "ipython3",
   "version": "3.12.11"
  }
 },
 "nbformat": 4,
 "nbformat_minor": 5
}
